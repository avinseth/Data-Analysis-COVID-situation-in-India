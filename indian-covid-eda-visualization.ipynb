{
 "cells": [
  {
   "cell_type": "code",
   "execution_count": 1,
   "id": "3e28f5ae",
   "metadata": {
    "execution": {
     "iopub.execute_input": "2022-04-26T14:23:20.805487Z",
     "iopub.status.busy": "2022-04-26T14:23:20.805153Z",
     "iopub.status.idle": "2022-04-26T14:23:22.377761Z",
     "shell.execute_reply": "2022-04-26T14:23:22.376779Z"
    },
    "papermill": {
     "duration": 1.642322,
     "end_time": "2022-04-26T14:23:22.380388",
     "exception": false,
     "start_time": "2022-04-26T14:23:20.738066",
     "status": "completed"
    },
    "tags": []
   },
   "outputs": [],
   "source": [
    "import pandas as pd\n",
    "import numpy as np\n",
    "import matplotlib.pyplot as plt\n",
    "%matplotlib inline \n",
    "import plotly.express as px"
   ]
  },
  {
   "cell_type": "code",
   "execution_count": 2,
   "id": "58fadea2",
   "metadata": {
    "execution": {
     "iopub.execute_input": "2022-04-26T14:23:22.514336Z",
     "iopub.status.busy": "2022-04-26T14:23:22.514005Z",
     "iopub.status.idle": "2022-04-26T14:23:22.518281Z",
     "shell.execute_reply": "2022-04-26T14:23:22.517632Z"
    },
    "papermill": {
     "duration": 0.071928,
     "end_time": "2022-04-26T14:23:22.520246",
     "exception": false,
     "start_time": "2022-04-26T14:23:22.448318",
     "status": "completed"
    },
    "tags": []
   },
   "outputs": [],
   "source": [
    "from warnings import filterwarnings\n",
    "filterwarnings(action='ignore')"
   ]
  },
  {
   "cell_type": "code",
   "execution_count": 3,
   "id": "71101598",
   "metadata": {
    "execution": {
     "iopub.execute_input": "2022-04-26T14:23:22.654994Z",
     "iopub.status.busy": "2022-04-26T14:23:22.654703Z",
     "iopub.status.idle": "2022-04-26T14:23:22.790876Z",
     "shell.execute_reply": "2022-04-26T14:23:22.790082Z"
    },
    "papermill": {
     "duration": 0.206542,
     "end_time": "2022-04-26T14:23:22.793224",
     "exception": false,
     "start_time": "2022-04-26T14:23:22.586682",
     "status": "completed"
    },
    "tags": []
   },
   "outputs": [],
   "source": [
    "covid = pd.read_csv('../input/covid19-in-india/covid_19_india.csv')\n",
    "vaccine = pd.read_csv('../input/covid19-in-india/covid_vaccine_statewise.csv')\n",
    "testing = pd.read_csv('../input/covid19-in-india/StatewiseTestingDetails.csv')"
   ]
  },
  {
   "cell_type": "code",
   "execution_count": 4,
   "id": "9af83546",
   "metadata": {
    "execution": {
     "iopub.execute_input": "2022-04-26T14:23:22.926316Z",
     "iopub.status.busy": "2022-04-26T14:23:22.925741Z",
     "iopub.status.idle": "2022-04-26T14:23:22.955418Z",
     "shell.execute_reply": "2022-04-26T14:23:22.954578Z"
    },
    "papermill": {
     "duration": 0.098859,
     "end_time": "2022-04-26T14:23:22.958183",
     "exception": false,
     "start_time": "2022-04-26T14:23:22.859324",
     "status": "completed"
    },
    "tags": []
   },
   "outputs": [
    {
     "data": {
      "text/html": [
       "<div>\n",
       "<style scoped>\n",
       "    .dataframe tbody tr th:only-of-type {\n",
       "        vertical-align: middle;\n",
       "    }\n",
       "\n",
       "    .dataframe tbody tr th {\n",
       "        vertical-align: top;\n",
       "    }\n",
       "\n",
       "    .dataframe thead th {\n",
       "        text-align: right;\n",
       "    }\n",
       "</style>\n",
       "<table border=\"1\" class=\"dataframe\">\n",
       "  <thead>\n",
       "    <tr style=\"text-align: right;\">\n",
       "      <th></th>\n",
       "      <th>Sno</th>\n",
       "      <th>Date</th>\n",
       "      <th>Time</th>\n",
       "      <th>State/UnionTerritory</th>\n",
       "      <th>ConfirmedIndianNational</th>\n",
       "      <th>ConfirmedForeignNational</th>\n",
       "      <th>Cured</th>\n",
       "      <th>Deaths</th>\n",
       "      <th>Confirmed</th>\n",
       "    </tr>\n",
       "  </thead>\n",
       "  <tbody>\n",
       "    <tr>\n",
       "      <th>0</th>\n",
       "      <td>1</td>\n",
       "      <td>2020-01-30</td>\n",
       "      <td>6:00 PM</td>\n",
       "      <td>Kerala</td>\n",
       "      <td>1</td>\n",
       "      <td>0</td>\n",
       "      <td>0</td>\n",
       "      <td>0</td>\n",
       "      <td>1</td>\n",
       "    </tr>\n",
       "    <tr>\n",
       "      <th>1</th>\n",
       "      <td>2</td>\n",
       "      <td>2020-01-31</td>\n",
       "      <td>6:00 PM</td>\n",
       "      <td>Kerala</td>\n",
       "      <td>1</td>\n",
       "      <td>0</td>\n",
       "      <td>0</td>\n",
       "      <td>0</td>\n",
       "      <td>1</td>\n",
       "    </tr>\n",
       "    <tr>\n",
       "      <th>2</th>\n",
       "      <td>3</td>\n",
       "      <td>2020-02-01</td>\n",
       "      <td>6:00 PM</td>\n",
       "      <td>Kerala</td>\n",
       "      <td>2</td>\n",
       "      <td>0</td>\n",
       "      <td>0</td>\n",
       "      <td>0</td>\n",
       "      <td>2</td>\n",
       "    </tr>\n",
       "    <tr>\n",
       "      <th>3</th>\n",
       "      <td>4</td>\n",
       "      <td>2020-02-02</td>\n",
       "      <td>6:00 PM</td>\n",
       "      <td>Kerala</td>\n",
       "      <td>3</td>\n",
       "      <td>0</td>\n",
       "      <td>0</td>\n",
       "      <td>0</td>\n",
       "      <td>3</td>\n",
       "    </tr>\n",
       "    <tr>\n",
       "      <th>4</th>\n",
       "      <td>5</td>\n",
       "      <td>2020-02-03</td>\n",
       "      <td>6:00 PM</td>\n",
       "      <td>Kerala</td>\n",
       "      <td>3</td>\n",
       "      <td>0</td>\n",
       "      <td>0</td>\n",
       "      <td>0</td>\n",
       "      <td>3</td>\n",
       "    </tr>\n",
       "    <tr>\n",
       "      <th>...</th>\n",
       "      <td>...</td>\n",
       "      <td>...</td>\n",
       "      <td>...</td>\n",
       "      <td>...</td>\n",
       "      <td>...</td>\n",
       "      <td>...</td>\n",
       "      <td>...</td>\n",
       "      <td>...</td>\n",
       "      <td>...</td>\n",
       "    </tr>\n",
       "    <tr>\n",
       "      <th>18105</th>\n",
       "      <td>18106</td>\n",
       "      <td>2021-08-11</td>\n",
       "      <td>8:00 AM</td>\n",
       "      <td>Telangana</td>\n",
       "      <td>-</td>\n",
       "      <td>-</td>\n",
       "      <td>638410</td>\n",
       "      <td>3831</td>\n",
       "      <td>650353</td>\n",
       "    </tr>\n",
       "    <tr>\n",
       "      <th>18106</th>\n",
       "      <td>18107</td>\n",
       "      <td>2021-08-11</td>\n",
       "      <td>8:00 AM</td>\n",
       "      <td>Tripura</td>\n",
       "      <td>-</td>\n",
       "      <td>-</td>\n",
       "      <td>77811</td>\n",
       "      <td>773</td>\n",
       "      <td>80660</td>\n",
       "    </tr>\n",
       "    <tr>\n",
       "      <th>18107</th>\n",
       "      <td>18108</td>\n",
       "      <td>2021-08-11</td>\n",
       "      <td>8:00 AM</td>\n",
       "      <td>Uttarakhand</td>\n",
       "      <td>-</td>\n",
       "      <td>-</td>\n",
       "      <td>334650</td>\n",
       "      <td>7368</td>\n",
       "      <td>342462</td>\n",
       "    </tr>\n",
       "    <tr>\n",
       "      <th>18108</th>\n",
       "      <td>18109</td>\n",
       "      <td>2021-08-11</td>\n",
       "      <td>8:00 AM</td>\n",
       "      <td>Uttar Pradesh</td>\n",
       "      <td>-</td>\n",
       "      <td>-</td>\n",
       "      <td>1685492</td>\n",
       "      <td>22775</td>\n",
       "      <td>1708812</td>\n",
       "    </tr>\n",
       "    <tr>\n",
       "      <th>18109</th>\n",
       "      <td>18110</td>\n",
       "      <td>2021-08-11</td>\n",
       "      <td>8:00 AM</td>\n",
       "      <td>West Bengal</td>\n",
       "      <td>-</td>\n",
       "      <td>-</td>\n",
       "      <td>1506532</td>\n",
       "      <td>18252</td>\n",
       "      <td>1534999</td>\n",
       "    </tr>\n",
       "  </tbody>\n",
       "</table>\n",
       "<p>18110 rows × 9 columns</p>\n",
       "</div>"
      ],
      "text/plain": [
       "         Sno        Date     Time State/UnionTerritory  \\\n",
       "0          1  2020-01-30  6:00 PM               Kerala   \n",
       "1          2  2020-01-31  6:00 PM               Kerala   \n",
       "2          3  2020-02-01  6:00 PM               Kerala   \n",
       "3          4  2020-02-02  6:00 PM               Kerala   \n",
       "4          5  2020-02-03  6:00 PM               Kerala   \n",
       "...      ...         ...      ...                  ...   \n",
       "18105  18106  2021-08-11  8:00 AM            Telangana   \n",
       "18106  18107  2021-08-11  8:00 AM              Tripura   \n",
       "18107  18108  2021-08-11  8:00 AM          Uttarakhand   \n",
       "18108  18109  2021-08-11  8:00 AM        Uttar Pradesh   \n",
       "18109  18110  2021-08-11  8:00 AM          West Bengal   \n",
       "\n",
       "      ConfirmedIndianNational ConfirmedForeignNational    Cured  Deaths  \\\n",
       "0                           1                        0        0       0   \n",
       "1                           1                        0        0       0   \n",
       "2                           2                        0        0       0   \n",
       "3                           3                        0        0       0   \n",
       "4                           3                        0        0       0   \n",
       "...                       ...                      ...      ...     ...   \n",
       "18105                       -                        -   638410    3831   \n",
       "18106                       -                        -    77811     773   \n",
       "18107                       -                        -   334650    7368   \n",
       "18108                       -                        -  1685492   22775   \n",
       "18109                       -                        -  1506532   18252   \n",
       "\n",
       "       Confirmed  \n",
       "0              1  \n",
       "1              1  \n",
       "2              2  \n",
       "3              3  \n",
       "4              3  \n",
       "...          ...  \n",
       "18105     650353  \n",
       "18106      80660  \n",
       "18107     342462  \n",
       "18108    1708812  \n",
       "18109    1534999  \n",
       "\n",
       "[18110 rows x 9 columns]"
      ]
     },
     "execution_count": 4,
     "metadata": {},
     "output_type": "execute_result"
    }
   ],
   "source": [
    "covid"
   ]
  },
  {
   "cell_type": "code",
   "execution_count": 5,
   "id": "f9a6f9df",
   "metadata": {
    "execution": {
     "iopub.execute_input": "2022-04-26T14:23:23.091268Z",
     "iopub.status.busy": "2022-04-26T14:23:23.090697Z",
     "iopub.status.idle": "2022-04-26T14:23:23.113481Z",
     "shell.execute_reply": "2022-04-26T14:23:23.112703Z"
    },
    "papermill": {
     "duration": 0.092025,
     "end_time": "2022-04-26T14:23:23.115856",
     "exception": false,
     "start_time": "2022-04-26T14:23:23.023831",
     "status": "completed"
    },
    "tags": []
   },
   "outputs": [],
   "source": [
    "covid_new = covid.groupby(['State/UnionTerritory'])['Cured','Deaths','Confirmed'].sum().reset_index()"
   ]
  },
  {
   "cell_type": "code",
   "execution_count": 6,
   "id": "973761c2",
   "metadata": {
    "execution": {
     "iopub.execute_input": "2022-04-26T14:23:23.248569Z",
     "iopub.status.busy": "2022-04-26T14:23:23.247985Z",
     "iopub.status.idle": "2022-04-26T14:23:23.258550Z",
     "shell.execute_reply": "2022-04-26T14:23:23.257741Z"
    },
    "papermill": {
     "duration": 0.078986,
     "end_time": "2022-04-26T14:23:23.260723",
     "exception": false,
     "start_time": "2022-04-26T14:23:23.181737",
     "status": "completed"
    },
    "tags": []
   },
   "outputs": [
    {
     "data": {
      "text/html": [
       "<div>\n",
       "<style scoped>\n",
       "    .dataframe tbody tr th:only-of-type {\n",
       "        vertical-align: middle;\n",
       "    }\n",
       "\n",
       "    .dataframe tbody tr th {\n",
       "        vertical-align: top;\n",
       "    }\n",
       "\n",
       "    .dataframe thead th {\n",
       "        text-align: right;\n",
       "    }\n",
       "</style>\n",
       "<table border=\"1\" class=\"dataframe\">\n",
       "  <thead>\n",
       "    <tr style=\"text-align: right;\">\n",
       "      <th></th>\n",
       "      <th>State/UnionTerritory</th>\n",
       "      <th>Cured</th>\n",
       "      <th>Deaths</th>\n",
       "      <th>Confirmed</th>\n",
       "    </tr>\n",
       "  </thead>\n",
       "  <tbody>\n",
       "    <tr>\n",
       "      <th>0</th>\n",
       "      <td>Andaman and Nicobar Islands</td>\n",
       "      <td>1848286</td>\n",
       "      <td>27136</td>\n",
       "      <td>1938498</td>\n",
       "    </tr>\n",
       "    <tr>\n",
       "      <th>1</th>\n",
       "      <td>Andhra Pradesh</td>\n",
       "      <td>370426530</td>\n",
       "      <td>2939367</td>\n",
       "      <td>392432753</td>\n",
       "    </tr>\n",
       "    <tr>\n",
       "      <th>2</th>\n",
       "      <td>Arunachal Pradesh</td>\n",
       "      <td>6588149</td>\n",
       "      <td>26799</td>\n",
       "      <td>7176907</td>\n",
       "    </tr>\n",
       "    <tr>\n",
       "      <th>3</th>\n",
       "      <td>Assam</td>\n",
       "      <td>92678680</td>\n",
       "      <td>638323</td>\n",
       "      <td>99837011</td>\n",
       "    </tr>\n",
       "    <tr>\n",
       "      <th>4</th>\n",
       "      <td>Bihar</td>\n",
       "      <td>125122902</td>\n",
       "      <td>1093466</td>\n",
       "      <td>132231166</td>\n",
       "    </tr>\n",
       "    <tr>\n",
       "      <th>5</th>\n",
       "      <td>Bihar****</td>\n",
       "      <td>1402468</td>\n",
       "      <td>18881</td>\n",
       "      <td>1430909</td>\n",
       "    </tr>\n",
       "    <tr>\n",
       "      <th>6</th>\n",
       "      <td>Cases being reassigned to states</td>\n",
       "      <td>0</td>\n",
       "      <td>0</td>\n",
       "      <td>345565</td>\n",
       "    </tr>\n",
       "    <tr>\n",
       "      <th>7</th>\n",
       "      <td>Chandigarh</td>\n",
       "      <td>10117035</td>\n",
       "      <td>147694</td>\n",
       "      <td>10858627</td>\n",
       "    </tr>\n",
       "    <tr>\n",
       "      <th>8</th>\n",
       "      <td>Chhattisgarh</td>\n",
       "      <td>151609364</td>\n",
       "      <td>2063920</td>\n",
       "      <td>163776262</td>\n",
       "    </tr>\n",
       "    <tr>\n",
       "      <th>9</th>\n",
       "      <td>Dadra and Nagar Haveli</td>\n",
       "      <td>20352</td>\n",
       "      <td>8</td>\n",
       "      <td>20722</td>\n",
       "    </tr>\n",
       "  </tbody>\n",
       "</table>\n",
       "</div>"
      ],
      "text/plain": [
       "               State/UnionTerritory      Cured   Deaths  Confirmed\n",
       "0       Andaman and Nicobar Islands    1848286    27136    1938498\n",
       "1                    Andhra Pradesh  370426530  2939367  392432753\n",
       "2                 Arunachal Pradesh    6588149    26799    7176907\n",
       "3                             Assam   92678680   638323   99837011\n",
       "4                             Bihar  125122902  1093466  132231166\n",
       "5                         Bihar****    1402468    18881    1430909\n",
       "6  Cases being reassigned to states          0        0     345565\n",
       "7                        Chandigarh   10117035   147694   10858627\n",
       "8                      Chhattisgarh  151609364  2063920  163776262\n",
       "9            Dadra and Nagar Haveli      20352        8      20722"
      ]
     },
     "execution_count": 6,
     "metadata": {},
     "output_type": "execute_result"
    }
   ],
   "source": [
    "covid_new.head(10)"
   ]
  },
  {
   "cell_type": "code",
   "execution_count": 7,
   "id": "68e93b57",
   "metadata": {
    "execution": {
     "iopub.execute_input": "2022-04-26T14:23:23.395430Z",
     "iopub.status.busy": "2022-04-26T14:23:23.394893Z",
     "iopub.status.idle": "2022-04-26T14:23:24.840600Z",
     "shell.execute_reply": "2022-04-26T14:23:24.839698Z"
    },
    "papermill": {
     "duration": 1.516084,
     "end_time": "2022-04-26T14:23:24.843053",
     "exception": false,
     "start_time": "2022-04-26T14:23:23.326969",
     "status": "completed"
    },
    "tags": []
   },
   "outputs": [
    {
     "data": {
      "text/html": [
       "        <script type=\"text/javascript\">\n",
       "        window.PlotlyConfig = {MathJaxConfig: 'local'};\n",
       "        if (window.MathJax) {MathJax.Hub.Config({SVG: {font: \"STIX-Web\"}});}\n",
       "        if (typeof require !== 'undefined') {\n",
       "        require.undef(\"plotly\");\n",
       "        requirejs.config({\n",
       "            paths: {\n",
       "                'plotly': ['https://cdn.plot.ly/plotly-2.11.1.min']\n",
       "            }\n",
       "        });\n",
       "        require(['plotly'], function(Plotly) {\n",
       "            window._Plotly = Plotly;\n",
       "        });\n",
       "        }\n",
       "        </script>\n",
       "        "
      ]
     },
     "metadata": {},
     "output_type": "display_data"
    },
    {
     "data": {
      "text/html": [
       "<div>                            <div id=\"253cc580-93ae-43a9-8d2f-bb8c3bbebe92\" class=\"plotly-graph-div\" style=\"height:525px; width:100%;\"></div>            <script type=\"text/javascript\">                require([\"plotly\"], function(Plotly) {                    window.PLOTLYENV=window.PLOTLYENV || {};                                    if (document.getElementById(\"253cc580-93ae-43a9-8d2f-bb8c3bbebe92\")) {                    Plotly.newPlot(                        \"253cc580-93ae-43a9-8d2f-bb8c3bbebe92\",                        [{\"hovertemplate\":\"State/UnionTerritory=Andaman and Nicobar Islands<br>Confirmed=%{x}<br>Deaths=%{y}<br>Cured=%{z}<extra></extra>\",\"legendgroup\":\"Andaman and Nicobar Islands\",\"marker\":{\"color\":\"#636efa\",\"symbol\":\"circle\"},\"mode\":\"markers\",\"name\":\"Andaman and Nicobar Islands\",\"scene\":\"scene\",\"showlegend\":true,\"x\":[1938498],\"y\":[27136],\"z\":[1848286],\"type\":\"scatter3d\"},{\"hovertemplate\":\"State/UnionTerritory=Andhra Pradesh<br>Confirmed=%{x}<br>Deaths=%{y}<br>Cured=%{z}<extra></extra>\",\"legendgroup\":\"Andhra Pradesh\",\"marker\":{\"color\":\"#EF553B\",\"symbol\":\"circle\"},\"mode\":\"markers\",\"name\":\"Andhra Pradesh\",\"scene\":\"scene\",\"showlegend\":true,\"x\":[392432753],\"y\":[2939367],\"z\":[370426530],\"type\":\"scatter3d\"},{\"hovertemplate\":\"State/UnionTerritory=Arunachal Pradesh<br>Confirmed=%{x}<br>Deaths=%{y}<br>Cured=%{z}<extra></extra>\",\"legendgroup\":\"Arunachal Pradesh\",\"marker\":{\"color\":\"#00cc96\",\"symbol\":\"circle\"},\"mode\":\"markers\",\"name\":\"Arunachal Pradesh\",\"scene\":\"scene\",\"showlegend\":true,\"x\":[7176907],\"y\":[26799],\"z\":[6588149],\"type\":\"scatter3d\"},{\"hovertemplate\":\"State/UnionTerritory=Assam<br>Confirmed=%{x}<br>Deaths=%{y}<br>Cured=%{z}<extra></extra>\",\"legendgroup\":\"Assam\",\"marker\":{\"color\":\"#ab63fa\",\"symbol\":\"circle\"},\"mode\":\"markers\",\"name\":\"Assam\",\"scene\":\"scene\",\"showlegend\":true,\"x\":[99837011],\"y\":[638323],\"z\":[92678680],\"type\":\"scatter3d\"},{\"hovertemplate\":\"State/UnionTerritory=Bihar<br>Confirmed=%{x}<br>Deaths=%{y}<br>Cured=%{z}<extra></extra>\",\"legendgroup\":\"Bihar\",\"marker\":{\"color\":\"#FFA15A\",\"symbol\":\"circle\"},\"mode\":\"markers\",\"name\":\"Bihar\",\"scene\":\"scene\",\"showlegend\":true,\"x\":[132231166],\"y\":[1093466],\"z\":[125122902],\"type\":\"scatter3d\"},{\"hovertemplate\":\"State/UnionTerritory=Bihar****<br>Confirmed=%{x}<br>Deaths=%{y}<br>Cured=%{z}<extra></extra>\",\"legendgroup\":\"Bihar****\",\"marker\":{\"color\":\"#19d3f3\",\"symbol\":\"circle\"},\"mode\":\"markers\",\"name\":\"Bihar****\",\"scene\":\"scene\",\"showlegend\":true,\"x\":[1430909],\"y\":[18881],\"z\":[1402468],\"type\":\"scatter3d\"},{\"hovertemplate\":\"State/UnionTerritory=Cases being reassigned to states<br>Confirmed=%{x}<br>Deaths=%{y}<br>Cured=%{z}<extra></extra>\",\"legendgroup\":\"Cases being reassigned to states\",\"marker\":{\"color\":\"#FF6692\",\"symbol\":\"circle\"},\"mode\":\"markers\",\"name\":\"Cases being reassigned to states\",\"scene\":\"scene\",\"showlegend\":true,\"x\":[345565],\"y\":[0],\"z\":[0],\"type\":\"scatter3d\"},{\"hovertemplate\":\"State/UnionTerritory=Chandigarh<br>Confirmed=%{x}<br>Deaths=%{y}<br>Cured=%{z}<extra></extra>\",\"legendgroup\":\"Chandigarh\",\"marker\":{\"color\":\"#B6E880\",\"symbol\":\"circle\"},\"mode\":\"markers\",\"name\":\"Chandigarh\",\"scene\":\"scene\",\"showlegend\":true,\"x\":[10858627],\"y\":[147694],\"z\":[10117035],\"type\":\"scatter3d\"},{\"hovertemplate\":\"State/UnionTerritory=Chhattisgarh<br>Confirmed=%{x}<br>Deaths=%{y}<br>Cured=%{z}<extra></extra>\",\"legendgroup\":\"Chhattisgarh\",\"marker\":{\"color\":\"#FF97FF\",\"symbol\":\"circle\"},\"mode\":\"markers\",\"name\":\"Chhattisgarh\",\"scene\":\"scene\",\"showlegend\":true,\"x\":[163776262],\"y\":[2063920],\"z\":[151609364],\"type\":\"scatter3d\"},{\"hovertemplate\":\"State/UnionTerritory=Dadra and Nagar Haveli<br>Confirmed=%{x}<br>Deaths=%{y}<br>Cured=%{z}<extra></extra>\",\"legendgroup\":\"Dadra and Nagar Haveli\",\"marker\":{\"color\":\"#FECB52\",\"symbol\":\"circle\"},\"mode\":\"markers\",\"name\":\"Dadra and Nagar Haveli\",\"scene\":\"scene\",\"showlegend\":true,\"x\":[20722],\"y\":[8],\"z\":[20352],\"type\":\"scatter3d\"},{\"hovertemplate\":\"State/UnionTerritory=Dadra and Nagar Haveli and Daman and Diu<br>Confirmed=%{x}<br>Deaths=%{y}<br>Cured=%{z}<extra></extra>\",\"legendgroup\":\"Dadra and Nagar Haveli and Daman and Diu\",\"marker\":{\"color\":\"#636efa\",\"symbol\":\"circle\"},\"mode\":\"markers\",\"name\":\"Dadra and Nagar Haveli and Daman and Diu\",\"scene\":\"scene\",\"showlegend\":true,\"x\":[1938632],\"y\":[1014],\"z\":[1841750],\"type\":\"scatter3d\"},{\"hovertemplate\":\"State/UnionTerritory=Daman & Diu<br>Confirmed=%{x}<br>Deaths=%{y}<br>Cured=%{z}<extra></extra>\",\"legendgroup\":\"Daman & Diu\",\"marker\":{\"color\":\"#EF553B\",\"symbol\":\"circle\"},\"mode\":\"markers\",\"name\":\"Daman & Diu\",\"scene\":\"scene\",\"showlegend\":true,\"x\":[2],\"y\":[0],\"z\":[0],\"type\":\"scatter3d\"},{\"hovertemplate\":\"State/UnionTerritory=Delhi<br>Confirmed=%{x}<br>Deaths=%{y}<br>Cured=%{z}<extra></extra>\",\"legendgroup\":\"Delhi\",\"marker\":{\"color\":\"#00cc96\",\"symbol\":\"circle\"},\"mode\":\"markers\",\"name\":\"Delhi\",\"scene\":\"scene\",\"showlegend\":true,\"x\":[287227765],\"y\":[4943294],\"z\":[273419887],\"type\":\"scatter3d\"},{\"hovertemplate\":\"State/UnionTerritory=Goa<br>Confirmed=%{x}<br>Deaths=%{y}<br>Cured=%{z}<extra></extra>\",\"legendgroup\":\"Goa\",\"marker\":{\"color\":\"#ab63fa\",\"symbol\":\"circle\"},\"mode\":\"markers\",\"name\":\"Goa\",\"scene\":\"scene\",\"showlegend\":true,\"x\":[28240159],\"y\":[447801],\"z\":[26027201],\"type\":\"scatter3d\"},{\"hovertemplate\":\"State/UnionTerritory=Gujarat<br>Confirmed=%{x}<br>Deaths=%{y}<br>Cured=%{z}<extra></extra>\",\"legendgroup\":\"Gujarat\",\"marker\":{\"color\":\"#FFA15A\",\"symbol\":\"circle\"},\"mode\":\"markers\",\"name\":\"Gujarat\",\"scene\":\"scene\",\"showlegend\":true,\"x\":[143420082],\"y\":[2219448],\"z\":[132487127],\"type\":\"scatter3d\"},{\"hovertemplate\":\"State/UnionTerritory=Haryana<br>Confirmed=%{x}<br>Deaths=%{y}<br>Cured=%{z}<extra></extra>\",\"legendgroup\":\"Haryana\",\"marker\":{\"color\":\"#19d3f3\",\"symbol\":\"circle\"},\"mode\":\"markers\",\"name\":\"Haryana\",\"scene\":\"scene\",\"showlegend\":true,\"x\":[134347285],\"y\":[1502799],\"z\":[126585342],\"type\":\"scatter3d\"},{\"hovertemplate\":\"State/UnionTerritory=Himachal Pradesh<br>Confirmed=%{x}<br>Deaths=%{y}<br>Cured=%{z}<extra></extra>\",\"legendgroup\":\"Himachal Pradesh\",\"marker\":{\"color\":\"#FF6692\",\"symbol\":\"circle\"},\"mode\":\"markers\",\"name\":\"Himachal Pradesh\",\"scene\":\"scene\",\"showlegend\":true,\"x\":[30033289],\"y\":[491348],\"z\":[27501110],\"type\":\"scatter3d\"},{\"hovertemplate\":\"State/UnionTerritory=Himanchal Pradesh<br>Confirmed=%{x}<br>Deaths=%{y}<br>Cured=%{z}<extra></extra>\",\"legendgroup\":\"Himanchal Pradesh\",\"marker\":{\"color\":\"#B6E880\",\"symbol\":\"circle\"},\"mode\":\"markers\",\"name\":\"Himanchal Pradesh\",\"scene\":\"scene\",\"showlegend\":true,\"x\":[204516],\"y\":[3507],\"z\":[200040],\"type\":\"scatter3d\"},{\"hovertemplate\":\"State/UnionTerritory=Jammu and Kashmir<br>Confirmed=%{x}<br>Deaths=%{y}<br>Cured=%{z}<extra></extra>\",\"legendgroup\":\"Jammu and Kashmir\",\"marker\":{\"color\":\"#FF97FF\",\"symbol\":\"circle\"},\"mode\":\"markers\",\"name\":\"Jammu and Kashmir\",\"scene\":\"scene\",\"showlegend\":true,\"x\":[58117726],\"y\":[839694],\"z\":[53297341],\"type\":\"scatter3d\"},{\"hovertemplate\":\"State/UnionTerritory=Jharkhand<br>Confirmed=%{x}<br>Deaths=%{y}<br>Cured=%{z}<extra></extra>\",\"legendgroup\":\"Jharkhand\",\"marker\":{\"color\":\"#FECB52\",\"symbol\":\"circle\"},\"mode\":\"markers\",\"name\":\"Jharkhand\",\"scene\":\"scene\",\"showlegend\":true,\"x\":[62111994],\"y\":[748641],\"z\":[58034506],\"type\":\"scatter3d\"},{\"hovertemplate\":\"State/UnionTerritory=Karanataka<br>Confirmed=%{x}<br>Deaths=%{y}<br>Cured=%{z}<extra></extra>\",\"legendgroup\":\"Karanataka\",\"marker\":{\"color\":\"#636efa\",\"symbol\":\"circle\"},\"mode\":\"markers\",\"name\":\"Karanataka\",\"scene\":\"scene\",\"showlegend\":true,\"x\":[2885238],\"y\":[36197],\"z\":[2821491],\"type\":\"scatter3d\"},{\"hovertemplate\":\"State/UnionTerritory=Karnataka<br>Confirmed=%{x}<br>Deaths=%{y}<br>Cured=%{z}<extra></extra>\",\"legendgroup\":\"Karnataka\",\"marker\":{\"color\":\"#EF553B\",\"symbol\":\"circle\"},\"mode\":\"markers\",\"name\":\"Karnataka\",\"scene\":\"scene\",\"showlegend\":true,\"x\":[485970693],\"y\":[6053762],\"z\":[441844360],\"type\":\"scatter3d\"},{\"hovertemplate\":\"State/UnionTerritory=Kerala<br>Confirmed=%{x}<br>Deaths=%{y}<br>Cured=%{z}<extra></extra>\",\"legendgroup\":\"Kerala\",\"marker\":{\"color\":\"#00cc96\",\"symbol\":\"circle\"},\"mode\":\"markers\",\"name\":\"Kerala\",\"scene\":\"scene\",\"showlegend\":true,\"x\":[458906023],\"y\":[1888177],\"z\":[420174235],\"type\":\"scatter3d\"},{\"hovertemplate\":\"State/UnionTerritory=Ladakh<br>Confirmed=%{x}<br>Deaths=%{y}<br>Cured=%{z}<extra></extra>\",\"legendgroup\":\"Ladakh\",\"marker\":{\"color\":\"#ab63fa\",\"symbol\":\"circle\"},\"mode\":\"markers\",\"name\":\"Ladakh\",\"scene\":\"scene\",\"showlegend\":true,\"x\":[4054293],\"y\":[45804],\"z\":[3758960],\"type\":\"scatter3d\"},{\"hovertemplate\":\"State/UnionTerritory=Lakshadweep<br>Confirmed=%{x}<br>Deaths=%{y}<br>Cured=%{z}<extra></extra>\",\"legendgroup\":\"Lakshadweep\",\"marker\":{\"color\":\"#FFA15A\",\"symbol\":\"circle\"},\"mode\":\"markers\",\"name\":\"Lakshadweep\",\"scene\":\"scene\",\"showlegend\":true,\"x\":[915784],\"y\":[3908],\"z\":[820925],\"type\":\"scatter3d\"},{\"hovertemplate\":\"State/UnionTerritory=Madhya Pradesh<br>Confirmed=%{x}<br>Deaths=%{y}<br>Cured=%{z}<extra></extra>\",\"legendgroup\":\"Madhya Pradesh\",\"marker\":{\"color\":\"#19d3f3\",\"symbol\":\"circle\"},\"mode\":\"markers\",\"name\":\"Madhya Pradesh\",\"scene\":\"scene\",\"showlegend\":true,\"x\":[135625265],\"y\":[1777752],\"z\":[126724997],\"type\":\"scatter3d\"},{\"hovertemplate\":\"State/UnionTerritory=Madhya Pradesh***<br>Confirmed=%{x}<br>Deaths=%{y}<br>Cured=%{z}<extra></extra>\",\"legendgroup\":\"Madhya Pradesh***\",\"marker\":{\"color\":\"#FF6692\",\"symbol\":\"circle\"},\"mode\":\"markers\",\"name\":\"Madhya Pradesh***\",\"scene\":\"scene\",\"showlegend\":true,\"x\":[791656],\"y\":[10506],\"z\":[780735],\"type\":\"scatter3d\"},{\"hovertemplate\":\"State/UnionTerritory=Maharashtra<br>Confirmed=%{x}<br>Deaths=%{y}<br>Cured=%{z}<extra></extra>\",\"legendgroup\":\"Maharashtra\",\"marker\":{\"color\":\"#B6E880\",\"symbol\":\"circle\"},\"mode\":\"markers\",\"name\":\"Maharashtra\",\"scene\":\"scene\",\"showlegend\":true,\"x\":[1121491467],\"y\":[23737432],\"z\":[1018765039],\"type\":\"scatter3d\"},{\"hovertemplate\":\"State/UnionTerritory=Maharashtra***<br>Confirmed=%{x}<br>Deaths=%{y}<br>Cured=%{z}<extra></extra>\",\"legendgroup\":\"Maharashtra***\",\"marker\":{\"color\":\"#FF97FF\",\"symbol\":\"circle\"},\"mode\":\"markers\",\"name\":\"Maharashtra***\",\"scene\":\"scene\",\"showlegend\":true,\"x\":[6229596],\"y\":[130753],\"z\":[6000911],\"type\":\"scatter3d\"},{\"hovertemplate\":\"State/UnionTerritory=Manipur<br>Confirmed=%{x}<br>Deaths=%{y}<br>Cured=%{z}<extra></extra>\",\"legendgroup\":\"Manipur\",\"marker\":{\"color\":\"#FECB52\",\"symbol\":\"circle\"},\"mode\":\"markers\",\"name\":\"Manipur\",\"scene\":\"scene\",\"showlegend\":true,\"x\":[12617943],\"y\":[173056],\"z\":[11230568],\"type\":\"scatter3d\"},{\"hovertemplate\":\"State/UnionTerritory=Meghalaya<br>Confirmed=%{x}<br>Deaths=%{y}<br>Cured=%{z}<extra></extra>\",\"legendgroup\":\"Meghalaya\",\"marker\":{\"color\":\"#636efa\",\"symbol\":\"circle\"},\"mode\":\"markers\",\"name\":\"Meghalaya\",\"scene\":\"scene\",\"showlegend\":true,\"x\":[7355969],\"y\":[101950],\"z\":[6537909],\"type\":\"scatter3d\"},{\"hovertemplate\":\"State/UnionTerritory=Mizoram<br>Confirmed=%{x}<br>Deaths=%{y}<br>Cured=%{z}<extra></extra>\",\"legendgroup\":\"Mizoram\",\"marker\":{\"color\":\"#EF553B\",\"symbol\":\"circle\"},\"mode\":\"markers\",\"name\":\"Mizoram\",\"scene\":\"scene\",\"showlegend\":true,\"x\":[2984732],\"y\":[9791],\"z\":[2384602],\"type\":\"scatter3d\"},{\"hovertemplate\":\"State/UnionTerritory=Nagaland<br>Confirmed=%{x}<br>Deaths=%{y}<br>Cured=%{z}<extra></extra>\",\"legendgroup\":\"Nagaland\",\"marker\":{\"color\":\"#00cc96\",\"symbol\":\"circle\"},\"mode\":\"markers\",\"name\":\"Nagaland\",\"scene\":\"scene\",\"showlegend\":true,\"x\":[5041742],\"y\":[58460],\"z\":[4519526],\"type\":\"scatter3d\"},{\"hovertemplate\":\"State/UnionTerritory=Odisha<br>Confirmed=%{x}<br>Deaths=%{y}<br>Cured=%{z}<extra></extra>\",\"legendgroup\":\"Odisha\",\"marker\":{\"color\":\"#ab63fa\",\"symbol\":\"circle\"},\"mode\":\"markers\",\"name\":\"Odisha\",\"scene\":\"scene\",\"showlegend\":true,\"x\":[160130533],\"y\":[790814],\"z\":[150923455],\"type\":\"scatter3d\"},{\"hovertemplate\":\"State/UnionTerritory=Puducherry<br>Confirmed=%{x}<br>Deaths=%{y}<br>Cured=%{z}<extra></extra>\",\"legendgroup\":\"Puducherry\",\"marker\":{\"color\":\"#FFA15A\",\"symbol\":\"circle\"},\"mode\":\"markers\",\"name\":\"Puducherry\",\"scene\":\"scene\",\"showlegend\":true,\"x\":[20065891],\"y\":[312155],\"z\":[18483117],\"type\":\"scatter3d\"},{\"hovertemplate\":\"State/UnionTerritory=Punjab<br>Confirmed=%{x}<br>Deaths=%{y}<br>Cured=%{z}<extra></extra>\",\"legendgroup\":\"Punjab\",\"marker\":{\"color\":\"#19d3f3\",\"symbol\":\"circle\"},\"mode\":\"markers\",\"name\":\"Punjab\",\"scene\":\"scene\",\"showlegend\":true,\"x\":[99949702],\"y\":[2785594],\"z\":[91458159],\"type\":\"scatter3d\"},{\"hovertemplate\":\"State/UnionTerritory=Rajasthan<br>Confirmed=%{x}<br>Deaths=%{y}<br>Cured=%{z}<extra></extra>\",\"legendgroup\":\"Rajasthan\",\"marker\":{\"color\":\"#FF6692\",\"symbol\":\"circle\"},\"mode\":\"markers\",\"name\":\"Rajasthan\",\"scene\":\"scene\",\"showlegend\":true,\"x\":[162369656],\"y\":[1473089],\"z\":[150356820],\"type\":\"scatter3d\"},{\"hovertemplate\":\"State/UnionTerritory=Sikkim<br>Confirmed=%{x}<br>Deaths=%{y}<br>Cured=%{z}<extra></extra>\",\"legendgroup\":\"Sikkim\",\"marker\":{\"color\":\"#B6E880\",\"symbol\":\"circle\"},\"mode\":\"markers\",\"name\":\"Sikkim\",\"scene\":\"scene\",\"showlegend\":true,\"x\":[3186799],\"y\":[53150],\"z\":[2747214],\"type\":\"scatter3d\"},{\"hovertemplate\":\"State/UnionTerritory=Tamil Nadu<br>Confirmed=%{x}<br>Deaths=%{y}<br>Cured=%{z}<extra></extra>\",\"legendgroup\":\"Tamil Nadu\",\"marker\":{\"color\":\"#FF97FF\",\"symbol\":\"circle\"},\"mode\":\"markers\",\"name\":\"Tamil Nadu\",\"scene\":\"scene\",\"showlegend\":true,\"x\":[431928644],\"y\":[5916658],\"z\":[404095807],\"type\":\"scatter3d\"},{\"hovertemplate\":\"State/UnionTerritory=Telangana<br>Confirmed=%{x}<br>Deaths=%{y}<br>Cured=%{z}<extra></extra>\",\"legendgroup\":\"Telangana\",\"marker\":{\"color\":\"#FECB52\",\"symbol\":\"circle\"},\"mode\":\"markers\",\"name\":\"Telangana\",\"scene\":\"scene\",\"showlegend\":true,\"x\":[60571979],\"y\":[349648],\"z\":[57488245],\"type\":\"scatter3d\"},{\"hovertemplate\":\"State/UnionTerritory=Telengana<br>Confirmed=%{x}<br>Deaths=%{y}<br>Cured=%{z}<extra></extra>\",\"legendgroup\":\"Telengana\",\"marker\":{\"color\":\"#636efa\",\"symbol\":\"circle\"},\"mode\":\"markers\",\"name\":\"Telengana\",\"scene\":\"scene\",\"showlegend\":true,\"x\":[69990668],\"y\":[400427],\"z\":[64666267],\"type\":\"scatter3d\"},{\"hovertemplate\":\"State/UnionTerritory=Tripura<br>Confirmed=%{x}<br>Deaths=%{y}<br>Cured=%{z}<extra></extra>\",\"legendgroup\":\"Tripura\",\"marker\":{\"color\":\"#EF553B\",\"symbol\":\"circle\"},\"mode\":\"markers\",\"name\":\"Tripura\",\"scene\":\"scene\",\"showlegend\":true,\"x\":[14050250],\"y\":[150342],\"z\":[12976846],\"type\":\"scatter3d\"},{\"hovertemplate\":\"State/UnionTerritory=Unassigned<br>Confirmed=%{x}<br>Deaths=%{y}<br>Cured=%{z}<extra></extra>\",\"legendgroup\":\"Unassigned\",\"marker\":{\"color\":\"#00cc96\",\"symbol\":\"circle\"},\"mode\":\"markers\",\"name\":\"Unassigned\",\"scene\":\"scene\",\"showlegend\":true,\"x\":[161],\"y\":[0],\"z\":[0],\"type\":\"scatter3d\"},{\"hovertemplate\":\"State/UnionTerritory=Uttar Pradesh<br>Confirmed=%{x}<br>Deaths=%{y}<br>Cured=%{z}<extra></extra>\",\"legendgroup\":\"Uttar Pradesh\",\"marker\":{\"color\":\"#ab63fa\",\"symbol\":\"circle\"},\"mode\":\"markers\",\"name\":\"Uttar Pradesh\",\"scene\":\"scene\",\"showlegend\":true,\"x\":[312625843],\"y\":[4143450],\"z\":[291479351],\"type\":\"scatter3d\"},{\"hovertemplate\":\"State/UnionTerritory=Uttarakhand<br>Confirmed=%{x}<br>Deaths=%{y}<br>Cured=%{z}<extra></extra>\",\"legendgroup\":\"Uttarakhand\",\"marker\":{\"color\":\"#FFA15A\",\"symbol\":\"circle\"},\"mode\":\"markers\",\"name\":\"Uttarakhand\",\"scene\":\"scene\",\"showlegend\":true,\"x\":[53140414],\"y\":[986001],\"z\":[48362741],\"type\":\"scatter3d\"},{\"hovertemplate\":\"State/UnionTerritory=West Bengal<br>Confirmed=%{x}<br>Deaths=%{y}<br>Cured=%{z}<extra></extra>\",\"legendgroup\":\"West Bengal\",\"marker\":{\"color\":\"#19d3f3\",\"symbol\":\"circle\"},\"mode\":\"markers\",\"name\":\"West Bengal\",\"scene\":\"scene\",\"showlegend\":true,\"x\":[263107876],\"y\":[3846989],\"z\":[247515102],\"type\":\"scatter3d\"}],                        {\"template\":{\"data\":{\"histogram2dcontour\":[{\"type\":\"histogram2dcontour\",\"colorbar\":{\"outlinewidth\":0,\"ticks\":\"\"},\"colorscale\":[[0.0,\"#0d0887\"],[0.1111111111111111,\"#46039f\"],[0.2222222222222222,\"#7201a8\"],[0.3333333333333333,\"#9c179e\"],[0.4444444444444444,\"#bd3786\"],[0.5555555555555556,\"#d8576b\"],[0.6666666666666666,\"#ed7953\"],[0.7777777777777778,\"#fb9f3a\"],[0.8888888888888888,\"#fdca26\"],[1.0,\"#f0f921\"]]}],\"choropleth\":[{\"type\":\"choropleth\",\"colorbar\":{\"outlinewidth\":0,\"ticks\":\"\"}}],\"histogram2d\":[{\"type\":\"histogram2d\",\"colorbar\":{\"outlinewidth\":0,\"ticks\":\"\"},\"colorscale\":[[0.0,\"#0d0887\"],[0.1111111111111111,\"#46039f\"],[0.2222222222222222,\"#7201a8\"],[0.3333333333333333,\"#9c179e\"],[0.4444444444444444,\"#bd3786\"],[0.5555555555555556,\"#d8576b\"],[0.6666666666666666,\"#ed7953\"],[0.7777777777777778,\"#fb9f3a\"],[0.8888888888888888,\"#fdca26\"],[1.0,\"#f0f921\"]]}],\"heatmap\":[{\"type\":\"heatmap\",\"colorbar\":{\"outlinewidth\":0,\"ticks\":\"\"},\"colorscale\":[[0.0,\"#0d0887\"],[0.1111111111111111,\"#46039f\"],[0.2222222222222222,\"#7201a8\"],[0.3333333333333333,\"#9c179e\"],[0.4444444444444444,\"#bd3786\"],[0.5555555555555556,\"#d8576b\"],[0.6666666666666666,\"#ed7953\"],[0.7777777777777778,\"#fb9f3a\"],[0.8888888888888888,\"#fdca26\"],[1.0,\"#f0f921\"]]}],\"heatmapgl\":[{\"type\":\"heatmapgl\",\"colorbar\":{\"outlinewidth\":0,\"ticks\":\"\"},\"colorscale\":[[0.0,\"#0d0887\"],[0.1111111111111111,\"#46039f\"],[0.2222222222222222,\"#7201a8\"],[0.3333333333333333,\"#9c179e\"],[0.4444444444444444,\"#bd3786\"],[0.5555555555555556,\"#d8576b\"],[0.6666666666666666,\"#ed7953\"],[0.7777777777777778,\"#fb9f3a\"],[0.8888888888888888,\"#fdca26\"],[1.0,\"#f0f921\"]]}],\"contourcarpet\":[{\"type\":\"contourcarpet\",\"colorbar\":{\"outlinewidth\":0,\"ticks\":\"\"}}],\"contour\":[{\"type\":\"contour\",\"colorbar\":{\"outlinewidth\":0,\"ticks\":\"\"},\"colorscale\":[[0.0,\"#0d0887\"],[0.1111111111111111,\"#46039f\"],[0.2222222222222222,\"#7201a8\"],[0.3333333333333333,\"#9c179e\"],[0.4444444444444444,\"#bd3786\"],[0.5555555555555556,\"#d8576b\"],[0.6666666666666666,\"#ed7953\"],[0.7777777777777778,\"#fb9f3a\"],[0.8888888888888888,\"#fdca26\"],[1.0,\"#f0f921\"]]}],\"surface\":[{\"type\":\"surface\",\"colorbar\":{\"outlinewidth\":0,\"ticks\":\"\"},\"colorscale\":[[0.0,\"#0d0887\"],[0.1111111111111111,\"#46039f\"],[0.2222222222222222,\"#7201a8\"],[0.3333333333333333,\"#9c179e\"],[0.4444444444444444,\"#bd3786\"],[0.5555555555555556,\"#d8576b\"],[0.6666666666666666,\"#ed7953\"],[0.7777777777777778,\"#fb9f3a\"],[0.8888888888888888,\"#fdca26\"],[1.0,\"#f0f921\"]]}],\"mesh3d\":[{\"type\":\"mesh3d\",\"colorbar\":{\"outlinewidth\":0,\"ticks\":\"\"}}],\"scatter\":[{\"fillpattern\":{\"fillmode\":\"overlay\",\"size\":10,\"solidity\":0.2},\"type\":\"scatter\"}],\"parcoords\":[{\"type\":\"parcoords\",\"line\":{\"colorbar\":{\"outlinewidth\":0,\"ticks\":\"\"}}}],\"scatterpolargl\":[{\"type\":\"scatterpolargl\",\"marker\":{\"colorbar\":{\"outlinewidth\":0,\"ticks\":\"\"}}}],\"bar\":[{\"error_x\":{\"color\":\"#2a3f5f\"},\"error_y\":{\"color\":\"#2a3f5f\"},\"marker\":{\"line\":{\"color\":\"#E5ECF6\",\"width\":0.5},\"pattern\":{\"fillmode\":\"overlay\",\"size\":10,\"solidity\":0.2}},\"type\":\"bar\"}],\"scattergeo\":[{\"type\":\"scattergeo\",\"marker\":{\"colorbar\":{\"outlinewidth\":0,\"ticks\":\"\"}}}],\"scatterpolar\":[{\"type\":\"scatterpolar\",\"marker\":{\"colorbar\":{\"outlinewidth\":0,\"ticks\":\"\"}}}],\"histogram\":[{\"marker\":{\"pattern\":{\"fillmode\":\"overlay\",\"size\":10,\"solidity\":0.2}},\"type\":\"histogram\"}],\"scattergl\":[{\"type\":\"scattergl\",\"marker\":{\"colorbar\":{\"outlinewidth\":0,\"ticks\":\"\"}}}],\"scatter3d\":[{\"type\":\"scatter3d\",\"line\":{\"colorbar\":{\"outlinewidth\":0,\"ticks\":\"\"}},\"marker\":{\"colorbar\":{\"outlinewidth\":0,\"ticks\":\"\"}}}],\"scattermapbox\":[{\"type\":\"scattermapbox\",\"marker\":{\"colorbar\":{\"outlinewidth\":0,\"ticks\":\"\"}}}],\"scatterternary\":[{\"type\":\"scatterternary\",\"marker\":{\"colorbar\":{\"outlinewidth\":0,\"ticks\":\"\"}}}],\"scattercarpet\":[{\"type\":\"scattercarpet\",\"marker\":{\"colorbar\":{\"outlinewidth\":0,\"ticks\":\"\"}}}],\"carpet\":[{\"aaxis\":{\"endlinecolor\":\"#2a3f5f\",\"gridcolor\":\"white\",\"linecolor\":\"white\",\"minorgridcolor\":\"white\",\"startlinecolor\":\"#2a3f5f\"},\"baxis\":{\"endlinecolor\":\"#2a3f5f\",\"gridcolor\":\"white\",\"linecolor\":\"white\",\"minorgridcolor\":\"white\",\"startlinecolor\":\"#2a3f5f\"},\"type\":\"carpet\"}],\"table\":[{\"cells\":{\"fill\":{\"color\":\"#EBF0F8\"},\"line\":{\"color\":\"white\"}},\"header\":{\"fill\":{\"color\":\"#C8D4E3\"},\"line\":{\"color\":\"white\"}},\"type\":\"table\"}],\"barpolar\":[{\"marker\":{\"line\":{\"color\":\"#E5ECF6\",\"width\":0.5},\"pattern\":{\"fillmode\":\"overlay\",\"size\":10,\"solidity\":0.2}},\"type\":\"barpolar\"}],\"pie\":[{\"automargin\":true,\"type\":\"pie\"}]},\"layout\":{\"autotypenumbers\":\"strict\",\"colorway\":[\"#636efa\",\"#EF553B\",\"#00cc96\",\"#ab63fa\",\"#FFA15A\",\"#19d3f3\",\"#FF6692\",\"#B6E880\",\"#FF97FF\",\"#FECB52\"],\"font\":{\"color\":\"#2a3f5f\"},\"hovermode\":\"closest\",\"hoverlabel\":{\"align\":\"left\"},\"paper_bgcolor\":\"white\",\"plot_bgcolor\":\"#E5ECF6\",\"polar\":{\"bgcolor\":\"#E5ECF6\",\"angularaxis\":{\"gridcolor\":\"white\",\"linecolor\":\"white\",\"ticks\":\"\"},\"radialaxis\":{\"gridcolor\":\"white\",\"linecolor\":\"white\",\"ticks\":\"\"}},\"ternary\":{\"bgcolor\":\"#E5ECF6\",\"aaxis\":{\"gridcolor\":\"white\",\"linecolor\":\"white\",\"ticks\":\"\"},\"baxis\":{\"gridcolor\":\"white\",\"linecolor\":\"white\",\"ticks\":\"\"},\"caxis\":{\"gridcolor\":\"white\",\"linecolor\":\"white\",\"ticks\":\"\"}},\"coloraxis\":{\"colorbar\":{\"outlinewidth\":0,\"ticks\":\"\"}},\"colorscale\":{\"sequential\":[[0.0,\"#0d0887\"],[0.1111111111111111,\"#46039f\"],[0.2222222222222222,\"#7201a8\"],[0.3333333333333333,\"#9c179e\"],[0.4444444444444444,\"#bd3786\"],[0.5555555555555556,\"#d8576b\"],[0.6666666666666666,\"#ed7953\"],[0.7777777777777778,\"#fb9f3a\"],[0.8888888888888888,\"#fdca26\"],[1.0,\"#f0f921\"]],\"sequentialminus\":[[0.0,\"#0d0887\"],[0.1111111111111111,\"#46039f\"],[0.2222222222222222,\"#7201a8\"],[0.3333333333333333,\"#9c179e\"],[0.4444444444444444,\"#bd3786\"],[0.5555555555555556,\"#d8576b\"],[0.6666666666666666,\"#ed7953\"],[0.7777777777777778,\"#fb9f3a\"],[0.8888888888888888,\"#fdca26\"],[1.0,\"#f0f921\"]],\"diverging\":[[0,\"#8e0152\"],[0.1,\"#c51b7d\"],[0.2,\"#de77ae\"],[0.3,\"#f1b6da\"],[0.4,\"#fde0ef\"],[0.5,\"#f7f7f7\"],[0.6,\"#e6f5d0\"],[0.7,\"#b8e186\"],[0.8,\"#7fbc41\"],[0.9,\"#4d9221\"],[1,\"#276419\"]]},\"xaxis\":{\"gridcolor\":\"white\",\"linecolor\":\"white\",\"ticks\":\"\",\"title\":{\"standoff\":15},\"zerolinecolor\":\"white\",\"automargin\":true,\"zerolinewidth\":2},\"yaxis\":{\"gridcolor\":\"white\",\"linecolor\":\"white\",\"ticks\":\"\",\"title\":{\"standoff\":15},\"zerolinecolor\":\"white\",\"automargin\":true,\"zerolinewidth\":2},\"scene\":{\"xaxis\":{\"backgroundcolor\":\"#E5ECF6\",\"gridcolor\":\"white\",\"linecolor\":\"white\",\"showbackground\":true,\"ticks\":\"\",\"zerolinecolor\":\"white\",\"gridwidth\":2},\"yaxis\":{\"backgroundcolor\":\"#E5ECF6\",\"gridcolor\":\"white\",\"linecolor\":\"white\",\"showbackground\":true,\"ticks\":\"\",\"zerolinecolor\":\"white\",\"gridwidth\":2},\"zaxis\":{\"backgroundcolor\":\"#E5ECF6\",\"gridcolor\":\"white\",\"linecolor\":\"white\",\"showbackground\":true,\"ticks\":\"\",\"zerolinecolor\":\"white\",\"gridwidth\":2}},\"shapedefaults\":{\"line\":{\"color\":\"#2a3f5f\"}},\"annotationdefaults\":{\"arrowcolor\":\"#2a3f5f\",\"arrowhead\":0,\"arrowwidth\":1},\"geo\":{\"bgcolor\":\"white\",\"landcolor\":\"#E5ECF6\",\"subunitcolor\":\"white\",\"showland\":true,\"showlakes\":true,\"lakecolor\":\"white\"},\"title\":{\"x\":0.05},\"mapbox\":{\"style\":\"light\"}}},\"scene\":{\"domain\":{\"x\":[0.0,1.0],\"y\":[0.0,1.0]},\"xaxis\":{\"title\":{\"text\":\"Confirmed\"}},\"yaxis\":{\"title\":{\"text\":\"Deaths\"}},\"zaxis\":{\"title\":{\"text\":\"Cured\"}}},\"legend\":{\"title\":{\"text\":\"State/UnionTerritory\"},\"tracegroupgap\":0},\"margin\":{\"t\":60}},                        {\"responsive\": true}                    ).then(function(){\n",
       "                            \n",
       "var gd = document.getElementById('253cc580-93ae-43a9-8d2f-bb8c3bbebe92');\n",
       "var x = new MutationObserver(function (mutations, observer) {{\n",
       "        var display = window.getComputedStyle(gd).display;\n",
       "        if (!display || display === 'none') {{\n",
       "            console.log([gd, 'removed!']);\n",
       "            Plotly.purge(gd);\n",
       "            observer.disconnect();\n",
       "        }}\n",
       "}});\n",
       "\n",
       "// Listen for the removal of the full notebook cells\n",
       "var notebookContainer = gd.closest('#notebook-container');\n",
       "if (notebookContainer) {{\n",
       "    x.observe(notebookContainer, {childList: true});\n",
       "}}\n",
       "\n",
       "// Listen for the clearing of the current output cell\n",
       "var outputEl = gd.closest('.output');\n",
       "if (outputEl) {{\n",
       "    x.observe(outputEl, {childList: true});\n",
       "}}\n",
       "\n",
       "                        })                };                });            </script>        </div>"
      ]
     },
     "metadata": {},
     "output_type": "display_data"
    }
   ],
   "source": [
    "fig = px.scatter_3d(covid_new,x='Confirmed',y='Deaths',z='Cured',color='State/UnionTerritory')\n",
    "fig.show()"
   ]
  },
  {
   "cell_type": "code",
   "execution_count": 8,
   "id": "8ac9af69",
   "metadata": {
    "execution": {
     "iopub.execute_input": "2022-04-26T14:23:24.980975Z",
     "iopub.status.busy": "2022-04-26T14:23:24.980704Z",
     "iopub.status.idle": "2022-04-26T14:23:24.994871Z",
     "shell.execute_reply": "2022-04-26T14:23:24.994233Z"
    },
    "papermill": {
     "duration": 0.0836,
     "end_time": "2022-04-26T14:23:24.996793",
     "exception": false,
     "start_time": "2022-04-26T14:23:24.913193",
     "status": "completed"
    },
    "tags": []
   },
   "outputs": [
    {
     "data": {
      "text/html": [
       "<div>\n",
       "<style scoped>\n",
       "    .dataframe tbody tr th:only-of-type {\n",
       "        vertical-align: middle;\n",
       "    }\n",
       "\n",
       "    .dataframe tbody tr th {\n",
       "        vertical-align: top;\n",
       "    }\n",
       "\n",
       "    .dataframe thead th {\n",
       "        text-align: right;\n",
       "    }\n",
       "</style>\n",
       "<table border=\"1\" class=\"dataframe\">\n",
       "  <thead>\n",
       "    <tr style=\"text-align: right;\">\n",
       "      <th></th>\n",
       "      <th>State/UnionTerritory</th>\n",
       "      <th>ConfirmedIndianNational</th>\n",
       "      <th>ConfirmedForeignNational</th>\n",
       "    </tr>\n",
       "  </thead>\n",
       "  <tbody>\n",
       "    <tr>\n",
       "      <th>0</th>\n",
       "      <td>Kerala</td>\n",
       "      <td>1</td>\n",
       "      <td>0</td>\n",
       "    </tr>\n",
       "    <tr>\n",
       "      <th>1</th>\n",
       "      <td>Kerala</td>\n",
       "      <td>1</td>\n",
       "      <td>0</td>\n",
       "    </tr>\n",
       "    <tr>\n",
       "      <th>2</th>\n",
       "      <td>Kerala</td>\n",
       "      <td>2</td>\n",
       "      <td>0</td>\n",
       "    </tr>\n",
       "    <tr>\n",
       "      <th>3</th>\n",
       "      <td>Kerala</td>\n",
       "      <td>3</td>\n",
       "      <td>0</td>\n",
       "    </tr>\n",
       "    <tr>\n",
       "      <th>4</th>\n",
       "      <td>Kerala</td>\n",
       "      <td>3</td>\n",
       "      <td>0</td>\n",
       "    </tr>\n",
       "    <tr>\n",
       "      <th>...</th>\n",
       "      <td>...</td>\n",
       "      <td>...</td>\n",
       "      <td>...</td>\n",
       "    </tr>\n",
       "    <tr>\n",
       "      <th>18105</th>\n",
       "      <td>Telangana</td>\n",
       "      <td>-</td>\n",
       "      <td>-</td>\n",
       "    </tr>\n",
       "    <tr>\n",
       "      <th>18106</th>\n",
       "      <td>Tripura</td>\n",
       "      <td>-</td>\n",
       "      <td>-</td>\n",
       "    </tr>\n",
       "    <tr>\n",
       "      <th>18107</th>\n",
       "      <td>Uttarakhand</td>\n",
       "      <td>-</td>\n",
       "      <td>-</td>\n",
       "    </tr>\n",
       "    <tr>\n",
       "      <th>18108</th>\n",
       "      <td>Uttar Pradesh</td>\n",
       "      <td>-</td>\n",
       "      <td>-</td>\n",
       "    </tr>\n",
       "    <tr>\n",
       "      <th>18109</th>\n",
       "      <td>West Bengal</td>\n",
       "      <td>-</td>\n",
       "      <td>-</td>\n",
       "    </tr>\n",
       "  </tbody>\n",
       "</table>\n",
       "<p>18110 rows × 3 columns</p>\n",
       "</div>"
      ],
      "text/plain": [
       "      State/UnionTerritory ConfirmedIndianNational ConfirmedForeignNational\n",
       "0                   Kerala                       1                        0\n",
       "1                   Kerala                       1                        0\n",
       "2                   Kerala                       2                        0\n",
       "3                   Kerala                       3                        0\n",
       "4                   Kerala                       3                        0\n",
       "...                    ...                     ...                      ...\n",
       "18105            Telangana                       -                        -\n",
       "18106              Tripura                       -                        -\n",
       "18107          Uttarakhand                       -                        -\n",
       "18108        Uttar Pradesh                       -                        -\n",
       "18109          West Bengal                       -                        -\n",
       "\n",
       "[18110 rows x 3 columns]"
      ]
     },
     "execution_count": 8,
     "metadata": {},
     "output_type": "execute_result"
    }
   ],
   "source": [
    "covid_next = covid[['State/UnionTerritory','ConfirmedIndianNational','ConfirmedForeignNational']]\n",
    "covid_next"
   ]
  },
  {
   "cell_type": "code",
   "execution_count": 9,
   "id": "ba9aea5e",
   "metadata": {
    "execution": {
     "iopub.execute_input": "2022-04-26T14:23:25.135569Z",
     "iopub.status.busy": "2022-04-26T14:23:25.135046Z",
     "iopub.status.idle": "2022-04-26T14:23:25.148288Z",
     "shell.execute_reply": "2022-04-26T14:23:25.147691Z"
    },
    "papermill": {
     "duration": 0.08657,
     "end_time": "2022-04-26T14:23:25.150486",
     "exception": false,
     "start_time": "2022-04-26T14:23:25.063916",
     "status": "completed"
    },
    "tags": []
   },
   "outputs": [
    {
     "data": {
      "text/plain": [
       "State/UnionTerritory        0\n",
       "ConfirmedIndianNational     0\n",
       "ConfirmedForeignNational    0\n",
       "dtype: int64"
      ]
     },
     "execution_count": 9,
     "metadata": {},
     "output_type": "execute_result"
    }
   ],
   "source": [
    "covid_next.isnull().sum()"
   ]
  },
  {
   "cell_type": "code",
   "execution_count": 10,
   "id": "73346814",
   "metadata": {
    "execution": {
     "iopub.execute_input": "2022-04-26T14:23:25.288411Z",
     "iopub.status.busy": "2022-04-26T14:23:25.287771Z",
     "iopub.status.idle": "2022-04-26T14:23:25.295145Z",
     "shell.execute_reply": "2022-04-26T14:23:25.294353Z"
    },
    "papermill": {
     "duration": 0.078429,
     "end_time": "2022-04-26T14:23:25.297109",
     "exception": false,
     "start_time": "2022-04-26T14:23:25.218680",
     "status": "completed"
    },
    "tags": []
   },
   "outputs": [
    {
     "data": {
      "text/plain": [
       "State/UnionTerritory        object\n",
       "ConfirmedIndianNational     object\n",
       "ConfirmedForeignNational    object\n",
       "dtype: object"
      ]
     },
     "execution_count": 10,
     "metadata": {},
     "output_type": "execute_result"
    }
   ],
   "source": [
    "covid_next.dtypes"
   ]
  },
  {
   "cell_type": "code",
   "execution_count": 11,
   "id": "7aadf8e7",
   "metadata": {
    "execution": {
     "iopub.execute_input": "2022-04-26T14:23:25.436002Z",
     "iopub.status.busy": "2022-04-26T14:23:25.435725Z",
     "iopub.status.idle": "2022-04-26T14:23:25.455220Z",
     "shell.execute_reply": "2022-04-26T14:23:25.454405Z"
    },
    "papermill": {
     "duration": 0.090299,
     "end_time": "2022-04-26T14:23:25.457324",
     "exception": false,
     "start_time": "2022-04-26T14:23:25.367025",
     "status": "completed"
    },
    "tags": []
   },
   "outputs": [
    {
     "data": {
      "text/plain": [
       "State/UnionTerritory        object\n",
       "ConfirmedIndianNational      int64\n",
       "ConfirmedForeignNational     int64\n",
       "dtype: object"
      ]
     },
     "execution_count": 11,
     "metadata": {},
     "output_type": "execute_result"
    }
   ],
   "source": [
    "covid_next['ConfirmedIndianNational'] = covid_next['ConfirmedIndianNational'].replace('-',0)\n",
    "covid_next['ConfirmedForeignNational'] = covid_next['ConfirmedForeignNational'].replace('-',0)\n",
    "covid_next['ConfirmedIndianNational']=covid_next['ConfirmedIndianNational'].astype('int64')\n",
    "covid_next['ConfirmedForeignNational']=covid_next['ConfirmedForeignNational'].astype('int64')\n",
    "covid_next.dtypes"
   ]
  },
  {
   "cell_type": "code",
   "execution_count": 12,
   "id": "082898f9",
   "metadata": {
    "execution": {
     "iopub.execute_input": "2022-04-26T14:23:25.602397Z",
     "iopub.status.busy": "2022-04-26T14:23:25.601542Z",
     "iopub.status.idle": "2022-04-26T14:23:25.613255Z",
     "shell.execute_reply": "2022-04-26T14:23:25.612251Z"
    },
    "papermill": {
     "duration": 0.088543,
     "end_time": "2022-04-26T14:23:25.615702",
     "exception": false,
     "start_time": "2022-04-26T14:23:25.527159",
     "status": "completed"
    },
    "tags": []
   },
   "outputs": [],
   "source": [
    "covid_sort = covid_next.groupby(['State/UnionTerritory'])['ConfirmedIndianNational','ConfirmedForeignNational'].sum().reset_index()"
   ]
  },
  {
   "cell_type": "code",
   "execution_count": 13,
   "id": "28ab940c",
   "metadata": {
    "execution": {
     "iopub.execute_input": "2022-04-26T14:23:25.757497Z",
     "iopub.status.busy": "2022-04-26T14:23:25.757222Z",
     "iopub.status.idle": "2022-04-26T14:23:25.767600Z",
     "shell.execute_reply": "2022-04-26T14:23:25.766723Z"
    },
    "papermill": {
     "duration": 0.082584,
     "end_time": "2022-04-26T14:23:25.770209",
     "exception": false,
     "start_time": "2022-04-26T14:23:25.687625",
     "status": "completed"
    },
    "tags": []
   },
   "outputs": [
    {
     "data": {
      "text/html": [
       "<div>\n",
       "<style scoped>\n",
       "    .dataframe tbody tr th:only-of-type {\n",
       "        vertical-align: middle;\n",
       "    }\n",
       "\n",
       "    .dataframe tbody tr th {\n",
       "        vertical-align: top;\n",
       "    }\n",
       "\n",
       "    .dataframe thead th {\n",
       "        text-align: right;\n",
       "    }\n",
       "</style>\n",
       "<table border=\"1\" class=\"dataframe\">\n",
       "  <thead>\n",
       "    <tr style=\"text-align: right;\">\n",
       "      <th></th>\n",
       "      <th>State/UnionTerritory</th>\n",
       "      <th>ConfirmedIndianNational</th>\n",
       "      <th>ConfirmedForeignNational</th>\n",
       "    </tr>\n",
       "  </thead>\n",
       "  <tbody>\n",
       "    <tr>\n",
       "      <th>0</th>\n",
       "      <td>Andaman and Nicobar Islands</td>\n",
       "      <td>8</td>\n",
       "      <td>0</td>\n",
       "    </tr>\n",
       "    <tr>\n",
       "      <th>1</th>\n",
       "      <td>Andhra Pradesh</td>\n",
       "      <td>81</td>\n",
       "      <td>0</td>\n",
       "    </tr>\n",
       "    <tr>\n",
       "      <th>2</th>\n",
       "      <td>Arunachal Pradesh</td>\n",
       "      <td>0</td>\n",
       "      <td>0</td>\n",
       "    </tr>\n",
       "    <tr>\n",
       "      <th>3</th>\n",
       "      <td>Assam</td>\n",
       "      <td>0</td>\n",
       "      <td>0</td>\n",
       "    </tr>\n",
       "    <tr>\n",
       "      <th>4</th>\n",
       "      <td>Bihar</td>\n",
       "      <td>32</td>\n",
       "      <td>0</td>\n",
       "    </tr>\n",
       "    <tr>\n",
       "      <th>5</th>\n",
       "      <td>Bihar****</td>\n",
       "      <td>0</td>\n",
       "      <td>0</td>\n",
       "    </tr>\n",
       "    <tr>\n",
       "      <th>6</th>\n",
       "      <td>Cases being reassigned to states</td>\n",
       "      <td>0</td>\n",
       "      <td>0</td>\n",
       "    </tr>\n",
       "    <tr>\n",
       "      <th>7</th>\n",
       "      <td>Chandigarh</td>\n",
       "      <td>50</td>\n",
       "      <td>0</td>\n",
       "    </tr>\n",
       "    <tr>\n",
       "      <th>8</th>\n",
       "      <td>Chhattisgarh</td>\n",
       "      <td>25</td>\n",
       "      <td>0</td>\n",
       "    </tr>\n",
       "    <tr>\n",
       "      <th>9</th>\n",
       "      <td>Dadra and Nagar Haveli</td>\n",
       "      <td>0</td>\n",
       "      <td>0</td>\n",
       "    </tr>\n",
       "  </tbody>\n",
       "</table>\n",
       "</div>"
      ],
      "text/plain": [
       "               State/UnionTerritory  ConfirmedIndianNational  \\\n",
       "0       Andaman and Nicobar Islands                        8   \n",
       "1                    Andhra Pradesh                       81   \n",
       "2                 Arunachal Pradesh                        0   \n",
       "3                             Assam                        0   \n",
       "4                             Bihar                       32   \n",
       "5                         Bihar****                        0   \n",
       "6  Cases being reassigned to states                        0   \n",
       "7                        Chandigarh                       50   \n",
       "8                      Chhattisgarh                       25   \n",
       "9            Dadra and Nagar Haveli                        0   \n",
       "\n",
       "   ConfirmedForeignNational  \n",
       "0                         0  \n",
       "1                         0  \n",
       "2                         0  \n",
       "3                         0  \n",
       "4                         0  \n",
       "5                         0  \n",
       "6                         0  \n",
       "7                         0  \n",
       "8                         0  \n",
       "9                         0  "
      ]
     },
     "execution_count": 13,
     "metadata": {},
     "output_type": "execute_result"
    }
   ],
   "source": [
    "covid_sort.head(10)"
   ]
  },
  {
   "cell_type": "code",
   "execution_count": 14,
   "id": "2daa90ed",
   "metadata": {
    "execution": {
     "iopub.execute_input": "2022-04-26T14:23:25.911299Z",
     "iopub.status.busy": "2022-04-26T14:23:25.910732Z",
     "iopub.status.idle": "2022-04-26T14:23:25.922153Z",
     "shell.execute_reply": "2022-04-26T14:23:25.921356Z"
    },
    "papermill": {
     "duration": 0.084716,
     "end_time": "2022-04-26T14:23:25.924221",
     "exception": false,
     "start_time": "2022-04-26T14:23:25.839505",
     "status": "completed"
    },
    "tags": []
   },
   "outputs": [
    {
     "data": {
      "text/html": [
       "<div>\n",
       "<style scoped>\n",
       "    .dataframe tbody tr th:only-of-type {\n",
       "        vertical-align: middle;\n",
       "    }\n",
       "\n",
       "    .dataframe tbody tr th {\n",
       "        vertical-align: top;\n",
       "    }\n",
       "\n",
       "    .dataframe thead th {\n",
       "        text-align: right;\n",
       "    }\n",
       "</style>\n",
       "<table border=\"1\" class=\"dataframe\">\n",
       "  <thead>\n",
       "    <tr style=\"text-align: right;\">\n",
       "      <th></th>\n",
       "      <th>State/UnionTerritory</th>\n",
       "      <th>ConfirmedIndianNational</th>\n",
       "      <th>ConfirmedForeignNational</th>\n",
       "    </tr>\n",
       "  </thead>\n",
       "  <tbody>\n",
       "    <tr>\n",
       "      <th>0</th>\n",
       "      <td>Maharashtra</td>\n",
       "      <td>1111</td>\n",
       "      <td>36</td>\n",
       "    </tr>\n",
       "    <tr>\n",
       "      <th>1</th>\n",
       "      <td>Kerala</td>\n",
       "      <td>1091</td>\n",
       "      <td>69</td>\n",
       "    </tr>\n",
       "    <tr>\n",
       "      <th>2</th>\n",
       "      <td>Uttar Pradesh</td>\n",
       "      <td>462</td>\n",
       "      <td>17</td>\n",
       "    </tr>\n",
       "    <tr>\n",
       "      <th>3</th>\n",
       "      <td>Karnataka</td>\n",
       "      <td>405</td>\n",
       "      <td>0</td>\n",
       "    </tr>\n",
       "    <tr>\n",
       "      <th>4</th>\n",
       "      <td>Delhi</td>\n",
       "      <td>352</td>\n",
       "      <td>11</td>\n",
       "    </tr>\n",
       "    <tr>\n",
       "      <th>5</th>\n",
       "      <td>Rajasthan</td>\n",
       "      <td>296</td>\n",
       "      <td>135</td>\n",
       "    </tr>\n",
       "    <tr>\n",
       "      <th>6</th>\n",
       "      <td>Gujarat</td>\n",
       "      <td>256</td>\n",
       "      <td>5</td>\n",
       "    </tr>\n",
       "    <tr>\n",
       "      <th>7</th>\n",
       "      <td>Telengana</td>\n",
       "      <td>246</td>\n",
       "      <td>97</td>\n",
       "    </tr>\n",
       "    <tr>\n",
       "      <th>8</th>\n",
       "      <td>Punjab</td>\n",
       "      <td>231</td>\n",
       "      <td>0</td>\n",
       "    </tr>\n",
       "    <tr>\n",
       "      <th>9</th>\n",
       "      <td>Ladakh</td>\n",
       "      <td>162</td>\n",
       "      <td>0</td>\n",
       "    </tr>\n",
       "  </tbody>\n",
       "</table>\n",
       "</div>"
      ],
      "text/plain": [
       "  State/UnionTerritory  ConfirmedIndianNational  ConfirmedForeignNational\n",
       "0          Maharashtra                     1111                        36\n",
       "1               Kerala                     1091                        69\n",
       "2        Uttar Pradesh                      462                        17\n",
       "3            Karnataka                      405                         0\n",
       "4                Delhi                      352                        11\n",
       "5            Rajasthan                      296                       135\n",
       "6              Gujarat                      256                         5\n",
       "7            Telengana                      246                        97\n",
       "8               Punjab                      231                         0\n",
       "9               Ladakh                      162                         0"
      ]
     },
     "execution_count": 14,
     "metadata": {},
     "output_type": "execute_result"
    }
   ],
   "source": [
    "covid_sort_confirmed = covid_sort.sort_values(by='ConfirmedIndianNational',ascending=False).reset_index(drop=True)\n",
    "covid_sort_confirmed.head(10)"
   ]
  },
  {
   "cell_type": "code",
   "execution_count": 15,
   "id": "f56915e5",
   "metadata": {
    "execution": {
     "iopub.execute_input": "2022-04-26T14:23:26.069014Z",
     "iopub.status.busy": "2022-04-26T14:23:26.068228Z",
     "iopub.status.idle": "2022-04-26T14:23:26.799513Z",
     "shell.execute_reply": "2022-04-26T14:23:26.798697Z"
    },
    "papermill": {
     "duration": 0.806533,
     "end_time": "2022-04-26T14:23:26.802000",
     "exception": false,
     "start_time": "2022-04-26T14:23:25.995467",
     "status": "completed"
    },
    "tags": []
   },
   "outputs": [],
   "source": [
    "import seaborn as sns"
   ]
  },
  {
   "cell_type": "code",
   "execution_count": 16,
   "id": "834483c3",
   "metadata": {
    "execution": {
     "iopub.execute_input": "2022-04-26T14:23:26.946212Z",
     "iopub.status.busy": "2022-04-26T14:23:26.945931Z",
     "iopub.status.idle": "2022-04-26T14:23:27.249318Z",
     "shell.execute_reply": "2022-04-26T14:23:27.248417Z"
    },
    "papermill": {
     "duration": 0.376613,
     "end_time": "2022-04-26T14:23:27.251628",
     "exception": false,
     "start_time": "2022-04-26T14:23:26.875015",
     "status": "completed"
    },
    "tags": []
   },
   "outputs": [
    {
     "data": {
      "text/plain": [
       "<AxesSubplot:xlabel='State/UnionTerritory', ylabel='ConfirmedIndianNational'>"
      ]
     },
     "execution_count": 16,
     "metadata": {},
     "output_type": "execute_result"
    },
    {
     "data": {
      "image/png": "[encoded data removed]",
      "text/plain": [
       "<Figure size 1224x432 with 1 Axes>"
      ]
     },
     "metadata": {},
     "output_type": "display_data"
    }
   ],
   "source": [
    "sns.set(rc={'figure.figsize':(17,6)})\n",
    "sns.barplot(x='State/UnionTerritory',y='ConfirmedIndianNational',data=covid_sort_confirmed[:10])"
   ]
  },
  {
   "cell_type": "code",
   "execution_count": 17,
   "id": "0e7577b5",
   "metadata": {
    "execution": {
     "iopub.execute_input": "2022-04-26T14:23:27.396623Z",
     "iopub.status.busy": "2022-04-26T14:23:27.396348Z",
     "iopub.status.idle": "2022-04-26T14:23:27.658919Z",
     "shell.execute_reply": "2022-04-26T14:23:27.657905Z"
    },
    "papermill": {
     "duration": 0.337979,
     "end_time": "2022-04-26T14:23:27.661132",
     "exception": false,
     "start_time": "2022-04-26T14:23:27.323153",
     "status": "completed"
    },
    "tags": []
   },
   "outputs": [
    {
     "data": {
      "text/plain": [
       "<AxesSubplot:xlabel='State/UnionTerritory', ylabel='ConfirmedForeignNational'>"
      ]
     },
     "execution_count": 17,
     "metadata": {},
     "output_type": "execute_result"
    },
    {
     "data": {
      "image/png": "[encoded data removed]",
      "text/plain": [
       "<Figure size 1224x432 with 1 Axes>"
      ]
     },
     "metadata": {},
     "output_type": "display_data"
    }
   ],
   "source": [
    "covid_sort_foreign = covid_sort.sort_values(by='ConfirmedForeignNational',ascending=False).reset_index(drop=True)\n",
    "sns.set(rc={'figure.figsize':(17,6)})\n",
    "sns.barplot(x='State/UnionTerritory',y='ConfirmedForeignNational',data=covid_sort_foreign[:10])"
   ]
  },
  {
   "cell_type": "code",
   "execution_count": 18,
   "id": "d1180b9b",
   "metadata": {
    "execution": {
     "iopub.execute_input": "2022-04-26T14:23:27.809144Z",
     "iopub.status.busy": "2022-04-26T14:23:27.808180Z",
     "iopub.status.idle": "2022-04-26T14:23:28.074073Z",
     "shell.execute_reply": "2022-04-26T14:23:28.073474Z"
    },
    "papermill": {
     "duration": 0.341874,
     "end_time": "2022-04-26T14:23:28.075966",
     "exception": false,
     "start_time": "2022-04-26T14:23:27.734092",
     "status": "completed"
    },
    "tags": []
   },
   "outputs": [
    {
     "data": {
      "text/plain": [
       "<AxesSubplot:>"
      ]
     },
     "execution_count": 18,
     "metadata": {},
     "output_type": "execute_result"
    },
    {
     "data": {
      "image/png": "[encoded data removed]",
      "text/plain": [
       "<Figure size 720x720 with 2 Axes>"
      ]
     },
     "metadata": {},
     "output_type": "display_data"
    }
   ],
   "source": [
    "sns.set(rc={'figure.figsize':(10,10)})\n",
    "sns.heatmap(data=covid.corr())"
   ]
  },
  {
   "cell_type": "code",
   "execution_count": 19,
   "id": "14934a7a",
   "metadata": {
    "execution": {
     "iopub.execute_input": "2022-04-26T14:23:28.225995Z",
     "iopub.status.busy": "2022-04-26T14:23:28.225374Z",
     "iopub.status.idle": "2022-04-26T14:23:28.256026Z",
     "shell.execute_reply": "2022-04-26T14:23:28.255035Z"
    },
    "papermill": {
     "duration": 0.10889,
     "end_time": "2022-04-26T14:23:28.258763",
     "exception": false,
     "start_time": "2022-04-26T14:23:28.149873",
     "status": "completed"
    },
    "tags": []
   },
   "outputs": [],
   "source": [
    "covid = pd.read_csv('../input/covid19-in-india/covid_19_india.csv')"
   ]
  },
  {
   "cell_type": "code",
   "execution_count": 20,
   "id": "e5912893",
   "metadata": {
    "execution": {
     "iopub.execute_input": "2022-04-26T14:23:28.410663Z",
     "iopub.status.busy": "2022-04-26T14:23:28.410374Z",
     "iopub.status.idle": "2022-04-26T14:23:28.430264Z",
     "shell.execute_reply": "2022-04-26T14:23:28.429202Z"
    },
    "papermill": {
     "duration": 0.09859,
     "end_time": "2022-04-26T14:23:28.432613",
     "exception": false,
     "start_time": "2022-04-26T14:23:28.334023",
     "status": "completed"
    },
    "tags": []
   },
   "outputs": [
    {
     "data": {
      "text/html": [
       "<div>\n",
       "<style scoped>\n",
       "    .dataframe tbody tr th:only-of-type {\n",
       "        vertical-align: middle;\n",
       "    }\n",
       "\n",
       "    .dataframe tbody tr th {\n",
       "        vertical-align: top;\n",
       "    }\n",
       "\n",
       "    .dataframe thead th {\n",
       "        text-align: right;\n",
       "    }\n",
       "</style>\n",
       "<table border=\"1\" class=\"dataframe\">\n",
       "  <thead>\n",
       "    <tr style=\"text-align: right;\">\n",
       "      <th></th>\n",
       "      <th>Sno</th>\n",
       "      <th>Date</th>\n",
       "      <th>Time</th>\n",
       "      <th>State/UnionTerritory</th>\n",
       "      <th>ConfirmedIndianNational</th>\n",
       "      <th>ConfirmedForeignNational</th>\n",
       "      <th>Cured</th>\n",
       "      <th>Deaths</th>\n",
       "      <th>Confirmed</th>\n",
       "    </tr>\n",
       "  </thead>\n",
       "  <tbody>\n",
       "    <tr>\n",
       "      <th>0</th>\n",
       "      <td>1</td>\n",
       "      <td>2020-01-30</td>\n",
       "      <td>6:00 PM</td>\n",
       "      <td>Kerala</td>\n",
       "      <td>1</td>\n",
       "      <td>0</td>\n",
       "      <td>0</td>\n",
       "      <td>0</td>\n",
       "      <td>1</td>\n",
       "    </tr>\n",
       "    <tr>\n",
       "      <th>1</th>\n",
       "      <td>2</td>\n",
       "      <td>2020-01-31</td>\n",
       "      <td>6:00 PM</td>\n",
       "      <td>Kerala</td>\n",
       "      <td>1</td>\n",
       "      <td>0</td>\n",
       "      <td>0</td>\n",
       "      <td>0</td>\n",
       "      <td>1</td>\n",
       "    </tr>\n",
       "    <tr>\n",
       "      <th>2</th>\n",
       "      <td>3</td>\n",
       "      <td>2020-02-01</td>\n",
       "      <td>6:00 PM</td>\n",
       "      <td>Kerala</td>\n",
       "      <td>2</td>\n",
       "      <td>0</td>\n",
       "      <td>0</td>\n",
       "      <td>0</td>\n",
       "      <td>2</td>\n",
       "    </tr>\n",
       "    <tr>\n",
       "      <th>3</th>\n",
       "      <td>4</td>\n",
       "      <td>2020-02-02</td>\n",
       "      <td>6:00 PM</td>\n",
       "      <td>Kerala</td>\n",
       "      <td>3</td>\n",
       "      <td>0</td>\n",
       "      <td>0</td>\n",
       "      <td>0</td>\n",
       "      <td>3</td>\n",
       "    </tr>\n",
       "    <tr>\n",
       "      <th>4</th>\n",
       "      <td>5</td>\n",
       "      <td>2020-02-03</td>\n",
       "      <td>6:00 PM</td>\n",
       "      <td>Kerala</td>\n",
       "      <td>3</td>\n",
       "      <td>0</td>\n",
       "      <td>0</td>\n",
       "      <td>0</td>\n",
       "      <td>3</td>\n",
       "    </tr>\n",
       "    <tr>\n",
       "      <th>...</th>\n",
       "      <td>...</td>\n",
       "      <td>...</td>\n",
       "      <td>...</td>\n",
       "      <td>...</td>\n",
       "      <td>...</td>\n",
       "      <td>...</td>\n",
       "      <td>...</td>\n",
       "      <td>...</td>\n",
       "      <td>...</td>\n",
       "    </tr>\n",
       "    <tr>\n",
       "      <th>18105</th>\n",
       "      <td>18106</td>\n",
       "      <td>2021-08-11</td>\n",
       "      <td>8:00 AM</td>\n",
       "      <td>Telangana</td>\n",
       "      <td>-</td>\n",
       "      <td>-</td>\n",
       "      <td>638410</td>\n",
       "      <td>3831</td>\n",
       "      <td>650353</td>\n",
       "    </tr>\n",
       "    <tr>\n",
       "      <th>18106</th>\n",
       "      <td>18107</td>\n",
       "      <td>2021-08-11</td>\n",
       "      <td>8:00 AM</td>\n",
       "      <td>Tripura</td>\n",
       "      <td>-</td>\n",
       "      <td>-</td>\n",
       "      <td>77811</td>\n",
       "      <td>773</td>\n",
       "      <td>80660</td>\n",
       "    </tr>\n",
       "    <tr>\n",
       "      <th>18107</th>\n",
       "      <td>18108</td>\n",
       "      <td>2021-08-11</td>\n",
       "      <td>8:00 AM</td>\n",
       "      <td>Uttarakhand</td>\n",
       "      <td>-</td>\n",
       "      <td>-</td>\n",
       "      <td>334650</td>\n",
       "      <td>7368</td>\n",
       "      <td>342462</td>\n",
       "    </tr>\n",
       "    <tr>\n",
       "      <th>18108</th>\n",
       "      <td>18109</td>\n",
       "      <td>2021-08-11</td>\n",
       "      <td>8:00 AM</td>\n",
       "      <td>Uttar Pradesh</td>\n",
       "      <td>-</td>\n",
       "      <td>-</td>\n",
       "      <td>1685492</td>\n",
       "      <td>22775</td>\n",
       "      <td>1708812</td>\n",
       "    </tr>\n",
       "    <tr>\n",
       "      <th>18109</th>\n",
       "      <td>18110</td>\n",
       "      <td>2021-08-11</td>\n",
       "      <td>8:00 AM</td>\n",
       "      <td>West Bengal</td>\n",
       "      <td>-</td>\n",
       "      <td>-</td>\n",
       "      <td>1506532</td>\n",
       "      <td>18252</td>\n",
       "      <td>1534999</td>\n",
       "    </tr>\n",
       "  </tbody>\n",
       "</table>\n",
       "<p>18110 rows × 9 columns</p>\n",
       "</div>"
      ],
      "text/plain": [
       "         Sno        Date     Time State/UnionTerritory  \\\n",
       "0          1  2020-01-30  6:00 PM               Kerala   \n",
       "1          2  2020-01-31  6:00 PM               Kerala   \n",
       "2          3  2020-02-01  6:00 PM               Kerala   \n",
       "3          4  2020-02-02  6:00 PM               Kerala   \n",
       "4          5  2020-02-03  6:00 PM               Kerala   \n",
       "...      ...         ...      ...                  ...   \n",
       "18105  18106  2021-08-11  8:00 AM            Telangana   \n",
       "18106  18107  2021-08-11  8:00 AM              Tripura   \n",
       "18107  18108  2021-08-11  8:00 AM          Uttarakhand   \n",
       "18108  18109  2021-08-11  8:00 AM        Uttar Pradesh   \n",
       "18109  18110  2021-08-11  8:00 AM          West Bengal   \n",
       "\n",
       "      ConfirmedIndianNational ConfirmedForeignNational    Cured  Deaths  \\\n",
       "0                           1                        0        0       0   \n",
       "1                           1                        0        0       0   \n",
       "2                           2                        0        0       0   \n",
       "3                           3                        0        0       0   \n",
       "4                           3                        0        0       0   \n",
       "...                       ...                      ...      ...     ...   \n",
       "18105                       -                        -   638410    3831   \n",
       "18106                       -                        -    77811     773   \n",
       "18107                       -                        -   334650    7368   \n",
       "18108                       -                        -  1685492   22775   \n",
       "18109                       -                        -  1506532   18252   \n",
       "\n",
       "       Confirmed  \n",
       "0              1  \n",
       "1              1  \n",
       "2              2  \n",
       "3              3  \n",
       "4              3  \n",
       "...          ...  \n",
       "18105     650353  \n",
       "18106      80660  \n",
       "18107     342462  \n",
       "18108    1708812  \n",
       "18109    1534999  \n",
       "\n",
       "[18110 rows x 9 columns]"
      ]
     },
     "execution_count": 20,
     "metadata": {},
     "output_type": "execute_result"
    }
   ],
   "source": [
    "covid"
   ]
  },
  {
   "cell_type": "code",
   "execution_count": 21,
   "id": "622c0c31",
   "metadata": {
    "execution": {
     "iopub.execute_input": "2022-04-26T14:23:28.584403Z",
     "iopub.status.busy": "2022-04-26T14:23:28.583848Z",
     "iopub.status.idle": "2022-04-26T14:23:28.590400Z",
     "shell.execute_reply": "2022-04-26T14:23:28.589838Z"
    },
    "papermill": {
     "duration": 0.084047,
     "end_time": "2022-04-26T14:23:28.592355",
     "exception": false,
     "start_time": "2022-04-26T14:23:28.508308",
     "status": "completed"
    },
    "tags": []
   },
   "outputs": [
    {
     "data": {
      "text/plain": [
       "Sno                          int64\n",
       "Date                        object\n",
       "Time                        object\n",
       "State/UnionTerritory        object\n",
       "ConfirmedIndianNational     object\n",
       "ConfirmedForeignNational    object\n",
       "Cured                        int64\n",
       "Deaths                       int64\n",
       "Confirmed                    int64\n",
       "dtype: object"
      ]
     },
     "execution_count": 21,
     "metadata": {},
     "output_type": "execute_result"
    }
   ],
   "source": [
    "covid.dtypes"
   ]
  },
  {
   "cell_type": "code",
   "execution_count": 22,
   "id": "39659788",
   "metadata": {
    "execution": {
     "iopub.execute_input": "2022-04-26T14:23:28.743577Z",
     "iopub.status.busy": "2022-04-26T14:23:28.742788Z",
     "iopub.status.idle": "2022-04-26T14:23:28.754504Z",
     "shell.execute_reply": "2022-04-26T14:23:28.753874Z"
    },
    "papermill": {
     "duration": 0.089589,
     "end_time": "2022-04-26T14:23:28.756475",
     "exception": false,
     "start_time": "2022-04-26T14:23:28.666886",
     "status": "completed"
    },
    "tags": []
   },
   "outputs": [],
   "source": [
    "covid['DateTime'] = covid['Date']+'     '+covid['Time']"
   ]
  },
  {
   "cell_type": "code",
   "execution_count": 23,
   "id": "27125299",
   "metadata": {
    "execution": {
     "iopub.execute_input": "2022-04-26T14:23:28.907063Z",
     "iopub.status.busy": "2022-04-26T14:23:28.906781Z",
     "iopub.status.idle": "2022-04-26T14:23:28.922765Z",
     "shell.execute_reply": "2022-04-26T14:23:28.921912Z"
    },
    "papermill": {
     "duration": 0.093729,
     "end_time": "2022-04-26T14:23:28.925030",
     "exception": false,
     "start_time": "2022-04-26T14:23:28.831301",
     "status": "completed"
    },
    "tags": []
   },
   "outputs": [
    {
     "data": {
      "text/html": [
       "<div>\n",
       "<style scoped>\n",
       "    .dataframe tbody tr th:only-of-type {\n",
       "        vertical-align: middle;\n",
       "    }\n",
       "\n",
       "    .dataframe tbody tr th {\n",
       "        vertical-align: top;\n",
       "    }\n",
       "\n",
       "    .dataframe thead th {\n",
       "        text-align: right;\n",
       "    }\n",
       "</style>\n",
       "<table border=\"1\" class=\"dataframe\">\n",
       "  <thead>\n",
       "    <tr style=\"text-align: right;\">\n",
       "      <th></th>\n",
       "      <th>Sno</th>\n",
       "      <th>Date</th>\n",
       "      <th>Time</th>\n",
       "      <th>State/UnionTerritory</th>\n",
       "      <th>ConfirmedIndianNational</th>\n",
       "      <th>ConfirmedForeignNational</th>\n",
       "      <th>Cured</th>\n",
       "      <th>Deaths</th>\n",
       "      <th>Confirmed</th>\n",
       "      <th>DateTime</th>\n",
       "    </tr>\n",
       "  </thead>\n",
       "  <tbody>\n",
       "    <tr>\n",
       "      <th>0</th>\n",
       "      <td>1</td>\n",
       "      <td>2020-01-30</td>\n",
       "      <td>6:00 PM</td>\n",
       "      <td>Kerala</td>\n",
       "      <td>1</td>\n",
       "      <td>0</td>\n",
       "      <td>0</td>\n",
       "      <td>0</td>\n",
       "      <td>1</td>\n",
       "      <td>2020-01-30     6:00 PM</td>\n",
       "    </tr>\n",
       "    <tr>\n",
       "      <th>1</th>\n",
       "      <td>2</td>\n",
       "      <td>2020-01-31</td>\n",
       "      <td>6:00 PM</td>\n",
       "      <td>Kerala</td>\n",
       "      <td>1</td>\n",
       "      <td>0</td>\n",
       "      <td>0</td>\n",
       "      <td>0</td>\n",
       "      <td>1</td>\n",
       "      <td>2020-01-31     6:00 PM</td>\n",
       "    </tr>\n",
       "    <tr>\n",
       "      <th>2</th>\n",
       "      <td>3</td>\n",
       "      <td>2020-02-01</td>\n",
       "      <td>6:00 PM</td>\n",
       "      <td>Kerala</td>\n",
       "      <td>2</td>\n",
       "      <td>0</td>\n",
       "      <td>0</td>\n",
       "      <td>0</td>\n",
       "      <td>2</td>\n",
       "      <td>2020-02-01     6:00 PM</td>\n",
       "    </tr>\n",
       "    <tr>\n",
       "      <th>3</th>\n",
       "      <td>4</td>\n",
       "      <td>2020-02-02</td>\n",
       "      <td>6:00 PM</td>\n",
       "      <td>Kerala</td>\n",
       "      <td>3</td>\n",
       "      <td>0</td>\n",
       "      <td>0</td>\n",
       "      <td>0</td>\n",
       "      <td>3</td>\n",
       "      <td>2020-02-02     6:00 PM</td>\n",
       "    </tr>\n",
       "    <tr>\n",
       "      <th>4</th>\n",
       "      <td>5</td>\n",
       "      <td>2020-02-03</td>\n",
       "      <td>6:00 PM</td>\n",
       "      <td>Kerala</td>\n",
       "      <td>3</td>\n",
       "      <td>0</td>\n",
       "      <td>0</td>\n",
       "      <td>0</td>\n",
       "      <td>3</td>\n",
       "      <td>2020-02-03     6:00 PM</td>\n",
       "    </tr>\n",
       "    <tr>\n",
       "      <th>5</th>\n",
       "      <td>6</td>\n",
       "      <td>2020-02-04</td>\n",
       "      <td>6:00 PM</td>\n",
       "      <td>Kerala</td>\n",
       "      <td>3</td>\n",
       "      <td>0</td>\n",
       "      <td>0</td>\n",
       "      <td>0</td>\n",
       "      <td>3</td>\n",
       "      <td>2020-02-04     6:00 PM</td>\n",
       "    </tr>\n",
       "    <tr>\n",
       "      <th>6</th>\n",
       "      <td>7</td>\n",
       "      <td>2020-02-05</td>\n",
       "      <td>6:00 PM</td>\n",
       "      <td>Kerala</td>\n",
       "      <td>3</td>\n",
       "      <td>0</td>\n",
       "      <td>0</td>\n",
       "      <td>0</td>\n",
       "      <td>3</td>\n",
       "      <td>2020-02-05     6:00 PM</td>\n",
       "    </tr>\n",
       "    <tr>\n",
       "      <th>7</th>\n",
       "      <td>8</td>\n",
       "      <td>2020-02-06</td>\n",
       "      <td>6:00 PM</td>\n",
       "      <td>Kerala</td>\n",
       "      <td>3</td>\n",
       "      <td>0</td>\n",
       "      <td>0</td>\n",
       "      <td>0</td>\n",
       "      <td>3</td>\n",
       "      <td>2020-02-06     6:00 PM</td>\n",
       "    </tr>\n",
       "    <tr>\n",
       "      <th>8</th>\n",
       "      <td>9</td>\n",
       "      <td>2020-02-07</td>\n",
       "      <td>6:00 PM</td>\n",
       "      <td>Kerala</td>\n",
       "      <td>3</td>\n",
       "      <td>0</td>\n",
       "      <td>0</td>\n",
       "      <td>0</td>\n",
       "      <td>3</td>\n",
       "      <td>2020-02-07     6:00 PM</td>\n",
       "    </tr>\n",
       "    <tr>\n",
       "      <th>9</th>\n",
       "      <td>10</td>\n",
       "      <td>2020-02-08</td>\n",
       "      <td>6:00 PM</td>\n",
       "      <td>Kerala</td>\n",
       "      <td>3</td>\n",
       "      <td>0</td>\n",
       "      <td>0</td>\n",
       "      <td>0</td>\n",
       "      <td>3</td>\n",
       "      <td>2020-02-08     6:00 PM</td>\n",
       "    </tr>\n",
       "  </tbody>\n",
       "</table>\n",
       "</div>"
      ],
      "text/plain": [
       "   Sno        Date     Time State/UnionTerritory ConfirmedIndianNational  \\\n",
       "0    1  2020-01-30  6:00 PM               Kerala                       1   \n",
       "1    2  2020-01-31  6:00 PM               Kerala                       1   \n",
       "2    3  2020-02-01  6:00 PM               Kerala                       2   \n",
       "3    4  2020-02-02  6:00 PM               Kerala                       3   \n",
       "4    5  2020-02-03  6:00 PM               Kerala                       3   \n",
       "5    6  2020-02-04  6:00 PM               Kerala                       3   \n",
       "6    7  2020-02-05  6:00 PM               Kerala                       3   \n",
       "7    8  2020-02-06  6:00 PM               Kerala                       3   \n",
       "8    9  2020-02-07  6:00 PM               Kerala                       3   \n",
       "9   10  2020-02-08  6:00 PM               Kerala                       3   \n",
       "\n",
       "  ConfirmedForeignNational  Cured  Deaths  Confirmed                DateTime  \n",
       "0                        0      0       0          1  2020-01-30     6:00 PM  \n",
       "1                        0      0       0          1  2020-01-31     6:00 PM  \n",
       "2                        0      0       0          2  2020-02-01     6:00 PM  \n",
       "3                        0      0       0          3  2020-02-02     6:00 PM  \n",
       "4                        0      0       0          3  2020-02-03     6:00 PM  \n",
       "5                        0      0       0          3  2020-02-04     6:00 PM  \n",
       "6                        0      0       0          3  2020-02-05     6:00 PM  \n",
       "7                        0      0       0          3  2020-02-06     6:00 PM  \n",
       "8                        0      0       0          3  2020-02-07     6:00 PM  \n",
       "9                        0      0       0          3  2020-02-08     6:00 PM  "
      ]
     },
     "execution_count": 23,
     "metadata": {},
     "output_type": "execute_result"
    }
   ],
   "source": [
    "covid.head(10)"
   ]
  },
  {
   "cell_type": "code",
   "execution_count": 24,
   "id": "3976b0ac",
   "metadata": {
    "execution": {
     "iopub.execute_input": "2022-04-26T14:23:29.078551Z",
     "iopub.status.busy": "2022-04-26T14:23:29.078137Z",
     "iopub.status.idle": "2022-04-26T14:23:29.098767Z",
     "shell.execute_reply": "2022-04-26T14:23:29.097913Z"
    },
    "papermill": {
     "duration": 0.100225,
     "end_time": "2022-04-26T14:23:29.100817",
     "exception": false,
     "start_time": "2022-04-26T14:23:29.000592",
     "status": "completed"
    },
    "tags": []
   },
   "outputs": [
    {
     "data": {
      "text/html": [
       "<div>\n",
       "<style scoped>\n",
       "    .dataframe tbody tr th:only-of-type {\n",
       "        vertical-align: middle;\n",
       "    }\n",
       "\n",
       "    .dataframe tbody tr th {\n",
       "        vertical-align: top;\n",
       "    }\n",
       "\n",
       "    .dataframe thead th {\n",
       "        text-align: right;\n",
       "    }\n",
       "</style>\n",
       "<table border=\"1\" class=\"dataframe\">\n",
       "  <thead>\n",
       "    <tr style=\"text-align: right;\">\n",
       "      <th></th>\n",
       "      <th>DateTime</th>\n",
       "      <th>Cured</th>\n",
       "      <th>Deaths</th>\n",
       "      <th>Confirmed</th>\n",
       "    </tr>\n",
       "  </thead>\n",
       "  <tbody>\n",
       "    <tr>\n",
       "      <th>0</th>\n",
       "      <td>2020-01-30     6:00 PM</td>\n",
       "      <td>0</td>\n",
       "      <td>0</td>\n",
       "      <td>1</td>\n",
       "    </tr>\n",
       "    <tr>\n",
       "      <th>1</th>\n",
       "      <td>2020-01-31     6:00 PM</td>\n",
       "      <td>0</td>\n",
       "      <td>0</td>\n",
       "      <td>1</td>\n",
       "    </tr>\n",
       "    <tr>\n",
       "      <th>2</th>\n",
       "      <td>2020-02-01     6:00 PM</td>\n",
       "      <td>0</td>\n",
       "      <td>0</td>\n",
       "      <td>2</td>\n",
       "    </tr>\n",
       "    <tr>\n",
       "      <th>3</th>\n",
       "      <td>2020-02-02     6:00 PM</td>\n",
       "      <td>0</td>\n",
       "      <td>0</td>\n",
       "      <td>3</td>\n",
       "    </tr>\n",
       "    <tr>\n",
       "      <th>4</th>\n",
       "      <td>2020-02-03     6:00 PM</td>\n",
       "      <td>0</td>\n",
       "      <td>0</td>\n",
       "      <td>3</td>\n",
       "    </tr>\n",
       "    <tr>\n",
       "      <th>...</th>\n",
       "      <td>...</td>\n",
       "      <td>...</td>\n",
       "      <td>...</td>\n",
       "      <td>...</td>\n",
       "    </tr>\n",
       "    <tr>\n",
       "      <th>555</th>\n",
       "      <td>2021-08-07     8:00 AM</td>\n",
       "      <td>31055861</td>\n",
       "      <td>427371</td>\n",
       "      <td>31895385</td>\n",
       "    </tr>\n",
       "    <tr>\n",
       "      <th>556</th>\n",
       "      <td>2021-08-08     8:00 AM</td>\n",
       "      <td>31099771</td>\n",
       "      <td>427862</td>\n",
       "      <td>31934455</td>\n",
       "    </tr>\n",
       "    <tr>\n",
       "      <th>557</th>\n",
       "      <td>2021-08-09     8:00 AM</td>\n",
       "      <td>31139457</td>\n",
       "      <td>428309</td>\n",
       "      <td>31969954</td>\n",
       "    </tr>\n",
       "    <tr>\n",
       "      <th>558</th>\n",
       "      <td>2021-08-10     8:00 AM</td>\n",
       "      <td>31180968</td>\n",
       "      <td>428682</td>\n",
       "      <td>31998158</td>\n",
       "    </tr>\n",
       "    <tr>\n",
       "      <th>559</th>\n",
       "      <td>2021-08-11     8:00 AM</td>\n",
       "      <td>31220981</td>\n",
       "      <td>429179</td>\n",
       "      <td>32036511</td>\n",
       "    </tr>\n",
       "  </tbody>\n",
       "</table>\n",
       "<p>560 rows × 4 columns</p>\n",
       "</div>"
      ],
      "text/plain": [
       "                   DateTime     Cured  Deaths  Confirmed\n",
       "0    2020-01-30     6:00 PM         0       0          1\n",
       "1    2020-01-31     6:00 PM         0       0          1\n",
       "2    2020-02-01     6:00 PM         0       0          2\n",
       "3    2020-02-02     6:00 PM         0       0          3\n",
       "4    2020-02-03     6:00 PM         0       0          3\n",
       "..                      ...       ...     ...        ...\n",
       "555  2021-08-07     8:00 AM  31055861  427371   31895385\n",
       "556  2021-08-08     8:00 AM  31099771  427862   31934455\n",
       "557  2021-08-09     8:00 AM  31139457  428309   31969954\n",
       "558  2021-08-10     8:00 AM  31180968  428682   31998158\n",
       "559  2021-08-11     8:00 AM  31220981  429179   32036511\n",
       "\n",
       "[560 rows x 4 columns]"
      ]
     },
     "execution_count": 24,
     "metadata": {},
     "output_type": "execute_result"
    }
   ],
   "source": [
    "covid_time = covid.groupby(['DateTime'])['Cured','Deaths','Confirmed'].sum().reset_index()\n",
    "covid_time"
   ]
  },
  {
   "cell_type": "code",
   "execution_count": 25,
   "id": "15ca2c4a",
   "metadata": {
    "execution": {
     "iopub.execute_input": "2022-04-26T14:23:29.258258Z",
     "iopub.status.busy": "2022-04-26T14:23:29.257842Z",
     "iopub.status.idle": "2022-04-26T14:23:29.264386Z",
     "shell.execute_reply": "2022-04-26T14:23:29.263745Z"
    },
    "papermill": {
     "duration": 0.087477,
     "end_time": "2022-04-26T14:23:29.266242",
     "exception": false,
     "start_time": "2022-04-26T14:23:29.178765",
     "status": "completed"
    },
    "tags": []
   },
   "outputs": [
    {
     "data": {
      "text/plain": [
       "DateTime     object\n",
       "Cured         int64\n",
       "Deaths        int64\n",
       "Confirmed     int64\n",
       "dtype: object"
      ]
     },
     "execution_count": 25,
     "metadata": {},
     "output_type": "execute_result"
    }
   ],
   "source": [
    "covid_time.dtypes"
   ]
  },
  {
   "cell_type": "code",
   "execution_count": 26,
   "id": "21d51957",
   "metadata": {
    "execution": {
     "iopub.execute_input": "2022-04-26T14:23:29.424929Z",
     "iopub.status.busy": "2022-04-26T14:23:29.424451Z",
     "iopub.status.idle": "2022-04-26T14:23:29.515733Z",
     "shell.execute_reply": "2022-04-26T14:23:29.514848Z"
    },
    "papermill": {
     "duration": 0.172568,
     "end_time": "2022-04-26T14:23:29.518662",
     "exception": false,
     "start_time": "2022-04-26T14:23:29.346094",
     "status": "completed"
    },
    "tags": []
   },
   "outputs": [],
   "source": [
    "covid_time['DateTime'] = pd.to_datetime(covid_time['DateTime'])"
   ]
  },
  {
   "cell_type": "code",
   "execution_count": 27,
   "id": "bda70e32",
   "metadata": {
    "execution": {
     "iopub.execute_input": "2022-04-26T14:23:29.675426Z",
     "iopub.status.busy": "2022-04-26T14:23:29.675159Z",
     "iopub.status.idle": "2022-04-26T14:23:29.685928Z",
     "shell.execute_reply": "2022-04-26T14:23:29.685036Z"
    },
    "papermill": {
     "duration": 0.09251,
     "end_time": "2022-04-26T14:23:29.688075",
     "exception": false,
     "start_time": "2022-04-26T14:23:29.595565",
     "status": "completed"
    },
    "tags": []
   },
   "outputs": [
    {
     "data": {
      "text/html": [
       "<div>\n",
       "<style scoped>\n",
       "    .dataframe tbody tr th:only-of-type {\n",
       "        vertical-align: middle;\n",
       "    }\n",
       "\n",
       "    .dataframe tbody tr th {\n",
       "        vertical-align: top;\n",
       "    }\n",
       "\n",
       "    .dataframe thead th {\n",
       "        text-align: right;\n",
       "    }\n",
       "</style>\n",
       "<table border=\"1\" class=\"dataframe\">\n",
       "  <thead>\n",
       "    <tr style=\"text-align: right;\">\n",
       "      <th></th>\n",
       "      <th>DateTime</th>\n",
       "      <th>Cured</th>\n",
       "      <th>Deaths</th>\n",
       "      <th>Confirmed</th>\n",
       "    </tr>\n",
       "  </thead>\n",
       "  <tbody>\n",
       "    <tr>\n",
       "      <th>0</th>\n",
       "      <td>2020-01-30 18:00:00</td>\n",
       "      <td>0</td>\n",
       "      <td>0</td>\n",
       "      <td>1</td>\n",
       "    </tr>\n",
       "    <tr>\n",
       "      <th>1</th>\n",
       "      <td>2020-01-31 18:00:00</td>\n",
       "      <td>0</td>\n",
       "      <td>0</td>\n",
       "      <td>1</td>\n",
       "    </tr>\n",
       "    <tr>\n",
       "      <th>2</th>\n",
       "      <td>2020-02-01 18:00:00</td>\n",
       "      <td>0</td>\n",
       "      <td>0</td>\n",
       "      <td>2</td>\n",
       "    </tr>\n",
       "    <tr>\n",
       "      <th>3</th>\n",
       "      <td>2020-02-02 18:00:00</td>\n",
       "      <td>0</td>\n",
       "      <td>0</td>\n",
       "      <td>3</td>\n",
       "    </tr>\n",
       "    <tr>\n",
       "      <th>4</th>\n",
       "      <td>2020-02-03 18:00:00</td>\n",
       "      <td>0</td>\n",
       "      <td>0</td>\n",
       "      <td>3</td>\n",
       "    </tr>\n",
       "    <tr>\n",
       "      <th>5</th>\n",
       "      <td>2020-02-04 18:00:00</td>\n",
       "      <td>0</td>\n",
       "      <td>0</td>\n",
       "      <td>3</td>\n",
       "    </tr>\n",
       "    <tr>\n",
       "      <th>6</th>\n",
       "      <td>2020-02-05 18:00:00</td>\n",
       "      <td>0</td>\n",
       "      <td>0</td>\n",
       "      <td>3</td>\n",
       "    </tr>\n",
       "    <tr>\n",
       "      <th>7</th>\n",
       "      <td>2020-02-06 18:00:00</td>\n",
       "      <td>0</td>\n",
       "      <td>0</td>\n",
       "      <td>3</td>\n",
       "    </tr>\n",
       "    <tr>\n",
       "      <th>8</th>\n",
       "      <td>2020-02-07 18:00:00</td>\n",
       "      <td>0</td>\n",
       "      <td>0</td>\n",
       "      <td>3</td>\n",
       "    </tr>\n",
       "    <tr>\n",
       "      <th>9</th>\n",
       "      <td>2020-02-08 18:00:00</td>\n",
       "      <td>0</td>\n",
       "      <td>0</td>\n",
       "      <td>3</td>\n",
       "    </tr>\n",
       "  </tbody>\n",
       "</table>\n",
       "</div>"
      ],
      "text/plain": [
       "             DateTime  Cured  Deaths  Confirmed\n",
       "0 2020-01-30 18:00:00      0       0          1\n",
       "1 2020-01-31 18:00:00      0       0          1\n",
       "2 2020-02-01 18:00:00      0       0          2\n",
       "3 2020-02-02 18:00:00      0       0          3\n",
       "4 2020-02-03 18:00:00      0       0          3\n",
       "5 2020-02-04 18:00:00      0       0          3\n",
       "6 2020-02-05 18:00:00      0       0          3\n",
       "7 2020-02-06 18:00:00      0       0          3\n",
       "8 2020-02-07 18:00:00      0       0          3\n",
       "9 2020-02-08 18:00:00      0       0          3"
      ]
     },
     "execution_count": 27,
     "metadata": {},
     "output_type": "execute_result"
    }
   ],
   "source": [
    "covid_time.head(10)"
   ]
  },
  {
   "cell_type": "code",
   "execution_count": 28,
   "id": "d58543ed",
   "metadata": {
    "execution": {
     "iopub.execute_input": "2022-04-26T14:23:29.845541Z",
     "iopub.status.busy": "2022-04-26T14:23:29.845230Z",
     "iopub.status.idle": "2022-04-26T14:24:01.220579Z",
     "shell.execute_reply": "2022-04-26T14:24:01.219937Z"
    },
    "papermill": {
     "duration": 31.534768,
     "end_time": "2022-04-26T14:24:01.301476",
     "exception": false,
     "start_time": "2022-04-26T14:23:29.766708",
     "status": "completed"
    },
    "tags": []
   },
   "outputs": [
    {
     "data": {
      "text/plain": [
       "<AxesSubplot:xlabel='DateTime', ylabel='Confirmed'>"
      ]
     },
     "execution_count": 28,
     "metadata": {},
     "output_type": "execute_result"
    },
    {
     "data": {
      "image/png": "[encoded data removed]",
      "text/plain": [
       "<Figure size 1224x432 with 1 Axes>"
      ]
     },
     "metadata": {},
     "output_type": "display_data"
    }
   ],
   "source": [
    "sns.set(rc={'figure.figsize':(17,6)})\n",
    "sns.barplot(x='DateTime',y='Confirmed',data=covid_time)"
   ]
  },
  {
   "cell_type": "code",
   "execution_count": 29,
   "id": "e501c6b7",
   "metadata": {
    "execution": {
     "iopub.execute_input": "2022-04-26T14:24:01.462329Z",
     "iopub.status.busy": "2022-04-26T14:24:01.462017Z",
     "iopub.status.idle": "2022-04-26T14:24:32.653151Z",
     "shell.execute_reply": "2022-04-26T14:24:32.651680Z"
    },
    "papermill": {
     "duration": 31.356791,
     "end_time": "2022-04-26T14:24:32.737285",
     "exception": false,
     "start_time": "2022-04-26T14:24:01.380494",
     "status": "completed"
    },
    "tags": []
   },
   "outputs": [
    {
     "data": {
      "text/plain": [
       "<AxesSubplot:xlabel='DateTime', ylabel='Deaths'>"
      ]
     },
     "execution_count": 29,
     "metadata": {},
     "output_type": "execute_result"
    },
    {
     "data": {
      "image/png": "[encoded data removed]",
      "text/plain": [
       "<Figure size 1224x432 with 1 Axes>"
      ]
     },
     "metadata": {},
     "output_type": "display_data"
    }
   ],
   "source": [
    "sns.set(rc={'figure.figsize':(17,6)})\n",
    "sns.barplot(x='DateTime',y='Deaths',data=covid_time)"
   ]
  },
  {
   "cell_type": "code",
   "execution_count": 30,
   "id": "4fb202de",
   "metadata": {
    "execution": {
     "iopub.execute_input": "2022-04-26T14:24:32.902277Z",
     "iopub.status.busy": "2022-04-26T14:24:32.901698Z",
     "iopub.status.idle": "2022-04-26T14:25:03.959310Z",
     "shell.execute_reply": "2022-04-26T14:25:03.958450Z"
    },
    "papermill": {
     "duration": 31.224802,
     "end_time": "2022-04-26T14:25:04.045254",
     "exception": false,
     "start_time": "2022-04-26T14:24:32.820452",
     "status": "completed"
    },
    "tags": []
   },
   "outputs": [
    {
     "data": {
      "text/plain": [
       "<AxesSubplot:xlabel='DateTime', ylabel='Cured'>"
      ]
     },
     "execution_count": 30,
     "metadata": {},
     "output_type": "execute_result"
    },
    {
     "data": {
      "image/png": "[encoded data removed]",
      "text/plain": [
       "<Figure size 1224x432 with 1 Axes>"
      ]
     },
     "metadata": {},
     "output_type": "display_data"
    }
   ],
   "source": [
    "sns.set(rc={'figure.figsize':(17,6)})\n",
    "sns.barplot(x='DateTime',y='Cured',data=covid_time)"
   ]
  },
  {
   "cell_type": "code",
   "execution_count": 31,
   "id": "50f439a4",
   "metadata": {
    "execution": {
     "iopub.execute_input": "2022-04-26T14:25:04.218842Z",
     "iopub.status.busy": "2022-04-26T14:25:04.218372Z",
     "iopub.status.idle": "2022-04-26T14:25:04.504268Z",
     "shell.execute_reply": "2022-04-26T14:25:04.503314Z"
    },
    "papermill": {
     "duration": 0.377839,
     "end_time": "2022-04-26T14:25:04.506363",
     "exception": false,
     "start_time": "2022-04-26T14:25:04.128524",
     "status": "completed"
    },
    "tags": []
   },
   "outputs": [
    {
     "data": {
      "text/plain": [
       "<AxesSubplot:>"
      ]
     },
     "execution_count": 31,
     "metadata": {},
     "output_type": "execute_result"
    },
    {
     "data": {
      "image/png": "[encoded data removed]",
      "text/plain": [
       "<Figure size 1224x432 with 2 Axes>"
      ]
     },
     "metadata": {},
     "output_type": "display_data"
    }
   ],
   "source": [
    "sns.set(rc={'figure.figsize':(17,6)})\n",
    "sns.heatmap(data=covid.corr())"
   ]
  },
  {
   "cell_type": "code",
   "execution_count": 32,
   "id": "f94210e9",
   "metadata": {
    "execution": {
     "iopub.execute_input": "2022-04-26T14:25:04.672280Z",
     "iopub.status.busy": "2022-04-26T14:25:04.671690Z",
     "iopub.status.idle": "2022-04-26T14:25:04.872672Z",
     "shell.execute_reply": "2022-04-26T14:25:04.871737Z"
    },
    "papermill": {
     "duration": 0.287148,
     "end_time": "2022-04-26T14:25:04.875383",
     "exception": false,
     "start_time": "2022-04-26T14:25:04.588235",
     "status": "completed"
    },
    "tags": []
   },
   "outputs": [],
   "source": [
    "from fbprophet import Prophet"
   ]
  },
  {
   "cell_type": "code",
   "execution_count": 33,
   "id": "39568f04",
   "metadata": {
    "execution": {
     "iopub.execute_input": "2022-04-26T14:25:05.044293Z",
     "iopub.status.busy": "2022-04-26T14:25:05.044000Z",
     "iopub.status.idle": "2022-04-26T14:25:06.943964Z",
     "shell.execute_reply": "2022-04-26T14:25:06.943068Z"
    },
    "papermill": {
     "duration": 1.987033,
     "end_time": "2022-04-26T14:25:06.946458",
     "exception": false,
     "start_time": "2022-04-26T14:25:04.959425",
     "status": "completed"
    },
    "tags": []
   },
   "outputs": [],
   "source": [
    "fb=Prophet()"
   ]
  },
  {
   "cell_type": "code",
   "execution_count": 34,
   "id": "2b90c414",
   "metadata": {
    "execution": {
     "iopub.execute_input": "2022-04-26T14:25:07.116441Z",
     "iopub.status.busy": "2022-04-26T14:25:07.116166Z",
     "iopub.status.idle": "2022-04-26T14:25:07.121410Z",
     "shell.execute_reply": "2022-04-26T14:25:07.120470Z"
    },
    "papermill": {
     "duration": 0.092368,
     "end_time": "2022-04-26T14:25:07.123889",
     "exception": false,
     "start_time": "2022-04-26T14:25:07.031521",
     "status": "completed"
    },
    "tags": []
   },
   "outputs": [],
   "source": [
    "covid_time.rename(columns={'DateTime':'ds','Cured':'y'}, inplace=True)"
   ]
  },
  {
   "cell_type": "code",
   "execution_count": 35,
   "id": "79029b89",
   "metadata": {
    "execution": {
     "iopub.execute_input": "2022-04-26T14:25:07.299197Z",
     "iopub.status.busy": "2022-04-26T14:25:07.298914Z",
     "iopub.status.idle": "2022-04-26T14:25:07.310556Z",
     "shell.execute_reply": "2022-04-26T14:25:07.309624Z"
    },
    "papermill": {
     "duration": 0.102702,
     "end_time": "2022-04-26T14:25:07.312685",
     "exception": false,
     "start_time": "2022-04-26T14:25:07.209983",
     "status": "completed"
    },
    "tags": []
   },
   "outputs": [
    {
     "data": {
      "text/html": [
       "<div>\n",
       "<style scoped>\n",
       "    .dataframe tbody tr th:only-of-type {\n",
       "        vertical-align: middle;\n",
       "    }\n",
       "\n",
       "    .dataframe tbody tr th {\n",
       "        vertical-align: top;\n",
       "    }\n",
       "\n",
       "    .dataframe thead th {\n",
       "        text-align: right;\n",
       "    }\n",
       "</style>\n",
       "<table border=\"1\" class=\"dataframe\">\n",
       "  <thead>\n",
       "    <tr style=\"text-align: right;\">\n",
       "      <th></th>\n",
       "      <th>ds</th>\n",
       "      <th>y</th>\n",
       "      <th>Deaths</th>\n",
       "      <th>Confirmed</th>\n",
       "    </tr>\n",
       "  </thead>\n",
       "  <tbody>\n",
       "    <tr>\n",
       "      <th>0</th>\n",
       "      <td>2020-01-30 18:00:00</td>\n",
       "      <td>0</td>\n",
       "      <td>0</td>\n",
       "      <td>1</td>\n",
       "    </tr>\n",
       "    <tr>\n",
       "      <th>1</th>\n",
       "      <td>2020-01-31 18:00:00</td>\n",
       "      <td>0</td>\n",
       "      <td>0</td>\n",
       "      <td>1</td>\n",
       "    </tr>\n",
       "    <tr>\n",
       "      <th>2</th>\n",
       "      <td>2020-02-01 18:00:00</td>\n",
       "      <td>0</td>\n",
       "      <td>0</td>\n",
       "      <td>2</td>\n",
       "    </tr>\n",
       "    <tr>\n",
       "      <th>3</th>\n",
       "      <td>2020-02-02 18:00:00</td>\n",
       "      <td>0</td>\n",
       "      <td>0</td>\n",
       "      <td>3</td>\n",
       "    </tr>\n",
       "    <tr>\n",
       "      <th>4</th>\n",
       "      <td>2020-02-03 18:00:00</td>\n",
       "      <td>0</td>\n",
       "      <td>0</td>\n",
       "      <td>3</td>\n",
       "    </tr>\n",
       "    <tr>\n",
       "      <th>5</th>\n",
       "      <td>2020-02-04 18:00:00</td>\n",
       "      <td>0</td>\n",
       "      <td>0</td>\n",
       "      <td>3</td>\n",
       "    </tr>\n",
       "    <tr>\n",
       "      <th>6</th>\n",
       "      <td>2020-02-05 18:00:00</td>\n",
       "      <td>0</td>\n",
       "      <td>0</td>\n",
       "      <td>3</td>\n",
       "    </tr>\n",
       "    <tr>\n",
       "      <th>7</th>\n",
       "      <td>2020-02-06 18:00:00</td>\n",
       "      <td>0</td>\n",
       "      <td>0</td>\n",
       "      <td>3</td>\n",
       "    </tr>\n",
       "    <tr>\n",
       "      <th>8</th>\n",
       "      <td>2020-02-07 18:00:00</td>\n",
       "      <td>0</td>\n",
       "      <td>0</td>\n",
       "      <td>3</td>\n",
       "    </tr>\n",
       "    <tr>\n",
       "      <th>9</th>\n",
       "      <td>2020-02-08 18:00:00</td>\n",
       "      <td>0</td>\n",
       "      <td>0</td>\n",
       "      <td>3</td>\n",
       "    </tr>\n",
       "  </tbody>\n",
       "</table>\n",
       "</div>"
      ],
      "text/plain": [
       "                   ds  y  Deaths  Confirmed\n",
       "0 2020-01-30 18:00:00  0       0          1\n",
       "1 2020-01-31 18:00:00  0       0          1\n",
       "2 2020-02-01 18:00:00  0       0          2\n",
       "3 2020-02-02 18:00:00  0       0          3\n",
       "4 2020-02-03 18:00:00  0       0          3\n",
       "5 2020-02-04 18:00:00  0       0          3\n",
       "6 2020-02-05 18:00:00  0       0          3\n",
       "7 2020-02-06 18:00:00  0       0          3\n",
       "8 2020-02-07 18:00:00  0       0          3\n",
       "9 2020-02-08 18:00:00  0       0          3"
      ]
     },
     "execution_count": 35,
     "metadata": {},
     "output_type": "execute_result"
    }
   ],
   "source": [
    "covid_time.head(10)"
   ]
  },
  {
   "cell_type": "code",
   "execution_count": 36,
   "id": "b8cd25db",
   "metadata": {
    "execution": {
     "iopub.execute_input": "2022-04-26T14:25:07.498622Z",
     "iopub.status.busy": "2022-04-26T14:25:07.498251Z",
     "iopub.status.idle": "2022-04-26T14:25:07.860197Z",
     "shell.execute_reply": "2022-04-26T14:25:07.859124Z"
    },
    "papermill": {
     "duration": 0.465668,
     "end_time": "2022-04-26T14:25:07.862841",
     "exception": false,
     "start_time": "2022-04-26T14:25:07.397173",
     "status": "completed"
    },
    "tags": []
   },
   "outputs": [
    {
     "name": "stdout",
     "output_type": "stream",
     "text": [
      "Initial log joint probability = -18.8827\n",
      "    Iter      log prob        ||dx||      ||grad||       alpha      alpha0  # evals  Notes \n",
      "      99        1478.9     0.0385517       945.976        1.87       0.187      117   \n",
      "    Iter      log prob        ||dx||      ||grad||       alpha      alpha0  # evals  Notes \n",
      "     132       1490.47    0.00194704       254.226   1.917e-05       0.001      190  LS failed, Hessian reset \n",
      "     199       1499.76    0.00216027       226.799           1           1      269   \n",
      "    Iter      log prob        ||dx||      ||grad||       alpha      alpha0  # evals  Notes \n",
      "     299       1509.52     0.0014869       91.7693           1           1      393   \n",
      "    Iter      log prob        ||dx||      ||grad||       alpha      alpha0  # evals  Notes \n",
      "     399       1513.29    0.00705278       478.675      0.6291      0.6291      513   \n",
      "    Iter      log prob        ||dx||      ||grad||       alpha      alpha0  # evals  Notes \n",
      "     499       1518.33    0.00121955       116.445       1.888      0.1888      635   \n",
      "    Iter      log prob        ||dx||      ||grad||       alpha      alpha0  # evals  Notes \n",
      "     590       1519.52   1.55073e-05       55.9092   3.054e-07       0.001      823  LS failed, Hessian reset \n",
      "     599       1519.52   3.02526e-06       48.9985      0.3559           1      837   \n",
      "    Iter      log prob        ||dx||      ||grad||       alpha      alpha0  # evals  Notes \n",
      "     631       1519.53   2.79374e-05       75.1659   4.502e-07       0.001      917  LS failed, Hessian reset \n",
      "     699       1519.53   4.08872e-06       73.4482      0.4053           1     1005   \n",
      "    Iter      log prob        ||dx||      ||grad||       alpha      alpha0  # evals  Notes \n",
      "     799       1519.54   4.92032e-07       60.1335      0.1765           1     1139   \n",
      "    Iter      log prob        ||dx||      ||grad||       alpha      alpha0  # evals  Notes \n",
      "     814       1519.54   1.49707e-07       55.7422      0.4297      0.4297     1161   \n",
      "Optimization terminated normally: \n",
      "  Convergence detected: relative gradient magnitude is below tolerance\n"
     ]
    }
   ],
   "source": [
    "model = fb.fit(covid_time)"
   ]
  },
  {
   "cell_type": "code",
   "execution_count": 37,
   "id": "e2eeb687",
   "metadata": {
    "execution": {
     "iopub.execute_input": "2022-04-26T14:25:08.039156Z",
     "iopub.status.busy": "2022-04-26T14:25:08.038074Z",
     "iopub.status.idle": "2022-04-26T14:25:08.045084Z",
     "shell.execute_reply": "2022-04-26T14:25:08.044086Z"
    },
    "papermill": {
     "duration": 0.097983,
     "end_time": "2022-04-26T14:25:08.047473",
     "exception": false,
     "start_time": "2022-04-26T14:25:07.949490",
     "status": "completed"
    },
    "tags": []
   },
   "outputs": [],
   "source": [
    "future = model.make_future_dataframe(periods=365)"
   ]
  },
  {
   "cell_type": "code",
   "execution_count": 38,
   "id": "a61ecb68",
   "metadata": {
    "execution": {
     "iopub.execute_input": "2022-04-26T14:25:08.224580Z",
     "iopub.status.busy": "2022-04-26T14:25:08.224311Z",
     "iopub.status.idle": "2022-04-26T14:25:08.234008Z",
     "shell.execute_reply": "2022-04-26T14:25:08.233141Z"
    },
    "papermill": {
     "duration": 0.102195,
     "end_time": "2022-04-26T14:25:08.236028",
     "exception": false,
     "start_time": "2022-04-26T14:25:08.133833",
     "status": "completed"
    },
    "tags": []
   },
   "outputs": [
    {
     "data": {
      "text/html": [
       "<div>\n",
       "<style scoped>\n",
       "    .dataframe tbody tr th:only-of-type {\n",
       "        vertical-align: middle;\n",
       "    }\n",
       "\n",
       "    .dataframe tbody tr th {\n",
       "        vertical-align: top;\n",
       "    }\n",
       "\n",
       "    .dataframe thead th {\n",
       "        text-align: right;\n",
       "    }\n",
       "</style>\n",
       "<table border=\"1\" class=\"dataframe\">\n",
       "  <thead>\n",
       "    <tr style=\"text-align: right;\">\n",
       "      <th></th>\n",
       "      <th>ds</th>\n",
       "    </tr>\n",
       "  </thead>\n",
       "  <tbody>\n",
       "    <tr>\n",
       "      <th>920</th>\n",
       "      <td>2022-08-07 08:00:00</td>\n",
       "    </tr>\n",
       "    <tr>\n",
       "      <th>921</th>\n",
       "      <td>2022-08-08 08:00:00</td>\n",
       "    </tr>\n",
       "    <tr>\n",
       "      <th>922</th>\n",
       "      <td>2022-08-09 08:00:00</td>\n",
       "    </tr>\n",
       "    <tr>\n",
       "      <th>923</th>\n",
       "      <td>2022-08-10 08:00:00</td>\n",
       "    </tr>\n",
       "    <tr>\n",
       "      <th>924</th>\n",
       "      <td>2022-08-11 08:00:00</td>\n",
       "    </tr>\n",
       "  </tbody>\n",
       "</table>\n",
       "</div>"
      ],
      "text/plain": [
       "                     ds\n",
       "920 2022-08-07 08:00:00\n",
       "921 2022-08-08 08:00:00\n",
       "922 2022-08-09 08:00:00\n",
       "923 2022-08-10 08:00:00\n",
       "924 2022-08-11 08:00:00"
      ]
     },
     "execution_count": 38,
     "metadata": {},
     "output_type": "execute_result"
    }
   ],
   "source": [
    "future.tail()"
   ]
  },
  {
   "cell_type": "code",
   "execution_count": 39,
   "id": "6eada3c6",
   "metadata": {
    "execution": {
     "iopub.execute_input": "2022-04-26T14:25:08.410842Z",
     "iopub.status.busy": "2022-04-26T14:25:08.410243Z",
     "iopub.status.idle": "2022-04-26T14:25:13.032328Z",
     "shell.execute_reply": "2022-04-26T14:25:13.031277Z"
    },
    "papermill": {
     "duration": 4.710581,
     "end_time": "2022-04-26T14:25:13.034858",
     "exception": false,
     "start_time": "2022-04-26T14:25:08.324277",
     "status": "completed"
    },
    "tags": []
   },
   "outputs": [
    {
     "data": {
      "text/html": [
       "<div>\n",
       "<style scoped>\n",
       "    .dataframe tbody tr th:only-of-type {\n",
       "        vertical-align: middle;\n",
       "    }\n",
       "\n",
       "    .dataframe tbody tr th {\n",
       "        vertical-align: top;\n",
       "    }\n",
       "\n",
       "    .dataframe thead th {\n",
       "        text-align: right;\n",
       "    }\n",
       "</style>\n",
       "<table border=\"1\" class=\"dataframe\">\n",
       "  <thead>\n",
       "    <tr style=\"text-align: right;\">\n",
       "      <th></th>\n",
       "      <th>ds</th>\n",
       "      <th>trend</th>\n",
       "      <th>yhat_lower</th>\n",
       "      <th>yhat_upper</th>\n",
       "      <th>trend_lower</th>\n",
       "      <th>trend_upper</th>\n",
       "      <th>additive_terms</th>\n",
       "      <th>additive_terms_lower</th>\n",
       "      <th>additive_terms_upper</th>\n",
       "      <th>daily</th>\n",
       "      <th>daily_lower</th>\n",
       "      <th>daily_upper</th>\n",
       "      <th>weekly</th>\n",
       "      <th>weekly_lower</th>\n",
       "      <th>weekly_upper</th>\n",
       "      <th>multiplicative_terms</th>\n",
       "      <th>multiplicative_terms_lower</th>\n",
       "      <th>multiplicative_terms_upper</th>\n",
       "      <th>yhat</th>\n",
       "    </tr>\n",
       "  </thead>\n",
       "  <tbody>\n",
       "    <tr>\n",
       "      <th>0</th>\n",
       "      <td>2020-01-30 18:00:00</td>\n",
       "      <td>-1.006892e+06</td>\n",
       "      <td>-1.789581e+06</td>\n",
       "      <td>9.414519e+05</td>\n",
       "      <td>-1.006892e+06</td>\n",
       "      <td>-1.006892e+06</td>\n",
       "      <td>659737.757055</td>\n",
       "      <td>659737.757055</td>\n",
       "      <td>659737.757055</td>\n",
       "      <td>633062.651356</td>\n",
       "      <td>633062.651356</td>\n",
       "      <td>633062.651356</td>\n",
       "      <td>26675.105699</td>\n",
       "      <td>26675.105699</td>\n",
       "      <td>26675.105699</td>\n",
       "      <td>0.0</td>\n",
       "      <td>0.0</td>\n",
       "      <td>0.0</td>\n",
       "      <td>-3.471539e+05</td>\n",
       "    </tr>\n",
       "    <tr>\n",
       "      <th>1</th>\n",
       "      <td>2020-01-31 18:00:00</td>\n",
       "      <td>-9.952869e+05</td>\n",
       "      <td>-1.668346e+06</td>\n",
       "      <td>1.062333e+06</td>\n",
       "      <td>-9.952869e+05</td>\n",
       "      <td>-9.952869e+05</td>\n",
       "      <td>643328.543652</td>\n",
       "      <td>643328.543652</td>\n",
       "      <td>643328.543652</td>\n",
       "      <td>633062.651367</td>\n",
       "      <td>633062.651367</td>\n",
       "      <td>633062.651367</td>\n",
       "      <td>10265.892285</td>\n",
       "      <td>10265.892285</td>\n",
       "      <td>10265.892285</td>\n",
       "      <td>0.0</td>\n",
       "      <td>0.0</td>\n",
       "      <td>0.0</td>\n",
       "      <td>-3.519584e+05</td>\n",
       "    </tr>\n",
       "    <tr>\n",
       "      <th>2</th>\n",
       "      <td>2020-02-01 18:00:00</td>\n",
       "      <td>-9.836822e+05</td>\n",
       "      <td>-1.732210e+06</td>\n",
       "      <td>1.071918e+06</td>\n",
       "      <td>-9.836822e+05</td>\n",
       "      <td>-9.836822e+05</td>\n",
       "      <td>639893.699667</td>\n",
       "      <td>639893.699667</td>\n",
       "      <td>639893.699667</td>\n",
       "      <td>633062.651347</td>\n",
       "      <td>633062.651347</td>\n",
       "      <td>633062.651347</td>\n",
       "      <td>6831.048320</td>\n",
       "      <td>6831.048320</td>\n",
       "      <td>6831.048320</td>\n",
       "      <td>0.0</td>\n",
       "      <td>0.0</td>\n",
       "      <td>0.0</td>\n",
       "      <td>-3.437885e+05</td>\n",
       "    </tr>\n",
       "    <tr>\n",
       "      <th>3</th>\n",
       "      <td>2020-02-02 18:00:00</td>\n",
       "      <td>-9.720774e+05</td>\n",
       "      <td>-1.664828e+06</td>\n",
       "      <td>9.449074e+05</td>\n",
       "      <td>-9.720774e+05</td>\n",
       "      <td>-9.720774e+05</td>\n",
       "      <td>626165.962442</td>\n",
       "      <td>626165.962442</td>\n",
       "      <td>626165.962442</td>\n",
       "      <td>633062.651370</td>\n",
       "      <td>633062.651370</td>\n",
       "      <td>633062.651370</td>\n",
       "      <td>-6896.688928</td>\n",
       "      <td>-6896.688928</td>\n",
       "      <td>-6896.688928</td>\n",
       "      <td>0.0</td>\n",
       "      <td>0.0</td>\n",
       "      <td>0.0</td>\n",
       "      <td>-3.459114e+05</td>\n",
       "    </tr>\n",
       "    <tr>\n",
       "      <th>4</th>\n",
       "      <td>2020-02-03 18:00:00</td>\n",
       "      <td>-9.604726e+05</td>\n",
       "      <td>-1.752725e+06</td>\n",
       "      <td>9.977528e+05</td>\n",
       "      <td>-9.604726e+05</td>\n",
       "      <td>-9.604726e+05</td>\n",
       "      <td>622910.540485</td>\n",
       "      <td>622910.540485</td>\n",
       "      <td>622910.540485</td>\n",
       "      <td>633062.651350</td>\n",
       "      <td>633062.651350</td>\n",
       "      <td>633062.651350</td>\n",
       "      <td>-10152.110865</td>\n",
       "      <td>-10152.110865</td>\n",
       "      <td>-10152.110865</td>\n",
       "      <td>0.0</td>\n",
       "      <td>0.0</td>\n",
       "      <td>0.0</td>\n",
       "      <td>-3.375621e+05</td>\n",
       "    </tr>\n",
       "    <tr>\n",
       "      <th>...</th>\n",
       "      <td>...</td>\n",
       "      <td>...</td>\n",
       "      <td>...</td>\n",
       "      <td>...</td>\n",
       "      <td>...</td>\n",
       "      <td>...</td>\n",
       "      <td>...</td>\n",
       "      <td>...</td>\n",
       "      <td>...</td>\n",
       "      <td>...</td>\n",
       "      <td>...</td>\n",
       "      <td>...</td>\n",
       "      <td>...</td>\n",
       "      <td>...</td>\n",
       "      <td>...</td>\n",
       "      <td>...</td>\n",
       "      <td>...</td>\n",
       "      <td>...</td>\n",
       "      <td>...</td>\n",
       "    </tr>\n",
       "    <tr>\n",
       "      <th>920</th>\n",
       "      <td>2022-08-07 08:00:00</td>\n",
       "      <td>9.764188e+07</td>\n",
       "      <td>8.129355e+07</td>\n",
       "      <td>1.120297e+08</td>\n",
       "      <td>8.158138e+07</td>\n",
       "      <td>1.122748e+08</td>\n",
       "      <td>-344066.311059</td>\n",
       "      <td>-344066.311059</td>\n",
       "      <td>-344066.311059</td>\n",
       "      <td>-343119.786553</td>\n",
       "      <td>-343119.786553</td>\n",
       "      <td>-343119.786553</td>\n",
       "      <td>-946.524506</td>\n",
       "      <td>-946.524506</td>\n",
       "      <td>-946.524506</td>\n",
       "      <td>0.0</td>\n",
       "      <td>0.0</td>\n",
       "      <td>0.0</td>\n",
       "      <td>9.729781e+07</td>\n",
       "    </tr>\n",
       "    <tr>\n",
       "      <th>921</th>\n",
       "      <td>2022-08-08 08:00:00</td>\n",
       "      <td>9.781426e+07</td>\n",
       "      <td>8.160685e+07</td>\n",
       "      <td>1.123003e+08</td>\n",
       "      <td>8.169884e+07</td>\n",
       "      <td>1.124992e+08</td>\n",
       "      <td>-352362.704863</td>\n",
       "      <td>-352362.704863</td>\n",
       "      <td>-352362.704863</td>\n",
       "      <td>-343119.786562</td>\n",
       "      <td>-343119.786562</td>\n",
       "      <td>-343119.786562</td>\n",
       "      <td>-9242.918301</td>\n",
       "      <td>-9242.918301</td>\n",
       "      <td>-9242.918301</td>\n",
       "      <td>0.0</td>\n",
       "      <td>0.0</td>\n",
       "      <td>0.0</td>\n",
       "      <td>9.746190e+07</td>\n",
       "    </tr>\n",
       "    <tr>\n",
       "      <th>922</th>\n",
       "      <td>2022-08-09 08:00:00</td>\n",
       "      <td>9.798664e+07</td>\n",
       "      <td>8.126953e+07</td>\n",
       "      <td>1.125452e+08</td>\n",
       "      <td>8.181703e+07</td>\n",
       "      <td>1.127079e+08</td>\n",
       "      <td>-361484.249671</td>\n",
       "      <td>-361484.249671</td>\n",
       "      <td>-361484.249671</td>\n",
       "      <td>-343119.786567</td>\n",
       "      <td>-343119.786567</td>\n",
       "      <td>-343119.786567</td>\n",
       "      <td>-18364.463104</td>\n",
       "      <td>-18364.463104</td>\n",
       "      <td>-18364.463104</td>\n",
       "      <td>0.0</td>\n",
       "      <td>0.0</td>\n",
       "      <td>0.0</td>\n",
       "      <td>9.762516e+07</td>\n",
       "    </tr>\n",
       "    <tr>\n",
       "      <th>923</th>\n",
       "      <td>2022-08-10 08:00:00</td>\n",
       "      <td>9.815902e+07</td>\n",
       "      <td>8.144152e+07</td>\n",
       "      <td>1.126468e+08</td>\n",
       "      <td>8.193522e+07</td>\n",
       "      <td>1.129166e+08</td>\n",
       "      <td>-362151.530062</td>\n",
       "      <td>-362151.530062</td>\n",
       "      <td>-362151.530062</td>\n",
       "      <td>-343119.786552</td>\n",
       "      <td>-343119.786552</td>\n",
       "      <td>-343119.786552</td>\n",
       "      <td>-19031.743510</td>\n",
       "      <td>-19031.743510</td>\n",
       "      <td>-19031.743510</td>\n",
       "      <td>0.0</td>\n",
       "      <td>0.0</td>\n",
       "      <td>0.0</td>\n",
       "      <td>9.779687e+07</td>\n",
       "    </tr>\n",
       "    <tr>\n",
       "      <th>924</th>\n",
       "      <td>2022-08-11 08:00:00</td>\n",
       "      <td>9.833141e+07</td>\n",
       "      <td>8.133900e+07</td>\n",
       "      <td>1.131038e+08</td>\n",
       "      <td>8.205341e+07</td>\n",
       "      <td>1.131728e+08</td>\n",
       "      <td>-320823.531851</td>\n",
       "      <td>-320823.531851</td>\n",
       "      <td>-320823.531851</td>\n",
       "      <td>-343119.786558</td>\n",
       "      <td>-343119.786558</td>\n",
       "      <td>-343119.786558</td>\n",
       "      <td>22296.254707</td>\n",
       "      <td>22296.254707</td>\n",
       "      <td>22296.254707</td>\n",
       "      <td>0.0</td>\n",
       "      <td>0.0</td>\n",
       "      <td>0.0</td>\n",
       "      <td>9.801058e+07</td>\n",
       "    </tr>\n",
       "  </tbody>\n",
       "</table>\n",
       "<p>925 rows × 19 columns</p>\n",
       "</div>"
      ],
      "text/plain": [
       "                     ds         trend    yhat_lower    yhat_upper  \\\n",
       "0   2020-01-30 18:00:00 -1.006892e+06 -1.789581e+06  9.414519e+05   \n",
       "1   2020-01-31 18:00:00 -9.952869e+05 -1.668346e+06  1.062333e+06   \n",
       "2   2020-02-01 18:00:00 -9.836822e+05 -1.732210e+06  1.071918e+06   \n",
       "3   2020-02-02 18:00:00 -9.720774e+05 -1.664828e+06  9.449074e+05   \n",
       "4   2020-02-03 18:00:00 -9.604726e+05 -1.752725e+06  9.977528e+05   \n",
       "..                  ...           ...           ...           ...   \n",
       "920 2022-08-07 08:00:00  9.764188e+07  8.129355e+07  1.120297e+08   \n",
       "921 2022-08-08 08:00:00  9.781426e+07  8.160685e+07  1.123003e+08   \n",
       "922 2022-08-09 08:00:00  9.798664e+07  8.126953e+07  1.125452e+08   \n",
       "923 2022-08-10 08:00:00  9.815902e+07  8.144152e+07  1.126468e+08   \n",
       "924 2022-08-11 08:00:00  9.833141e+07  8.133900e+07  1.131038e+08   \n",
       "\n",
       "      trend_lower   trend_upper  additive_terms  additive_terms_lower  \\\n",
       "0   -1.006892e+06 -1.006892e+06   659737.757055         659737.757055   \n",
       "1   -9.952869e+05 -9.952869e+05   643328.543652         643328.543652   \n",
       "2   -9.836822e+05 -9.836822e+05   639893.699667         639893.699667   \n",
       "3   -9.720774e+05 -9.720774e+05   626165.962442         626165.962442   \n",
       "4   -9.604726e+05 -9.604726e+05   622910.540485         622910.540485   \n",
       "..            ...           ...             ...                   ...   \n",
       "920  8.158138e+07  1.122748e+08  -344066.311059        -344066.311059   \n",
       "921  8.169884e+07  1.124992e+08  -352362.704863        -352362.704863   \n",
       "922  8.181703e+07  1.127079e+08  -361484.249671        -361484.249671   \n",
       "923  8.193522e+07  1.129166e+08  -362151.530062        -362151.530062   \n",
       "924  8.205341e+07  1.131728e+08  -320823.531851        -320823.531851   \n",
       "\n",
       "     additive_terms_upper          daily    daily_lower    daily_upper  \\\n",
       "0           659737.757055  633062.651356  633062.651356  633062.651356   \n",
       "1           643328.543652  633062.651367  633062.651367  633062.651367   \n",
       "2           639893.699667  633062.651347  633062.651347  633062.651347   \n",
       "3           626165.962442  633062.651370  633062.651370  633062.651370   \n",
       "4           622910.540485  633062.651350  633062.651350  633062.651350   \n",
       "..                    ...            ...            ...            ...   \n",
       "920        -344066.311059 -343119.786553 -343119.786553 -343119.786553   \n",
       "921        -352362.704863 -343119.786562 -343119.786562 -343119.786562   \n",
       "922        -361484.249671 -343119.786567 -343119.786567 -343119.786567   \n",
       "923        -362151.530062 -343119.786552 -343119.786552 -343119.786552   \n",
       "924        -320823.531851 -343119.786558 -343119.786558 -343119.786558   \n",
       "\n",
       "           weekly  weekly_lower  weekly_upper  multiplicative_terms  \\\n",
       "0    26675.105699  26675.105699  26675.105699                   0.0   \n",
       "1    10265.892285  10265.892285  10265.892285                   0.0   \n",
       "2     6831.048320   6831.048320   6831.048320                   0.0   \n",
       "3    -6896.688928  -6896.688928  -6896.688928                   0.0   \n",
       "4   -10152.110865 -10152.110865 -10152.110865                   0.0   \n",
       "..            ...           ...           ...                   ...   \n",
       "920   -946.524506   -946.524506   -946.524506                   0.0   \n",
       "921  -9242.918301  -9242.918301  -9242.918301                   0.0   \n",
       "922 -18364.463104 -18364.463104 -18364.463104                   0.0   \n",
       "923 -19031.743510 -19031.743510 -19031.743510                   0.0   \n",
       "924  22296.254707  22296.254707  22296.254707                   0.0   \n",
       "\n",
       "     multiplicative_terms_lower  multiplicative_terms_upper          yhat  \n",
       "0                           0.0                         0.0 -3.471539e+05  \n",
       "1                           0.0                         0.0 -3.519584e+05  \n",
       "2                           0.0                         0.0 -3.437885e+05  \n",
       "3                           0.0                         0.0 -3.459114e+05  \n",
       "4                           0.0                         0.0 -3.375621e+05  \n",
       "..                          ...                         ...           ...  \n",
       "920                         0.0                         0.0  9.729781e+07  \n",
       "921                         0.0                         0.0  9.746190e+07  \n",
       "922                         0.0                         0.0  9.762516e+07  \n",
       "923                         0.0                         0.0  9.779687e+07  \n",
       "924                         0.0                         0.0  9.801058e+07  \n",
       "\n",
       "[925 rows x 19 columns]"
      ]
     },
     "execution_count": 39,
     "metadata": {},
     "output_type": "execute_result"
    }
   ],
   "source": [
    "pred = model.predict(future)\n",
    "pred"
   ]
  },
  {
   "cell_type": "code",
   "execution_count": 40,
   "id": "e878a2c2",
   "metadata": {
    "execution": {
     "iopub.execute_input": "2022-04-26T14:25:13.211420Z",
     "iopub.status.busy": "2022-04-26T14:25:13.211147Z",
     "iopub.status.idle": "2022-04-26T14:25:14.076450Z",
     "shell.execute_reply": "2022-04-26T14:25:14.075506Z"
    },
    "papermill": {
     "duration": 0.95561,
     "end_time": "2022-04-26T14:25:14.078472",
     "exception": false,
     "start_time": "2022-04-26T14:25:13.122862",
     "status": "completed"
    },
    "tags": []
   },
   "outputs": [
    {
     "data": {
      "image/png": "[encoded data removed]",
      "text/plain": [
       "<Figure size 720x432 with 1 Axes>"
      ]
     },
     "execution_count": 40,
     "metadata": {},
     "output_type": "execute_result"
    },
    {
     "data": {
      "image/png": "[encoded data removed]",
      "text/plain": [
       "<Figure size 720x432 with 1 Axes>"
      ]
     },
     "metadata": {},
     "output_type": "display_data"
    }
   ],
   "source": [
    "model.plot(pred)"
   ]
  },
  {
   "cell_type": "code",
   "execution_count": 41,
   "id": "a4dde02d",
   "metadata": {
    "execution": {
     "iopub.execute_input": "2022-04-26T14:25:14.259443Z",
     "iopub.status.busy": "2022-04-26T14:25:14.259165Z",
     "iopub.status.idle": "2022-04-26T14:25:15.881539Z",
     "shell.execute_reply": "2022-04-26T14:25:15.880706Z"
    },
    "papermill": {
     "duration": 1.714786,
     "end_time": "2022-04-26T14:25:15.883740",
     "exception": false,
     "start_time": "2022-04-26T14:25:14.168954",
     "status": "completed"
    },
    "tags": []
   },
   "outputs": [
    {
     "data": {
      "image/png": "[encoded data removed]",
      "text/plain": [
       "<Figure size 648x648 with 3 Axes>"
      ]
     },
     "execution_count": 41,
     "metadata": {},
     "output_type": "execute_result"
    },
    {
     "data": {
      "image/png": "[encoded data removed]",
      "text/plain": [
       "<Figure size 648x648 with 3 Axes>"
      ]
     },
     "metadata": {},
     "output_type": "display_data"
    }
   ],
   "source": [
    "model.plot_components(pred)"
   ]
  },
  {
   "cell_type": "code",
   "execution_count": 42,
   "id": "50d89f24",
   "metadata": {
    "execution": {
     "iopub.execute_input": "2022-04-26T14:25:16.071046Z",
     "iopub.status.busy": "2022-04-26T14:25:16.070733Z",
     "iopub.status.idle": "2022-04-26T14:25:16.106624Z",
     "shell.execute_reply": "2022-04-26T14:25:16.105786Z"
    },
    "papermill": {
     "duration": 0.133522,
     "end_time": "2022-04-26T14:25:16.108677",
     "exception": false,
     "start_time": "2022-04-26T14:25:15.975155",
     "status": "completed"
    },
    "tags": []
   },
   "outputs": [
    {
     "data": {
      "text/html": [
       "<div>\n",
       "<style scoped>\n",
       "    .dataframe tbody tr th:only-of-type {\n",
       "        vertical-align: middle;\n",
       "    }\n",
       "\n",
       "    .dataframe tbody tr th {\n",
       "        vertical-align: top;\n",
       "    }\n",
       "\n",
       "    .dataframe thead th {\n",
       "        text-align: right;\n",
       "    }\n",
       "</style>\n",
       "<table border=\"1\" class=\"dataframe\">\n",
       "  <thead>\n",
       "    <tr style=\"text-align: right;\">\n",
       "      <th></th>\n",
       "      <th>Updated On</th>\n",
       "      <th>State</th>\n",
       "      <th>Total Doses Administered</th>\n",
       "      <th>Sessions</th>\n",
       "      <th>Sites</th>\n",
       "      <th>First Dose Administered</th>\n",
       "      <th>Second Dose Administered</th>\n",
       "      <th>Male (Doses Administered)</th>\n",
       "      <th>Female (Doses Administered)</th>\n",
       "      <th>Transgender (Doses Administered)</th>\n",
       "      <th>...</th>\n",
       "      <th>18-44 Years (Doses Administered)</th>\n",
       "      <th>45-60 Years (Doses Administered)</th>\n",
       "      <th>60+ Years (Doses Administered)</th>\n",
       "      <th>18-44 Years(Individuals Vaccinated)</th>\n",
       "      <th>45-60 Years(Individuals Vaccinated)</th>\n",
       "      <th>60+ Years(Individuals Vaccinated)</th>\n",
       "      <th>Male(Individuals Vaccinated)</th>\n",
       "      <th>Female(Individuals Vaccinated)</th>\n",
       "      <th>Transgender(Individuals Vaccinated)</th>\n",
       "      <th>Total Individuals Vaccinated</th>\n",
       "    </tr>\n",
       "  </thead>\n",
       "  <tbody>\n",
       "    <tr>\n",
       "      <th>0</th>\n",
       "      <td>16/01/2021</td>\n",
       "      <td>India</td>\n",
       "      <td>48276.0</td>\n",
       "      <td>3455.0</td>\n",
       "      <td>2957.0</td>\n",
       "      <td>48276.0</td>\n",
       "      <td>0.0</td>\n",
       "      <td>NaN</td>\n",
       "      <td>NaN</td>\n",
       "      <td>NaN</td>\n",
       "      <td>...</td>\n",
       "      <td>NaN</td>\n",
       "      <td>NaN</td>\n",
       "      <td>NaN</td>\n",
       "      <td>NaN</td>\n",
       "      <td>NaN</td>\n",
       "      <td>NaN</td>\n",
       "      <td>23757.0</td>\n",
       "      <td>24517.0</td>\n",
       "      <td>2.0</td>\n",
       "      <td>48276.0</td>\n",
       "    </tr>\n",
       "    <tr>\n",
       "      <th>1</th>\n",
       "      <td>17/01/2021</td>\n",
       "      <td>India</td>\n",
       "      <td>58604.0</td>\n",
       "      <td>8532.0</td>\n",
       "      <td>4954.0</td>\n",
       "      <td>58604.0</td>\n",
       "      <td>0.0</td>\n",
       "      <td>NaN</td>\n",
       "      <td>NaN</td>\n",
       "      <td>NaN</td>\n",
       "      <td>...</td>\n",
       "      <td>NaN</td>\n",
       "      <td>NaN</td>\n",
       "      <td>NaN</td>\n",
       "      <td>NaN</td>\n",
       "      <td>NaN</td>\n",
       "      <td>NaN</td>\n",
       "      <td>27348.0</td>\n",
       "      <td>31252.0</td>\n",
       "      <td>4.0</td>\n",
       "      <td>58604.0</td>\n",
       "    </tr>\n",
       "    <tr>\n",
       "      <th>2</th>\n",
       "      <td>18/01/2021</td>\n",
       "      <td>India</td>\n",
       "      <td>99449.0</td>\n",
       "      <td>13611.0</td>\n",
       "      <td>6583.0</td>\n",
       "      <td>99449.0</td>\n",
       "      <td>0.0</td>\n",
       "      <td>NaN</td>\n",
       "      <td>NaN</td>\n",
       "      <td>NaN</td>\n",
       "      <td>...</td>\n",
       "      <td>NaN</td>\n",
       "      <td>NaN</td>\n",
       "      <td>NaN</td>\n",
       "      <td>NaN</td>\n",
       "      <td>NaN</td>\n",
       "      <td>NaN</td>\n",
       "      <td>41361.0</td>\n",
       "      <td>58083.0</td>\n",
       "      <td>5.0</td>\n",
       "      <td>99449.0</td>\n",
       "    </tr>\n",
       "    <tr>\n",
       "      <th>3</th>\n",
       "      <td>19/01/2021</td>\n",
       "      <td>India</td>\n",
       "      <td>195525.0</td>\n",
       "      <td>17855.0</td>\n",
       "      <td>7951.0</td>\n",
       "      <td>195525.0</td>\n",
       "      <td>0.0</td>\n",
       "      <td>NaN</td>\n",
       "      <td>NaN</td>\n",
       "      <td>NaN</td>\n",
       "      <td>...</td>\n",
       "      <td>NaN</td>\n",
       "      <td>NaN</td>\n",
       "      <td>NaN</td>\n",
       "      <td>NaN</td>\n",
       "      <td>NaN</td>\n",
       "      <td>NaN</td>\n",
       "      <td>81901.0</td>\n",
       "      <td>113613.0</td>\n",
       "      <td>11.0</td>\n",
       "      <td>195525.0</td>\n",
       "    </tr>\n",
       "    <tr>\n",
       "      <th>4</th>\n",
       "      <td>20/01/2021</td>\n",
       "      <td>India</td>\n",
       "      <td>251280.0</td>\n",
       "      <td>25472.0</td>\n",
       "      <td>10504.0</td>\n",
       "      <td>251280.0</td>\n",
       "      <td>0.0</td>\n",
       "      <td>NaN</td>\n",
       "      <td>NaN</td>\n",
       "      <td>NaN</td>\n",
       "      <td>...</td>\n",
       "      <td>NaN</td>\n",
       "      <td>NaN</td>\n",
       "      <td>NaN</td>\n",
       "      <td>NaN</td>\n",
       "      <td>NaN</td>\n",
       "      <td>NaN</td>\n",
       "      <td>98111.0</td>\n",
       "      <td>153145.0</td>\n",
       "      <td>24.0</td>\n",
       "      <td>251280.0</td>\n",
       "    </tr>\n",
       "    <tr>\n",
       "      <th>5</th>\n",
       "      <td>21/01/2021</td>\n",
       "      <td>India</td>\n",
       "      <td>365965.0</td>\n",
       "      <td>32226.0</td>\n",
       "      <td>12600.0</td>\n",
       "      <td>365965.0</td>\n",
       "      <td>0.0</td>\n",
       "      <td>NaN</td>\n",
       "      <td>NaN</td>\n",
       "      <td>NaN</td>\n",
       "      <td>...</td>\n",
       "      <td>NaN</td>\n",
       "      <td>NaN</td>\n",
       "      <td>NaN</td>\n",
       "      <td>NaN</td>\n",
       "      <td>NaN</td>\n",
       "      <td>NaN</td>\n",
       "      <td>132784.0</td>\n",
       "      <td>233143.0</td>\n",
       "      <td>38.0</td>\n",
       "      <td>365965.0</td>\n",
       "    </tr>\n",
       "    <tr>\n",
       "      <th>6</th>\n",
       "      <td>22/01/2021</td>\n",
       "      <td>India</td>\n",
       "      <td>549381.0</td>\n",
       "      <td>36988.0</td>\n",
       "      <td>14115.0</td>\n",
       "      <td>549381.0</td>\n",
       "      <td>0.0</td>\n",
       "      <td>NaN</td>\n",
       "      <td>NaN</td>\n",
       "      <td>NaN</td>\n",
       "      <td>...</td>\n",
       "      <td>NaN</td>\n",
       "      <td>NaN</td>\n",
       "      <td>NaN</td>\n",
       "      <td>NaN</td>\n",
       "      <td>NaN</td>\n",
       "      <td>NaN</td>\n",
       "      <td>193899.0</td>\n",
       "      <td>355402.0</td>\n",
       "      <td>80.0</td>\n",
       "      <td>549381.0</td>\n",
       "    </tr>\n",
       "    <tr>\n",
       "      <th>7</th>\n",
       "      <td>23/01/2021</td>\n",
       "      <td>India</td>\n",
       "      <td>759008.0</td>\n",
       "      <td>43076.0</td>\n",
       "      <td>15605.0</td>\n",
       "      <td>759008.0</td>\n",
       "      <td>0.0</td>\n",
       "      <td>NaN</td>\n",
       "      <td>NaN</td>\n",
       "      <td>NaN</td>\n",
       "      <td>...</td>\n",
       "      <td>NaN</td>\n",
       "      <td>NaN</td>\n",
       "      <td>NaN</td>\n",
       "      <td>NaN</td>\n",
       "      <td>NaN</td>\n",
       "      <td>NaN</td>\n",
       "      <td>267856.0</td>\n",
       "      <td>491049.0</td>\n",
       "      <td>103.0</td>\n",
       "      <td>759008.0</td>\n",
       "    </tr>\n",
       "    <tr>\n",
       "      <th>8</th>\n",
       "      <td>24/01/2021</td>\n",
       "      <td>India</td>\n",
       "      <td>835058.0</td>\n",
       "      <td>49851.0</td>\n",
       "      <td>18111.0</td>\n",
       "      <td>835058.0</td>\n",
       "      <td>0.0</td>\n",
       "      <td>NaN</td>\n",
       "      <td>NaN</td>\n",
       "      <td>NaN</td>\n",
       "      <td>...</td>\n",
       "      <td>NaN</td>\n",
       "      <td>NaN</td>\n",
       "      <td>NaN</td>\n",
       "      <td>NaN</td>\n",
       "      <td>NaN</td>\n",
       "      <td>NaN</td>\n",
       "      <td>296283.0</td>\n",
       "      <td>538647.0</td>\n",
       "      <td>128.0</td>\n",
       "      <td>835058.0</td>\n",
       "    </tr>\n",
       "    <tr>\n",
       "      <th>9</th>\n",
       "      <td>25/01/2021</td>\n",
       "      <td>India</td>\n",
       "      <td>1277104.0</td>\n",
       "      <td>55151.0</td>\n",
       "      <td>19682.0</td>\n",
       "      <td>1277104.0</td>\n",
       "      <td>0.0</td>\n",
       "      <td>NaN</td>\n",
       "      <td>NaN</td>\n",
       "      <td>NaN</td>\n",
       "      <td>...</td>\n",
       "      <td>NaN</td>\n",
       "      <td>NaN</td>\n",
       "      <td>NaN</td>\n",
       "      <td>NaN</td>\n",
       "      <td>NaN</td>\n",
       "      <td>NaN</td>\n",
       "      <td>444137.0</td>\n",
       "      <td>832766.0</td>\n",
       "      <td>201.0</td>\n",
       "      <td>1277104.0</td>\n",
       "    </tr>\n",
       "  </tbody>\n",
       "</table>\n",
       "<p>10 rows × 24 columns</p>\n",
       "</div>"
      ],
      "text/plain": [
       "   Updated On  State  Total Doses Administered  Sessions   Sites   \\\n",
       "0  16/01/2021  India                   48276.0    3455.0   2957.0   \n",
       "1  17/01/2021  India                   58604.0    8532.0   4954.0   \n",
       "2  18/01/2021  India                   99449.0   13611.0   6583.0   \n",
       "3  19/01/2021  India                  195525.0   17855.0   7951.0   \n",
       "4  20/01/2021  India                  251280.0   25472.0  10504.0   \n",
       "5  21/01/2021  India                  365965.0   32226.0  12600.0   \n",
       "6  22/01/2021  India                  549381.0   36988.0  14115.0   \n",
       "7  23/01/2021  India                  759008.0   43076.0  15605.0   \n",
       "8  24/01/2021  India                  835058.0   49851.0  18111.0   \n",
       "9  25/01/2021  India                 1277104.0   55151.0  19682.0   \n",
       "\n",
       "   First Dose Administered  Second Dose Administered  \\\n",
       "0                  48276.0                       0.0   \n",
       "1                  58604.0                       0.0   \n",
       "2                  99449.0                       0.0   \n",
       "3                 195525.0                       0.0   \n",
       "4                 251280.0                       0.0   \n",
       "5                 365965.0                       0.0   \n",
       "6                 549381.0                       0.0   \n",
       "7                 759008.0                       0.0   \n",
       "8                 835058.0                       0.0   \n",
       "9                1277104.0                       0.0   \n",
       "\n",
       "   Male (Doses Administered)  Female (Doses Administered)  \\\n",
       "0                        NaN                          NaN   \n",
       "1                        NaN                          NaN   \n",
       "2                        NaN                          NaN   \n",
       "3                        NaN                          NaN   \n",
       "4                        NaN                          NaN   \n",
       "5                        NaN                          NaN   \n",
       "6                        NaN                          NaN   \n",
       "7                        NaN                          NaN   \n",
       "8                        NaN                          NaN   \n",
       "9                        NaN                          NaN   \n",
       "\n",
       "   Transgender (Doses Administered)  ...  18-44 Years (Doses Administered)  \\\n",
       "0                               NaN  ...                               NaN   \n",
       "1                               NaN  ...                               NaN   \n",
       "2                               NaN  ...                               NaN   \n",
       "3                               NaN  ...                               NaN   \n",
       "4                               NaN  ...                               NaN   \n",
       "5                               NaN  ...                               NaN   \n",
       "6                               NaN  ...                               NaN   \n",
       "7                               NaN  ...                               NaN   \n",
       "8                               NaN  ...                               NaN   \n",
       "9                               NaN  ...                               NaN   \n",
       "\n",
       "   45-60 Years (Doses Administered)  60+ Years (Doses Administered)  \\\n",
       "0                               NaN                             NaN   \n",
       "1                               NaN                             NaN   \n",
       "2                               NaN                             NaN   \n",
       "3                               NaN                             NaN   \n",
       "4                               NaN                             NaN   \n",
       "5                               NaN                             NaN   \n",
       "6                               NaN                             NaN   \n",
       "7                               NaN                             NaN   \n",
       "8                               NaN                             NaN   \n",
       "9                               NaN                             NaN   \n",
       "\n",
       "   18-44 Years(Individuals Vaccinated)  45-60 Years(Individuals Vaccinated)  \\\n",
       "0                                  NaN                                  NaN   \n",
       "1                                  NaN                                  NaN   \n",
       "2                                  NaN                                  NaN   \n",
       "3                                  NaN                                  NaN   \n",
       "4                                  NaN                                  NaN   \n",
       "5                                  NaN                                  NaN   \n",
       "6                                  NaN                                  NaN   \n",
       "7                                  NaN                                  NaN   \n",
       "8                                  NaN                                  NaN   \n",
       "9                                  NaN                                  NaN   \n",
       "\n",
       "   60+ Years(Individuals Vaccinated)  Male(Individuals Vaccinated)  \\\n",
       "0                                NaN                       23757.0   \n",
       "1                                NaN                       27348.0   \n",
       "2                                NaN                       41361.0   \n",
       "3                                NaN                       81901.0   \n",
       "4                                NaN                       98111.0   \n",
       "5                                NaN                      132784.0   \n",
       "6                                NaN                      193899.0   \n",
       "7                                NaN                      267856.0   \n",
       "8                                NaN                      296283.0   \n",
       "9                                NaN                      444137.0   \n",
       "\n",
       "   Female(Individuals Vaccinated)  Transgender(Individuals Vaccinated)  \\\n",
       "0                         24517.0                                  2.0   \n",
       "1                         31252.0                                  4.0   \n",
       "2                         58083.0                                  5.0   \n",
       "3                        113613.0                                 11.0   \n",
       "4                        153145.0                                 24.0   \n",
       "5                        233143.0                                 38.0   \n",
       "6                        355402.0                                 80.0   \n",
       "7                        491049.0                                103.0   \n",
       "8                        538647.0                                128.0   \n",
       "9                        832766.0                                201.0   \n",
       "\n",
       "   Total Individuals Vaccinated  \n",
       "0                       48276.0  \n",
       "1                       58604.0  \n",
       "2                       99449.0  \n",
       "3                      195525.0  \n",
       "4                      251280.0  \n",
       "5                      365965.0  \n",
       "6                      549381.0  \n",
       "7                      759008.0  \n",
       "8                      835058.0  \n",
       "9                     1277104.0  \n",
       "\n",
       "[10 rows x 24 columns]"
      ]
     },
     "execution_count": 42,
     "metadata": {},
     "output_type": "execute_result"
    }
   ],
   "source": [
    "vaccine.head(10)"
   ]
  },
  {
   "cell_type": "code",
   "execution_count": 43,
   "id": "059a620c",
   "metadata": {
    "execution": {
     "iopub.execute_input": "2022-04-26T14:25:16.297071Z",
     "iopub.status.busy": "2022-04-26T14:25:16.296622Z",
     "iopub.status.idle": "2022-04-26T14:25:16.304763Z",
     "shell.execute_reply": "2022-04-26T14:25:16.304083Z"
    },
    "papermill": {
     "duration": 0.105665,
     "end_time": "2022-04-26T14:25:16.306766",
     "exception": false,
     "start_time": "2022-04-26T14:25:16.201101",
     "status": "completed"
    },
    "tags": []
   },
   "outputs": [
    {
     "data": {
      "text/plain": [
       "Updated On                              object\n",
       "State                                   object\n",
       "Total Doses Administered               float64\n",
       "Sessions                               float64\n",
       " Sites                                 float64\n",
       "First Dose Administered                float64\n",
       "Second Dose Administered               float64\n",
       "Male (Doses Administered)              float64\n",
       "Female (Doses Administered)            float64\n",
       "Transgender (Doses Administered)       float64\n",
       " Covaxin (Doses Administered)          float64\n",
       "CoviShield (Doses Administered)        float64\n",
       "Sputnik V (Doses Administered)         float64\n",
       "AEFI                                   float64\n",
       "18-44 Years (Doses Administered)       float64\n",
       "45-60 Years (Doses Administered)       float64\n",
       "60+ Years (Doses Administered)         float64\n",
       "18-44 Years(Individuals Vaccinated)    float64\n",
       "45-60 Years(Individuals Vaccinated)    float64\n",
       "60+ Years(Individuals Vaccinated)      float64\n",
       "Male(Individuals Vaccinated)           float64\n",
       "Female(Individuals Vaccinated)         float64\n",
       "Transgender(Individuals Vaccinated)    float64\n",
       "Total Individuals Vaccinated           float64\n",
       "dtype: object"
      ]
     },
     "execution_count": 43,
     "metadata": {},
     "output_type": "execute_result"
    }
   ],
   "source": [
    "vaccine.dtypes"
   ]
  },
  {
   "cell_type": "code",
   "execution_count": 44,
   "id": "53bc0620",
   "metadata": {
    "execution": {
     "iopub.execute_input": "2022-04-26T14:25:16.496023Z",
     "iopub.status.busy": "2022-04-26T14:25:16.495744Z",
     "iopub.status.idle": "2022-04-26T14:25:16.503920Z",
     "shell.execute_reply": "2022-04-26T14:25:16.502988Z"
    },
    "papermill": {
     "duration": 0.106382,
     "end_time": "2022-04-26T14:25:16.505959",
     "exception": false,
     "start_time": "2022-04-26T14:25:16.399577",
     "status": "completed"
    },
    "tags": []
   },
   "outputs": [],
   "source": [
    "vaccine['Updated On'] = pd.to_datetime(vaccine['Updated On'])"
   ]
  },
  {
   "cell_type": "code",
   "execution_count": 45,
   "id": "ca530dfd",
   "metadata": {
    "execution": {
     "iopub.execute_input": "2022-04-26T14:25:16.693523Z",
     "iopub.status.busy": "2022-04-26T14:25:16.693226Z",
     "iopub.status.idle": "2022-04-26T14:25:16.700330Z",
     "shell.execute_reply": "2022-04-26T14:25:16.699654Z"
    },
    "papermill": {
     "duration": 0.103182,
     "end_time": "2022-04-26T14:25:16.702362",
     "exception": false,
     "start_time": "2022-04-26T14:25:16.599180",
     "status": "completed"
    },
    "tags": []
   },
   "outputs": [
    {
     "data": {
      "text/plain": [
       "Updated On                             datetime64[ns]\n",
       "State                                          object\n",
       "Total Doses Administered                      float64\n",
       "Sessions                                      float64\n",
       " Sites                                        float64\n",
       "First Dose Administered                       float64\n",
       "Second Dose Administered                      float64\n",
       "Male (Doses Administered)                     float64\n",
       "Female (Doses Administered)                   float64\n",
       "Transgender (Doses Administered)              float64\n",
       " Covaxin (Doses Administered)                 float64\n",
       "CoviShield (Doses Administered)               float64\n",
       "Sputnik V (Doses Administered)                float64\n",
       "AEFI                                          float64\n",
       "18-44 Years (Doses Administered)              float64\n",
       "45-60 Years (Doses Administered)              float64\n",
       "60+ Years (Doses Administered)                float64\n",
       "18-44 Years(Individuals Vaccinated)           float64\n",
       "45-60 Years(Individuals Vaccinated)           float64\n",
       "60+ Years(Individuals Vaccinated)             float64\n",
       "Male(Individuals Vaccinated)                  float64\n",
       "Female(Individuals Vaccinated)                float64\n",
       "Transgender(Individuals Vaccinated)           float64\n",
       "Total Individuals Vaccinated                  float64\n",
       "dtype: object"
      ]
     },
     "execution_count": 45,
     "metadata": {},
     "output_type": "execute_result"
    }
   ],
   "source": [
    "vaccine.dtypes"
   ]
  },
  {
   "cell_type": "code",
   "execution_count": 46,
   "id": "ba625a24",
   "metadata": {
    "execution": {
     "iopub.execute_input": "2022-04-26T14:25:16.894158Z",
     "iopub.status.busy": "2022-04-26T14:25:16.893891Z",
     "iopub.status.idle": "2022-04-26T14:25:16.902049Z",
     "shell.execute_reply": "2022-04-26T14:25:16.901173Z"
    },
    "papermill": {
     "duration": 0.107056,
     "end_time": "2022-04-26T14:25:16.904302",
     "exception": false,
     "start_time": "2022-04-26T14:25:16.797246",
     "status": "completed"
    },
    "tags": []
   },
   "outputs": [],
   "source": [
    "vaccine['Total Individuals Vaccinated'] = vaccine['Total Individuals Vaccinated'].fillna(0)\n",
    "vaccine['Male(Individuals Vaccinated)'] = vaccine['Male(Individuals Vaccinated)'].fillna(0)\n",
    "vaccine['Female(Individuals Vaccinated)'] = vaccine['Female(Individuals Vaccinated)'].fillna(0)\n",
    "vaccine['Transgender(Individuals Vaccinated)'] = vaccine['Transgender(Individuals Vaccinated)'].fillna(0)"
   ]
  },
  {
   "cell_type": "code",
   "execution_count": 47,
   "id": "dc1ca919",
   "metadata": {
    "execution": {
     "iopub.execute_input": "2022-04-26T14:25:17.095268Z",
     "iopub.status.busy": "2022-04-26T14:25:17.094985Z",
     "iopub.status.idle": "2022-04-26T14:25:17.486880Z",
     "shell.execute_reply": "2022-04-26T14:25:17.485982Z"
    },
    "papermill": {
     "duration": 0.489907,
     "end_time": "2022-04-26T14:25:17.489514",
     "exception": false,
     "start_time": "2022-04-26T14:25:16.999607",
     "status": "completed"
    },
    "tags": []
   },
   "outputs": [
    {
     "data": {
      "text/html": [
       "<div>                            <div id=\"42273923-3a4c-4373-a06d-da4c2f428381\" class=\"plotly-graph-div\" style=\"height:525px; width:100%;\"></div>            <script type=\"text/javascript\">                require([\"plotly\"], function(Plotly) {                    window.PLOTLYENV=window.PLOTLYENV || {};                                    if (document.getElementById(\"42273923-3a4c-4373-a06d-da4c2f428381\")) {                    Plotly.newPlot(                        \"42273923-3a4c-4373-a06d-da4c2f428381\",                        [{\"branchvalues\":\"total\",\"domain\":{\"x\":[0.0,1.0],\"y\":[0.0,1.0]},\"hovertemplate\":\"labels=%{label}<br>Total Individuals Vaccinated=%{value}<br>parent=%{parent}<br>id=%{id}<extra></extra>\",\"ids\":[\"2021-01-02/0.0\",\"2021-01-03/0.0\",\"2021-01-04/0.0\",\"2021-01-05/0.0\",\"2021-01-06/0.0\",\"2021-01-07/0.0\",\"2021-01-08/0.0\",\"2021-01-16/0.0\",\"2021-01-17/0.0\",\"2021-01-18/0.0\",\"2021-01-19/0.0\",\"2021-01-20/0.0\",\"2021-01-21/0.0\",\"2021-01-22/0.0\",\"2021-01-23/0.0\",\"2021-01-24/0.0\",\"2021-01-25/0.0\",\"2021-01-26/0.0\",\"2021-01-27/0.0\",\"2021-01-28/0.0\",\"2021-01-29/0.0\",\"2021-01-30/0.0\",\"2021-01-31/0.0\",\"2021-02-02/0.0\",\"2021-02-03/0.0\",\"2021-02-04/0.0\",\"2021-02-05/0.0\",\"2021-02-06/0.0\",\"2021-02-07/0.0\",\"2021-02-08/0.0\",\"2021-02-13/0.0\",\"2021-02-14/0.0\",\"2021-02-15/0.0\",\"2021-02-16/0.0\",\"2021-02-17/0.0\",\"2021-02-18/0.0\",\"2021-02-19/0.0\",\"2021-02-20/0.0\",\"2021-02-21/0.0\",\"2021-02-22/0.0\",\"2021-02-23/0.0\",\"2021-02-24/0.0\",\"2021-02-25/0.0\",\"2021-02-26/0.0\",\"2021-02-27/0.0\",\"2021-02-28/0.0\",\"2021-03-02/0.0\",\"2021-03-03/0.0\",\"2021-03-04/0.0\",\"2021-03-05/0.0\",\"2021-03-06/0.0\",\"2021-03-07/0.0\",\"2021-03-08/0.0\",\"2021-03-13/0.0\",\"2021-03-14/0.0\",\"2021-03-15/0.0\",\"2021-03-16/0.0\",\"2021-03-17/0.0\",\"2021-03-18/0.0\",\"2021-03-19/0.0\",\"2021-03-20/0.0\",\"2021-03-21/0.0\",\"2021-03-22/0.0\",\"2021-03-23/0.0\",\"2021-03-24/0.0\",\"2021-03-25/0.0\",\"2021-03-26/0.0\",\"2021-03-27/0.0\",\"2021-03-28/0.0\",\"2021-03-29/0.0\",\"2021-03-30/0.0\",\"2021-03-31/0.0\",\"2021-04-02/0.0\",\"2021-04-03/0.0\",\"2021-04-04/0.0\",\"2021-04-05/0.0\",\"2021-04-06/0.0\",\"2021-04-07/0.0\",\"2021-04-08/0.0\",\"2021-04-13/0.0\",\"2021-04-14/0.0\",\"2021-04-15/0.0\",\"2021-04-16/0.0\",\"2021-04-17/0.0\",\"2021-04-18/0.0\",\"2021-04-19/0.0\",\"2021-04-20/0.0\",\"2021-04-21/0.0\",\"2021-04-22/0.0\",\"2021-04-23/0.0\",\"2021-04-24/0.0\",\"2021-04-25/0.0\",\"2021-04-26/0.0\",\"2021-04-27/0.0\",\"2021-04-28/0.0\",\"2021-04-29/0.0\",\"2021-04-30/0.0\",\"2021-05-02/0.0\",\"2021-05-03/0.0\",\"2021-05-04/0.0\",\"2021-05-05/0.0\",\"2021-05-06/0.0\",\"2021-05-07/0.0\",\"2021-05-08/0.0\",\"2021-05-13/0.0\",\"2021-05-14/0.0\",\"2021-05-15/0.0\",\"2021-05-16/0.0\",\"2021-05-17/0.0\",\"2021-05-18/0.0\",\"2021-05-19/0.0\",\"2021-05-20/0.0\",\"2021-05-21/0.0\",\"2021-05-22/0.0\",\"2021-05-23/0.0\",\"2021-05-24/0.0\",\"2021-05-25/0.0\",\"2021-05-26/0.0\",\"2021-05-27/0.0\",\"2021-05-28/0.0\",\"2021-05-29/0.0\",\"2021-05-30/0.0\",\"2021-05-31/0.0\",\"2021-06-02/0.0\",\"2021-06-03/0.0\",\"2021-06-04/0.0\",\"2021-06-05/0.0\",\"2021-06-06/0.0\",\"2021-06-07/0.0\",\"2021-06-08/0.0\",\"2021-06-13/0.0\",\"2021-06-14/0.0\",\"2021-06-15/0.0\",\"2021-06-16/0.0\",\"2021-06-17/0.0\",\"2021-06-18/0.0\",\"2021-06-19/0.0\",\"2021-06-20/0.0\",\"2021-06-21/0.0\",\"2021-06-22/0.0\",\"2021-06-23/0.0\",\"2021-06-24/0.0\",\"2021-06-25/0.0\",\"2021-06-26/0.0\",\"2021-06-27/0.0\",\"2021-06-28/0.0\",\"2021-06-29/0.0\",\"2021-06-30/0.0\",\"2021-07-02/0.0\",\"2021-07-03/0.0\",\"2021-07-04/0.0\",\"2021-07-05/0.0\",\"2021-07-06/0.0\",\"2021-07-07/0.0\",\"2021-07-08/0.0\",\"2021-07-13/0.0\",\"2021-07-14/0.0\",\"2021-07-15/0.0\",\"2021-07-16/0.0\",\"2021-07-17/0.0\",\"2021-07-18/0.0\",\"2021-07-19/0.0\",\"2021-07-20/0.0\",\"2021-07-21/0.0\",\"2021-07-22/0.0\",\"2021-07-23/0.0\",\"2021-07-24/0.0\",\"2021-07-25/0.0\",\"2021-07-26/0.0\",\"2021-07-27/0.0\",\"2021-07-28/0.0\",\"2021-07-29/0.0\",\"2021-07-30/0.0\",\"2021-07-31/0.0\",\"2021-08-02/0.0\",\"2021-08-03/0.0\",\"2021-08-04/0.0\",\"2021-08-05/0.0\",\"2021-08-06/0.0\",\"2021-08-07/0.0\",\"2021-08-08/0.0\",\"2021-08-13/0.0\",\"2021-08-14/0.0\",\"2021-08-15/0.0\",\"2021-08-16/0.0\",\"2021-09-02/0.0\",\"2021-09-03/0.0\",\"2021-09-04/0.0\",\"2021-09-05/0.0\",\"2021-09-06/0.0\",\"2021-09-07/0.0\",\"2021-09-08/0.0\",\"2021-10-02/0.0\",\"2021-10-03/0.0\",\"2021-10-04/0.0\",\"2021-10-05/0.0\",\"2021-10-06/0.0\",\"2021-10-07/0.0\",\"2021-10-08/0.0\",\"2021-11-02/0.0\",\"2021-11-03/0.0\",\"2021-11-04/0.0\",\"2021-11-05/0.0\",\"2021-11-06/0.0\",\"2021-11-07/0.0\",\"2021-11-08/0.0\",\"2021-12-02/0.0\",\"2021-12-03/0.0\",\"2021-12-04/0.0\",\"2021-12-05/0.0\",\"2021-12-06/0.0\",\"2021-12-07/0.0\",\"2021-12-08/0.0\",\"2021-01-16/23757.0\",\"2021-01-17/27348.0\",\"2021-01-18/41361.0\",\"2021-01-19/81901.0\",\"2021-01-20/98111.0\",\"2021-01-21/132784.0\",\"2021-01-22/193899.0\",\"2021-01-23/267856.0\",\"2021-01-24/296283.0\",\"2021-01-25/444137.0\",\"2021-01-26/449119.0\",\"2021-01-27/586081.0\",\"2021-01-28/771229.0\",\"2021-01-29/939069.0\",\"2021-01-30/1022380.0\",\"2021-01-31/1061307.0\",\"2021-01-02/1152344.0\",\"2021-02-02/1218507.0\",\"2021-03-02/1324273.0\",\"2021-04-02/1504527.0\",\"2021-05-02/1710466.0\",\"2021-06-02/1896705.0\",\"2021-07-02/1928947.0\",\"2021-08-02/2211020.0\",\"2021-09-02/2458329.0\",\"2021-10-02/2785194.0\",\"2021-11-02/3153649.0\",\"2021-12-02/3504429.0\",\"2021-02-13/3684053.0\",\"2021-02-14/3699535.0\",\"2021-02-15/3925723.0\",\"2021-02-16/4044967.0\",\"2021-02-17/4271486.0\",\"2021-02-18/4509554.0\",\"2021-02-19/4820055.0\",\"2021-02-20/4966750.0\",\"2021-02-21/4982068.0\",\"2021-02-22/5226538.0\",\"2021-02-23/5389434.0\",\"2021-02-24/5558978.0\",\"2021-02-25/5799474.0\",\"2021-02-26/6008758.0\",\"2021-02-27/6008785.0\",\"2021-01-03/6008960.0\",\"2021-02-28/6008960.0\",\"2021-02-03/6462436.0\",\"2021-03-03/6859318.0\",\"2021-04-03/7346850.0\",\"2021-05-03/7924084.0\",\"2021-06-03/8488627.0\",\"2021-07-03/8545982.0\",\"2021-08-03/9298005.0\",\"2021-09-03/10044921.0\",\"2021-10-03/10707385.0\",\"2021-11-03/10937930.0\",\"2021-12-03/11974143.0\",\"2021-03-13/12747867.0\",\"2021-03-14/12832126.0\",\"2021-03-16/13993527.0\",\"2021-03-15/14090723.0\",\"2021-03-17/16266085.0\",\"2021-03-18/17311577.0\",\"2021-03-19/18492473.0\",\"2021-03-20/19688923.0\",\"2021-03-21/20053560.0\",\"2021-03-22/21244939.0\",\"2021-03-23/22532413.0\",\"2021-03-24/23602891.0\",\"2021-03-25/24744845.0\",\"2021-03-26/25911744.0\",\"2021-03-27/26976551.0\",\"2021-03-28/27137004.0\",\"2021-03-29/27427546.0\",\"2021-03-30/28257441.0\",\"2021-03-31/29151242.0\",\"2021-01-04/30321468.0\",\"2021-02-04/32126426.0\",\"2021-03-04/33577406.0\",\"2021-04-04/35165269.0\",\"2021-05-04/36559511.0\",\"2021-06-04/37772299.0\",\"2021-07-04/40110598.0\",\"2021-08-04/42273620.0\",\"2021-09-04/43929844.0\",\"2021-10-04/45508111.0\",\"2021-11-04/46895781.0\",\"2021-12-04/48669828.0\",\"2021-04-13/49885738.0\",\"2021-04-14/51361929.0\",\"2021-04-15/52488916.0\",\"2021-04-16/53575244.0\",\"2021-04-17/54647827.0\",\"2021-04-18/55151208.0\",\"2021-04-19/56358692.0\",\"2021-04-20/57420010.0\",\"2021-04-21/58217380.0\",\"2021-04-22/59214377.0\",\"2021-04-23/60208977.0\",\"2021-04-24/61078797.0\",\"2021-04-25/61442119.0\",\"2021-04-26/62534884.0\",\"2021-04-27/63266613.0\",\"2021-04-28/63938524.0\",\"2021-04-29/64611787.0\",\"2021-04-30/65445771.0\",\"2021-01-05/65972485.0\",\"2021-02-05/66183753.0\",\"2021-03-05/66737774.0\",\"2021-04-05/67265833.0\",\"2021-05-05/67881167.0\",\"2021-06-05/68616643.0\",\"2021-07-05/69304346.0\",\"2021-08-05/69899266.0\",\"2021-09-05/70186220.0\",\"2021-10-05/70948079.0\",\"2021-11-05/71722365.0\",\"2021-12-05/72431855.0\",\"2021-05-13/73161834.0\",\"2021-05-14/73607113.0\",\"2021-05-15/74324379.0\",\"2021-05-16/74693401.0\",\"2021-05-17/75461311.0\",\"2021-05-18/76142110.0\",\"2021-05-19/76761977.0\",\"2021-05-20/77512357.0\",\"2021-05-21/78248902.0\",\"2021-05-22/79056922.0\",\"2021-05-23/79574984.0\",\"2021-05-24/80889623.0\",\"2021-05-25/82032580.0\",\"2021-05-26/83084097.0\",\"2021-05-27/84683042.0\",\"2021-05-28/86374510.0\",\"2021-05-29/88027641.0\",\"2021-05-30/88619604.0\",\"2021-05-31/90095606.0\",\"2021-01-06/91381749.0\",\"2021-02-06/92705952.0\",\"2021-03-06/94288015.0\",\"2021-04-06/96289872.0\",\"2021-05-06/98143570.0\",\"2021-06-06/98907905.0\",\"2021-07-06/100656406.0\",\"2021-08-06/102100803.0\",\"2021-09-06/103888483.0\",\"2021-10-06/105607170.0\",\"2021-11-06/107385721.0\",\"2021-12-06/109174763.0\",\"2021-06-13/109979462.0\",\"2021-06-14/111868784.0\",\"2021-06-15/113266182.0\",\"2021-06-16/114978703.0\",\"2021-06-17/116630688.0\",\"2021-06-18/118293011.0\",\"2021-06-19/120139375.0\",\"2021-06-20/121366817.0\",\"2021-06-21/125704054.0\",\"2021-06-22/128567271.0\",\"2021-06-23/131919150.0\",\"2021-06-24/134941971.0\",\"2021-01-02\",\"2021-01-03\",\"2021-01-04\",\"2021-01-05\",\"2021-01-06\",\"2021-01-07\",\"2021-01-08\",\"2021-01-16\",\"2021-01-17\",\"2021-01-18\",\"2021-01-19\",\"2021-01-20\",\"2021-01-21\",\"2021-01-22\",\"2021-01-23\",\"2021-01-24\",\"2021-01-25\",\"2021-01-26\",\"2021-01-27\",\"2021-01-28\",\"2021-01-29\",\"2021-01-30\",\"2021-01-31\",\"2021-02-02\",\"2021-02-03\",\"2021-02-04\",\"2021-02-05\",\"2021-02-06\",\"2021-02-07\",\"2021-02-08\",\"2021-02-13\",\"2021-02-14\",\"2021-02-15\",\"2021-02-16\",\"2021-02-17\",\"2021-02-18\",\"2021-02-19\",\"2021-02-20\",\"2021-02-21\",\"2021-02-22\",\"2021-02-23\",\"2021-02-24\",\"2021-02-25\",\"2021-02-26\",\"2021-02-27\",\"2021-02-28\",\"2021-03-02\",\"2021-03-03\",\"2021-03-04\",\"2021-03-05\",\"2021-03-06\",\"2021-03-07\",\"2021-03-08\",\"2021-03-13\",\"2021-03-14\",\"2021-03-15\",\"2021-03-16\",\"2021-03-17\",\"2021-03-18\",\"2021-03-19\",\"2021-03-20\",\"2021-03-21\",\"2021-03-22\",\"2021-03-23\",\"2021-03-24\",\"2021-03-25\",\"2021-03-26\",\"2021-03-27\",\"2021-03-28\",\"2021-03-29\",\"2021-03-30\",\"2021-03-31\",\"2021-04-02\",\"2021-04-03\",\"2021-04-04\",\"2021-04-05\",\"2021-04-06\",\"2021-04-07\",\"2021-04-08\",\"2021-04-13\",\"2021-04-14\",\"2021-04-15\",\"2021-04-16\",\"2021-04-17\",\"2021-04-18\",\"2021-04-19\",\"2021-04-20\",\"2021-04-21\",\"2021-04-22\",\"2021-04-23\",\"2021-04-24\",\"2021-04-25\",\"2021-04-26\",\"2021-04-27\",\"2021-04-28\",\"2021-04-29\",\"2021-04-30\",\"2021-05-02\",\"2021-05-03\",\"2021-05-04\",\"2021-05-05\",\"2021-05-06\",\"2021-05-07\",\"2021-05-08\",\"2021-05-13\",\"2021-05-14\",\"2021-05-15\",\"2021-05-16\",\"2021-05-17\",\"2021-05-18\",\"2021-05-19\",\"2021-05-20\",\"2021-05-21\",\"2021-05-22\",\"2021-05-23\",\"2021-05-24\",\"2021-05-25\",\"2021-05-26\",\"2021-05-27\",\"2021-05-28\",\"2021-05-29\",\"2021-05-30\",\"2021-05-31\",\"2021-06-02\",\"2021-06-03\",\"2021-06-04\",\"2021-06-05\",\"2021-06-06\",\"2021-06-07\",\"2021-06-08\",\"2021-06-13\",\"2021-06-14\",\"2021-06-15\",\"2021-06-16\",\"2021-06-17\",\"2021-06-18\",\"2021-06-19\",\"2021-06-20\",\"2021-06-21\",\"2021-06-22\",\"2021-06-23\",\"2021-06-24\",\"2021-06-25\",\"2021-06-26\",\"2021-06-27\",\"2021-06-28\",\"2021-06-29\",\"2021-06-30\",\"2021-07-02\",\"2021-07-03\",\"2021-07-04\",\"2021-07-05\",\"2021-07-06\",\"2021-07-07\",\"2021-07-08\",\"2021-07-13\",\"2021-07-14\",\"2021-07-15\",\"2021-07-16\",\"2021-07-17\",\"2021-07-18\",\"2021-07-19\",\"2021-07-20\",\"2021-07-21\",\"2021-07-22\",\"2021-07-23\",\"2021-07-24\",\"2021-07-25\",\"2021-07-26\",\"2021-07-27\",\"2021-07-28\",\"2021-07-29\",\"2021-07-30\",\"2021-07-31\",\"2021-08-02\",\"2021-08-03\",\"2021-08-04\",\"2021-08-05\",\"2021-08-06\",\"2021-08-07\",\"2021-08-08\",\"2021-08-13\",\"2021-08-14\",\"2021-08-15\",\"2021-08-16\",\"2021-09-02\",\"2021-09-03\",\"2021-09-04\",\"2021-09-05\",\"2021-09-06\",\"2021-09-07\",\"2021-09-08\",\"2021-10-02\",\"2021-10-03\",\"2021-10-04\",\"2021-10-05\",\"2021-10-06\",\"2021-10-07\",\"2021-10-08\",\"2021-11-02\",\"2021-11-03\",\"2021-11-04\",\"2021-11-05\",\"2021-11-06\",\"2021-11-07\",\"2021-11-08\",\"2021-12-02\",\"2021-12-03\",\"2021-12-04\",\"2021-12-05\",\"2021-12-06\",\"2021-12-07\",\"2021-12-08\"],\"labels\":[\"0.0\",\"0.0\",\"0.0\",\"0.0\",\"0.0\",\"0.0\",\"0.0\",\"0.0\",\"0.0\",\"0.0\",\"0.0\",\"0.0\",\"0.0\",\"0.0\",\"0.0\",\"0.0\",\"0.0\",\"0.0\",\"0.0\",\"0.0\",\"0.0\",\"0.0\",\"0.0\",\"0.0\",\"0.0\",\"0.0\",\"0.0\",\"0.0\",\"0.0\",\"0.0\",\"0.0\",\"0.0\",\"0.0\",\"0.0\",\"0.0\",\"0.0\",\"0.0\",\"0.0\",\"0.0\",\"0.0\",\"0.0\",\"0.0\",\"0.0\",\"0.0\",\"0.0\",\"0.0\",\"0.0\",\"0.0\",\"0.0\",\"0.0\",\"0.0\",\"0.0\",\"0.0\",\"0.0\",\"0.0\",\"0.0\",\"0.0\",\"0.0\",\"0.0\",\"0.0\",\"0.0\",\"0.0\",\"0.0\",\"0.0\",\"0.0\",\"0.0\",\"0.0\",\"0.0\",\"0.0\",\"0.0\",\"0.0\",\"0.0\",\"0.0\",\"0.0\",\"0.0\",\"0.0\",\"0.0\",\"0.0\",\"0.0\",\"0.0\",\"0.0\",\"0.0\",\"0.0\",\"0.0\",\"0.0\",\"0.0\",\"0.0\",\"0.0\",\"0.0\",\"0.0\",\"0.0\",\"0.0\",\"0.0\",\"0.0\",\"0.0\",\"0.0\",\"0.0\",\"0.0\",\"0.0\",\"0.0\",\"0.0\",\"0.0\",\"0.0\",\"0.0\",\"0.0\",\"0.0\",\"0.0\",\"0.0\",\"0.0\",\"0.0\",\"0.0\",\"0.0\",\"0.0\",\"0.0\",\"0.0\",\"0.0\",\"0.0\",\"0.0\",\"0.0\",\"0.0\",\"0.0\",\"0.0\",\"0.0\",\"0.0\",\"0.0\",\"0.0\",\"0.0\",\"0.0\",\"0.0\",\"0.0\",\"0.0\",\"0.0\",\"0.0\",\"0.0\",\"0.0\",\"0.0\",\"0.0\",\"0.0\",\"0.0\",\"0.0\",\"0.0\",\"0.0\",\"0.0\",\"0.0\",\"0.0\",\"0.0\",\"0.0\",\"0.0\",\"0.0\",\"0.0\",\"0.0\",\"0.0\",\"0.0\",\"0.0\",\"0.0\",\"0.0\",\"0.0\",\"0.0\",\"0.0\",\"0.0\",\"0.0\",\"0.0\",\"0.0\",\"0.0\",\"0.0\",\"0.0\",\"0.0\",\"0.0\",\"0.0\",\"0.0\",\"0.0\",\"0.0\",\"0.0\",\"0.0\",\"0.0\",\"0.0\",\"0.0\",\"0.0\",\"0.0\",\"0.0\",\"0.0\",\"0.0\",\"0.0\",\"0.0\",\"0.0\",\"0.0\",\"0.0\",\"0.0\",\"0.0\",\"0.0\",\"0.0\",\"0.0\",\"0.0\",\"0.0\",\"0.0\",\"0.0\",\"0.0\",\"0.0\",\"0.0\",\"0.0\",\"0.0\",\"0.0\",\"0.0\",\"0.0\",\"0.0\",\"0.0\",\"0.0\",\"0.0\",\"0.0\",\"0.0\",\"0.0\",\"0.0\",\"0.0\",\"23757.0\",\"27348.0\",\"41361.0\",\"81901.0\",\"98111.0\",\"132784.0\",\"193899.0\",\"267856.0\",\"296283.0\",\"444137.0\",\"449119.0\",\"586081.0\",\"771229.0\",\"939069.0\",\"1022380.0\",\"1061307.0\",\"1152344.0\",\"1218507.0\",\"1324273.0\",\"1504527.0\",\"1710466.0\",\"1896705.0\",\"1928947.0\",\"2211020.0\",\"2458329.0\",\"2785194.0\",\"3153649.0\",\"3504429.0\",\"3684053.0\",\"3699535.0\",\"3925723.0\",\"4044967.0\",\"4271486.0\",\"4509554.0\",\"4820055.0\",\"4966750.0\",\"4982068.0\",\"5226538.0\",\"5389434.0\",\"5558978.0\",\"5799474.0\",\"6008758.0\",\"6008785.0\",\"6008960.0\",\"6008960.0\",\"6462436.0\",\"6859318.0\",\"7346850.0\",\"7924084.0\",\"8488627.0\",\"8545982.0\",\"9298005.0\",\"10044921.0\",\"10707385.0\",\"10937930.0\",\"11974143.0\",\"12747867.0\",\"12832126.0\",\"13993527.0\",\"14090723.0\",\"16266085.0\",\"17311577.0\",\"18492473.0\",\"19688923.0\",\"20053560.0\",\"21244939.0\",\"22532413.0\",\"23602891.0\",\"24744845.0\",\"25911744.0\",\"26976551.0\",\"27137004.0\",\"27427546.0\",\"28257441.0\",\"29151242.0\",\"30321468.0\",\"32126426.0\",\"33577406.0\",\"35165269.0\",\"36559511.0\",\"37772299.0\",\"40110598.0\",\"42273620.0\",\"43929844.0\",\"45508111.0\",\"46895781.0\",\"48669828.0\",\"49885738.0\",\"51361929.0\",\"52488916.0\",\"53575244.0\",\"54647827.0\",\"55151208.0\",\"56358692.0\",\"57420010.0\",\"58217380.0\",\"59214377.0\",\"60208977.0\",\"61078797.0\",\"61442119.0\",\"62534884.0\",\"63266613.0\",\"63938524.0\",\"64611787.0\",\"65445771.0\",\"65972485.0\",\"66183753.0\",\"66737774.0\",\"67265833.0\",\"67881167.0\",\"68616643.0\",\"69304346.0\",\"69899266.0\",\"70186220.0\",\"70948079.0\",\"71722365.0\",\"72431855.0\",\"73161834.0\",\"73607113.0\",\"74324379.0\",\"74693401.0\",\"75461311.0\",\"76142110.0\",\"76761977.0\",\"77512357.0\",\"78248902.0\",\"79056922.0\",\"79574984.0\",\"80889623.0\",\"82032580.0\",\"83084097.0\",\"84683042.0\",\"86374510.0\",\"88027641.0\",\"88619604.0\",\"90095606.0\",\"91381749.0\",\"92705952.0\",\"94288015.0\",\"96289872.0\",\"98143570.0\",\"98907905.0\",\"100656406.0\",\"102100803.0\",\"103888483.0\",\"105607170.0\",\"107385721.0\",\"109174763.0\",\"109979462.0\",\"111868784.0\",\"113266182.0\",\"114978703.0\",\"116630688.0\",\"118293011.0\",\"120139375.0\",\"121366817.0\",\"125704054.0\",\"128567271.0\",\"131919150.0\",\"134941971.0\",\"2021-01-02\",\"2021-01-03\",\"2021-01-04\",\"2021-01-05\",\"2021-01-06\",\"2021-01-07\",\"2021-01-08\",\"2021-01-16\",\"2021-01-17\",\"2021-01-18\",\"2021-01-19\",\"2021-01-20\",\"2021-01-21\",\"2021-01-22\",\"2021-01-23\",\"2021-01-24\",\"2021-01-25\",\"2021-01-26\",\"2021-01-27\",\"2021-01-28\",\"2021-01-29\",\"2021-01-30\",\"2021-01-31\",\"2021-02-02\",\"2021-02-03\",\"2021-02-04\",\"2021-02-05\",\"2021-02-06\",\"2021-02-07\",\"2021-02-08\",\"2021-02-13\",\"2021-02-14\",\"2021-02-15\",\"2021-02-16\",\"2021-02-17\",\"2021-02-18\",\"2021-02-19\",\"2021-02-20\",\"2021-02-21\",\"2021-02-22\",\"2021-02-23\",\"2021-02-24\",\"2021-02-25\",\"2021-02-26\",\"2021-02-27\",\"2021-02-28\",\"2021-03-02\",\"2021-03-03\",\"2021-03-04\",\"2021-03-05\",\"2021-03-06\",\"2021-03-07\",\"2021-03-08\",\"2021-03-13\",\"2021-03-14\",\"2021-03-15\",\"2021-03-16\",\"2021-03-17\",\"2021-03-18\",\"2021-03-19\",\"2021-03-20\",\"2021-03-21\",\"2021-03-22\",\"2021-03-23\",\"2021-03-24\",\"2021-03-25\",\"2021-03-26\",\"2021-03-27\",\"2021-03-28\",\"2021-03-29\",\"2021-03-30\",\"2021-03-31\",\"2021-04-02\",\"2021-04-03\",\"2021-04-04\",\"2021-04-05\",\"2021-04-06\",\"2021-04-07\",\"2021-04-08\",\"2021-04-13\",\"2021-04-14\",\"2021-04-15\",\"2021-04-16\",\"2021-04-17\",\"2021-04-18\",\"2021-04-19\",\"2021-04-20\",\"2021-04-21\",\"2021-04-22\",\"2021-04-23\",\"2021-04-24\",\"2021-04-25\",\"2021-04-26\",\"2021-04-27\",\"2021-04-28\",\"2021-04-29\",\"2021-04-30\",\"2021-05-02\",\"2021-05-03\",\"2021-05-04\",\"2021-05-05\",\"2021-05-06\",\"2021-05-07\",\"2021-05-08\",\"2021-05-13\",\"2021-05-14\",\"2021-05-15\",\"2021-05-16\",\"2021-05-17\",\"2021-05-18\",\"2021-05-19\",\"2021-05-20\",\"2021-05-21\",\"2021-05-22\",\"2021-05-23\",\"2021-05-24\",\"2021-05-25\",\"2021-05-26\",\"2021-05-27\",\"2021-05-28\",\"2021-05-29\",\"2021-05-30\",\"2021-05-31\",\"2021-06-02\",\"2021-06-03\",\"2021-06-04\",\"2021-06-05\",\"2021-06-06\",\"2021-06-07\",\"2021-06-08\",\"2021-06-13\",\"2021-06-14\",\"2021-06-15\",\"2021-06-16\",\"2021-06-17\",\"2021-06-18\",\"2021-06-19\",\"2021-06-20\",\"2021-06-21\",\"2021-06-22\",\"2021-06-23\",\"2021-06-24\",\"2021-06-25\",\"2021-06-26\",\"2021-06-27\",\"2021-06-28\",\"2021-06-29\",\"2021-06-30\",\"2021-07-02\",\"2021-07-03\",\"2021-07-04\",\"2021-07-05\",\"2021-07-06\",\"2021-07-07\",\"2021-07-08\",\"2021-07-13\",\"2021-07-14\",\"2021-07-15\",\"2021-07-16\",\"2021-07-17\",\"2021-07-18\",\"2021-07-19\",\"2021-07-20\",\"2021-07-21\",\"2021-07-22\",\"2021-07-23\",\"2021-07-24\",\"2021-07-25\",\"2021-07-26\",\"2021-07-27\",\"2021-07-28\",\"2021-07-29\",\"2021-07-30\",\"2021-07-31\",\"2021-08-02\",\"2021-08-03\",\"2021-08-04\",\"2021-08-05\",\"2021-08-06\",\"2021-08-07\",\"2021-08-08\",\"2021-08-13\",\"2021-08-14\",\"2021-08-15\",\"2021-08-16\",\"2021-09-02\",\"2021-09-03\",\"2021-09-04\",\"2021-09-05\",\"2021-09-06\",\"2021-09-07\",\"2021-09-08\",\"2021-10-02\",\"2021-10-03\",\"2021-10-04\",\"2021-10-05\",\"2021-10-06\",\"2021-10-07\",\"2021-10-08\",\"2021-11-02\",\"2021-11-03\",\"2021-11-04\",\"2021-11-05\",\"2021-11-06\",\"2021-11-07\",\"2021-11-08\",\"2021-12-02\",\"2021-12-03\",\"2021-12-04\",\"2021-12-05\",\"2021-12-06\",\"2021-12-07\",\"2021-12-08\"],\"name\":\"\",\"parents\":[\"2021-01-02\",\"2021-01-03\",\"2021-01-04\",\"2021-01-05\",\"2021-01-06\",\"2021-01-07\",\"2021-01-08\",\"2021-01-16\",\"2021-01-17\",\"2021-01-18\",\"2021-01-19\",\"2021-01-20\",\"2021-01-21\",\"2021-01-22\",\"2021-01-23\",\"2021-01-24\",\"2021-01-25\",\"2021-01-26\",\"2021-01-27\",\"2021-01-28\",\"2021-01-29\",\"2021-01-30\",\"2021-01-31\",\"2021-02-02\",\"2021-02-03\",\"2021-02-04\",\"2021-02-05\",\"2021-02-06\",\"2021-02-07\",\"2021-02-08\",\"2021-02-13\",\"2021-02-14\",\"2021-02-15\",\"2021-02-16\",\"2021-02-17\",\"2021-02-18\",\"2021-02-19\",\"2021-02-20\",\"2021-02-21\",\"2021-02-22\",\"2021-02-23\",\"2021-02-24\",\"2021-02-25\",\"2021-02-26\",\"2021-02-27\",\"2021-02-28\",\"2021-03-02\",\"2021-03-03\",\"2021-03-04\",\"2021-03-05\",\"2021-03-06\",\"2021-03-07\",\"2021-03-08\",\"2021-03-13\",\"2021-03-14\",\"2021-03-15\",\"2021-03-16\",\"2021-03-17\",\"2021-03-18\",\"2021-03-19\",\"2021-03-20\",\"2021-03-21\",\"2021-03-22\",\"2021-03-23\",\"2021-03-24\",\"2021-03-25\",\"2021-03-26\",\"2021-03-27\",\"2021-03-28\",\"2021-03-29\",\"2021-03-30\",\"2021-03-31\",\"2021-04-02\",\"2021-04-03\",\"2021-04-04\",\"2021-04-05\",\"2021-04-06\",\"2021-04-07\",\"2021-04-08\",\"2021-04-13\",\"2021-04-14\",\"2021-04-15\",\"2021-04-16\",\"2021-04-17\",\"2021-04-18\",\"2021-04-19\",\"2021-04-20\",\"2021-04-21\",\"2021-04-22\",\"2021-04-23\",\"2021-04-24\",\"2021-04-25\",\"2021-04-26\",\"2021-04-27\",\"2021-04-28\",\"2021-04-29\",\"2021-04-30\",\"2021-05-02\",\"2021-05-03\",\"2021-05-04\",\"2021-05-05\",\"2021-05-06\",\"2021-05-07\",\"2021-05-08\",\"2021-05-13\",\"2021-05-14\",\"2021-05-15\",\"2021-05-16\",\"2021-05-17\",\"2021-05-18\",\"2021-05-19\",\"2021-05-20\",\"2021-05-21\",\"2021-05-22\",\"2021-05-23\",\"2021-05-24\",\"2021-05-25\",\"2021-05-26\",\"2021-05-27\",\"2021-05-28\",\"2021-05-29\",\"2021-05-30\",\"2021-05-31\",\"2021-06-02\",\"2021-06-03\",\"2021-06-04\",\"2021-06-05\",\"2021-06-06\",\"2021-06-07\",\"2021-06-08\",\"2021-06-13\",\"2021-06-14\",\"2021-06-15\",\"2021-06-16\",\"2021-06-17\",\"2021-06-18\",\"2021-06-19\",\"2021-06-20\",\"2021-06-21\",\"2021-06-22\",\"2021-06-23\",\"2021-06-24\",\"2021-06-25\",\"2021-06-26\",\"2021-06-27\",\"2021-06-28\",\"2021-06-29\",\"2021-06-30\",\"2021-07-02\",\"2021-07-03\",\"2021-07-04\",\"2021-07-05\",\"2021-07-06\",\"2021-07-07\",\"2021-07-08\",\"2021-07-13\",\"2021-07-14\",\"2021-07-15\",\"2021-07-16\",\"2021-07-17\",\"2021-07-18\",\"2021-07-19\",\"2021-07-20\",\"2021-07-21\",\"2021-07-22\",\"2021-07-23\",\"2021-07-24\",\"2021-07-25\",\"2021-07-26\",\"2021-07-27\",\"2021-07-28\",\"2021-07-29\",\"2021-07-30\",\"2021-07-31\",\"2021-08-02\",\"2021-08-03\",\"2021-08-04\",\"2021-08-05\",\"2021-08-06\",\"2021-08-07\",\"2021-08-08\",\"2021-08-13\",\"2021-08-14\",\"2021-08-15\",\"2021-08-16\",\"2021-09-02\",\"2021-09-03\",\"2021-09-04\",\"2021-09-05\",\"2021-09-06\",\"2021-09-07\",\"2021-09-08\",\"2021-10-02\",\"2021-10-03\",\"2021-10-04\",\"2021-10-05\",\"2021-10-06\",\"2021-10-07\",\"2021-10-08\",\"2021-11-02\",\"2021-11-03\",\"2021-11-04\",\"2021-11-05\",\"2021-11-06\",\"2021-11-07\",\"2021-11-08\",\"2021-12-02\",\"2021-12-03\",\"2021-12-04\",\"2021-12-05\",\"2021-12-06\",\"2021-12-07\",\"2021-12-08\",\"2021-01-16\",\"2021-01-17\",\"2021-01-18\",\"2021-01-19\",\"2021-01-20\",\"2021-01-21\",\"2021-01-22\",\"2021-01-23\",\"2021-01-24\",\"2021-01-25\",\"2021-01-26\",\"2021-01-27\",\"2021-01-28\",\"2021-01-29\",\"2021-01-30\",\"2021-01-31\",\"2021-01-02\",\"2021-02-02\",\"2021-03-02\",\"2021-04-02\",\"2021-05-02\",\"2021-06-02\",\"2021-07-02\",\"2021-08-02\",\"2021-09-02\",\"2021-10-02\",\"2021-11-02\",\"2021-12-02\",\"2021-02-13\",\"2021-02-14\",\"2021-02-15\",\"2021-02-16\",\"2021-02-17\",\"2021-02-18\",\"2021-02-19\",\"2021-02-20\",\"2021-02-21\",\"2021-02-22\",\"2021-02-23\",\"2021-02-24\",\"2021-02-25\",\"2021-02-26\",\"2021-02-27\",\"2021-01-03\",\"2021-02-28\",\"2021-02-03\",\"2021-03-03\",\"2021-04-03\",\"2021-05-03\",\"2021-06-03\",\"2021-07-03\",\"2021-08-03\",\"2021-09-03\",\"2021-10-03\",\"2021-11-03\",\"2021-12-03\",\"2021-03-13\",\"2021-03-14\",\"2021-03-16\",\"2021-03-15\",\"2021-03-17\",\"2021-03-18\",\"2021-03-19\",\"2021-03-20\",\"2021-03-21\",\"2021-03-22\",\"2021-03-23\",\"2021-03-24\",\"2021-03-25\",\"2021-03-26\",\"2021-03-27\",\"2021-03-28\",\"2021-03-29\",\"2021-03-30\",\"2021-03-31\",\"2021-01-04\",\"2021-02-04\",\"2021-03-04\",\"2021-04-04\",\"2021-05-04\",\"2021-06-04\",\"2021-07-04\",\"2021-08-04\",\"2021-09-04\",\"2021-10-04\",\"2021-11-04\",\"2021-12-04\",\"2021-04-13\",\"2021-04-14\",\"2021-04-15\",\"2021-04-16\",\"2021-04-17\",\"2021-04-18\",\"2021-04-19\",\"2021-04-20\",\"2021-04-21\",\"2021-04-22\",\"2021-04-23\",\"2021-04-24\",\"2021-04-25\",\"2021-04-26\",\"2021-04-27\",\"2021-04-28\",\"2021-04-29\",\"2021-04-30\",\"2021-01-05\",\"2021-02-05\",\"2021-03-05\",\"2021-04-05\",\"2021-05-05\",\"2021-06-05\",\"2021-07-05\",\"2021-08-05\",\"2021-09-05\",\"2021-10-05\",\"2021-11-05\",\"2021-12-05\",\"2021-05-13\",\"2021-05-14\",\"2021-05-15\",\"2021-05-16\",\"2021-05-17\",\"2021-05-18\",\"2021-05-19\",\"2021-05-20\",\"2021-05-21\",\"2021-05-22\",\"2021-05-23\",\"2021-05-24\",\"2021-05-25\",\"2021-05-26\",\"2021-05-27\",\"2021-05-28\",\"2021-05-29\",\"2021-05-30\",\"2021-05-31\",\"2021-01-06\",\"2021-02-06\",\"2021-03-06\",\"2021-04-06\",\"2021-05-06\",\"2021-06-06\",\"2021-07-06\",\"2021-08-06\",\"2021-09-06\",\"2021-10-06\",\"2021-11-06\",\"2021-12-06\",\"2021-06-13\",\"2021-06-14\",\"2021-06-15\",\"2021-06-16\",\"2021-06-17\",\"2021-06-18\",\"2021-06-19\",\"2021-06-20\",\"2021-06-21\",\"2021-06-22\",\"2021-06-23\",\"2021-06-24\",\"\",\"\",\"\",\"\",\"\",\"\",\"\",\"\",\"\",\"\",\"\",\"\",\"\",\"\",\"\",\"\",\"\",\"\",\"\",\"\",\"\",\"\",\"\",\"\",\"\",\"\",\"\",\"\",\"\",\"\",\"\",\"\",\"\",\"\",\"\",\"\",\"\",\"\",\"\",\"\",\"\",\"\",\"\",\"\",\"\",\"\",\"\",\"\",\"\",\"\",\"\",\"\",\"\",\"\",\"\",\"\",\"\",\"\",\"\",\"\",\"\",\"\",\"\",\"\",\"\",\"\",\"\",\"\",\"\",\"\",\"\",\"\",\"\",\"\",\"\",\"\",\"\",\"\",\"\",\"\",\"\",\"\",\"\",\"\",\"\",\"\",\"\",\"\",\"\",\"\",\"\",\"\",\"\",\"\",\"\",\"\",\"\",\"\",\"\",\"\",\"\",\"\",\"\",\"\",\"\",\"\",\"\",\"\",\"\",\"\",\"\",\"\",\"\",\"\",\"\",\"\",\"\",\"\",\"\",\"\",\"\",\"\",\"\",\"\",\"\",\"\",\"\",\"\",\"\",\"\",\"\",\"\",\"\",\"\",\"\",\"\",\"\",\"\",\"\",\"\",\"\",\"\",\"\",\"\",\"\",\"\",\"\",\"\",\"\",\"\",\"\",\"\",\"\",\"\",\"\",\"\",\"\",\"\",\"\",\"\",\"\",\"\",\"\",\"\",\"\",\"\",\"\",\"\",\"\",\"\",\"\",\"\",\"\",\"\",\"\",\"\",\"\",\"\",\"\",\"\",\"\",\"\",\"\",\"\",\"\",\"\",\"\",\"\",\"\",\"\",\"\",\"\",\"\",\"\",\"\",\"\",\"\",\"\",\"\",\"\",\"\",\"\",\"\",\"\",\"\",\"\",\"\",\"\",\"\",\"\",\"\",\"\",\"\"],\"values\":[3350260.0,11141302.0,57318961.0,126328970.0,170640412.0,0.0,0.0,48276.0,58604.0,99449.0,195525.0,251280.0,365965.0,549381.0,759008.0,835058.0,1277104.0,1293784.0,1726345.0,2295491.0,2814803.0,3067736.0,3127102.0,3527966.0,11885932.0,60811382.0,126704151.0,172945950.0,0.0,0.0,7687212.0,7710177.0,8110912.0,8337345.0,8704426.0,8862199.0,9523260.0,9734187.0,9756897.0,10068939.0,10287965.0,10517231.0,10845850.0,11141030.0,11141077.0,11141302.0,3825835.0,12551046.0,63613392.0,127696675.0,175677634.0,0.0,0.0,23159604.0,23317750.0,25618250.0,25615620.0,29913061.0,31847478.0,34121206.0,36460274.0,37195786.0,39497139.0,42036983.0,44135856.0,46338124.0,48630419.0,50745334.0,51059318.0,51654023.0,53307952.0,55067955.0,4314304.0,13390837.0,66715435.0,128627919.0,179205337.0,0.0,0.0,95681092.0,98558176.0,100705680.0,102776753.0,104795443.0,105740794.0,108017107.0,110000221.0,111505538.0,113410967.0,115283292.0,116924037.0,117613567.0,119696006.0,121263689.0,122538643.0,123812121.0,125376487.0,4765924.0,14412306.0,69488636.0,129730641.0,182451348.0,0.0,0.0,139087590.0,139861462.0,141132112.0,141764335.0,143090218.0,144270200.0,145333606.0,146624652.0,147893976.0,149302864.0,150180408.0,152439044.0,154384464.0,156189641.0,159006359.0,161951713.0,164804095.0,165823004.0,168393525.0,5111827.0,15438093.0,71911551.0,131058890.0,183824958.0,0.0,0.0,203705131.0,207274441.0,209816439.0,212945352.0,215944608.0,218956863.0,222316897.0,224929947.0,233288807.0,238685516.0,244944880.0,250656880.0,0.0,0.0,0.0,0.0,0.0,0.0,5168099.0,15541124.0,76542972.0,132294827.0,186933771.0,0.0,0.0,0.0,0.0,0.0,0.0,0.0,0.0,0.0,0.0,0.0,0.0,0.0,0.0,0.0,0.0,0.0,0.0,0.0,0.0,0.0,5615448.0,16975729.0,80869064.0,133366482.0,189503126.0,0.0,0.0,0.0,0.0,0.0,0.0,6002395.0,18360243.0,84165906.0,133854676.0,192669299.0,0.0,0.0,6462171.0,19538547.0,87278410.0,135192013.0,195747476.0,0.0,0.0,6958434.0,19953987.0,89981407.0,136557345.0,198977594.0,0.0,0.0,7423700.0,21772159.0,93424883.0,137805245.0,202207183.0,0.0,0.0,48276.0,58604.0,99449.0,195525.0,251280.0,365965.0,549381.0,759008.0,835058.0,1277104.0,1293784.0,1726490.0,2295491.0,2814803.0,3067736.0,3127107.0,3350265.0,3527971.0,3825835.0,4314304.0,4765924.0,5111827.0,5168099.0,5615499.0,6002474.0,6462270.0,6958553.0,7423817.0,7687352.0,7710367.0,8111162.0,8337600.0,8704698.0,8862491.0,9523567.0,9734505.0,9757217.0,10069263.0,10288293.0,10517568.0,10846192.0,11141375.0,11141426.0,11141651.0,11141651.0,11886320.0,12553326.0,13393538.0,14415912.0,15438495.0,15541529.0,16976138.0,18360243.0,19538547.0,19953987.0,21772159.0,23159604.0,23317750.0,25709257.0,25618250.0,30011328.0,31952935.0,34228371.0,36568988.0,37303458.0,39612614.0,42148875.0,44250191.0,46454700.0,48749313.0,50865316.0,51179587.0,51774289.0,53429356.0,55188803.0,57443466.0,60936753.0,63743700.0,66838504.0,69620234.0,72035640.0,76671812.0,80998099.0,84296847.0,87411872.0,90111528.0,93559587.0,95823614.0,98703696.0,100853671.0,102927296.0,104950409.0,105896430.0,108178574.0,110165234.0,111673361.0,113584269.0,115461202.0,117105343.0,117795008.0,119886252.0,121263287.0,122538179.0,123811908.0,125376952.0,126328970.0,126704151.0,127696675.0,128627919.0,129730641.0,131058890.0,132294827.0,133366482.0,133854676.0,135192013.0,136557345.0,137805245.0,139087590.0,139861462.0,141132112.0,141764335.0,143090218.0,144270200.0,145333606.0,146624652.0,147893976.0,149302864.0,150180408.0,152439044.0,154384464.0,156189641.0,159006359.0,161951713.0,164804095.0,165823004.0,168393525.0,170640412.0,172945950.0,175677634.0,179205337.0,182451348.0,183824958.0,186933771.0,189503126.0,192669299.0,195747476.0,198977594.0,202207183.0,203705131.0,207274441.0,209816439.0,212945352.0,215944608.0,218956863.0,222316897.0,225211708.0,233288807.0,238685516.0,244944880.0,250656880.0,6700525.0,22282953.0,114762427.0,252657940.0,341280824.0,0.0,0.0,96552.0,117208.0,198898.0,391050.0,502560.0,731930.0,1098762.0,1518016.0,1670116.0,2554208.0,2587568.0,3452835.0,4590982.0,5629606.0,6135472.0,6254209.0,7055937.0,23772252.0,121748135.0,253408302.0,345891900.0,0.0,0.0,15374564.0,15420544.0,16222074.0,16674945.0,17409124.0,17724690.0,19046827.0,19468692.0,19514114.0,20138202.0,20576258.0,21034799.0,21692042.0,22282405.0,22282503.0,22282953.0,7651670.0,25104372.0,127357092.0,255393350.0,351355268.0,0.0,0.0,46319208.0,46635500.0,51236500.0,51324877.0,59924389.0,63800413.0,68349577.0,73029262.0,74499244.0,79109753.0,84185858.0,88386047.0,92792824.0,97379732.0,101610650.0,102238905.0,103428312.0,106737308.0,110256758.0,8628608.0,26784375.0,133553939.0,257255838.0,358410674.0,0.0,0.0,191504706.0,197261872.0,201559351.0,205704049.0,209745852.0,211637224.0,216195681.0,220165455.0,223178899.0,226995236.0,230744494.0,234029380.0,235408575.0,239582258.0,242526976.0,245076822.0,247624029.0,250753439.0,9531848.0,28828218.0,139108870.0,259461282.0,364902696.0,0.0,0.0,278175180.0,279722924.0,282264224.0,283528670.0,286180436.0,288540400.0,290667212.0,293249304.0,295787952.0,298605728.0,300360816.0,304878088.0,308768928.0,312379282.0,318012718.0,323903426.0,329608190.0,331646008.0,336787050.0,10223654.0,30876588.0,143947191.0,262117780.0,367649916.0,0.0,0.0,407410262.0,414548882.0,419632878.0,425890704.0,431889216.0,437913726.0,444633794.0,450141655.0,466577614.0,477371032.0,489889760.0,501313760.0,0.0,0.0,0.0,0.0,0.0,0.0,10336198.0,31082653.0,153214784.0,264589654.0,373867542.0,0.0,0.0,0.0,0.0,0.0,0.0,0.0,0.0,0.0,0.0,0.0,0.0,0.0,0.0,0.0,0.0,0.0,0.0,0.0,0.0,0.0,11230947.0,33951867.0,161867163.0,266732964.0,379006252.0,0.0,0.0,0.0,0.0,0.0,0.0,12004869.0,36720486.0,168462753.0,267709352.0,385338598.0,0.0,0.0,12924441.0,39077094.0,174690282.0,270384026.0,391494952.0,0.0,0.0,13916987.0,39907974.0,180092935.0,273114690.0,397955188.0,0.0,0.0,14847517.0,43544318.0,186984470.0,275610490.0,404414366.0,0.0,0.0],\"type\":\"treemap\"}],                        {\"template\":{\"data\":{\"histogram2dcontour\":[{\"type\":\"histogram2dcontour\",\"colorbar\":{\"outlinewidth\":0,\"ticks\":\"\"},\"colorscale\":[[0.0,\"#0d0887\"],[0.1111111111111111,\"#46039f\"],[0.2222222222222222,\"#7201a8\"],[0.3333333333333333,\"#9c179e\"],[0.4444444444444444,\"#bd3786\"],[0.5555555555555556,\"#d8576b\"],[0.6666666666666666,\"#ed7953\"],[0.7777777777777778,\"#fb9f3a\"],[0.8888888888888888,\"#fdca26\"],[1.0,\"#f0f921\"]]}],\"choropleth\":[{\"type\":\"choropleth\",\"colorbar\":{\"outlinewidth\":0,\"ticks\":\"\"}}],\"histogram2d\":[{\"type\":\"histogram2d\",\"colorbar\":{\"outlinewidth\":0,\"ticks\":\"\"},\"colorscale\":[[0.0,\"#0d0887\"],[0.1111111111111111,\"#46039f\"],[0.2222222222222222,\"#7201a8\"],[0.3333333333333333,\"#9c179e\"],[0.4444444444444444,\"#bd3786\"],[0.5555555555555556,\"#d8576b\"],[0.6666666666666666,\"#ed7953\"],[0.7777777777777778,\"#fb9f3a\"],[0.8888888888888888,\"#fdca26\"],[1.0,\"#f0f921\"]]}],\"heatmap\":[{\"type\":\"heatmap\",\"colorbar\":{\"outlinewidth\":0,\"ticks\":\"\"},\"colorscale\":[[0.0,\"#0d0887\"],[0.1111111111111111,\"#46039f\"],[0.2222222222222222,\"#7201a8\"],[0.3333333333333333,\"#9c179e\"],[0.4444444444444444,\"#bd3786\"],[0.5555555555555556,\"#d8576b\"],[0.6666666666666666,\"#ed7953\"],[0.7777777777777778,\"#fb9f3a\"],[0.8888888888888888,\"#fdca26\"],[1.0,\"#f0f921\"]]}],\"heatmapgl\":[{\"type\":\"heatmapgl\",\"colorbar\":{\"outlinewidth\":0,\"ticks\":\"\"},\"colorscale\":[[0.0,\"#0d0887\"],[0.1111111111111111,\"#46039f\"],[0.2222222222222222,\"#7201a8\"],[0.3333333333333333,\"#9c179e\"],[0.4444444444444444,\"#bd3786\"],[0.5555555555555556,\"#d8576b\"],[0.6666666666666666,\"#ed7953\"],[0.7777777777777778,\"#fb9f3a\"],[0.8888888888888888,\"#fdca26\"],[1.0,\"#f0f921\"]]}],\"contourcarpet\":[{\"type\":\"contourcarpet\",\"colorbar\":{\"outlinewidth\":0,\"ticks\":\"\"}}],\"contour\":[{\"type\":\"contour\",\"colorbar\":{\"outlinewidth\":0,\"ticks\":\"\"},\"colorscale\":[[0.0,\"#0d0887\"],[0.1111111111111111,\"#46039f\"],[0.2222222222222222,\"#7201a8\"],[0.3333333333333333,\"#9c179e\"],[0.4444444444444444,\"#bd3786\"],[0.5555555555555556,\"#d8576b\"],[0.6666666666666666,\"#ed7953\"],[0.7777777777777778,\"#fb9f3a\"],[0.8888888888888888,\"#fdca26\"],[1.0,\"#f0f921\"]]}],\"surface\":[{\"type\":\"surface\",\"colorbar\":{\"outlinewidth\":0,\"ticks\":\"\"},\"colorscale\":[[0.0,\"#0d0887\"],[0.1111111111111111,\"#46039f\"],[0.2222222222222222,\"#7201a8\"],[0.3333333333333333,\"#9c179e\"],[0.4444444444444444,\"#bd3786\"],[0.5555555555555556,\"#d8576b\"],[0.6666666666666666,\"#ed7953\"],[0.7777777777777778,\"#fb9f3a\"],[0.8888888888888888,\"#fdca26\"],[1.0,\"#f0f921\"]]}],\"mesh3d\":[{\"type\":\"mesh3d\",\"colorbar\":{\"outlinewidth\":0,\"ticks\":\"\"}}],\"scatter\":[{\"fillpattern\":{\"fillmode\":\"overlay\",\"size\":10,\"solidity\":0.2},\"type\":\"scatter\"}],\"parcoords\":[{\"type\":\"parcoords\",\"line\":{\"colorbar\":{\"outlinewidth\":0,\"ticks\":\"\"}}}],\"scatterpolargl\":[{\"type\":\"scatterpolargl\",\"marker\":{\"colorbar\":{\"outlinewidth\":0,\"ticks\":\"\"}}}],\"bar\":[{\"error_x\":{\"color\":\"#2a3f5f\"},\"error_y\":{\"color\":\"#2a3f5f\"},\"marker\":{\"line\":{\"color\":\"#E5ECF6\",\"width\":0.5},\"pattern\":{\"fillmode\":\"overlay\",\"size\":10,\"solidity\":0.2}},\"type\":\"bar\"}],\"scattergeo\":[{\"type\":\"scattergeo\",\"marker\":{\"colorbar\":{\"outlinewidth\":0,\"ticks\":\"\"}}}],\"scatterpolar\":[{\"type\":\"scatterpolar\",\"marker\":{\"colorbar\":{\"outlinewidth\":0,\"ticks\":\"\"}}}],\"histogram\":[{\"marker\":{\"pattern\":{\"fillmode\":\"overlay\",\"size\":10,\"solidity\":0.2}},\"type\":\"histogram\"}],\"scattergl\":[{\"type\":\"scattergl\",\"marker\":{\"colorbar\":{\"outlinewidth\":0,\"ticks\":\"\"}}}],\"scatter3d\":[{\"type\":\"scatter3d\",\"line\":{\"colorbar\":{\"outlinewidth\":0,\"ticks\":\"\"}},\"marker\":{\"colorbar\":{\"outlinewidth\":0,\"ticks\":\"\"}}}],\"scattermapbox\":[{\"type\":\"scattermapbox\",\"marker\":{\"colorbar\":{\"outlinewidth\":0,\"ticks\":\"\"}}}],\"scatterternary\":[{\"type\":\"scatterternary\",\"marker\":{\"colorbar\":{\"outlinewidth\":0,\"ticks\":\"\"}}}],\"scattercarpet\":[{\"type\":\"scattercarpet\",\"marker\":{\"colorbar\":{\"outlinewidth\":0,\"ticks\":\"\"}}}],\"carpet\":[{\"aaxis\":{\"endlinecolor\":\"#2a3f5f\",\"gridcolor\":\"white\",\"linecolor\":\"white\",\"minorgridcolor\":\"white\",\"startlinecolor\":\"#2a3f5f\"},\"baxis\":{\"endlinecolor\":\"#2a3f5f\",\"gridcolor\":\"white\",\"linecolor\":\"white\",\"minorgridcolor\":\"white\",\"startlinecolor\":\"#2a3f5f\"},\"type\":\"carpet\"}],\"table\":[{\"cells\":{\"fill\":{\"color\":\"#EBF0F8\"},\"line\":{\"color\":\"white\"}},\"header\":{\"fill\":{\"color\":\"#C8D4E3\"},\"line\":{\"color\":\"white\"}},\"type\":\"table\"}],\"barpolar\":[{\"marker\":{\"line\":{\"color\":\"#E5ECF6\",\"width\":0.5},\"pattern\":{\"fillmode\":\"overlay\",\"size\":10,\"solidity\":0.2}},\"type\":\"barpolar\"}],\"pie\":[{\"automargin\":true,\"type\":\"pie\"}]},\"layout\":{\"autotypenumbers\":\"strict\",\"colorway\":[\"#636efa\",\"#EF553B\",\"#00cc96\",\"#ab63fa\",\"#FFA15A\",\"#19d3f3\",\"#FF6692\",\"#B6E880\",\"#FF97FF\",\"#FECB52\"],\"font\":{\"color\":\"#2a3f5f\"},\"hovermode\":\"closest\",\"hoverlabel\":{\"align\":\"left\"},\"paper_bgcolor\":\"white\",\"plot_bgcolor\":\"#E5ECF6\",\"polar\":{\"bgcolor\":\"#E5ECF6\",\"angularaxis\":{\"gridcolor\":\"white\",\"linecolor\":\"white\",\"ticks\":\"\"},\"radialaxis\":{\"gridcolor\":\"white\",\"linecolor\":\"white\",\"ticks\":\"\"}},\"ternary\":{\"bgcolor\":\"#E5ECF6\",\"aaxis\":{\"gridcolor\":\"white\",\"linecolor\":\"white\",\"ticks\":\"\"},\"baxis\":{\"gridcolor\":\"white\",\"linecolor\":\"white\",\"ticks\":\"\"},\"caxis\":{\"gridcolor\":\"white\",\"linecolor\":\"white\",\"ticks\":\"\"}},\"coloraxis\":{\"colorbar\":{\"outlinewidth\":0,\"ticks\":\"\"}},\"colorscale\":{\"sequential\":[[0.0,\"#0d0887\"],[0.1111111111111111,\"#46039f\"],[0.2222222222222222,\"#7201a8\"],[0.3333333333333333,\"#9c179e\"],[0.4444444444444444,\"#bd3786\"],[0.5555555555555556,\"#d8576b\"],[0.6666666666666666,\"#ed7953\"],[0.7777777777777778,\"#fb9f3a\"],[0.8888888888888888,\"#fdca26\"],[1.0,\"#f0f921\"]],\"sequentialminus\":[[0.0,\"#0d0887\"],[0.1111111111111111,\"#46039f\"],[0.2222222222222222,\"#7201a8\"],[0.3333333333333333,\"#9c179e\"],[0.4444444444444444,\"#bd3786\"],[0.5555555555555556,\"#d8576b\"],[0.6666666666666666,\"#ed7953\"],[0.7777777777777778,\"#fb9f3a\"],[0.8888888888888888,\"#fdca26\"],[1.0,\"#f0f921\"]],\"diverging\":[[0,\"#8e0152\"],[0.1,\"#c51b7d\"],[0.2,\"#de77ae\"],[0.3,\"#f1b6da\"],[0.4,\"#fde0ef\"],[0.5,\"#f7f7f7\"],[0.6,\"#e6f5d0\"],[0.7,\"#b8e186\"],[0.8,\"#7fbc41\"],[0.9,\"#4d9221\"],[1,\"#276419\"]]},\"xaxis\":{\"gridcolor\":\"white\",\"linecolor\":\"white\",\"ticks\":\"\",\"title\":{\"standoff\":15},\"zerolinecolor\":\"white\",\"automargin\":true,\"zerolinewidth\":2},\"yaxis\":{\"gridcolor\":\"white\",\"linecolor\":\"white\",\"ticks\":\"\",\"title\":{\"standoff\":15},\"zerolinecolor\":\"white\",\"automargin\":true,\"zerolinewidth\":2},\"scene\":{\"xaxis\":{\"backgroundcolor\":\"#E5ECF6\",\"gridcolor\":\"white\",\"linecolor\":\"white\",\"showbackground\":true,\"ticks\":\"\",\"zerolinecolor\":\"white\",\"gridwidth\":2},\"yaxis\":{\"backgroundcolor\":\"#E5ECF6\",\"gridcolor\":\"white\",\"linecolor\":\"white\",\"showbackground\":true,\"ticks\":\"\",\"zerolinecolor\":\"white\",\"gridwidth\":2},\"zaxis\":{\"backgroundcolor\":\"#E5ECF6\",\"gridcolor\":\"white\",\"linecolor\":\"white\",\"showbackground\":true,\"ticks\":\"\",\"zerolinecolor\":\"white\",\"gridwidth\":2}},\"shapedefaults\":{\"line\":{\"color\":\"#2a3f5f\"}},\"annotationdefaults\":{\"arrowcolor\":\"#2a3f5f\",\"arrowhead\":0,\"arrowwidth\":1},\"geo\":{\"bgcolor\":\"white\",\"landcolor\":\"#E5ECF6\",\"subunitcolor\":\"white\",\"showland\":true,\"showlakes\":true,\"lakecolor\":\"white\"},\"title\":{\"x\":0.05},\"mapbox\":{\"style\":\"light\"}}},\"legend\":{\"tracegroupgap\":0},\"margin\":{\"t\":60}},                        {\"responsive\": true}                    ).then(function(){\n",
       "                            \n",
       "var gd = document.getElementById('42273923-3a4c-4373-a06d-da4c2f428381');\n",
       "var x = new MutationObserver(function (mutations, observer) {{\n",
       "        var display = window.getComputedStyle(gd).display;\n",
       "        if (!display || display === 'none') {{\n",
       "            console.log([gd, 'removed!']);\n",
       "            Plotly.purge(gd);\n",
       "            observer.disconnect();\n",
       "        }}\n",
       "}});\n",
       "\n",
       "// Listen for the removal of the full notebook cells\n",
       "var notebookContainer = gd.closest('#notebook-container');\n",
       "if (notebookContainer) {{\n",
       "    x.observe(notebookContainer, {childList: true});\n",
       "}}\n",
       "\n",
       "// Listen for the clearing of the current output cell\n",
       "var outputEl = gd.closest('.output');\n",
       "if (outputEl) {{\n",
       "    x.observe(outputEl, {childList: true});\n",
       "}}\n",
       "\n",
       "                        })                };                });            </script>        </div>"
      ]
     },
     "metadata": {},
     "output_type": "display_data"
    }
   ],
   "source": [
    "fig = px.treemap(vaccine,path=['Updated On','Male(Individuals Vaccinated)'],values='Total Individuals Vaccinated')\n",
    "fig.show()"
   ]
  },
  {
   "cell_type": "code",
   "execution_count": 48,
   "id": "41150181",
   "metadata": {
    "execution": {
     "iopub.execute_input": "2022-04-26T14:25:17.681952Z",
     "iopub.status.busy": "2022-04-26T14:25:17.681378Z",
     "iopub.status.idle": "2022-04-26T14:25:18.044428Z",
     "shell.execute_reply": "2022-04-26T14:25:18.043565Z"
    },
    "papermill": {
     "duration": 0.461297,
     "end_time": "2022-04-26T14:25:18.046972",
     "exception": false,
     "start_time": "2022-04-26T14:25:17.585675",
     "status": "completed"
    },
    "tags": []
   },
   "outputs": [
    {
     "data": {
      "text/html": [
       "<div>                            <div id=\"86efdd9f-dd22-4aab-9b76-9a1d925f4b6d\" class=\"plotly-graph-div\" style=\"height:525px; width:100%;\"></div>            <script type=\"text/javascript\">                require([\"plotly\"], function(Plotly) {                    window.PLOTLYENV=window.PLOTLYENV || {};                                    if (document.getElementById(\"86efdd9f-dd22-4aab-9b76-9a1d925f4b6d\")) {                    Plotly.newPlot(                        \"86efdd9f-dd22-4aab-9b76-9a1d925f4b6d\",                        [{\"branchvalues\":\"total\",\"domain\":{\"x\":[0.0,1.0],\"y\":[0.0,1.0]},\"hovertemplate\":\"labels=%{label}<br>Total Individuals Vaccinated=%{value}<br>parent=%{parent}<br>id=%{id}<extra></extra>\",\"ids\":[\"2021-01-02/0.0\",\"2021-01-03/0.0\",\"2021-01-04/0.0\",\"2021-01-05/0.0\",\"2021-01-06/0.0\",\"2021-01-07/0.0\",\"2021-01-08/0.0\",\"2021-01-16/0.0\",\"2021-01-17/0.0\",\"2021-01-18/0.0\",\"2021-01-19/0.0\",\"2021-01-20/0.0\",\"2021-01-21/0.0\",\"2021-01-22/0.0\",\"2021-01-23/0.0\",\"2021-01-24/0.0\",\"2021-01-25/0.0\",\"2021-01-26/0.0\",\"2021-01-27/0.0\",\"2021-01-28/0.0\",\"2021-01-29/0.0\",\"2021-01-30/0.0\",\"2021-01-31/0.0\",\"2021-02-02/0.0\",\"2021-02-03/0.0\",\"2021-02-04/0.0\",\"2021-02-05/0.0\",\"2021-02-06/0.0\",\"2021-02-07/0.0\",\"2021-02-08/0.0\",\"2021-02-13/0.0\",\"2021-02-14/0.0\",\"2021-02-15/0.0\",\"2021-02-16/0.0\",\"2021-02-17/0.0\",\"2021-02-18/0.0\",\"2021-02-19/0.0\",\"2021-02-20/0.0\",\"2021-02-21/0.0\",\"2021-02-22/0.0\",\"2021-02-23/0.0\",\"2021-02-24/0.0\",\"2021-02-25/0.0\",\"2021-02-26/0.0\",\"2021-02-27/0.0\",\"2021-02-28/0.0\",\"2021-03-02/0.0\",\"2021-03-03/0.0\",\"2021-03-04/0.0\",\"2021-03-05/0.0\",\"2021-03-06/0.0\",\"2021-03-07/0.0\",\"2021-03-08/0.0\",\"2021-03-13/0.0\",\"2021-03-14/0.0\",\"2021-03-15/0.0\",\"2021-03-16/0.0\",\"2021-03-17/0.0\",\"2021-03-18/0.0\",\"2021-03-19/0.0\",\"2021-03-20/0.0\",\"2021-03-21/0.0\",\"2021-03-22/0.0\",\"2021-03-23/0.0\",\"2021-03-24/0.0\",\"2021-03-25/0.0\",\"2021-03-26/0.0\",\"2021-03-27/0.0\",\"2021-03-28/0.0\",\"2021-03-29/0.0\",\"2021-03-30/0.0\",\"2021-03-31/0.0\",\"2021-04-02/0.0\",\"2021-04-03/0.0\",\"2021-04-04/0.0\",\"2021-04-05/0.0\",\"2021-04-06/0.0\",\"2021-04-07/0.0\",\"2021-04-08/0.0\",\"2021-04-13/0.0\",\"2021-04-14/0.0\",\"2021-04-15/0.0\",\"2021-04-16/0.0\",\"2021-04-17/0.0\",\"2021-04-18/0.0\",\"2021-04-19/0.0\",\"2021-04-20/0.0\",\"2021-04-21/0.0\",\"2021-04-22/0.0\",\"2021-04-23/0.0\",\"2021-04-24/0.0\",\"2021-04-25/0.0\",\"2021-04-26/0.0\",\"2021-04-27/0.0\",\"2021-04-28/0.0\",\"2021-04-29/0.0\",\"2021-04-30/0.0\",\"2021-05-02/0.0\",\"2021-05-03/0.0\",\"2021-05-04/0.0\",\"2021-05-05/0.0\",\"2021-05-06/0.0\",\"2021-05-07/0.0\",\"2021-05-08/0.0\",\"2021-05-13/0.0\",\"2021-05-14/0.0\",\"2021-05-15/0.0\",\"2021-05-16/0.0\",\"2021-05-17/0.0\",\"2021-05-18/0.0\",\"2021-05-19/0.0\",\"2021-05-20/0.0\",\"2021-05-21/0.0\",\"2021-05-22/0.0\",\"2021-05-23/0.0\",\"2021-05-24/0.0\",\"2021-05-25/0.0\",\"2021-05-26/0.0\",\"2021-05-27/0.0\",\"2021-05-28/0.0\",\"2021-05-29/0.0\",\"2021-05-30/0.0\",\"2021-05-31/0.0\",\"2021-06-02/0.0\",\"2021-06-03/0.0\",\"2021-06-04/0.0\",\"2021-06-05/0.0\",\"2021-06-06/0.0\",\"2021-06-07/0.0\",\"2021-06-08/0.0\",\"2021-06-13/0.0\",\"2021-06-14/0.0\",\"2021-06-15/0.0\",\"2021-06-16/0.0\",\"2021-06-17/0.0\",\"2021-06-18/0.0\",\"2021-06-19/0.0\",\"2021-06-20/0.0\",\"2021-06-21/0.0\",\"2021-06-22/0.0\",\"2021-06-23/0.0\",\"2021-06-24/0.0\",\"2021-06-25/0.0\",\"2021-06-26/0.0\",\"2021-06-27/0.0\",\"2021-06-28/0.0\",\"2021-06-29/0.0\",\"2021-06-30/0.0\",\"2021-07-02/0.0\",\"2021-07-03/0.0\",\"2021-07-04/0.0\",\"2021-07-05/0.0\",\"2021-07-06/0.0\",\"2021-07-07/0.0\",\"2021-07-08/0.0\",\"2021-07-13/0.0\",\"2021-07-14/0.0\",\"2021-07-15/0.0\",\"2021-07-16/0.0\",\"2021-07-17/0.0\",\"2021-07-18/0.0\",\"2021-07-19/0.0\",\"2021-07-20/0.0\",\"2021-07-21/0.0\",\"2021-07-22/0.0\",\"2021-07-23/0.0\",\"2021-07-24/0.0\",\"2021-07-25/0.0\",\"2021-07-26/0.0\",\"2021-07-27/0.0\",\"2021-07-28/0.0\",\"2021-07-29/0.0\",\"2021-07-30/0.0\",\"2021-07-31/0.0\",\"2021-08-02/0.0\",\"2021-08-03/0.0\",\"2021-08-04/0.0\",\"2021-08-05/0.0\",\"2021-08-06/0.0\",\"2021-08-07/0.0\",\"2021-08-08/0.0\",\"2021-08-13/0.0\",\"2021-08-14/0.0\",\"2021-08-15/0.0\",\"2021-08-16/0.0\",\"2021-09-02/0.0\",\"2021-09-03/0.0\",\"2021-09-04/0.0\",\"2021-09-05/0.0\",\"2021-09-06/0.0\",\"2021-09-07/0.0\",\"2021-09-08/0.0\",\"2021-10-02/0.0\",\"2021-10-03/0.0\",\"2021-10-04/0.0\",\"2021-10-05/0.0\",\"2021-10-06/0.0\",\"2021-10-07/0.0\",\"2021-10-08/0.0\",\"2021-11-02/0.0\",\"2021-11-03/0.0\",\"2021-11-04/0.0\",\"2021-11-05/0.0\",\"2021-11-06/0.0\",\"2021-11-07/0.0\",\"2021-11-08/0.0\",\"2021-12-02/0.0\",\"2021-12-03/0.0\",\"2021-12-04/0.0\",\"2021-12-05/0.0\",\"2021-12-06/0.0\",\"2021-12-07/0.0\",\"2021-12-08/0.0\",\"2021-01-16/24517.0\",\"2021-01-17/31252.0\",\"2021-01-18/58083.0\",\"2021-01-19/113613.0\",\"2021-01-20/153145.0\",\"2021-01-21/233143.0\",\"2021-01-22/355402.0\",\"2021-01-23/491049.0\",\"2021-01-24/538647.0\",\"2021-01-25/832766.0\",\"2021-01-26/844448.0\",\"2021-01-27/1140137.0\",\"2021-01-28/1523939.0\",\"2021-01-29/1875368.0\",\"2021-01-30/2044950.0\",\"2021-01-31/2065391.0\",\"2021-01-02/2197431.0\",\"2021-02-02/2308898.0\",\"2021-03-02/2500887.0\",\"2021-04-02/2809042.0\",\"2021-05-02/3054631.0\",\"2021-06-02/3214244.0\",\"2021-07-02/3238273.0\",\"2021-08-02/3403576.0\",\"2021-09-02/3543208.0\",\"2021-10-02/3676114.0\",\"2021-11-02/3803908.0\",\"2021-12-02/3918381.0\",\"2021-02-13/4002279.0\",\"2021-02-14/4009812.0\",\"2021-02-15/4184377.0\",\"2021-02-16/4291548.0\",\"2021-02-18/4351815.0\",\"2021-02-17/4432078.0\",\"2021-02-19/4702310.0\",\"2021-02-20/4766532.0\",\"2021-02-21/4773924.0\",\"2021-02-22/4841511.0\",\"2021-02-23/4897627.0\",\"2021-02-24/4957351.0\",\"2021-02-25/5045426.0\",\"2021-02-26/5131299.0\",\"2021-02-27/5131323.0\",\"2021-01-03/5131373.0\",\"2021-02-28/5131373.0\",\"2021-02-03/5422470.0\",\"2021-03-03/5692550.0\",\"2021-04-03/6045211.0\",\"2021-05-03/6490255.0\",\"2021-06-03/6948195.0\",\"2021-07-03/6993867.0\",\"2021-08-03/7676312.0\",\"2021-09-03/8313353.0\",\"2021-10-03/8829091.0\",\"2021-11-03/9013952.0\",\"2021-12-03/9795767.0\",\"2021-03-13/10409393.0\",\"2021-03-14/10483269.0\",\"2021-03-15/11524956.0\",\"2021-03-16/11713149.0\",\"2021-03-17/13742026.0\",\"2021-03-18/14637915.0\",\"2021-03-19/15732206.0\",\"2021-03-20/16876137.0\",\"2021-03-21/17245870.0\",\"2021-03-22/18363361.0\",\"2021-03-23/19611896.0\",\"2021-03-24/20642500.0\",\"2021-03-25/21704739.0\",\"2021-03-26/22832194.0\",\"2021-03-27/23883153.0\",\"2021-03-28/24036939.0\",\"2021-03-29/24341025.0\",\"2021-03-30/25165987.0\",\"2021-03-31/26031409.0\",\"2021-01-04/27115615.0\",\"2021-02-04/28803529.0\",\"2021-03-04/30159173.0\",\"2021-04-04/31665721.0\",\"2021-05-04/33052869.0\",\"2021-06-04/34255180.0\",\"2021-07-04/36552499.0\",\"2021-08-04/38715200.0\",\"2021-09-04/40357259.0\",\"2021-10-04/41893575.0\",\"2021-11-04/43205152.0\",\"2021-12-04/44878560.0\",\"2021-04-13/45926378.0\",\"2021-04-14/47329847.0\",\"2021-04-15/48352489.0\",\"2021-04-16/49339504.0\",\"2021-04-17/50289664.0\",\"2021-04-18/50732172.0\",\"2021-04-19/51806475.0\",\"2021-04-20/52731510.0\",\"2021-04-21/53441979.0\",\"2021-04-22/54355513.0\",\"2021-04-23/55237448.0\",\"2021-04-24/56011474.0\",\"2021-04-25/56337692.0\",\"2021-04-26/57335805.0\",\"2021-04-27/57980903.0\",\"2021-04-28/58583701.0\",\"2021-04-29/59183960.0\",\"2021-04-30/59914751.0\",\"2021-01-05/60339903.0\",\"2021-02-05/60503747.0\",\"2021-03-05/60942039.0\",\"2021-04-05/61344881.0\",\"2021-05-05/61832097.0\",\"2021-06-05/62424602.0\",\"2021-07-05/62972623.0\",\"2021-08-05/63449164.0\",\"2021-09-05/63650307.0\",\"2021-10-05/64225501.0\",\"2021-11-05/64816275.0\",\"2021-12-05/65354414.0\",\"2021-05-13/65906538.0\",\"2021-05-14/66234957.0\",\"2021-05-15/66787921.0\",\"2021-05-16/67050966.0\",\"2021-05-17/67608590.0\",\"2021-05-18/68107465.0\",\"2021-05-19/68550747.0\",\"2021-05-20/69091006.0\",\"2021-05-21/69623495.0\",\"2021-05-22/70224054.0\",\"2021-05-23/70583303.0\",\"2021-05-24/71526736.0\",\"2021-05-25/72328742.0\",\"2021-05-26/73082037.0\",\"2021-05-27/74299145.0\",\"2021-05-28/75552353.0\",\"2021-05-29/76750999.0\",\"2021-05-30/77177776.0\",\"2021-05-31/78271582.0\",\"2021-01-06/79231870.0\",\"2021-02-06/80212651.0\",\"2021-03-06/81361633.0\",\"2021-04-06/82885972.0\",\"2021-05-06/84277549.0\",\"2021-06-06/84886553.0\",\"2021-07-06/86246094.0\",\"2021-08-06/87370490.0\",\"2021-09-06/88748112.0\",\"2021-10-06/90106724.0\",\"2021-11-06/91557487.0\",\"2021-12-06/92997290.0\",\"2021-06-13/93690273.0\",\"2021-06-14/95369557.0\",\"2021-06-15/96513504.0\",\"2021-06-16/97929255.0\",\"2021-06-17/99275854.0\",\"2021-06-18/100624989.0\",\"2021-06-19/102137801.0\",\"2021-06-20/103804672.0\",\"2021-06-21/107542051.0\",\"2021-06-22/110074369.0\",\"2021-06-23/112980429.0\",\"2021-06-24/115668447.0\",\"2021-01-02\",\"2021-01-03\",\"2021-01-04\",\"2021-01-05\",\"2021-01-06\",\"2021-01-07\",\"2021-01-08\",\"2021-01-16\",\"2021-01-17\",\"2021-01-18\",\"2021-01-19\",\"2021-01-20\",\"2021-01-21\",\"2021-01-22\",\"2021-01-23\",\"2021-01-24\",\"2021-01-25\",\"2021-01-26\",\"2021-01-27\",\"2021-01-28\",\"2021-01-29\",\"2021-01-30\",\"2021-01-31\",\"2021-02-02\",\"2021-02-03\",\"2021-02-04\",\"2021-02-05\",\"2021-02-06\",\"2021-02-07\",\"2021-02-08\",\"2021-02-13\",\"2021-02-14\",\"2021-02-15\",\"2021-02-16\",\"2021-02-17\",\"2021-02-18\",\"2021-02-19\",\"2021-02-20\",\"2021-02-21\",\"2021-02-22\",\"2021-02-23\",\"2021-02-24\",\"2021-02-25\",\"2021-02-26\",\"2021-02-27\",\"2021-02-28\",\"2021-03-02\",\"2021-03-03\",\"2021-03-04\",\"2021-03-05\",\"2021-03-06\",\"2021-03-07\",\"2021-03-08\",\"2021-03-13\",\"2021-03-14\",\"2021-03-15\",\"2021-03-16\",\"2021-03-17\",\"2021-03-18\",\"2021-03-19\",\"2021-03-20\",\"2021-03-21\",\"2021-03-22\",\"2021-03-23\",\"2021-03-24\",\"2021-03-25\",\"2021-03-26\",\"2021-03-27\",\"2021-03-28\",\"2021-03-29\",\"2021-03-30\",\"2021-03-31\",\"2021-04-02\",\"2021-04-03\",\"2021-04-04\",\"2021-04-05\",\"2021-04-06\",\"2021-04-07\",\"2021-04-08\",\"2021-04-13\",\"2021-04-14\",\"2021-04-15\",\"2021-04-16\",\"2021-04-17\",\"2021-04-18\",\"2021-04-19\",\"2021-04-20\",\"2021-04-21\",\"2021-04-22\",\"2021-04-23\",\"2021-04-24\",\"2021-04-25\",\"2021-04-26\",\"2021-04-27\",\"2021-04-28\",\"2021-04-29\",\"2021-04-30\",\"2021-05-02\",\"2021-05-03\",\"2021-05-04\",\"2021-05-05\",\"2021-05-06\",\"2021-05-07\",\"2021-05-08\",\"2021-05-13\",\"2021-05-14\",\"2021-05-15\",\"2021-05-16\",\"2021-05-17\",\"2021-05-18\",\"2021-05-19\",\"2021-05-20\",\"2021-05-21\",\"2021-05-22\",\"2021-05-23\",\"2021-05-24\",\"2021-05-25\",\"2021-05-26\",\"2021-05-27\",\"2021-05-28\",\"2021-05-29\",\"2021-05-30\",\"2021-05-31\",\"2021-06-02\",\"2021-06-03\",\"2021-06-04\",\"2021-06-05\",\"2021-06-06\",\"2021-06-07\",\"2021-06-08\",\"2021-06-13\",\"2021-06-14\",\"2021-06-15\",\"2021-06-16\",\"2021-06-17\",\"2021-06-18\",\"2021-06-19\",\"2021-06-20\",\"2021-06-21\",\"2021-06-22\",\"2021-06-23\",\"2021-06-24\",\"2021-06-25\",\"2021-06-26\",\"2021-06-27\",\"2021-06-28\",\"2021-06-29\",\"2021-06-30\",\"2021-07-02\",\"2021-07-03\",\"2021-07-04\",\"2021-07-05\",\"2021-07-06\",\"2021-07-07\",\"2021-07-08\",\"2021-07-13\",\"2021-07-14\",\"2021-07-15\",\"2021-07-16\",\"2021-07-17\",\"2021-07-18\",\"2021-07-19\",\"2021-07-20\",\"2021-07-21\",\"2021-07-22\",\"2021-07-23\",\"2021-07-24\",\"2021-07-25\",\"2021-07-26\",\"2021-07-27\",\"2021-07-28\",\"2021-07-29\",\"2021-07-30\",\"2021-07-31\",\"2021-08-02\",\"2021-08-03\",\"2021-08-04\",\"2021-08-05\",\"2021-08-06\",\"2021-08-07\",\"2021-08-08\",\"2021-08-13\",\"2021-08-14\",\"2021-08-15\",\"2021-08-16\",\"2021-09-02\",\"2021-09-03\",\"2021-09-04\",\"2021-09-05\",\"2021-09-06\",\"2021-09-07\",\"2021-09-08\",\"2021-10-02\",\"2021-10-03\",\"2021-10-04\",\"2021-10-05\",\"2021-10-06\",\"2021-10-07\",\"2021-10-08\",\"2021-11-02\",\"2021-11-03\",\"2021-11-04\",\"2021-11-05\",\"2021-11-06\",\"2021-11-07\",\"2021-11-08\",\"2021-12-02\",\"2021-12-03\",\"2021-12-04\",\"2021-12-05\",\"2021-12-06\",\"2021-12-07\",\"2021-12-08\"],\"labels\":[\"0.0\",\"0.0\",\"0.0\",\"0.0\",\"0.0\",\"0.0\",\"0.0\",\"0.0\",\"0.0\",\"0.0\",\"0.0\",\"0.0\",\"0.0\",\"0.0\",\"0.0\",\"0.0\",\"0.0\",\"0.0\",\"0.0\",\"0.0\",\"0.0\",\"0.0\",\"0.0\",\"0.0\",\"0.0\",\"0.0\",\"0.0\",\"0.0\",\"0.0\",\"0.0\",\"0.0\",\"0.0\",\"0.0\",\"0.0\",\"0.0\",\"0.0\",\"0.0\",\"0.0\",\"0.0\",\"0.0\",\"0.0\",\"0.0\",\"0.0\",\"0.0\",\"0.0\",\"0.0\",\"0.0\",\"0.0\",\"0.0\",\"0.0\",\"0.0\",\"0.0\",\"0.0\",\"0.0\",\"0.0\",\"0.0\",\"0.0\",\"0.0\",\"0.0\",\"0.0\",\"0.0\",\"0.0\",\"0.0\",\"0.0\",\"0.0\",\"0.0\",\"0.0\",\"0.0\",\"0.0\",\"0.0\",\"0.0\",\"0.0\",\"0.0\",\"0.0\",\"0.0\",\"0.0\",\"0.0\",\"0.0\",\"0.0\",\"0.0\",\"0.0\",\"0.0\",\"0.0\",\"0.0\",\"0.0\",\"0.0\",\"0.0\",\"0.0\",\"0.0\",\"0.0\",\"0.0\",\"0.0\",\"0.0\",\"0.0\",\"0.0\",\"0.0\",\"0.0\",\"0.0\",\"0.0\",\"0.0\",\"0.0\",\"0.0\",\"0.0\",\"0.0\",\"0.0\",\"0.0\",\"0.0\",\"0.0\",\"0.0\",\"0.0\",\"0.0\",\"0.0\",\"0.0\",\"0.0\",\"0.0\",\"0.0\",\"0.0\",\"0.0\",\"0.0\",\"0.0\",\"0.0\",\"0.0\",\"0.0\",\"0.0\",\"0.0\",\"0.0\",\"0.0\",\"0.0\",\"0.0\",\"0.0\",\"0.0\",\"0.0\",\"0.0\",\"0.0\",\"0.0\",\"0.0\",\"0.0\",\"0.0\",\"0.0\",\"0.0\",\"0.0\",\"0.0\",\"0.0\",\"0.0\",\"0.0\",\"0.0\",\"0.0\",\"0.0\",\"0.0\",\"0.0\",\"0.0\",\"0.0\",\"0.0\",\"0.0\",\"0.0\",\"0.0\",\"0.0\",\"0.0\",\"0.0\",\"0.0\",\"0.0\",\"0.0\",\"0.0\",\"0.0\",\"0.0\",\"0.0\",\"0.0\",\"0.0\",\"0.0\",\"0.0\",\"0.0\",\"0.0\",\"0.0\",\"0.0\",\"0.0\",\"0.0\",\"0.0\",\"0.0\",\"0.0\",\"0.0\",\"0.0\",\"0.0\",\"0.0\",\"0.0\",\"0.0\",\"0.0\",\"0.0\",\"0.0\",\"0.0\",\"0.0\",\"0.0\",\"0.0\",\"0.0\",\"0.0\",\"0.0\",\"0.0\",\"0.0\",\"0.0\",\"0.0\",\"0.0\",\"0.0\",\"0.0\",\"0.0\",\"0.0\",\"0.0\",\"0.0\",\"0.0\",\"0.0\",\"0.0\",\"0.0\",\"0.0\",\"0.0\",\"0.0\",\"24517.0\",\"31252.0\",\"58083.0\",\"113613.0\",\"153145.0\",\"233143.0\",\"355402.0\",\"491049.0\",\"538647.0\",\"832766.0\",\"844448.0\",\"1140137.0\",\"1523939.0\",\"1875368.0\",\"2044950.0\",\"2065391.0\",\"2197431.0\",\"2308898.0\",\"2500887.0\",\"2809042.0\",\"3054631.0\",\"3214244.0\",\"3238273.0\",\"3403576.0\",\"3543208.0\",\"3676114.0\",\"3803908.0\",\"3918381.0\",\"4002279.0\",\"4009812.0\",\"4184377.0\",\"4291548.0\",\"4351815.0\",\"4432078.0\",\"4702310.0\",\"4766532.0\",\"4773924.0\",\"4841511.0\",\"4897627.0\",\"4957351.0\",\"5045426.0\",\"5131299.0\",\"5131323.0\",\"5131373.0\",\"5131373.0\",\"5422470.0\",\"5692550.0\",\"6045211.0\",\"6490255.0\",\"6948195.0\",\"6993867.0\",\"7676312.0\",\"8313353.0\",\"8829091.0\",\"9013952.0\",\"9795767.0\",\"10409393.0\",\"10483269.0\",\"11524956.0\",\"11713149.0\",\"13742026.0\",\"14637915.0\",\"15732206.0\",\"16876137.0\",\"17245870.0\",\"18363361.0\",\"19611896.0\",\"20642500.0\",\"21704739.0\",\"22832194.0\",\"23883153.0\",\"24036939.0\",\"24341025.0\",\"25165987.0\",\"26031409.0\",\"27115615.0\",\"28803529.0\",\"30159173.0\",\"31665721.0\",\"33052869.0\",\"34255180.0\",\"36552499.0\",\"38715200.0\",\"40357259.0\",\"41893575.0\",\"43205152.0\",\"44878560.0\",\"45926378.0\",\"47329847.0\",\"48352489.0\",\"49339504.0\",\"50289664.0\",\"50732172.0\",\"51806475.0\",\"52731510.0\",\"53441979.0\",\"54355513.0\",\"55237448.0\",\"56011474.0\",\"56337692.0\",\"57335805.0\",\"57980903.0\",\"58583701.0\",\"59183960.0\",\"59914751.0\",\"60339903.0\",\"60503747.0\",\"60942039.0\",\"61344881.0\",\"61832097.0\",\"62424602.0\",\"62972623.0\",\"63449164.0\",\"63650307.0\",\"64225501.0\",\"64816275.0\",\"65354414.0\",\"65906538.0\",\"66234957.0\",\"66787921.0\",\"67050966.0\",\"67608590.0\",\"68107465.0\",\"68550747.0\",\"69091006.0\",\"69623495.0\",\"70224054.0\",\"70583303.0\",\"71526736.0\",\"72328742.0\",\"73082037.0\",\"74299145.0\",\"75552353.0\",\"76750999.0\",\"77177776.0\",\"78271582.0\",\"79231870.0\",\"80212651.0\",\"81361633.0\",\"82885972.0\",\"84277549.0\",\"84886553.0\",\"86246094.0\",\"87370490.0\",\"88748112.0\",\"90106724.0\",\"91557487.0\",\"92997290.0\",\"93690273.0\",\"95369557.0\",\"96513504.0\",\"97929255.0\",\"99275854.0\",\"100624989.0\",\"102137801.0\",\"103804672.0\",\"107542051.0\",\"110074369.0\",\"112980429.0\",\"115668447.0\",\"2021-01-02\",\"2021-01-03\",\"2021-01-04\",\"2021-01-05\",\"2021-01-06\",\"2021-01-07\",\"2021-01-08\",\"2021-01-16\",\"2021-01-17\",\"2021-01-18\",\"2021-01-19\",\"2021-01-20\",\"2021-01-21\",\"2021-01-22\",\"2021-01-23\",\"2021-01-24\",\"2021-01-25\",\"2021-01-26\",\"2021-01-27\",\"2021-01-28\",\"2021-01-29\",\"2021-01-30\",\"2021-01-31\",\"2021-02-02\",\"2021-02-03\",\"2021-02-04\",\"2021-02-05\",\"2021-02-06\",\"2021-02-07\",\"2021-02-08\",\"2021-02-13\",\"2021-02-14\",\"2021-02-15\",\"2021-02-16\",\"2021-02-17\",\"2021-02-18\",\"2021-02-19\",\"2021-02-20\",\"2021-02-21\",\"2021-02-22\",\"2021-02-23\",\"2021-02-24\",\"2021-02-25\",\"2021-02-26\",\"2021-02-27\",\"2021-02-28\",\"2021-03-02\",\"2021-03-03\",\"2021-03-04\",\"2021-03-05\",\"2021-03-06\",\"2021-03-07\",\"2021-03-08\",\"2021-03-13\",\"2021-03-14\",\"2021-03-15\",\"2021-03-16\",\"2021-03-17\",\"2021-03-18\",\"2021-03-19\",\"2021-03-20\",\"2021-03-21\",\"2021-03-22\",\"2021-03-23\",\"2021-03-24\",\"2021-03-25\",\"2021-03-26\",\"2021-03-27\",\"2021-03-28\",\"2021-03-29\",\"2021-03-30\",\"2021-03-31\",\"2021-04-02\",\"2021-04-03\",\"2021-04-04\",\"2021-04-05\",\"2021-04-06\",\"2021-04-07\",\"2021-04-08\",\"2021-04-13\",\"2021-04-14\",\"2021-04-15\",\"2021-04-16\",\"2021-04-17\",\"2021-04-18\",\"2021-04-19\",\"2021-04-20\",\"2021-04-21\",\"2021-04-22\",\"2021-04-23\",\"2021-04-24\",\"2021-04-25\",\"2021-04-26\",\"2021-04-27\",\"2021-04-28\",\"2021-04-29\",\"2021-04-30\",\"2021-05-02\",\"2021-05-03\",\"2021-05-04\",\"2021-05-05\",\"2021-05-06\",\"2021-05-07\",\"2021-05-08\",\"2021-05-13\",\"2021-05-14\",\"2021-05-15\",\"2021-05-16\",\"2021-05-17\",\"2021-05-18\",\"2021-05-19\",\"2021-05-20\",\"2021-05-21\",\"2021-05-22\",\"2021-05-23\",\"2021-05-24\",\"2021-05-25\",\"2021-05-26\",\"2021-05-27\",\"2021-05-28\",\"2021-05-29\",\"2021-05-30\",\"2021-05-31\",\"2021-06-02\",\"2021-06-03\",\"2021-06-04\",\"2021-06-05\",\"2021-06-06\",\"2021-06-07\",\"2021-06-08\",\"2021-06-13\",\"2021-06-14\",\"2021-06-15\",\"2021-06-16\",\"2021-06-17\",\"2021-06-18\",\"2021-06-19\",\"2021-06-20\",\"2021-06-21\",\"2021-06-22\",\"2021-06-23\",\"2021-06-24\",\"2021-06-25\",\"2021-06-26\",\"2021-06-27\",\"2021-06-28\",\"2021-06-29\",\"2021-06-30\",\"2021-07-02\",\"2021-07-03\",\"2021-07-04\",\"2021-07-05\",\"2021-07-06\",\"2021-07-07\",\"2021-07-08\",\"2021-07-13\",\"2021-07-14\",\"2021-07-15\",\"2021-07-16\",\"2021-07-17\",\"2021-07-18\",\"2021-07-19\",\"2021-07-20\",\"2021-07-21\",\"2021-07-22\",\"2021-07-23\",\"2021-07-24\",\"2021-07-25\",\"2021-07-26\",\"2021-07-27\",\"2021-07-28\",\"2021-07-29\",\"2021-07-30\",\"2021-07-31\",\"2021-08-02\",\"2021-08-03\",\"2021-08-04\",\"2021-08-05\",\"2021-08-06\",\"2021-08-07\",\"2021-08-08\",\"2021-08-13\",\"2021-08-14\",\"2021-08-15\",\"2021-08-16\",\"2021-09-02\",\"2021-09-03\",\"2021-09-04\",\"2021-09-05\",\"2021-09-06\",\"2021-09-07\",\"2021-09-08\",\"2021-10-02\",\"2021-10-03\",\"2021-10-04\",\"2021-10-05\",\"2021-10-06\",\"2021-10-07\",\"2021-10-08\",\"2021-11-02\",\"2021-11-03\",\"2021-11-04\",\"2021-11-05\",\"2021-11-06\",\"2021-11-07\",\"2021-11-08\",\"2021-12-02\",\"2021-12-03\",\"2021-12-04\",\"2021-12-05\",\"2021-12-06\",\"2021-12-07\",\"2021-12-08\"],\"name\":\"\",\"parents\":[\"2021-01-02\",\"2021-01-03\",\"2021-01-04\",\"2021-01-05\",\"2021-01-06\",\"2021-01-07\",\"2021-01-08\",\"2021-01-16\",\"2021-01-17\",\"2021-01-18\",\"2021-01-19\",\"2021-01-20\",\"2021-01-21\",\"2021-01-22\",\"2021-01-23\",\"2021-01-24\",\"2021-01-25\",\"2021-01-26\",\"2021-01-27\",\"2021-01-28\",\"2021-01-29\",\"2021-01-30\",\"2021-01-31\",\"2021-02-02\",\"2021-02-03\",\"2021-02-04\",\"2021-02-05\",\"2021-02-06\",\"2021-02-07\",\"2021-02-08\",\"2021-02-13\",\"2021-02-14\",\"2021-02-15\",\"2021-02-16\",\"2021-02-17\",\"2021-02-18\",\"2021-02-19\",\"2021-02-20\",\"2021-02-21\",\"2021-02-22\",\"2021-02-23\",\"2021-02-24\",\"2021-02-25\",\"2021-02-26\",\"2021-02-27\",\"2021-02-28\",\"2021-03-02\",\"2021-03-03\",\"2021-03-04\",\"2021-03-05\",\"2021-03-06\",\"2021-03-07\",\"2021-03-08\",\"2021-03-13\",\"2021-03-14\",\"2021-03-15\",\"2021-03-16\",\"2021-03-17\",\"2021-03-18\",\"2021-03-19\",\"2021-03-20\",\"2021-03-21\",\"2021-03-22\",\"2021-03-23\",\"2021-03-24\",\"2021-03-25\",\"2021-03-26\",\"2021-03-27\",\"2021-03-28\",\"2021-03-29\",\"2021-03-30\",\"2021-03-31\",\"2021-04-02\",\"2021-04-03\",\"2021-04-04\",\"2021-04-05\",\"2021-04-06\",\"2021-04-07\",\"2021-04-08\",\"2021-04-13\",\"2021-04-14\",\"2021-04-15\",\"2021-04-16\",\"2021-04-17\",\"2021-04-18\",\"2021-04-19\",\"2021-04-20\",\"2021-04-21\",\"2021-04-22\",\"2021-04-23\",\"2021-04-24\",\"2021-04-25\",\"2021-04-26\",\"2021-04-27\",\"2021-04-28\",\"2021-04-29\",\"2021-04-30\",\"2021-05-02\",\"2021-05-03\",\"2021-05-04\",\"2021-05-05\",\"2021-05-06\",\"2021-05-07\",\"2021-05-08\",\"2021-05-13\",\"2021-05-14\",\"2021-05-15\",\"2021-05-16\",\"2021-05-17\",\"2021-05-18\",\"2021-05-19\",\"2021-05-20\",\"2021-05-21\",\"2021-05-22\",\"2021-05-23\",\"2021-05-24\",\"2021-05-25\",\"2021-05-26\",\"2021-05-27\",\"2021-05-28\",\"2021-05-29\",\"2021-05-30\",\"2021-05-31\",\"2021-06-02\",\"2021-06-03\",\"2021-06-04\",\"2021-06-05\",\"2021-06-06\",\"2021-06-07\",\"2021-06-08\",\"2021-06-13\",\"2021-06-14\",\"2021-06-15\",\"2021-06-16\",\"2021-06-17\",\"2021-06-18\",\"2021-06-19\",\"2021-06-20\",\"2021-06-21\",\"2021-06-22\",\"2021-06-23\",\"2021-06-24\",\"2021-06-25\",\"2021-06-26\",\"2021-06-27\",\"2021-06-28\",\"2021-06-29\",\"2021-06-30\",\"2021-07-02\",\"2021-07-03\",\"2021-07-04\",\"2021-07-05\",\"2021-07-06\",\"2021-07-07\",\"2021-07-08\",\"2021-07-13\",\"2021-07-14\",\"2021-07-15\",\"2021-07-16\",\"2021-07-17\",\"2021-07-18\",\"2021-07-19\",\"2021-07-20\",\"2021-07-21\",\"2021-07-22\",\"2021-07-23\",\"2021-07-24\",\"2021-07-25\",\"2021-07-26\",\"2021-07-27\",\"2021-07-28\",\"2021-07-29\",\"2021-07-30\",\"2021-07-31\",\"2021-08-02\",\"2021-08-03\",\"2021-08-04\",\"2021-08-05\",\"2021-08-06\",\"2021-08-07\",\"2021-08-08\",\"2021-08-13\",\"2021-08-14\",\"2021-08-15\",\"2021-08-16\",\"2021-09-02\",\"2021-09-03\",\"2021-09-04\",\"2021-09-05\",\"2021-09-06\",\"2021-09-07\",\"2021-09-08\",\"2021-10-02\",\"2021-10-03\",\"2021-10-04\",\"2021-10-05\",\"2021-10-06\",\"2021-10-07\",\"2021-10-08\",\"2021-11-02\",\"2021-11-03\",\"2021-11-04\",\"2021-11-05\",\"2021-11-06\",\"2021-11-07\",\"2021-11-08\",\"2021-12-02\",\"2021-12-03\",\"2021-12-04\",\"2021-12-05\",\"2021-12-06\",\"2021-12-07\",\"2021-12-08\",\"2021-01-16\",\"2021-01-17\",\"2021-01-18\",\"2021-01-19\",\"2021-01-20\",\"2021-01-21\",\"2021-01-22\",\"2021-01-23\",\"2021-01-24\",\"2021-01-25\",\"2021-01-26\",\"2021-01-27\",\"2021-01-28\",\"2021-01-29\",\"2021-01-30\",\"2021-01-31\",\"2021-01-02\",\"2021-02-02\",\"2021-03-02\",\"2021-04-02\",\"2021-05-02\",\"2021-06-02\",\"2021-07-02\",\"2021-08-02\",\"2021-09-02\",\"2021-10-02\",\"2021-11-02\",\"2021-12-02\",\"2021-02-13\",\"2021-02-14\",\"2021-02-15\",\"2021-02-16\",\"2021-02-18\",\"2021-02-17\",\"2021-02-19\",\"2021-02-20\",\"2021-02-21\",\"2021-02-22\",\"2021-02-23\",\"2021-02-24\",\"2021-02-25\",\"2021-02-26\",\"2021-02-27\",\"2021-01-03\",\"2021-02-28\",\"2021-02-03\",\"2021-03-03\",\"2021-04-03\",\"2021-05-03\",\"2021-06-03\",\"2021-07-03\",\"2021-08-03\",\"2021-09-03\",\"2021-10-03\",\"2021-11-03\",\"2021-12-03\",\"2021-03-13\",\"2021-03-14\",\"2021-03-15\",\"2021-03-16\",\"2021-03-17\",\"2021-03-18\",\"2021-03-19\",\"2021-03-20\",\"2021-03-21\",\"2021-03-22\",\"2021-03-23\",\"2021-03-24\",\"2021-03-25\",\"2021-03-26\",\"2021-03-27\",\"2021-03-28\",\"2021-03-29\",\"2021-03-30\",\"2021-03-31\",\"2021-01-04\",\"2021-02-04\",\"2021-03-04\",\"2021-04-04\",\"2021-05-04\",\"2021-06-04\",\"2021-07-04\",\"2021-08-04\",\"2021-09-04\",\"2021-10-04\",\"2021-11-04\",\"2021-12-04\",\"2021-04-13\",\"2021-04-14\",\"2021-04-15\",\"2021-04-16\",\"2021-04-17\",\"2021-04-18\",\"2021-04-19\",\"2021-04-20\",\"2021-04-21\",\"2021-04-22\",\"2021-04-23\",\"2021-04-24\",\"2021-04-25\",\"2021-04-26\",\"2021-04-27\",\"2021-04-28\",\"2021-04-29\",\"2021-04-30\",\"2021-01-05\",\"2021-02-05\",\"2021-03-05\",\"2021-04-05\",\"2021-05-05\",\"2021-06-05\",\"2021-07-05\",\"2021-08-05\",\"2021-09-05\",\"2021-10-05\",\"2021-11-05\",\"2021-12-05\",\"2021-05-13\",\"2021-05-14\",\"2021-05-15\",\"2021-05-16\",\"2021-05-17\",\"2021-05-18\",\"2021-05-19\",\"2021-05-20\",\"2021-05-21\",\"2021-05-22\",\"2021-05-23\",\"2021-05-24\",\"2021-05-25\",\"2021-05-26\",\"2021-05-27\",\"2021-05-28\",\"2021-05-29\",\"2021-05-30\",\"2021-05-31\",\"2021-01-06\",\"2021-02-06\",\"2021-03-06\",\"2021-04-06\",\"2021-05-06\",\"2021-06-06\",\"2021-07-06\",\"2021-08-06\",\"2021-09-06\",\"2021-10-06\",\"2021-11-06\",\"2021-12-06\",\"2021-06-13\",\"2021-06-14\",\"2021-06-15\",\"2021-06-16\",\"2021-06-17\",\"2021-06-18\",\"2021-06-19\",\"2021-06-20\",\"2021-06-21\",\"2021-06-22\",\"2021-06-23\",\"2021-06-24\",\"\",\"\",\"\",\"\",\"\",\"\",\"\",\"\",\"\",\"\",\"\",\"\",\"\",\"\",\"\",\"\",\"\",\"\",\"\",\"\",\"\",\"\",\"\",\"\",\"\",\"\",\"\",\"\",\"\",\"\",\"\",\"\",\"\",\"\",\"\",\"\",\"\",\"\",\"\",\"\",\"\",\"\",\"\",\"\",\"\",\"\",\"\",\"\",\"\",\"\",\"\",\"\",\"\",\"\",\"\",\"\",\"\",\"\",\"\",\"\",\"\",\"\",\"\",\"\",\"\",\"\",\"\",\"\",\"\",\"\",\"\",\"\",\"\",\"\",\"\",\"\",\"\",\"\",\"\",\"\",\"\",\"\",\"\",\"\",\"\",\"\",\"\",\"\",\"\",\"\",\"\",\"\",\"\",\"\",\"\",\"\",\"\",\"\",\"\",\"\",\"\",\"\",\"\",\"\",\"\",\"\",\"\",\"\",\"\",\"\",\"\",\"\",\"\",\"\",\"\",\"\",\"\",\"\",\"\",\"\",\"\",\"\",\"\",\"\",\"\",\"\",\"\",\"\",\"\",\"\",\"\",\"\",\"\",\"\",\"\",\"\",\"\",\"\",\"\",\"\",\"\",\"\",\"\",\"\",\"\",\"\",\"\",\"\",\"\",\"\",\"\",\"\",\"\",\"\",\"\",\"\",\"\",\"\",\"\",\"\",\"\",\"\",\"\",\"\",\"\",\"\",\"\",\"\",\"\",\"\",\"\",\"\",\"\",\"\",\"\",\"\",\"\",\"\",\"\",\"\",\"\",\"\",\"\",\"\",\"\",\"\",\"\",\"\",\"\",\"\",\"\",\"\",\"\",\"\",\"\",\"\",\"\",\"\",\"\",\"\",\"\",\"\",\"\",\"\",\"\",\"\",\"\",\"\",\"\",\"\",\"\",\"\",\"\"],\"values\":[3350260.0,11141302.0,57318961.0,126328970.0,170640412.0,0.0,0.0,48276.0,58604.0,99449.0,195525.0,251280.0,365965.0,549381.0,759008.0,835058.0,1277104.0,1293784.0,1726345.0,2295491.0,2814803.0,3067736.0,3127102.0,3527966.0,11885932.0,60811382.0,126704151.0,172945950.0,0.0,0.0,7687212.0,7710177.0,8110912.0,8337345.0,8704426.0,8862199.0,9523260.0,9734187.0,9756897.0,10068939.0,10287965.0,10517231.0,10845850.0,11141030.0,11141077.0,11141302.0,3825835.0,12551046.0,63613392.0,127696675.0,175677634.0,0.0,0.0,23159604.0,23317750.0,25618250.0,25615620.0,29913061.0,31847478.0,34121206.0,36460274.0,37195786.0,39497139.0,42036983.0,44135856.0,46338124.0,48630419.0,50745334.0,51059318.0,51654023.0,53307952.0,55067955.0,4314304.0,13390837.0,66715435.0,128627919.0,179205337.0,0.0,0.0,95681092.0,98558176.0,100705680.0,102776753.0,104795443.0,105740794.0,108017107.0,110000221.0,111505538.0,113410967.0,115283292.0,116924037.0,117613567.0,119696006.0,121263689.0,122538643.0,123812121.0,125376487.0,4765924.0,14412306.0,69488636.0,129730641.0,182451348.0,0.0,0.0,139087590.0,139861462.0,141132112.0,141764335.0,143090218.0,144270200.0,145333606.0,146624652.0,147893976.0,149302864.0,150180408.0,152439044.0,154384464.0,156189641.0,159006359.0,161951713.0,164804095.0,165823004.0,168393525.0,5111827.0,15438093.0,71911551.0,131058890.0,183824958.0,0.0,0.0,203705131.0,207274441.0,209816439.0,212945352.0,215944608.0,218956863.0,222316897.0,224929947.0,233288807.0,238685516.0,244944880.0,250656880.0,0.0,0.0,0.0,0.0,0.0,0.0,5168099.0,15541124.0,76542972.0,132294827.0,186933771.0,0.0,0.0,0.0,0.0,0.0,0.0,0.0,0.0,0.0,0.0,0.0,0.0,0.0,0.0,0.0,0.0,0.0,0.0,0.0,0.0,0.0,5615448.0,16975729.0,80869064.0,133366482.0,189503126.0,0.0,0.0,0.0,0.0,0.0,0.0,6002395.0,18360243.0,84165906.0,133854676.0,192669299.0,0.0,0.0,6462171.0,19538547.0,87278410.0,135192013.0,195747476.0,0.0,0.0,6958434.0,19953987.0,89981407.0,136557345.0,198977594.0,0.0,0.0,7423700.0,21772159.0,93424883.0,137805245.0,202207183.0,0.0,0.0,48276.0,58604.0,99449.0,195525.0,251280.0,365965.0,549381.0,759008.0,835058.0,1277104.0,1293784.0,1726490.0,2295491.0,2814803.0,3067736.0,3127107.0,3350265.0,3527971.0,3825835.0,4314304.0,4765924.0,5111827.0,5168099.0,5615499.0,6002474.0,6462270.0,6958553.0,7423817.0,7687352.0,7710367.0,8111162.0,8337600.0,8862491.0,8704698.0,9523567.0,9734505.0,9757217.0,10069263.0,10288293.0,10517568.0,10846192.0,11141375.0,11141426.0,11141651.0,11141651.0,11886320.0,12553326.0,13393538.0,14415912.0,15438495.0,15541529.0,16976138.0,18360243.0,19538547.0,19953987.0,21772159.0,23159604.0,23317750.0,25618250.0,25709257.0,30011328.0,31952935.0,34228371.0,36568988.0,37303458.0,39612614.0,42148875.0,44250191.0,46454700.0,48749313.0,50865316.0,51179587.0,51774289.0,53429356.0,55188803.0,57443466.0,60936753.0,63743700.0,66838504.0,69620234.0,72035640.0,76671812.0,80998099.0,84296847.0,87411872.0,90111528.0,93559587.0,95823614.0,98703696.0,100853671.0,102927296.0,104950409.0,105896430.0,108178574.0,110165234.0,111673361.0,113584269.0,115461202.0,117105343.0,117795008.0,119886252.0,121263287.0,122538179.0,123811908.0,125376952.0,126328970.0,126704151.0,127696675.0,128627919.0,129730641.0,131058890.0,132294827.0,133366482.0,133854676.0,135192013.0,136557345.0,137805245.0,139087590.0,139861462.0,141132112.0,141764335.0,143090218.0,144270200.0,145333606.0,146624652.0,147893976.0,149302864.0,150180408.0,152439044.0,154384464.0,156189641.0,159006359.0,161951713.0,164804095.0,165823004.0,168393525.0,170640412.0,172945950.0,175677634.0,179205337.0,182451348.0,183824958.0,186933771.0,189503126.0,192669299.0,195747476.0,198977594.0,202207183.0,203705131.0,207274441.0,209816439.0,212945352.0,215944608.0,218956863.0,222316897.0,225211708.0,233288807.0,238685516.0,244944880.0,250656880.0,6700525.0,22282953.0,114762427.0,252657940.0,341280824.0,0.0,0.0,96552.0,117208.0,198898.0,391050.0,502560.0,731930.0,1098762.0,1518016.0,1670116.0,2554208.0,2587568.0,3452835.0,4590982.0,5629606.0,6135472.0,6254209.0,7055937.0,23772252.0,121748135.0,253408302.0,345891900.0,0.0,0.0,15374564.0,15420544.0,16222074.0,16674945.0,17409124.0,17724690.0,19046827.0,19468692.0,19514114.0,20138202.0,20576258.0,21034799.0,21692042.0,22282405.0,22282503.0,22282953.0,7651670.0,25104372.0,127357092.0,255393350.0,351355268.0,0.0,0.0,46319208.0,46635500.0,51236500.0,51324877.0,59924389.0,63800413.0,68349577.0,73029262.0,74499244.0,79109753.0,84185858.0,88386047.0,92792824.0,97379732.0,101610650.0,102238905.0,103428312.0,106737308.0,110256758.0,8628608.0,26784375.0,133553939.0,257255838.0,358410674.0,0.0,0.0,191504706.0,197261872.0,201559351.0,205704049.0,209745852.0,211637224.0,216195681.0,220165455.0,223178899.0,226995236.0,230744494.0,234029380.0,235408575.0,239582258.0,242526976.0,245076822.0,247624029.0,250753439.0,9531848.0,28828218.0,139108870.0,259461282.0,364902696.0,0.0,0.0,278175180.0,279722924.0,282264224.0,283528670.0,286180436.0,288540400.0,290667212.0,293249304.0,295787952.0,298605728.0,300360816.0,304878088.0,308768928.0,312379282.0,318012718.0,323903426.0,329608190.0,331646008.0,336787050.0,10223654.0,30876588.0,143947191.0,262117780.0,367649916.0,0.0,0.0,407410262.0,414548882.0,419632878.0,425890704.0,431889216.0,437913726.0,444633794.0,450141655.0,466577614.0,477371032.0,489889760.0,501313760.0,0.0,0.0,0.0,0.0,0.0,0.0,10336198.0,31082653.0,153214784.0,264589654.0,373867542.0,0.0,0.0,0.0,0.0,0.0,0.0,0.0,0.0,0.0,0.0,0.0,0.0,0.0,0.0,0.0,0.0,0.0,0.0,0.0,0.0,0.0,11230947.0,33951867.0,161867163.0,266732964.0,379006252.0,0.0,0.0,0.0,0.0,0.0,0.0,12004869.0,36720486.0,168462753.0,267709352.0,385338598.0,0.0,0.0,12924441.0,39077094.0,174690282.0,270384026.0,391494952.0,0.0,0.0,13916987.0,39907974.0,180092935.0,273114690.0,397955188.0,0.0,0.0,14847517.0,43544318.0,186984470.0,275610490.0,404414366.0,0.0,0.0],\"type\":\"treemap\"}],                        {\"template\":{\"data\":{\"histogram2dcontour\":[{\"type\":\"histogram2dcontour\",\"colorbar\":{\"outlinewidth\":0,\"ticks\":\"\"},\"colorscale\":[[0.0,\"#0d0887\"],[0.1111111111111111,\"#46039f\"],[0.2222222222222222,\"#7201a8\"],[0.3333333333333333,\"#9c179e\"],[0.4444444444444444,\"#bd3786\"],[0.5555555555555556,\"#d8576b\"],[0.6666666666666666,\"#ed7953\"],[0.7777777777777778,\"#fb9f3a\"],[0.8888888888888888,\"#fdca26\"],[1.0,\"#f0f921\"]]}],\"choropleth\":[{\"type\":\"choropleth\",\"colorbar\":{\"outlinewidth\":0,\"ticks\":\"\"}}],\"histogram2d\":[{\"type\":\"histogram2d\",\"colorbar\":{\"outlinewidth\":0,\"ticks\":\"\"},\"colorscale\":[[0.0,\"#0d0887\"],[0.1111111111111111,\"#46039f\"],[0.2222222222222222,\"#7201a8\"],[0.3333333333333333,\"#9c179e\"],[0.4444444444444444,\"#bd3786\"],[0.5555555555555556,\"#d8576b\"],[0.6666666666666666,\"#ed7953\"],[0.7777777777777778,\"#fb9f3a\"],[0.8888888888888888,\"#fdca26\"],[1.0,\"#f0f921\"]]}],\"heatmap\":[{\"type\":\"heatmap\",\"colorbar\":{\"outlinewidth\":0,\"ticks\":\"\"},\"colorscale\":[[0.0,\"#0d0887\"],[0.1111111111111111,\"#46039f\"],[0.2222222222222222,\"#7201a8\"],[0.3333333333333333,\"#9c179e\"],[0.4444444444444444,\"#bd3786\"],[0.5555555555555556,\"#d8576b\"],[0.6666666666666666,\"#ed7953\"],[0.7777777777777778,\"#fb9f3a\"],[0.8888888888888888,\"#fdca26\"],[1.0,\"#f0f921\"]]}],\"heatmapgl\":[{\"type\":\"heatmapgl\",\"colorbar\":{\"outlinewidth\":0,\"ticks\":\"\"},\"colorscale\":[[0.0,\"#0d0887\"],[0.1111111111111111,\"#46039f\"],[0.2222222222222222,\"#7201a8\"],[0.3333333333333333,\"#9c179e\"],[0.4444444444444444,\"#bd3786\"],[0.5555555555555556,\"#d8576b\"],[0.6666666666666666,\"#ed7953\"],[0.7777777777777778,\"#fb9f3a\"],[0.8888888888888888,\"#fdca26\"],[1.0,\"#f0f921\"]]}],\"contourcarpet\":[{\"type\":\"contourcarpet\",\"colorbar\":{\"outlinewidth\":0,\"ticks\":\"\"}}],\"contour\":[{\"type\":\"contour\",\"colorbar\":{\"outlinewidth\":0,\"ticks\":\"\"},\"colorscale\":[[0.0,\"#0d0887\"],[0.1111111111111111,\"#46039f\"],[0.2222222222222222,\"#7201a8\"],[0.3333333333333333,\"#9c179e\"],[0.4444444444444444,\"#bd3786\"],[0.5555555555555556,\"#d8576b\"],[0.6666666666666666,\"#ed7953\"],[0.7777777777777778,\"#fb9f3a\"],[0.8888888888888888,\"#fdca26\"],[1.0,\"#f0f921\"]]}],\"surface\":[{\"type\":\"surface\",\"colorbar\":{\"outlinewidth\":0,\"ticks\":\"\"},\"colorscale\":[[0.0,\"#0d0887\"],[0.1111111111111111,\"#46039f\"],[0.2222222222222222,\"#7201a8\"],[0.3333333333333333,\"#9c179e\"],[0.4444444444444444,\"#bd3786\"],[0.5555555555555556,\"#d8576b\"],[0.6666666666666666,\"#ed7953\"],[0.7777777777777778,\"#fb9f3a\"],[0.8888888888888888,\"#fdca26\"],[1.0,\"#f0f921\"]]}],\"mesh3d\":[{\"type\":\"mesh3d\",\"colorbar\":{\"outlinewidth\":0,\"ticks\":\"\"}}],\"scatter\":[{\"fillpattern\":{\"fillmode\":\"overlay\",\"size\":10,\"solidity\":0.2},\"type\":\"scatter\"}],\"parcoords\":[{\"type\":\"parcoords\",\"line\":{\"colorbar\":{\"outlinewidth\":0,\"ticks\":\"\"}}}],\"scatterpolargl\":[{\"type\":\"scatterpolargl\",\"marker\":{\"colorbar\":{\"outlinewidth\":0,\"ticks\":\"\"}}}],\"bar\":[{\"error_x\":{\"color\":\"#2a3f5f\"},\"error_y\":{\"color\":\"#2a3f5f\"},\"marker\":{\"line\":{\"color\":\"#E5ECF6\",\"width\":0.5},\"pattern\":{\"fillmode\":\"overlay\",\"size\":10,\"solidity\":0.2}},\"type\":\"bar\"}],\"scattergeo\":[{\"type\":\"scattergeo\",\"marker\":{\"colorbar\":{\"outlinewidth\":0,\"ticks\":\"\"}}}],\"scatterpolar\":[{\"type\":\"scatterpolar\",\"marker\":{\"colorbar\":{\"outlinewidth\":0,\"ticks\":\"\"}}}],\"histogram\":[{\"marker\":{\"pattern\":{\"fillmode\":\"overlay\",\"size\":10,\"solidity\":0.2}},\"type\":\"histogram\"}],\"scattergl\":[{\"type\":\"scattergl\",\"marker\":{\"colorbar\":{\"outlinewidth\":0,\"ticks\":\"\"}}}],\"scatter3d\":[{\"type\":\"scatter3d\",\"line\":{\"colorbar\":{\"outlinewidth\":0,\"ticks\":\"\"}},\"marker\":{\"colorbar\":{\"outlinewidth\":0,\"ticks\":\"\"}}}],\"scattermapbox\":[{\"type\":\"scattermapbox\",\"marker\":{\"colorbar\":{\"outlinewidth\":0,\"ticks\":\"\"}}}],\"scatterternary\":[{\"type\":\"scatterternary\",\"marker\":{\"colorbar\":{\"outlinewidth\":0,\"ticks\":\"\"}}}],\"scattercarpet\":[{\"type\":\"scattercarpet\",\"marker\":{\"colorbar\":{\"outlinewidth\":0,\"ticks\":\"\"}}}],\"carpet\":[{\"aaxis\":{\"endlinecolor\":\"#2a3f5f\",\"gridcolor\":\"white\",\"linecolor\":\"white\",\"minorgridcolor\":\"white\",\"startlinecolor\":\"#2a3f5f\"},\"baxis\":{\"endlinecolor\":\"#2a3f5f\",\"gridcolor\":\"white\",\"linecolor\":\"white\",\"minorgridcolor\":\"white\",\"startlinecolor\":\"#2a3f5f\"},\"type\":\"carpet\"}],\"table\":[{\"cells\":{\"fill\":{\"color\":\"#EBF0F8\"},\"line\":{\"color\":\"white\"}},\"header\":{\"fill\":{\"color\":\"#C8D4E3\"},\"line\":{\"color\":\"white\"}},\"type\":\"table\"}],\"barpolar\":[{\"marker\":{\"line\":{\"color\":\"#E5ECF6\",\"width\":0.5},\"pattern\":{\"fillmode\":\"overlay\",\"size\":10,\"solidity\":0.2}},\"type\":\"barpolar\"}],\"pie\":[{\"automargin\":true,\"type\":\"pie\"}]},\"layout\":{\"autotypenumbers\":\"strict\",\"colorway\":[\"#636efa\",\"#EF553B\",\"#00cc96\",\"#ab63fa\",\"#FFA15A\",\"#19d3f3\",\"#FF6692\",\"#B6E880\",\"#FF97FF\",\"#FECB52\"],\"font\":{\"color\":\"#2a3f5f\"},\"hovermode\":\"closest\",\"hoverlabel\":{\"align\":\"left\"},\"paper_bgcolor\":\"white\",\"plot_bgcolor\":\"#E5ECF6\",\"polar\":{\"bgcolor\":\"#E5ECF6\",\"angularaxis\":{\"gridcolor\":\"white\",\"linecolor\":\"white\",\"ticks\":\"\"},\"radialaxis\":{\"gridcolor\":\"white\",\"linecolor\":\"white\",\"ticks\":\"\"}},\"ternary\":{\"bgcolor\":\"#E5ECF6\",\"aaxis\":{\"gridcolor\":\"white\",\"linecolor\":\"white\",\"ticks\":\"\"},\"baxis\":{\"gridcolor\":\"white\",\"linecolor\":\"white\",\"ticks\":\"\"},\"caxis\":{\"gridcolor\":\"white\",\"linecolor\":\"white\",\"ticks\":\"\"}},\"coloraxis\":{\"colorbar\":{\"outlinewidth\":0,\"ticks\":\"\"}},\"colorscale\":{\"sequential\":[[0.0,\"#0d0887\"],[0.1111111111111111,\"#46039f\"],[0.2222222222222222,\"#7201a8\"],[0.3333333333333333,\"#9c179e\"],[0.4444444444444444,\"#bd3786\"],[0.5555555555555556,\"#d8576b\"],[0.6666666666666666,\"#ed7953\"],[0.7777777777777778,\"#fb9f3a\"],[0.8888888888888888,\"#fdca26\"],[1.0,\"#f0f921\"]],\"sequentialminus\":[[0.0,\"#0d0887\"],[0.1111111111111111,\"#46039f\"],[0.2222222222222222,\"#7201a8\"],[0.3333333333333333,\"#9c179e\"],[0.4444444444444444,\"#bd3786\"],[0.5555555555555556,\"#d8576b\"],[0.6666666666666666,\"#ed7953\"],[0.7777777777777778,\"#fb9f3a\"],[0.8888888888888888,\"#fdca26\"],[1.0,\"#f0f921\"]],\"diverging\":[[0,\"#8e0152\"],[0.1,\"#c51b7d\"],[0.2,\"#de77ae\"],[0.3,\"#f1b6da\"],[0.4,\"#fde0ef\"],[0.5,\"#f7f7f7\"],[0.6,\"#e6f5d0\"],[0.7,\"#b8e186\"],[0.8,\"#7fbc41\"],[0.9,\"#4d9221\"],[1,\"#276419\"]]},\"xaxis\":{\"gridcolor\":\"white\",\"linecolor\":\"white\",\"ticks\":\"\",\"title\":{\"standoff\":15},\"zerolinecolor\":\"white\",\"automargin\":true,\"zerolinewidth\":2},\"yaxis\":{\"gridcolor\":\"white\",\"linecolor\":\"white\",\"ticks\":\"\",\"title\":{\"standoff\":15},\"zerolinecolor\":\"white\",\"automargin\":true,\"zerolinewidth\":2},\"scene\":{\"xaxis\":{\"backgroundcolor\":\"#E5ECF6\",\"gridcolor\":\"white\",\"linecolor\":\"white\",\"showbackground\":true,\"ticks\":\"\",\"zerolinecolor\":\"white\",\"gridwidth\":2},\"yaxis\":{\"backgroundcolor\":\"#E5ECF6\",\"gridcolor\":\"white\",\"linecolor\":\"white\",\"showbackground\":true,\"ticks\":\"\",\"zerolinecolor\":\"white\",\"gridwidth\":2},\"zaxis\":{\"backgroundcolor\":\"#E5ECF6\",\"gridcolor\":\"white\",\"linecolor\":\"white\",\"showbackground\":true,\"ticks\":\"\",\"zerolinecolor\":\"white\",\"gridwidth\":2}},\"shapedefaults\":{\"line\":{\"color\":\"#2a3f5f\"}},\"annotationdefaults\":{\"arrowcolor\":\"#2a3f5f\",\"arrowhead\":0,\"arrowwidth\":1},\"geo\":{\"bgcolor\":\"white\",\"landcolor\":\"#E5ECF6\",\"subunitcolor\":\"white\",\"showland\":true,\"showlakes\":true,\"lakecolor\":\"white\"},\"title\":{\"x\":0.05},\"mapbox\":{\"style\":\"light\"}}},\"legend\":{\"tracegroupgap\":0},\"margin\":{\"t\":60}},                        {\"responsive\": true}                    ).then(function(){\n",
       "                            \n",
       "var gd = document.getElementById('86efdd9f-dd22-4aab-9b76-9a1d925f4b6d');\n",
       "var x = new MutationObserver(function (mutations, observer) {{\n",
       "        var display = window.getComputedStyle(gd).display;\n",
       "        if (!display || display === 'none') {{\n",
       "            console.log([gd, 'removed!']);\n",
       "            Plotly.purge(gd);\n",
       "            observer.disconnect();\n",
       "        }}\n",
       "}});\n",
       "\n",
       "// Listen for the removal of the full notebook cells\n",
       "var notebookContainer = gd.closest('#notebook-container');\n",
       "if (notebookContainer) {{\n",
       "    x.observe(notebookContainer, {childList: true});\n",
       "}}\n",
       "\n",
       "// Listen for the clearing of the current output cell\n",
       "var outputEl = gd.closest('.output');\n",
       "if (outputEl) {{\n",
       "    x.observe(outputEl, {childList: true});\n",
       "}}\n",
       "\n",
       "                        })                };                });            </script>        </div>"
      ]
     },
     "metadata": {},
     "output_type": "display_data"
    }
   ],
   "source": [
    "fig = px.treemap(vaccine,path=['Updated On','Female(Individuals Vaccinated)'],values = 'Total Individuals Vaccinated')\n",
    "fig.show()"
   ]
  },
  {
   "cell_type": "code",
   "execution_count": 49,
   "id": "065e153e",
   "metadata": {
    "execution": {
     "iopub.execute_input": "2022-04-26T14:25:18.245090Z",
     "iopub.status.busy": "2022-04-26T14:25:18.244814Z",
     "iopub.status.idle": "2022-04-26T14:25:18.618440Z",
     "shell.execute_reply": "2022-04-26T14:25:18.617732Z"
    },
    "papermill": {
     "duration": 0.477619,
     "end_time": "2022-04-26T14:25:18.620833",
     "exception": false,
     "start_time": "2022-04-26T14:25:18.143214",
     "status": "completed"
    },
    "tags": []
   },
   "outputs": [
    {
     "data": {
      "text/html": [
       "<div>                            <div id=\"5da20dd0-1b90-497f-9a45-5a70926b38d9\" class=\"plotly-graph-div\" style=\"height:525px; width:100%;\"></div>            <script type=\"text/javascript\">                require([\"plotly\"], function(Plotly) {                    window.PLOTLYENV=window.PLOTLYENV || {};                                    if (document.getElementById(\"5da20dd0-1b90-497f-9a45-5a70926b38d9\")) {                    Plotly.newPlot(                        \"5da20dd0-1b90-497f-9a45-5a70926b38d9\",                        [{\"branchvalues\":\"total\",\"domain\":{\"x\":[0.0,1.0],\"y\":[0.0,1.0]},\"hovertemplate\":\"labels=%{label}<br>Total Individuals Vaccinated=%{value}<br>parent=%{parent}<br>id=%{id}<extra></extra>\",\"ids\":[\"2021-01-02/0.0\",\"2021-01-03/0.0\",\"2021-01-04/0.0\",\"2021-01-05/0.0\",\"2021-01-06/0.0\",\"2021-01-07/0.0\",\"2021-01-08/0.0\",\"2021-01-16/0.0\",\"2021-01-17/0.0\",\"2021-01-18/0.0\",\"2021-01-19/0.0\",\"2021-01-20/0.0\",\"2021-01-21/0.0\",\"2021-01-22/0.0\",\"2021-01-23/0.0\",\"2021-01-24/0.0\",\"2021-01-25/0.0\",\"2021-01-26/0.0\",\"2021-01-27/0.0\",\"2021-01-28/0.0\",\"2021-01-29/0.0\",\"2021-01-30/0.0\",\"2021-01-31/0.0\",\"2021-02-02/0.0\",\"2021-02-03/0.0\",\"2021-02-04/0.0\",\"2021-02-05/0.0\",\"2021-02-06/0.0\",\"2021-02-07/0.0\",\"2021-02-08/0.0\",\"2021-02-13/0.0\",\"2021-02-14/0.0\",\"2021-02-15/0.0\",\"2021-02-16/0.0\",\"2021-02-17/0.0\",\"2021-02-18/0.0\",\"2021-02-19/0.0\",\"2021-02-20/0.0\",\"2021-02-21/0.0\",\"2021-02-22/0.0\",\"2021-02-23/0.0\",\"2021-02-24/0.0\",\"2021-02-25/0.0\",\"2021-02-26/0.0\",\"2021-02-27/0.0\",\"2021-02-28/0.0\",\"2021-03-02/0.0\",\"2021-03-03/0.0\",\"2021-03-04/0.0\",\"2021-03-05/0.0\",\"2021-03-06/0.0\",\"2021-03-07/0.0\",\"2021-03-08/0.0\",\"2021-03-13/0.0\",\"2021-03-14/0.0\",\"2021-03-15/0.0\",\"2021-03-16/0.0\",\"2021-03-17/0.0\",\"2021-03-18/0.0\",\"2021-03-19/0.0\",\"2021-03-20/0.0\",\"2021-03-21/0.0\",\"2021-03-22/0.0\",\"2021-03-23/0.0\",\"2021-03-24/0.0\",\"2021-03-25/0.0\",\"2021-03-26/0.0\",\"2021-03-27/0.0\",\"2021-03-28/0.0\",\"2021-03-29/0.0\",\"2021-03-30/0.0\",\"2021-03-31/0.0\",\"2021-04-02/0.0\",\"2021-04-03/0.0\",\"2021-04-04/0.0\",\"2021-04-05/0.0\",\"2021-04-06/0.0\",\"2021-04-07/0.0\",\"2021-04-08/0.0\",\"2021-04-13/0.0\",\"2021-04-14/0.0\",\"2021-04-15/0.0\",\"2021-04-16/0.0\",\"2021-04-17/0.0\",\"2021-04-18/0.0\",\"2021-04-19/0.0\",\"2021-04-20/0.0\",\"2021-04-21/0.0\",\"2021-04-22/0.0\",\"2021-04-23/0.0\",\"2021-04-24/0.0\",\"2021-04-25/0.0\",\"2021-04-26/0.0\",\"2021-04-27/0.0\",\"2021-04-28/0.0\",\"2021-04-29/0.0\",\"2021-04-30/0.0\",\"2021-05-02/0.0\",\"2021-05-03/0.0\",\"2021-05-04/0.0\",\"2021-05-05/0.0\",\"2021-05-06/0.0\",\"2021-05-07/0.0\",\"2021-05-08/0.0\",\"2021-05-13/0.0\",\"2021-05-14/0.0\",\"2021-05-15/0.0\",\"2021-05-16/0.0\",\"2021-05-17/0.0\",\"2021-05-18/0.0\",\"2021-05-19/0.0\",\"2021-05-20/0.0\",\"2021-05-21/0.0\",\"2021-05-22/0.0\",\"2021-05-23/0.0\",\"2021-05-24/0.0\",\"2021-05-25/0.0\",\"2021-05-26/0.0\",\"2021-05-27/0.0\",\"2021-05-28/0.0\",\"2021-05-29/0.0\",\"2021-05-30/0.0\",\"2021-05-31/0.0\",\"2021-06-02/0.0\",\"2021-06-03/0.0\",\"2021-06-04/0.0\",\"2021-06-05/0.0\",\"2021-06-06/0.0\",\"2021-06-07/0.0\",\"2021-06-08/0.0\",\"2021-06-13/0.0\",\"2021-06-14/0.0\",\"2021-06-15/0.0\",\"2021-06-16/0.0\",\"2021-06-17/0.0\",\"2021-06-18/0.0\",\"2021-06-19/0.0\",\"2021-06-20/0.0\",\"2021-06-21/0.0\",\"2021-06-22/0.0\",\"2021-06-23/0.0\",\"2021-06-24/0.0\",\"2021-06-25/0.0\",\"2021-06-26/0.0\",\"2021-06-27/0.0\",\"2021-06-28/0.0\",\"2021-06-29/0.0\",\"2021-06-30/0.0\",\"2021-07-02/0.0\",\"2021-07-03/0.0\",\"2021-07-04/0.0\",\"2021-07-05/0.0\",\"2021-07-06/0.0\",\"2021-07-07/0.0\",\"2021-07-08/0.0\",\"2021-07-13/0.0\",\"2021-07-14/0.0\",\"2021-07-15/0.0\",\"2021-07-16/0.0\",\"2021-07-17/0.0\",\"2021-07-18/0.0\",\"2021-07-19/0.0\",\"2021-07-20/0.0\",\"2021-07-21/0.0\",\"2021-07-22/0.0\",\"2021-07-23/0.0\",\"2021-07-24/0.0\",\"2021-07-25/0.0\",\"2021-07-26/0.0\",\"2021-07-27/0.0\",\"2021-07-28/0.0\",\"2021-07-29/0.0\",\"2021-07-30/0.0\",\"2021-07-31/0.0\",\"2021-08-02/0.0\",\"2021-08-03/0.0\",\"2021-08-04/0.0\",\"2021-08-05/0.0\",\"2021-08-06/0.0\",\"2021-08-07/0.0\",\"2021-08-08/0.0\",\"2021-08-13/0.0\",\"2021-08-14/0.0\",\"2021-08-15/0.0\",\"2021-08-16/0.0\",\"2021-09-02/0.0\",\"2021-09-03/0.0\",\"2021-09-04/0.0\",\"2021-09-05/0.0\",\"2021-09-06/0.0\",\"2021-09-07/0.0\",\"2021-09-08/0.0\",\"2021-10-02/0.0\",\"2021-10-03/0.0\",\"2021-10-04/0.0\",\"2021-10-05/0.0\",\"2021-10-06/0.0\",\"2021-10-07/0.0\",\"2021-10-08/0.0\",\"2021-11-02/0.0\",\"2021-11-03/0.0\",\"2021-11-04/0.0\",\"2021-11-05/0.0\",\"2021-11-06/0.0\",\"2021-11-07/0.0\",\"2021-11-08/0.0\",\"2021-12-02/0.0\",\"2021-12-03/0.0\",\"2021-12-04/0.0\",\"2021-12-05/0.0\",\"2021-12-06/0.0\",\"2021-12-07/0.0\",\"2021-12-08/0.0\",\"2021-01-16/24517.0\",\"2021-01-17/31252.0\",\"2021-01-18/58083.0\",\"2021-01-19/113613.0\",\"2021-01-20/153145.0\",\"2021-01-21/233143.0\",\"2021-01-22/355402.0\",\"2021-01-23/491049.0\",\"2021-01-24/538647.0\",\"2021-01-25/832766.0\",\"2021-01-26/844448.0\",\"2021-01-27/1140137.0\",\"2021-01-28/1523939.0\",\"2021-01-29/1875368.0\",\"2021-01-30/2044950.0\",\"2021-01-31/2065391.0\",\"2021-01-02/2197431.0\",\"2021-02-02/2308898.0\",\"2021-03-02/2500887.0\",\"2021-04-02/2809042.0\",\"2021-05-02/3054631.0\",\"2021-06-02/3214244.0\",\"2021-07-02/3238273.0\",\"2021-08-02/3403576.0\",\"2021-09-02/3543208.0\",\"2021-10-02/3676114.0\",\"2021-11-02/3803908.0\",\"2021-12-02/3918381.0\",\"2021-02-13/4002279.0\",\"2021-02-14/4009812.0\",\"2021-02-15/4184377.0\",\"2021-02-16/4291548.0\",\"2021-02-18/4351815.0\",\"2021-02-17/4432078.0\",\"2021-02-19/4702310.0\",\"2021-02-20/4766532.0\",\"2021-02-21/4773924.0\",\"2021-02-22/4841511.0\",\"2021-02-23/4897627.0\",\"2021-02-24/4957351.0\",\"2021-02-25/5045426.0\",\"2021-02-26/5131299.0\",\"2021-02-27/5131323.0\",\"2021-01-03/5131373.0\",\"2021-02-28/5131373.0\",\"2021-02-03/5422470.0\",\"2021-03-03/5692550.0\",\"2021-04-03/6045211.0\",\"2021-05-03/6490255.0\",\"2021-06-03/6948195.0\",\"2021-07-03/6993867.0\",\"2021-08-03/7676312.0\",\"2021-09-03/8313353.0\",\"2021-10-03/8829091.0\",\"2021-11-03/9013952.0\",\"2021-12-03/9795767.0\",\"2021-03-13/10409393.0\",\"2021-03-14/10483269.0\",\"2021-03-15/11524956.0\",\"2021-03-16/11713149.0\",\"2021-03-17/13742026.0\",\"2021-03-18/14637915.0\",\"2021-03-19/15732206.0\",\"2021-03-20/16876137.0\",\"2021-03-21/17245870.0\",\"2021-03-22/18363361.0\",\"2021-03-23/19611896.0\",\"2021-03-24/20642500.0\",\"2021-03-25/21704739.0\",\"2021-03-26/22832194.0\",\"2021-03-27/23883153.0\",\"2021-03-28/24036939.0\",\"2021-03-29/24341025.0\",\"2021-03-30/25165987.0\",\"2021-03-31/26031409.0\",\"2021-01-04/27115615.0\",\"2021-02-04/28803529.0\",\"2021-03-04/30159173.0\",\"2021-04-04/31665721.0\",\"2021-05-04/33052869.0\",\"2021-06-04/34255180.0\",\"2021-07-04/36552499.0\",\"2021-08-04/38715200.0\",\"2021-09-04/40357259.0\",\"2021-10-04/41893575.0\",\"2021-11-04/43205152.0\",\"2021-12-04/44878560.0\",\"2021-04-13/45926378.0\",\"2021-04-14/47329847.0\",\"2021-04-15/48352489.0\",\"2021-04-16/49339504.0\",\"2021-04-17/50289664.0\",\"2021-04-18/50732172.0\",\"2021-04-19/51806475.0\",\"2021-04-20/52731510.0\",\"2021-04-21/53441979.0\",\"2021-04-22/54355513.0\",\"2021-04-23/55237448.0\",\"2021-04-24/56011474.0\",\"2021-04-25/56337692.0\",\"2021-04-26/57335805.0\",\"2021-04-27/57980903.0\",\"2021-04-28/58583701.0\",\"2021-04-29/59183960.0\",\"2021-04-30/59914751.0\",\"2021-01-05/60339903.0\",\"2021-02-05/60503747.0\",\"2021-03-05/60942039.0\",\"2021-04-05/61344881.0\",\"2021-05-05/61832097.0\",\"2021-06-05/62424602.0\",\"2021-07-05/62972623.0\",\"2021-08-05/63449164.0\",\"2021-09-05/63650307.0\",\"2021-10-05/64225501.0\",\"2021-11-05/64816275.0\",\"2021-12-05/65354414.0\",\"2021-05-13/65906538.0\",\"2021-05-14/66234957.0\",\"2021-05-15/66787921.0\",\"2021-05-16/67050966.0\",\"2021-05-17/67608590.0\",\"2021-05-18/68107465.0\",\"2021-05-19/68550747.0\",\"2021-05-20/69091006.0\",\"2021-05-21/69623495.0\",\"2021-05-22/70224054.0\",\"2021-05-23/70583303.0\",\"2021-05-24/71526736.0\",\"2021-05-25/72328742.0\",\"2021-05-26/73082037.0\",\"2021-05-27/74299145.0\",\"2021-05-28/75552353.0\",\"2021-05-29/76750999.0\",\"2021-05-30/77177776.0\",\"2021-05-31/78271582.0\",\"2021-01-06/79231870.0\",\"2021-02-06/80212651.0\",\"2021-03-06/81361633.0\",\"2021-04-06/82885972.0\",\"2021-05-06/84277549.0\",\"2021-06-06/84886553.0\",\"2021-07-06/86246094.0\",\"2021-08-06/87370490.0\",\"2021-09-06/88748112.0\",\"2021-10-06/90106724.0\",\"2021-11-06/91557487.0\",\"2021-12-06/92997290.0\",\"2021-06-13/93690273.0\",\"2021-06-14/95369557.0\",\"2021-06-15/96513504.0\",\"2021-06-16/97929255.0\",\"2021-06-17/99275854.0\",\"2021-06-18/100624989.0\",\"2021-06-19/102137801.0\",\"2021-06-20/103804672.0\",\"2021-06-21/107542051.0\",\"2021-06-22/110074369.0\",\"2021-06-23/112980429.0\",\"2021-06-24/115668447.0\",\"2021-01-02\",\"2021-01-03\",\"2021-01-04\",\"2021-01-05\",\"2021-01-06\",\"2021-01-07\",\"2021-01-08\",\"2021-01-16\",\"2021-01-17\",\"2021-01-18\",\"2021-01-19\",\"2021-01-20\",\"2021-01-21\",\"2021-01-22\",\"2021-01-23\",\"2021-01-24\",\"2021-01-25\",\"2021-01-26\",\"2021-01-27\",\"2021-01-28\",\"2021-01-29\",\"2021-01-30\",\"2021-01-31\",\"2021-02-02\",\"2021-02-03\",\"2021-02-04\",\"2021-02-05\",\"2021-02-06\",\"2021-02-07\",\"2021-02-08\",\"2021-02-13\",\"2021-02-14\",\"2021-02-15\",\"2021-02-16\",\"2021-02-17\",\"2021-02-18\",\"2021-02-19\",\"2021-02-20\",\"2021-02-21\",\"2021-02-22\",\"2021-02-23\",\"2021-02-24\",\"2021-02-25\",\"2021-02-26\",\"2021-02-27\",\"2021-02-28\",\"2021-03-02\",\"2021-03-03\",\"2021-03-04\",\"2021-03-05\",\"2021-03-06\",\"2021-03-07\",\"2021-03-08\",\"2021-03-13\",\"2021-03-14\",\"2021-03-15\",\"2021-03-16\",\"2021-03-17\",\"2021-03-18\",\"2021-03-19\",\"2021-03-20\",\"2021-03-21\",\"2021-03-22\",\"2021-03-23\",\"2021-03-24\",\"2021-03-25\",\"2021-03-26\",\"2021-03-27\",\"2021-03-28\",\"2021-03-29\",\"2021-03-30\",\"2021-03-31\",\"2021-04-02\",\"2021-04-03\",\"2021-04-04\",\"2021-04-05\",\"2021-04-06\",\"2021-04-07\",\"2021-04-08\",\"2021-04-13\",\"2021-04-14\",\"2021-04-15\",\"2021-04-16\",\"2021-04-17\",\"2021-04-18\",\"2021-04-19\",\"2021-04-20\",\"2021-04-21\",\"2021-04-22\",\"2021-04-23\",\"2021-04-24\",\"2021-04-25\",\"2021-04-26\",\"2021-04-27\",\"2021-04-28\",\"2021-04-29\",\"2021-04-30\",\"2021-05-02\",\"2021-05-03\",\"2021-05-04\",\"2021-05-05\",\"2021-05-06\",\"2021-05-07\",\"2021-05-08\",\"2021-05-13\",\"2021-05-14\",\"2021-05-15\",\"2021-05-16\",\"2021-05-17\",\"2021-05-18\",\"2021-05-19\",\"2021-05-20\",\"2021-05-21\",\"2021-05-22\",\"2021-05-23\",\"2021-05-24\",\"2021-05-25\",\"2021-05-26\",\"2021-05-27\",\"2021-05-28\",\"2021-05-29\",\"2021-05-30\",\"2021-05-31\",\"2021-06-02\",\"2021-06-03\",\"2021-06-04\",\"2021-06-05\",\"2021-06-06\",\"2021-06-07\",\"2021-06-08\",\"2021-06-13\",\"2021-06-14\",\"2021-06-15\",\"2021-06-16\",\"2021-06-17\",\"2021-06-18\",\"2021-06-19\",\"2021-06-20\",\"2021-06-21\",\"2021-06-22\",\"2021-06-23\",\"2021-06-24\",\"2021-06-25\",\"2021-06-26\",\"2021-06-27\",\"2021-06-28\",\"2021-06-29\",\"2021-06-30\",\"2021-07-02\",\"2021-07-03\",\"2021-07-04\",\"2021-07-05\",\"2021-07-06\",\"2021-07-07\",\"2021-07-08\",\"2021-07-13\",\"2021-07-14\",\"2021-07-15\",\"2021-07-16\",\"2021-07-17\",\"2021-07-18\",\"2021-07-19\",\"2021-07-20\",\"2021-07-21\",\"2021-07-22\",\"2021-07-23\",\"2021-07-24\",\"2021-07-25\",\"2021-07-26\",\"2021-07-27\",\"2021-07-28\",\"2021-07-29\",\"2021-07-30\",\"2021-07-31\",\"2021-08-02\",\"2021-08-03\",\"2021-08-04\",\"2021-08-05\",\"2021-08-06\",\"2021-08-07\",\"2021-08-08\",\"2021-08-13\",\"2021-08-14\",\"2021-08-15\",\"2021-08-16\",\"2021-09-02\",\"2021-09-03\",\"2021-09-04\",\"2021-09-05\",\"2021-09-06\",\"2021-09-07\",\"2021-09-08\",\"2021-10-02\",\"2021-10-03\",\"2021-10-04\",\"2021-10-05\",\"2021-10-06\",\"2021-10-07\",\"2021-10-08\",\"2021-11-02\",\"2021-11-03\",\"2021-11-04\",\"2021-11-05\",\"2021-11-06\",\"2021-11-07\",\"2021-11-08\",\"2021-12-02\",\"2021-12-03\",\"2021-12-04\",\"2021-12-05\",\"2021-12-06\",\"2021-12-07\",\"2021-12-08\"],\"labels\":[\"0.0\",\"0.0\",\"0.0\",\"0.0\",\"0.0\",\"0.0\",\"0.0\",\"0.0\",\"0.0\",\"0.0\",\"0.0\",\"0.0\",\"0.0\",\"0.0\",\"0.0\",\"0.0\",\"0.0\",\"0.0\",\"0.0\",\"0.0\",\"0.0\",\"0.0\",\"0.0\",\"0.0\",\"0.0\",\"0.0\",\"0.0\",\"0.0\",\"0.0\",\"0.0\",\"0.0\",\"0.0\",\"0.0\",\"0.0\",\"0.0\",\"0.0\",\"0.0\",\"0.0\",\"0.0\",\"0.0\",\"0.0\",\"0.0\",\"0.0\",\"0.0\",\"0.0\",\"0.0\",\"0.0\",\"0.0\",\"0.0\",\"0.0\",\"0.0\",\"0.0\",\"0.0\",\"0.0\",\"0.0\",\"0.0\",\"0.0\",\"0.0\",\"0.0\",\"0.0\",\"0.0\",\"0.0\",\"0.0\",\"0.0\",\"0.0\",\"0.0\",\"0.0\",\"0.0\",\"0.0\",\"0.0\",\"0.0\",\"0.0\",\"0.0\",\"0.0\",\"0.0\",\"0.0\",\"0.0\",\"0.0\",\"0.0\",\"0.0\",\"0.0\",\"0.0\",\"0.0\",\"0.0\",\"0.0\",\"0.0\",\"0.0\",\"0.0\",\"0.0\",\"0.0\",\"0.0\",\"0.0\",\"0.0\",\"0.0\",\"0.0\",\"0.0\",\"0.0\",\"0.0\",\"0.0\",\"0.0\",\"0.0\",\"0.0\",\"0.0\",\"0.0\",\"0.0\",\"0.0\",\"0.0\",\"0.0\",\"0.0\",\"0.0\",\"0.0\",\"0.0\",\"0.0\",\"0.0\",\"0.0\",\"0.0\",\"0.0\",\"0.0\",\"0.0\",\"0.0\",\"0.0\",\"0.0\",\"0.0\",\"0.0\",\"0.0\",\"0.0\",\"0.0\",\"0.0\",\"0.0\",\"0.0\",\"0.0\",\"0.0\",\"0.0\",\"0.0\",\"0.0\",\"0.0\",\"0.0\",\"0.0\",\"0.0\",\"0.0\",\"0.0\",\"0.0\",\"0.0\",\"0.0\",\"0.0\",\"0.0\",\"0.0\",\"0.0\",\"0.0\",\"0.0\",\"0.0\",\"0.0\",\"0.0\",\"0.0\",\"0.0\",\"0.0\",\"0.0\",\"0.0\",\"0.0\",\"0.0\",\"0.0\",\"0.0\",\"0.0\",\"0.0\",\"0.0\",\"0.0\",\"0.0\",\"0.0\",\"0.0\",\"0.0\",\"0.0\",\"0.0\",\"0.0\",\"0.0\",\"0.0\",\"0.0\",\"0.0\",\"0.0\",\"0.0\",\"0.0\",\"0.0\",\"0.0\",\"0.0\",\"0.0\",\"0.0\",\"0.0\",\"0.0\",\"0.0\",\"0.0\",\"0.0\",\"0.0\",\"0.0\",\"0.0\",\"0.0\",\"0.0\",\"0.0\",\"0.0\",\"0.0\",\"0.0\",\"0.0\",\"0.0\",\"0.0\",\"0.0\",\"0.0\",\"0.0\",\"0.0\",\"0.0\",\"0.0\",\"0.0\",\"0.0\",\"0.0\",\"0.0\",\"0.0\",\"24517.0\",\"31252.0\",\"58083.0\",\"113613.0\",\"153145.0\",\"233143.0\",\"355402.0\",\"491049.0\",\"538647.0\",\"832766.0\",\"844448.0\",\"1140137.0\",\"1523939.0\",\"1875368.0\",\"2044950.0\",\"2065391.0\",\"2197431.0\",\"2308898.0\",\"2500887.0\",\"2809042.0\",\"3054631.0\",\"3214244.0\",\"3238273.0\",\"3403576.0\",\"3543208.0\",\"3676114.0\",\"3803908.0\",\"3918381.0\",\"4002279.0\",\"4009812.0\",\"4184377.0\",\"4291548.0\",\"4351815.0\",\"4432078.0\",\"4702310.0\",\"4766532.0\",\"4773924.0\",\"4841511.0\",\"4897627.0\",\"4957351.0\",\"5045426.0\",\"5131299.0\",\"5131323.0\",\"5131373.0\",\"5131373.0\",\"5422470.0\",\"5692550.0\",\"6045211.0\",\"6490255.0\",\"6948195.0\",\"6993867.0\",\"7676312.0\",\"8313353.0\",\"8829091.0\",\"9013952.0\",\"9795767.0\",\"10409393.0\",\"10483269.0\",\"11524956.0\",\"11713149.0\",\"13742026.0\",\"14637915.0\",\"15732206.0\",\"16876137.0\",\"17245870.0\",\"18363361.0\",\"19611896.0\",\"20642500.0\",\"21704739.0\",\"22832194.0\",\"23883153.0\",\"24036939.0\",\"24341025.0\",\"25165987.0\",\"26031409.0\",\"27115615.0\",\"28803529.0\",\"30159173.0\",\"31665721.0\",\"33052869.0\",\"34255180.0\",\"36552499.0\",\"38715200.0\",\"40357259.0\",\"41893575.0\",\"43205152.0\",\"44878560.0\",\"45926378.0\",\"47329847.0\",\"48352489.0\",\"49339504.0\",\"50289664.0\",\"50732172.0\",\"51806475.0\",\"52731510.0\",\"53441979.0\",\"54355513.0\",\"55237448.0\",\"56011474.0\",\"56337692.0\",\"57335805.0\",\"57980903.0\",\"58583701.0\",\"59183960.0\",\"59914751.0\",\"60339903.0\",\"60503747.0\",\"60942039.0\",\"61344881.0\",\"61832097.0\",\"62424602.0\",\"62972623.0\",\"63449164.0\",\"63650307.0\",\"64225501.0\",\"64816275.0\",\"65354414.0\",\"65906538.0\",\"66234957.0\",\"66787921.0\",\"67050966.0\",\"67608590.0\",\"68107465.0\",\"68550747.0\",\"69091006.0\",\"69623495.0\",\"70224054.0\",\"70583303.0\",\"71526736.0\",\"72328742.0\",\"73082037.0\",\"74299145.0\",\"75552353.0\",\"76750999.0\",\"77177776.0\",\"78271582.0\",\"79231870.0\",\"80212651.0\",\"81361633.0\",\"82885972.0\",\"84277549.0\",\"84886553.0\",\"86246094.0\",\"87370490.0\",\"88748112.0\",\"90106724.0\",\"91557487.0\",\"92997290.0\",\"93690273.0\",\"95369557.0\",\"96513504.0\",\"97929255.0\",\"99275854.0\",\"100624989.0\",\"102137801.0\",\"103804672.0\",\"107542051.0\",\"110074369.0\",\"112980429.0\",\"115668447.0\",\"2021-01-02\",\"2021-01-03\",\"2021-01-04\",\"2021-01-05\",\"2021-01-06\",\"2021-01-07\",\"2021-01-08\",\"2021-01-16\",\"2021-01-17\",\"2021-01-18\",\"2021-01-19\",\"2021-01-20\",\"2021-01-21\",\"2021-01-22\",\"2021-01-23\",\"2021-01-24\",\"2021-01-25\",\"2021-01-26\",\"2021-01-27\",\"2021-01-28\",\"2021-01-29\",\"2021-01-30\",\"2021-01-31\",\"2021-02-02\",\"2021-02-03\",\"2021-02-04\",\"2021-02-05\",\"2021-02-06\",\"2021-02-07\",\"2021-02-08\",\"2021-02-13\",\"2021-02-14\",\"2021-02-15\",\"2021-02-16\",\"2021-02-17\",\"2021-02-18\",\"2021-02-19\",\"2021-02-20\",\"2021-02-21\",\"2021-02-22\",\"2021-02-23\",\"2021-02-24\",\"2021-02-25\",\"2021-02-26\",\"2021-02-27\",\"2021-02-28\",\"2021-03-02\",\"2021-03-03\",\"2021-03-04\",\"2021-03-05\",\"2021-03-06\",\"2021-03-07\",\"2021-03-08\",\"2021-03-13\",\"2021-03-14\",\"2021-03-15\",\"2021-03-16\",\"2021-03-17\",\"2021-03-18\",\"2021-03-19\",\"2021-03-20\",\"2021-03-21\",\"2021-03-22\",\"2021-03-23\",\"2021-03-24\",\"2021-03-25\",\"2021-03-26\",\"2021-03-27\",\"2021-03-28\",\"2021-03-29\",\"2021-03-30\",\"2021-03-31\",\"2021-04-02\",\"2021-04-03\",\"2021-04-04\",\"2021-04-05\",\"2021-04-06\",\"2021-04-07\",\"2021-04-08\",\"2021-04-13\",\"2021-04-14\",\"2021-04-15\",\"2021-04-16\",\"2021-04-17\",\"2021-04-18\",\"2021-04-19\",\"2021-04-20\",\"2021-04-21\",\"2021-04-22\",\"2021-04-23\",\"2021-04-24\",\"2021-04-25\",\"2021-04-26\",\"2021-04-27\",\"2021-04-28\",\"2021-04-29\",\"2021-04-30\",\"2021-05-02\",\"2021-05-03\",\"2021-05-04\",\"2021-05-05\",\"2021-05-06\",\"2021-05-07\",\"2021-05-08\",\"2021-05-13\",\"2021-05-14\",\"2021-05-15\",\"2021-05-16\",\"2021-05-17\",\"2021-05-18\",\"2021-05-19\",\"2021-05-20\",\"2021-05-21\",\"2021-05-22\",\"2021-05-23\",\"2021-05-24\",\"2021-05-25\",\"2021-05-26\",\"2021-05-27\",\"2021-05-28\",\"2021-05-29\",\"2021-05-30\",\"2021-05-31\",\"2021-06-02\",\"2021-06-03\",\"2021-06-04\",\"2021-06-05\",\"2021-06-06\",\"2021-06-07\",\"2021-06-08\",\"2021-06-13\",\"2021-06-14\",\"2021-06-15\",\"2021-06-16\",\"2021-06-17\",\"2021-06-18\",\"2021-06-19\",\"2021-06-20\",\"2021-06-21\",\"2021-06-22\",\"2021-06-23\",\"2021-06-24\",\"2021-06-25\",\"2021-06-26\",\"2021-06-27\",\"2021-06-28\",\"2021-06-29\",\"2021-06-30\",\"2021-07-02\",\"2021-07-03\",\"2021-07-04\",\"2021-07-05\",\"2021-07-06\",\"2021-07-07\",\"2021-07-08\",\"2021-07-13\",\"2021-07-14\",\"2021-07-15\",\"2021-07-16\",\"2021-07-17\",\"2021-07-18\",\"2021-07-19\",\"2021-07-20\",\"2021-07-21\",\"2021-07-22\",\"2021-07-23\",\"2021-07-24\",\"2021-07-25\",\"2021-07-26\",\"2021-07-27\",\"2021-07-28\",\"2021-07-29\",\"2021-07-30\",\"2021-07-31\",\"2021-08-02\",\"2021-08-03\",\"2021-08-04\",\"2021-08-05\",\"2021-08-06\",\"2021-08-07\",\"2021-08-08\",\"2021-08-13\",\"2021-08-14\",\"2021-08-15\",\"2021-08-16\",\"2021-09-02\",\"2021-09-03\",\"2021-09-04\",\"2021-09-05\",\"2021-09-06\",\"2021-09-07\",\"2021-09-08\",\"2021-10-02\",\"2021-10-03\",\"2021-10-04\",\"2021-10-05\",\"2021-10-06\",\"2021-10-07\",\"2021-10-08\",\"2021-11-02\",\"2021-11-03\",\"2021-11-04\",\"2021-11-05\",\"2021-11-06\",\"2021-11-07\",\"2021-11-08\",\"2021-12-02\",\"2021-12-03\",\"2021-12-04\",\"2021-12-05\",\"2021-12-06\",\"2021-12-07\",\"2021-12-08\"],\"name\":\"\",\"parents\":[\"2021-01-02\",\"2021-01-03\",\"2021-01-04\",\"2021-01-05\",\"2021-01-06\",\"2021-01-07\",\"2021-01-08\",\"2021-01-16\",\"2021-01-17\",\"2021-01-18\",\"2021-01-19\",\"2021-01-20\",\"2021-01-21\",\"2021-01-22\",\"2021-01-23\",\"2021-01-24\",\"2021-01-25\",\"2021-01-26\",\"2021-01-27\",\"2021-01-28\",\"2021-01-29\",\"2021-01-30\",\"2021-01-31\",\"2021-02-02\",\"2021-02-03\",\"2021-02-04\",\"2021-02-05\",\"2021-02-06\",\"2021-02-07\",\"2021-02-08\",\"2021-02-13\",\"2021-02-14\",\"2021-02-15\",\"2021-02-16\",\"2021-02-17\",\"2021-02-18\",\"2021-02-19\",\"2021-02-20\",\"2021-02-21\",\"2021-02-22\",\"2021-02-23\",\"2021-02-24\",\"2021-02-25\",\"2021-02-26\",\"2021-02-27\",\"2021-02-28\",\"2021-03-02\",\"2021-03-03\",\"2021-03-04\",\"2021-03-05\",\"2021-03-06\",\"2021-03-07\",\"2021-03-08\",\"2021-03-13\",\"2021-03-14\",\"2021-03-15\",\"2021-03-16\",\"2021-03-17\",\"2021-03-18\",\"2021-03-19\",\"2021-03-20\",\"2021-03-21\",\"2021-03-22\",\"2021-03-23\",\"2021-03-24\",\"2021-03-25\",\"2021-03-26\",\"2021-03-27\",\"2021-03-28\",\"2021-03-29\",\"2021-03-30\",\"2021-03-31\",\"2021-04-02\",\"2021-04-03\",\"2021-04-04\",\"2021-04-05\",\"2021-04-06\",\"2021-04-07\",\"2021-04-08\",\"2021-04-13\",\"2021-04-14\",\"2021-04-15\",\"2021-04-16\",\"2021-04-17\",\"2021-04-18\",\"2021-04-19\",\"2021-04-20\",\"2021-04-21\",\"2021-04-22\",\"2021-04-23\",\"2021-04-24\",\"2021-04-25\",\"2021-04-26\",\"2021-04-27\",\"2021-04-28\",\"2021-04-29\",\"2021-04-30\",\"2021-05-02\",\"2021-05-03\",\"2021-05-04\",\"2021-05-05\",\"2021-05-06\",\"2021-05-07\",\"2021-05-08\",\"2021-05-13\",\"2021-05-14\",\"2021-05-15\",\"2021-05-16\",\"2021-05-17\",\"2021-05-18\",\"2021-05-19\",\"2021-05-20\",\"2021-05-21\",\"2021-05-22\",\"2021-05-23\",\"2021-05-24\",\"2021-05-25\",\"2021-05-26\",\"2021-05-27\",\"2021-05-28\",\"2021-05-29\",\"2021-05-30\",\"2021-05-31\",\"2021-06-02\",\"2021-06-03\",\"2021-06-04\",\"2021-06-05\",\"2021-06-06\",\"2021-06-07\",\"2021-06-08\",\"2021-06-13\",\"2021-06-14\",\"2021-06-15\",\"2021-06-16\",\"2021-06-17\",\"2021-06-18\",\"2021-06-19\",\"2021-06-20\",\"2021-06-21\",\"2021-06-22\",\"2021-06-23\",\"2021-06-24\",\"2021-06-25\",\"2021-06-26\",\"2021-06-27\",\"2021-06-28\",\"2021-06-29\",\"2021-06-30\",\"2021-07-02\",\"2021-07-03\",\"2021-07-04\",\"2021-07-05\",\"2021-07-06\",\"2021-07-07\",\"2021-07-08\",\"2021-07-13\",\"2021-07-14\",\"2021-07-15\",\"2021-07-16\",\"2021-07-17\",\"2021-07-18\",\"2021-07-19\",\"2021-07-20\",\"2021-07-21\",\"2021-07-22\",\"2021-07-23\",\"2021-07-24\",\"2021-07-25\",\"2021-07-26\",\"2021-07-27\",\"2021-07-28\",\"2021-07-29\",\"2021-07-30\",\"2021-07-31\",\"2021-08-02\",\"2021-08-03\",\"2021-08-04\",\"2021-08-05\",\"2021-08-06\",\"2021-08-07\",\"2021-08-08\",\"2021-08-13\",\"2021-08-14\",\"2021-08-15\",\"2021-08-16\",\"2021-09-02\",\"2021-09-03\",\"2021-09-04\",\"2021-09-05\",\"2021-09-06\",\"2021-09-07\",\"2021-09-08\",\"2021-10-02\",\"2021-10-03\",\"2021-10-04\",\"2021-10-05\",\"2021-10-06\",\"2021-10-07\",\"2021-10-08\",\"2021-11-02\",\"2021-11-03\",\"2021-11-04\",\"2021-11-05\",\"2021-11-06\",\"2021-11-07\",\"2021-11-08\",\"2021-12-02\",\"2021-12-03\",\"2021-12-04\",\"2021-12-05\",\"2021-12-06\",\"2021-12-07\",\"2021-12-08\",\"2021-01-16\",\"2021-01-17\",\"2021-01-18\",\"2021-01-19\",\"2021-01-20\",\"2021-01-21\",\"2021-01-22\",\"2021-01-23\",\"2021-01-24\",\"2021-01-25\",\"2021-01-26\",\"2021-01-27\",\"2021-01-28\",\"2021-01-29\",\"2021-01-30\",\"2021-01-31\",\"2021-01-02\",\"2021-02-02\",\"2021-03-02\",\"2021-04-02\",\"2021-05-02\",\"2021-06-02\",\"2021-07-02\",\"2021-08-02\",\"2021-09-02\",\"2021-10-02\",\"2021-11-02\",\"2021-12-02\",\"2021-02-13\",\"2021-02-14\",\"2021-02-15\",\"2021-02-16\",\"2021-02-18\",\"2021-02-17\",\"2021-02-19\",\"2021-02-20\",\"2021-02-21\",\"2021-02-22\",\"2021-02-23\",\"2021-02-24\",\"2021-02-25\",\"2021-02-26\",\"2021-02-27\",\"2021-01-03\",\"2021-02-28\",\"2021-02-03\",\"2021-03-03\",\"2021-04-03\",\"2021-05-03\",\"2021-06-03\",\"2021-07-03\",\"2021-08-03\",\"2021-09-03\",\"2021-10-03\",\"2021-11-03\",\"2021-12-03\",\"2021-03-13\",\"2021-03-14\",\"2021-03-15\",\"2021-03-16\",\"2021-03-17\",\"2021-03-18\",\"2021-03-19\",\"2021-03-20\",\"2021-03-21\",\"2021-03-22\",\"2021-03-23\",\"2021-03-24\",\"2021-03-25\",\"2021-03-26\",\"2021-03-27\",\"2021-03-28\",\"2021-03-29\",\"2021-03-30\",\"2021-03-31\",\"2021-01-04\",\"2021-02-04\",\"2021-03-04\",\"2021-04-04\",\"2021-05-04\",\"2021-06-04\",\"2021-07-04\",\"2021-08-04\",\"2021-09-04\",\"2021-10-04\",\"2021-11-04\",\"2021-12-04\",\"2021-04-13\",\"2021-04-14\",\"2021-04-15\",\"2021-04-16\",\"2021-04-17\",\"2021-04-18\",\"2021-04-19\",\"2021-04-20\",\"2021-04-21\",\"2021-04-22\",\"2021-04-23\",\"2021-04-24\",\"2021-04-25\",\"2021-04-26\",\"2021-04-27\",\"2021-04-28\",\"2021-04-29\",\"2021-04-30\",\"2021-01-05\",\"2021-02-05\",\"2021-03-05\",\"2021-04-05\",\"2021-05-05\",\"2021-06-05\",\"2021-07-05\",\"2021-08-05\",\"2021-09-05\",\"2021-10-05\",\"2021-11-05\",\"2021-12-05\",\"2021-05-13\",\"2021-05-14\",\"2021-05-15\",\"2021-05-16\",\"2021-05-17\",\"2021-05-18\",\"2021-05-19\",\"2021-05-20\",\"2021-05-21\",\"2021-05-22\",\"2021-05-23\",\"2021-05-24\",\"2021-05-25\",\"2021-05-26\",\"2021-05-27\",\"2021-05-28\",\"2021-05-29\",\"2021-05-30\",\"2021-05-31\",\"2021-01-06\",\"2021-02-06\",\"2021-03-06\",\"2021-04-06\",\"2021-05-06\",\"2021-06-06\",\"2021-07-06\",\"2021-08-06\",\"2021-09-06\",\"2021-10-06\",\"2021-11-06\",\"2021-12-06\",\"2021-06-13\",\"2021-06-14\",\"2021-06-15\",\"2021-06-16\",\"2021-06-17\",\"2021-06-18\",\"2021-06-19\",\"2021-06-20\",\"2021-06-21\",\"2021-06-22\",\"2021-06-23\",\"2021-06-24\",\"\",\"\",\"\",\"\",\"\",\"\",\"\",\"\",\"\",\"\",\"\",\"\",\"\",\"\",\"\",\"\",\"\",\"\",\"\",\"\",\"\",\"\",\"\",\"\",\"\",\"\",\"\",\"\",\"\",\"\",\"\",\"\",\"\",\"\",\"\",\"\",\"\",\"\",\"\",\"\",\"\",\"\",\"\",\"\",\"\",\"\",\"\",\"\",\"\",\"\",\"\",\"\",\"\",\"\",\"\",\"\",\"\",\"\",\"\",\"\",\"\",\"\",\"\",\"\",\"\",\"\",\"\",\"\",\"\",\"\",\"\",\"\",\"\",\"\",\"\",\"\",\"\",\"\",\"\",\"\",\"\",\"\",\"\",\"\",\"\",\"\",\"\",\"\",\"\",\"\",\"\",\"\",\"\",\"\",\"\",\"\",\"\",\"\",\"\",\"\",\"\",\"\",\"\",\"\",\"\",\"\",\"\",\"\",\"\",\"\",\"\",\"\",\"\",\"\",\"\",\"\",\"\",\"\",\"\",\"\",\"\",\"\",\"\",\"\",\"\",\"\",\"\",\"\",\"\",\"\",\"\",\"\",\"\",\"\",\"\",\"\",\"\",\"\",\"\",\"\",\"\",\"\",\"\",\"\",\"\",\"\",\"\",\"\",\"\",\"\",\"\",\"\",\"\",\"\",\"\",\"\",\"\",\"\",\"\",\"\",\"\",\"\",\"\",\"\",\"\",\"\",\"\",\"\",\"\",\"\",\"\",\"\",\"\",\"\",\"\",\"\",\"\",\"\",\"\",\"\",\"\",\"\",\"\",\"\",\"\",\"\",\"\",\"\",\"\",\"\",\"\",\"\",\"\",\"\",\"\",\"\",\"\",\"\",\"\",\"\",\"\",\"\",\"\",\"\",\"\",\"\",\"\",\"\",\"\",\"\",\"\",\"\",\"\"],\"values\":[3350260.0,11141302.0,57318961.0,126328970.0,170640412.0,0.0,0.0,48276.0,58604.0,99449.0,195525.0,251280.0,365965.0,549381.0,759008.0,835058.0,1277104.0,1293784.0,1726345.0,2295491.0,2814803.0,3067736.0,3127102.0,3527966.0,11885932.0,60811382.0,126704151.0,172945950.0,0.0,0.0,7687212.0,7710177.0,8110912.0,8337345.0,8704426.0,8862199.0,9523260.0,9734187.0,9756897.0,10068939.0,10287965.0,10517231.0,10845850.0,11141030.0,11141077.0,11141302.0,3825835.0,12551046.0,63613392.0,127696675.0,175677634.0,0.0,0.0,23159604.0,23317750.0,25618250.0,25615620.0,29913061.0,31847478.0,34121206.0,36460274.0,37195786.0,39497139.0,42036983.0,44135856.0,46338124.0,48630419.0,50745334.0,51059318.0,51654023.0,53307952.0,55067955.0,4314304.0,13390837.0,66715435.0,128627919.0,179205337.0,0.0,0.0,95681092.0,98558176.0,100705680.0,102776753.0,104795443.0,105740794.0,108017107.0,110000221.0,111505538.0,113410967.0,115283292.0,116924037.0,117613567.0,119696006.0,121263689.0,122538643.0,123812121.0,125376487.0,4765924.0,14412306.0,69488636.0,129730641.0,182451348.0,0.0,0.0,139087590.0,139861462.0,141132112.0,141764335.0,143090218.0,144270200.0,145333606.0,146624652.0,147893976.0,149302864.0,150180408.0,152439044.0,154384464.0,156189641.0,159006359.0,161951713.0,164804095.0,165823004.0,168393525.0,5111827.0,15438093.0,71911551.0,131058890.0,183824958.0,0.0,0.0,203705131.0,207274441.0,209816439.0,212945352.0,215944608.0,218956863.0,222316897.0,224929947.0,233288807.0,238685516.0,244944880.0,250656880.0,0.0,0.0,0.0,0.0,0.0,0.0,5168099.0,15541124.0,76542972.0,132294827.0,186933771.0,0.0,0.0,0.0,0.0,0.0,0.0,0.0,0.0,0.0,0.0,0.0,0.0,0.0,0.0,0.0,0.0,0.0,0.0,0.0,0.0,0.0,5615448.0,16975729.0,80869064.0,133366482.0,189503126.0,0.0,0.0,0.0,0.0,0.0,0.0,6002395.0,18360243.0,84165906.0,133854676.0,192669299.0,0.0,0.0,6462171.0,19538547.0,87278410.0,135192013.0,195747476.0,0.0,0.0,6958434.0,19953987.0,89981407.0,136557345.0,198977594.0,0.0,0.0,7423700.0,21772159.0,93424883.0,137805245.0,202207183.0,0.0,0.0,48276.0,58604.0,99449.0,195525.0,251280.0,365965.0,549381.0,759008.0,835058.0,1277104.0,1293784.0,1726490.0,2295491.0,2814803.0,3067736.0,3127107.0,3350265.0,3527971.0,3825835.0,4314304.0,4765924.0,5111827.0,5168099.0,5615499.0,6002474.0,6462270.0,6958553.0,7423817.0,7687352.0,7710367.0,8111162.0,8337600.0,8862491.0,8704698.0,9523567.0,9734505.0,9757217.0,10069263.0,10288293.0,10517568.0,10846192.0,11141375.0,11141426.0,11141651.0,11141651.0,11886320.0,12553326.0,13393538.0,14415912.0,15438495.0,15541529.0,16976138.0,18360243.0,19538547.0,19953987.0,21772159.0,23159604.0,23317750.0,25618250.0,25709257.0,30011328.0,31952935.0,34228371.0,36568988.0,37303458.0,39612614.0,42148875.0,44250191.0,46454700.0,48749313.0,50865316.0,51179587.0,51774289.0,53429356.0,55188803.0,57443466.0,60936753.0,63743700.0,66838504.0,69620234.0,72035640.0,76671812.0,80998099.0,84296847.0,87411872.0,90111528.0,93559587.0,95823614.0,98703696.0,100853671.0,102927296.0,104950409.0,105896430.0,108178574.0,110165234.0,111673361.0,113584269.0,115461202.0,117105343.0,117795008.0,119886252.0,121263287.0,122538179.0,123811908.0,125376952.0,126328970.0,126704151.0,127696675.0,128627919.0,129730641.0,131058890.0,132294827.0,133366482.0,133854676.0,135192013.0,136557345.0,137805245.0,139087590.0,139861462.0,141132112.0,141764335.0,143090218.0,144270200.0,145333606.0,146624652.0,147893976.0,149302864.0,150180408.0,152439044.0,154384464.0,156189641.0,159006359.0,161951713.0,164804095.0,165823004.0,168393525.0,170640412.0,172945950.0,175677634.0,179205337.0,182451348.0,183824958.0,186933771.0,189503126.0,192669299.0,195747476.0,198977594.0,202207183.0,203705131.0,207274441.0,209816439.0,212945352.0,215944608.0,218956863.0,222316897.0,225211708.0,233288807.0,238685516.0,244944880.0,250656880.0,6700525.0,22282953.0,114762427.0,252657940.0,341280824.0,0.0,0.0,96552.0,117208.0,198898.0,391050.0,502560.0,731930.0,1098762.0,1518016.0,1670116.0,2554208.0,2587568.0,3452835.0,4590982.0,5629606.0,6135472.0,6254209.0,7055937.0,23772252.0,121748135.0,253408302.0,345891900.0,0.0,0.0,15374564.0,15420544.0,16222074.0,16674945.0,17409124.0,17724690.0,19046827.0,19468692.0,19514114.0,20138202.0,20576258.0,21034799.0,21692042.0,22282405.0,22282503.0,22282953.0,7651670.0,25104372.0,127357092.0,255393350.0,351355268.0,0.0,0.0,46319208.0,46635500.0,51236500.0,51324877.0,59924389.0,63800413.0,68349577.0,73029262.0,74499244.0,79109753.0,84185858.0,88386047.0,92792824.0,97379732.0,101610650.0,102238905.0,103428312.0,106737308.0,110256758.0,8628608.0,26784375.0,133553939.0,257255838.0,358410674.0,0.0,0.0,191504706.0,197261872.0,201559351.0,205704049.0,209745852.0,211637224.0,216195681.0,220165455.0,223178899.0,226995236.0,230744494.0,234029380.0,235408575.0,239582258.0,242526976.0,245076822.0,247624029.0,250753439.0,9531848.0,28828218.0,139108870.0,259461282.0,364902696.0,0.0,0.0,278175180.0,279722924.0,282264224.0,283528670.0,286180436.0,288540400.0,290667212.0,293249304.0,295787952.0,298605728.0,300360816.0,304878088.0,308768928.0,312379282.0,318012718.0,323903426.0,329608190.0,331646008.0,336787050.0,10223654.0,30876588.0,143947191.0,262117780.0,367649916.0,0.0,0.0,407410262.0,414548882.0,419632878.0,425890704.0,431889216.0,437913726.0,444633794.0,450141655.0,466577614.0,477371032.0,489889760.0,501313760.0,0.0,0.0,0.0,0.0,0.0,0.0,10336198.0,31082653.0,153214784.0,264589654.0,373867542.0,0.0,0.0,0.0,0.0,0.0,0.0,0.0,0.0,0.0,0.0,0.0,0.0,0.0,0.0,0.0,0.0,0.0,0.0,0.0,0.0,0.0,11230947.0,33951867.0,161867163.0,266732964.0,379006252.0,0.0,0.0,0.0,0.0,0.0,0.0,12004869.0,36720486.0,168462753.0,267709352.0,385338598.0,0.0,0.0,12924441.0,39077094.0,174690282.0,270384026.0,391494952.0,0.0,0.0,13916987.0,39907974.0,180092935.0,273114690.0,397955188.0,0.0,0.0,14847517.0,43544318.0,186984470.0,275610490.0,404414366.0,0.0,0.0],\"type\":\"treemap\"}],                        {\"template\":{\"data\":{\"histogram2dcontour\":[{\"type\":\"histogram2dcontour\",\"colorbar\":{\"outlinewidth\":0,\"ticks\":\"\"},\"colorscale\":[[0.0,\"#0d0887\"],[0.1111111111111111,\"#46039f\"],[0.2222222222222222,\"#7201a8\"],[0.3333333333333333,\"#9c179e\"],[0.4444444444444444,\"#bd3786\"],[0.5555555555555556,\"#d8576b\"],[0.6666666666666666,\"#ed7953\"],[0.7777777777777778,\"#fb9f3a\"],[0.8888888888888888,\"#fdca26\"],[1.0,\"#f0f921\"]]}],\"choropleth\":[{\"type\":\"choropleth\",\"colorbar\":{\"outlinewidth\":0,\"ticks\":\"\"}}],\"histogram2d\":[{\"type\":\"histogram2d\",\"colorbar\":{\"outlinewidth\":0,\"ticks\":\"\"},\"colorscale\":[[0.0,\"#0d0887\"],[0.1111111111111111,\"#46039f\"],[0.2222222222222222,\"#7201a8\"],[0.3333333333333333,\"#9c179e\"],[0.4444444444444444,\"#bd3786\"],[0.5555555555555556,\"#d8576b\"],[0.6666666666666666,\"#ed7953\"],[0.7777777777777778,\"#fb9f3a\"],[0.8888888888888888,\"#fdca26\"],[1.0,\"#f0f921\"]]}],\"heatmap\":[{\"type\":\"heatmap\",\"colorbar\":{\"outlinewidth\":0,\"ticks\":\"\"},\"colorscale\":[[0.0,\"#0d0887\"],[0.1111111111111111,\"#46039f\"],[0.2222222222222222,\"#7201a8\"],[0.3333333333333333,\"#9c179e\"],[0.4444444444444444,\"#bd3786\"],[0.5555555555555556,\"#d8576b\"],[0.6666666666666666,\"#ed7953\"],[0.7777777777777778,\"#fb9f3a\"],[0.8888888888888888,\"#fdca26\"],[1.0,\"#f0f921\"]]}],\"heatmapgl\":[{\"type\":\"heatmapgl\",\"colorbar\":{\"outlinewidth\":0,\"ticks\":\"\"},\"colorscale\":[[0.0,\"#0d0887\"],[0.1111111111111111,\"#46039f\"],[0.2222222222222222,\"#7201a8\"],[0.3333333333333333,\"#9c179e\"],[0.4444444444444444,\"#bd3786\"],[0.5555555555555556,\"#d8576b\"],[0.6666666666666666,\"#ed7953\"],[0.7777777777777778,\"#fb9f3a\"],[0.8888888888888888,\"#fdca26\"],[1.0,\"#f0f921\"]]}],\"contourcarpet\":[{\"type\":\"contourcarpet\",\"colorbar\":{\"outlinewidth\":0,\"ticks\":\"\"}}],\"contour\":[{\"type\":\"contour\",\"colorbar\":{\"outlinewidth\":0,\"ticks\":\"\"},\"colorscale\":[[0.0,\"#0d0887\"],[0.1111111111111111,\"#46039f\"],[0.2222222222222222,\"#7201a8\"],[0.3333333333333333,\"#9c179e\"],[0.4444444444444444,\"#bd3786\"],[0.5555555555555556,\"#d8576b\"],[0.6666666666666666,\"#ed7953\"],[0.7777777777777778,\"#fb9f3a\"],[0.8888888888888888,\"#fdca26\"],[1.0,\"#f0f921\"]]}],\"surface\":[{\"type\":\"surface\",\"colorbar\":{\"outlinewidth\":0,\"ticks\":\"\"},\"colorscale\":[[0.0,\"#0d0887\"],[0.1111111111111111,\"#46039f\"],[0.2222222222222222,\"#7201a8\"],[0.3333333333333333,\"#9c179e\"],[0.4444444444444444,\"#bd3786\"],[0.5555555555555556,\"#d8576b\"],[0.6666666666666666,\"#ed7953\"],[0.7777777777777778,\"#fb9f3a\"],[0.8888888888888888,\"#fdca26\"],[1.0,\"#f0f921\"]]}],\"mesh3d\":[{\"type\":\"mesh3d\",\"colorbar\":{\"outlinewidth\":0,\"ticks\":\"\"}}],\"scatter\":[{\"fillpattern\":{\"fillmode\":\"overlay\",\"size\":10,\"solidity\":0.2},\"type\":\"scatter\"}],\"parcoords\":[{\"type\":\"parcoords\",\"line\":{\"colorbar\":{\"outlinewidth\":0,\"ticks\":\"\"}}}],\"scatterpolargl\":[{\"type\":\"scatterpolargl\",\"marker\":{\"colorbar\":{\"outlinewidth\":0,\"ticks\":\"\"}}}],\"bar\":[{\"error_x\":{\"color\":\"#2a3f5f\"},\"error_y\":{\"color\":\"#2a3f5f\"},\"marker\":{\"line\":{\"color\":\"#E5ECF6\",\"width\":0.5},\"pattern\":{\"fillmode\":\"overlay\",\"size\":10,\"solidity\":0.2}},\"type\":\"bar\"}],\"scattergeo\":[{\"type\":\"scattergeo\",\"marker\":{\"colorbar\":{\"outlinewidth\":0,\"ticks\":\"\"}}}],\"scatterpolar\":[{\"type\":\"scatterpolar\",\"marker\":{\"colorbar\":{\"outlinewidth\":0,\"ticks\":\"\"}}}],\"histogram\":[{\"marker\":{\"pattern\":{\"fillmode\":\"overlay\",\"size\":10,\"solidity\":0.2}},\"type\":\"histogram\"}],\"scattergl\":[{\"type\":\"scattergl\",\"marker\":{\"colorbar\":{\"outlinewidth\":0,\"ticks\":\"\"}}}],\"scatter3d\":[{\"type\":\"scatter3d\",\"line\":{\"colorbar\":{\"outlinewidth\":0,\"ticks\":\"\"}},\"marker\":{\"colorbar\":{\"outlinewidth\":0,\"ticks\":\"\"}}}],\"scattermapbox\":[{\"type\":\"scattermapbox\",\"marker\":{\"colorbar\":{\"outlinewidth\":0,\"ticks\":\"\"}}}],\"scatterternary\":[{\"type\":\"scatterternary\",\"marker\":{\"colorbar\":{\"outlinewidth\":0,\"ticks\":\"\"}}}],\"scattercarpet\":[{\"type\":\"scattercarpet\",\"marker\":{\"colorbar\":{\"outlinewidth\":0,\"ticks\":\"\"}}}],\"carpet\":[{\"aaxis\":{\"endlinecolor\":\"#2a3f5f\",\"gridcolor\":\"white\",\"linecolor\":\"white\",\"minorgridcolor\":\"white\",\"startlinecolor\":\"#2a3f5f\"},\"baxis\":{\"endlinecolor\":\"#2a3f5f\",\"gridcolor\":\"white\",\"linecolor\":\"white\",\"minorgridcolor\":\"white\",\"startlinecolor\":\"#2a3f5f\"},\"type\":\"carpet\"}],\"table\":[{\"cells\":{\"fill\":{\"color\":\"#EBF0F8\"},\"line\":{\"color\":\"white\"}},\"header\":{\"fill\":{\"color\":\"#C8D4E3\"},\"line\":{\"color\":\"white\"}},\"type\":\"table\"}],\"barpolar\":[{\"marker\":{\"line\":{\"color\":\"#E5ECF6\",\"width\":0.5},\"pattern\":{\"fillmode\":\"overlay\",\"size\":10,\"solidity\":0.2}},\"type\":\"barpolar\"}],\"pie\":[{\"automargin\":true,\"type\":\"pie\"}]},\"layout\":{\"autotypenumbers\":\"strict\",\"colorway\":[\"#636efa\",\"#EF553B\",\"#00cc96\",\"#ab63fa\",\"#FFA15A\",\"#19d3f3\",\"#FF6692\",\"#B6E880\",\"#FF97FF\",\"#FECB52\"],\"font\":{\"color\":\"#2a3f5f\"},\"hovermode\":\"closest\",\"hoverlabel\":{\"align\":\"left\"},\"paper_bgcolor\":\"white\",\"plot_bgcolor\":\"#E5ECF6\",\"polar\":{\"bgcolor\":\"#E5ECF6\",\"angularaxis\":{\"gridcolor\":\"white\",\"linecolor\":\"white\",\"ticks\":\"\"},\"radialaxis\":{\"gridcolor\":\"white\",\"linecolor\":\"white\",\"ticks\":\"\"}},\"ternary\":{\"bgcolor\":\"#E5ECF6\",\"aaxis\":{\"gridcolor\":\"white\",\"linecolor\":\"white\",\"ticks\":\"\"},\"baxis\":{\"gridcolor\":\"white\",\"linecolor\":\"white\",\"ticks\":\"\"},\"caxis\":{\"gridcolor\":\"white\",\"linecolor\":\"white\",\"ticks\":\"\"}},\"coloraxis\":{\"colorbar\":{\"outlinewidth\":0,\"ticks\":\"\"}},\"colorscale\":{\"sequential\":[[0.0,\"#0d0887\"],[0.1111111111111111,\"#46039f\"],[0.2222222222222222,\"#7201a8\"],[0.3333333333333333,\"#9c179e\"],[0.4444444444444444,\"#bd3786\"],[0.5555555555555556,\"#d8576b\"],[0.6666666666666666,\"#ed7953\"],[0.7777777777777778,\"#fb9f3a\"],[0.8888888888888888,\"#fdca26\"],[1.0,\"#f0f921\"]],\"sequentialminus\":[[0.0,\"#0d0887\"],[0.1111111111111111,\"#46039f\"],[0.2222222222222222,\"#7201a8\"],[0.3333333333333333,\"#9c179e\"],[0.4444444444444444,\"#bd3786\"],[0.5555555555555556,\"#d8576b\"],[0.6666666666666666,\"#ed7953\"],[0.7777777777777778,\"#fb9f3a\"],[0.8888888888888888,\"#fdca26\"],[1.0,\"#f0f921\"]],\"diverging\":[[0,\"#8e0152\"],[0.1,\"#c51b7d\"],[0.2,\"#de77ae\"],[0.3,\"#f1b6da\"],[0.4,\"#fde0ef\"],[0.5,\"#f7f7f7\"],[0.6,\"#e6f5d0\"],[0.7,\"#b8e186\"],[0.8,\"#7fbc41\"],[0.9,\"#4d9221\"],[1,\"#276419\"]]},\"xaxis\":{\"gridcolor\":\"white\",\"linecolor\":\"white\",\"ticks\":\"\",\"title\":{\"standoff\":15},\"zerolinecolor\":\"white\",\"automargin\":true,\"zerolinewidth\":2},\"yaxis\":{\"gridcolor\":\"white\",\"linecolor\":\"white\",\"ticks\":\"\",\"title\":{\"standoff\":15},\"zerolinecolor\":\"white\",\"automargin\":true,\"zerolinewidth\":2},\"scene\":{\"xaxis\":{\"backgroundcolor\":\"#E5ECF6\",\"gridcolor\":\"white\",\"linecolor\":\"white\",\"showbackground\":true,\"ticks\":\"\",\"zerolinecolor\":\"white\",\"gridwidth\":2},\"yaxis\":{\"backgroundcolor\":\"#E5ECF6\",\"gridcolor\":\"white\",\"linecolor\":\"white\",\"showbackground\":true,\"ticks\":\"\",\"zerolinecolor\":\"white\",\"gridwidth\":2},\"zaxis\":{\"backgroundcolor\":\"#E5ECF6\",\"gridcolor\":\"white\",\"linecolor\":\"white\",\"showbackground\":true,\"ticks\":\"\",\"zerolinecolor\":\"white\",\"gridwidth\":2}},\"shapedefaults\":{\"line\":{\"color\":\"#2a3f5f\"}},\"annotationdefaults\":{\"arrowcolor\":\"#2a3f5f\",\"arrowhead\":0,\"arrowwidth\":1},\"geo\":{\"bgcolor\":\"white\",\"landcolor\":\"#E5ECF6\",\"subunitcolor\":\"white\",\"showland\":true,\"showlakes\":true,\"lakecolor\":\"white\"},\"title\":{\"x\":0.05},\"mapbox\":{\"style\":\"light\"}}},\"legend\":{\"tracegroupgap\":0},\"margin\":{\"t\":60}},                        {\"responsive\": true}                    ).then(function(){\n",
       "                            \n",
       "var gd = document.getElementById('5da20dd0-1b90-497f-9a45-5a70926b38d9');\n",
       "var x = new MutationObserver(function (mutations, observer) {{\n",
       "        var display = window.getComputedStyle(gd).display;\n",
       "        if (!display || display === 'none') {{\n",
       "            console.log([gd, 'removed!']);\n",
       "            Plotly.purge(gd);\n",
       "            observer.disconnect();\n",
       "        }}\n",
       "}});\n",
       "\n",
       "// Listen for the removal of the full notebook cells\n",
       "var notebookContainer = gd.closest('#notebook-container');\n",
       "if (notebookContainer) {{\n",
       "    x.observe(notebookContainer, {childList: true});\n",
       "}}\n",
       "\n",
       "// Listen for the clearing of the current output cell\n",
       "var outputEl = gd.closest('.output');\n",
       "if (outputEl) {{\n",
       "    x.observe(outputEl, {childList: true});\n",
       "}}\n",
       "\n",
       "                        })                };                });            </script>        </div>"
      ]
     },
     "metadata": {},
     "output_type": "display_data"
    }
   ],
   "source": [
    "fig = px.treemap(vaccine,path=['Updated On','Female(Individuals Vaccinated)'],values='Total Individuals Vaccinated')\n",
    "fig.show()"
   ]
  },
  {
   "cell_type": "code",
   "execution_count": 50,
   "id": "5026a94e",
   "metadata": {
    "execution": {
     "iopub.execute_input": "2022-04-26T14:25:18.819560Z",
     "iopub.status.busy": "2022-04-26T14:25:18.818619Z",
     "iopub.status.idle": "2022-04-26T14:25:18.855961Z",
     "shell.execute_reply": "2022-04-26T14:25:18.855084Z"
    },
    "papermill": {
     "duration": 0.140049,
     "end_time": "2022-04-26T14:25:18.858106",
     "exception": false,
     "start_time": "2022-04-26T14:25:18.718057",
     "status": "completed"
    },
    "tags": []
   },
   "outputs": [
    {
     "data": {
      "text/html": [
       "<div>\n",
       "<style scoped>\n",
       "    .dataframe tbody tr th:only-of-type {\n",
       "        vertical-align: middle;\n",
       "    }\n",
       "\n",
       "    .dataframe tbody tr th {\n",
       "        vertical-align: top;\n",
       "    }\n",
       "\n",
       "    .dataframe thead th {\n",
       "        text-align: right;\n",
       "    }\n",
       "</style>\n",
       "<table border=\"1\" class=\"dataframe\">\n",
       "  <thead>\n",
       "    <tr style=\"text-align: right;\">\n",
       "      <th></th>\n",
       "      <th>Updated On</th>\n",
       "      <th>State</th>\n",
       "      <th>Total Doses Administered</th>\n",
       "      <th>Sessions</th>\n",
       "      <th>Sites</th>\n",
       "      <th>First Dose Administered</th>\n",
       "      <th>Second Dose Administered</th>\n",
       "      <th>Male (Doses Administered)</th>\n",
       "      <th>Female (Doses Administered)</th>\n",
       "      <th>Transgender (Doses Administered)</th>\n",
       "      <th>...</th>\n",
       "      <th>18-44 Years (Doses Administered)</th>\n",
       "      <th>45-60 Years (Doses Administered)</th>\n",
       "      <th>60+ Years (Doses Administered)</th>\n",
       "      <th>18-44 Years(Individuals Vaccinated)</th>\n",
       "      <th>45-60 Years(Individuals Vaccinated)</th>\n",
       "      <th>60+ Years(Individuals Vaccinated)</th>\n",
       "      <th>Male(Individuals Vaccinated)</th>\n",
       "      <th>Female(Individuals Vaccinated)</th>\n",
       "      <th>Transgender(Individuals Vaccinated)</th>\n",
       "      <th>Total Individuals Vaccinated</th>\n",
       "    </tr>\n",
       "  </thead>\n",
       "  <tbody>\n",
       "    <tr>\n",
       "      <th>0</th>\n",
       "      <td>2021-01-16</td>\n",
       "      <td>India</td>\n",
       "      <td>48276.0</td>\n",
       "      <td>3455.0</td>\n",
       "      <td>2957.0</td>\n",
       "      <td>48276.0</td>\n",
       "      <td>0.0</td>\n",
       "      <td>NaN</td>\n",
       "      <td>NaN</td>\n",
       "      <td>NaN</td>\n",
       "      <td>...</td>\n",
       "      <td>NaN</td>\n",
       "      <td>NaN</td>\n",
       "      <td>NaN</td>\n",
       "      <td>NaN</td>\n",
       "      <td>NaN</td>\n",
       "      <td>NaN</td>\n",
       "      <td>23757.0</td>\n",
       "      <td>24517.0</td>\n",
       "      <td>2.0</td>\n",
       "      <td>48276.0</td>\n",
       "    </tr>\n",
       "    <tr>\n",
       "      <th>1</th>\n",
       "      <td>2021-01-17</td>\n",
       "      <td>India</td>\n",
       "      <td>58604.0</td>\n",
       "      <td>8532.0</td>\n",
       "      <td>4954.0</td>\n",
       "      <td>58604.0</td>\n",
       "      <td>0.0</td>\n",
       "      <td>NaN</td>\n",
       "      <td>NaN</td>\n",
       "      <td>NaN</td>\n",
       "      <td>...</td>\n",
       "      <td>NaN</td>\n",
       "      <td>NaN</td>\n",
       "      <td>NaN</td>\n",
       "      <td>NaN</td>\n",
       "      <td>NaN</td>\n",
       "      <td>NaN</td>\n",
       "      <td>27348.0</td>\n",
       "      <td>31252.0</td>\n",
       "      <td>4.0</td>\n",
       "      <td>58604.0</td>\n",
       "    </tr>\n",
       "    <tr>\n",
       "      <th>2</th>\n",
       "      <td>2021-01-18</td>\n",
       "      <td>India</td>\n",
       "      <td>99449.0</td>\n",
       "      <td>13611.0</td>\n",
       "      <td>6583.0</td>\n",
       "      <td>99449.0</td>\n",
       "      <td>0.0</td>\n",
       "      <td>NaN</td>\n",
       "      <td>NaN</td>\n",
       "      <td>NaN</td>\n",
       "      <td>...</td>\n",
       "      <td>NaN</td>\n",
       "      <td>NaN</td>\n",
       "      <td>NaN</td>\n",
       "      <td>NaN</td>\n",
       "      <td>NaN</td>\n",
       "      <td>NaN</td>\n",
       "      <td>41361.0</td>\n",
       "      <td>58083.0</td>\n",
       "      <td>5.0</td>\n",
       "      <td>99449.0</td>\n",
       "    </tr>\n",
       "    <tr>\n",
       "      <th>3</th>\n",
       "      <td>2021-01-19</td>\n",
       "      <td>India</td>\n",
       "      <td>195525.0</td>\n",
       "      <td>17855.0</td>\n",
       "      <td>7951.0</td>\n",
       "      <td>195525.0</td>\n",
       "      <td>0.0</td>\n",
       "      <td>NaN</td>\n",
       "      <td>NaN</td>\n",
       "      <td>NaN</td>\n",
       "      <td>...</td>\n",
       "      <td>NaN</td>\n",
       "      <td>NaN</td>\n",
       "      <td>NaN</td>\n",
       "      <td>NaN</td>\n",
       "      <td>NaN</td>\n",
       "      <td>NaN</td>\n",
       "      <td>81901.0</td>\n",
       "      <td>113613.0</td>\n",
       "      <td>11.0</td>\n",
       "      <td>195525.0</td>\n",
       "    </tr>\n",
       "    <tr>\n",
       "      <th>4</th>\n",
       "      <td>2021-01-20</td>\n",
       "      <td>India</td>\n",
       "      <td>251280.0</td>\n",
       "      <td>25472.0</td>\n",
       "      <td>10504.0</td>\n",
       "      <td>251280.0</td>\n",
       "      <td>0.0</td>\n",
       "      <td>NaN</td>\n",
       "      <td>NaN</td>\n",
       "      <td>NaN</td>\n",
       "      <td>...</td>\n",
       "      <td>NaN</td>\n",
       "      <td>NaN</td>\n",
       "      <td>NaN</td>\n",
       "      <td>NaN</td>\n",
       "      <td>NaN</td>\n",
       "      <td>NaN</td>\n",
       "      <td>98111.0</td>\n",
       "      <td>153145.0</td>\n",
       "      <td>24.0</td>\n",
       "      <td>251280.0</td>\n",
       "    </tr>\n",
       "    <tr>\n",
       "      <th>5</th>\n",
       "      <td>2021-01-21</td>\n",
       "      <td>India</td>\n",
       "      <td>365965.0</td>\n",
       "      <td>32226.0</td>\n",
       "      <td>12600.0</td>\n",
       "      <td>365965.0</td>\n",
       "      <td>0.0</td>\n",
       "      <td>NaN</td>\n",
       "      <td>NaN</td>\n",
       "      <td>NaN</td>\n",
       "      <td>...</td>\n",
       "      <td>NaN</td>\n",
       "      <td>NaN</td>\n",
       "      <td>NaN</td>\n",
       "      <td>NaN</td>\n",
       "      <td>NaN</td>\n",
       "      <td>NaN</td>\n",
       "      <td>132784.0</td>\n",
       "      <td>233143.0</td>\n",
       "      <td>38.0</td>\n",
       "      <td>365965.0</td>\n",
       "    </tr>\n",
       "    <tr>\n",
       "      <th>6</th>\n",
       "      <td>2021-01-22</td>\n",
       "      <td>India</td>\n",
       "      <td>549381.0</td>\n",
       "      <td>36988.0</td>\n",
       "      <td>14115.0</td>\n",
       "      <td>549381.0</td>\n",
       "      <td>0.0</td>\n",
       "      <td>NaN</td>\n",
       "      <td>NaN</td>\n",
       "      <td>NaN</td>\n",
       "      <td>...</td>\n",
       "      <td>NaN</td>\n",
       "      <td>NaN</td>\n",
       "      <td>NaN</td>\n",
       "      <td>NaN</td>\n",
       "      <td>NaN</td>\n",
       "      <td>NaN</td>\n",
       "      <td>193899.0</td>\n",
       "      <td>355402.0</td>\n",
       "      <td>80.0</td>\n",
       "      <td>549381.0</td>\n",
       "    </tr>\n",
       "    <tr>\n",
       "      <th>7</th>\n",
       "      <td>2021-01-23</td>\n",
       "      <td>India</td>\n",
       "      <td>759008.0</td>\n",
       "      <td>43076.0</td>\n",
       "      <td>15605.0</td>\n",
       "      <td>759008.0</td>\n",
       "      <td>0.0</td>\n",
       "      <td>NaN</td>\n",
       "      <td>NaN</td>\n",
       "      <td>NaN</td>\n",
       "      <td>...</td>\n",
       "      <td>NaN</td>\n",
       "      <td>NaN</td>\n",
       "      <td>NaN</td>\n",
       "      <td>NaN</td>\n",
       "      <td>NaN</td>\n",
       "      <td>NaN</td>\n",
       "      <td>267856.0</td>\n",
       "      <td>491049.0</td>\n",
       "      <td>103.0</td>\n",
       "      <td>759008.0</td>\n",
       "    </tr>\n",
       "    <tr>\n",
       "      <th>8</th>\n",
       "      <td>2021-01-24</td>\n",
       "      <td>India</td>\n",
       "      <td>835058.0</td>\n",
       "      <td>49851.0</td>\n",
       "      <td>18111.0</td>\n",
       "      <td>835058.0</td>\n",
       "      <td>0.0</td>\n",
       "      <td>NaN</td>\n",
       "      <td>NaN</td>\n",
       "      <td>NaN</td>\n",
       "      <td>...</td>\n",
       "      <td>NaN</td>\n",
       "      <td>NaN</td>\n",
       "      <td>NaN</td>\n",
       "      <td>NaN</td>\n",
       "      <td>NaN</td>\n",
       "      <td>NaN</td>\n",
       "      <td>296283.0</td>\n",
       "      <td>538647.0</td>\n",
       "      <td>128.0</td>\n",
       "      <td>835058.0</td>\n",
       "    </tr>\n",
       "    <tr>\n",
       "      <th>9</th>\n",
       "      <td>2021-01-25</td>\n",
       "      <td>India</td>\n",
       "      <td>1277104.0</td>\n",
       "      <td>55151.0</td>\n",
       "      <td>19682.0</td>\n",
       "      <td>1277104.0</td>\n",
       "      <td>0.0</td>\n",
       "      <td>NaN</td>\n",
       "      <td>NaN</td>\n",
       "      <td>NaN</td>\n",
       "      <td>...</td>\n",
       "      <td>NaN</td>\n",
       "      <td>NaN</td>\n",
       "      <td>NaN</td>\n",
       "      <td>NaN</td>\n",
       "      <td>NaN</td>\n",
       "      <td>NaN</td>\n",
       "      <td>444137.0</td>\n",
       "      <td>832766.0</td>\n",
       "      <td>201.0</td>\n",
       "      <td>1277104.0</td>\n",
       "    </tr>\n",
       "  </tbody>\n",
       "</table>\n",
       "<p>10 rows × 24 columns</p>\n",
       "</div>"
      ],
      "text/plain": [
       "  Updated On  State  Total Doses Administered  Sessions   Sites   \\\n",
       "0 2021-01-16  India                   48276.0    3455.0   2957.0   \n",
       "1 2021-01-17  India                   58604.0    8532.0   4954.0   \n",
       "2 2021-01-18  India                   99449.0   13611.0   6583.0   \n",
       "3 2021-01-19  India                  195525.0   17855.0   7951.0   \n",
       "4 2021-01-20  India                  251280.0   25472.0  10504.0   \n",
       "5 2021-01-21  India                  365965.0   32226.0  12600.0   \n",
       "6 2021-01-22  India                  549381.0   36988.0  14115.0   \n",
       "7 2021-01-23  India                  759008.0   43076.0  15605.0   \n",
       "8 2021-01-24  India                  835058.0   49851.0  18111.0   \n",
       "9 2021-01-25  India                 1277104.0   55151.0  19682.0   \n",
       "\n",
       "   First Dose Administered  Second Dose Administered  \\\n",
       "0                  48276.0                       0.0   \n",
       "1                  58604.0                       0.0   \n",
       "2                  99449.0                       0.0   \n",
       "3                 195525.0                       0.0   \n",
       "4                 251280.0                       0.0   \n",
       "5                 365965.0                       0.0   \n",
       "6                 549381.0                       0.0   \n",
       "7                 759008.0                       0.0   \n",
       "8                 835058.0                       0.0   \n",
       "9                1277104.0                       0.0   \n",
       "\n",
       "   Male (Doses Administered)  Female (Doses Administered)  \\\n",
       "0                        NaN                          NaN   \n",
       "1                        NaN                          NaN   \n",
       "2                        NaN                          NaN   \n",
       "3                        NaN                          NaN   \n",
       "4                        NaN                          NaN   \n",
       "5                        NaN                          NaN   \n",
       "6                        NaN                          NaN   \n",
       "7                        NaN                          NaN   \n",
       "8                        NaN                          NaN   \n",
       "9                        NaN                          NaN   \n",
       "\n",
       "   Transgender (Doses Administered)  ...  18-44 Years (Doses Administered)  \\\n",
       "0                               NaN  ...                               NaN   \n",
       "1                               NaN  ...                               NaN   \n",
       "2                               NaN  ...                               NaN   \n",
       "3                               NaN  ...                               NaN   \n",
       "4                               NaN  ...                               NaN   \n",
       "5                               NaN  ...                               NaN   \n",
       "6                               NaN  ...                               NaN   \n",
       "7                               NaN  ...                               NaN   \n",
       "8                               NaN  ...                               NaN   \n",
       "9                               NaN  ...                               NaN   \n",
       "\n",
       "   45-60 Years (Doses Administered)  60+ Years (Doses Administered)  \\\n",
       "0                               NaN                             NaN   \n",
       "1                               NaN                             NaN   \n",
       "2                               NaN                             NaN   \n",
       "3                               NaN                             NaN   \n",
       "4                               NaN                             NaN   \n",
       "5                               NaN                             NaN   \n",
       "6                               NaN                             NaN   \n",
       "7                               NaN                             NaN   \n",
       "8                               NaN                             NaN   \n",
       "9                               NaN                             NaN   \n",
       "\n",
       "   18-44 Years(Individuals Vaccinated)  45-60 Years(Individuals Vaccinated)  \\\n",
       "0                                  NaN                                  NaN   \n",
       "1                                  NaN                                  NaN   \n",
       "2                                  NaN                                  NaN   \n",
       "3                                  NaN                                  NaN   \n",
       "4                                  NaN                                  NaN   \n",
       "5                                  NaN                                  NaN   \n",
       "6                                  NaN                                  NaN   \n",
       "7                                  NaN                                  NaN   \n",
       "8                                  NaN                                  NaN   \n",
       "9                                  NaN                                  NaN   \n",
       "\n",
       "   60+ Years(Individuals Vaccinated)  Male(Individuals Vaccinated)  \\\n",
       "0                                NaN                       23757.0   \n",
       "1                                NaN                       27348.0   \n",
       "2                                NaN                       41361.0   \n",
       "3                                NaN                       81901.0   \n",
       "4                                NaN                       98111.0   \n",
       "5                                NaN                      132784.0   \n",
       "6                                NaN                      193899.0   \n",
       "7                                NaN                      267856.0   \n",
       "8                                NaN                      296283.0   \n",
       "9                                NaN                      444137.0   \n",
       "\n",
       "   Female(Individuals Vaccinated)  Transgender(Individuals Vaccinated)  \\\n",
       "0                         24517.0                                  2.0   \n",
       "1                         31252.0                                  4.0   \n",
       "2                         58083.0                                  5.0   \n",
       "3                        113613.0                                 11.0   \n",
       "4                        153145.0                                 24.0   \n",
       "5                        233143.0                                 38.0   \n",
       "6                        355402.0                                 80.0   \n",
       "7                        491049.0                                103.0   \n",
       "8                        538647.0                                128.0   \n",
       "9                        832766.0                                201.0   \n",
       "\n",
       "   Total Individuals Vaccinated  \n",
       "0                       48276.0  \n",
       "1                       58604.0  \n",
       "2                       99449.0  \n",
       "3                      195525.0  \n",
       "4                      251280.0  \n",
       "5                      365965.0  \n",
       "6                      549381.0  \n",
       "7                      759008.0  \n",
       "8                      835058.0  \n",
       "9                     1277104.0  \n",
       "\n",
       "[10 rows x 24 columns]"
      ]
     },
     "execution_count": 50,
     "metadata": {},
     "output_type": "execute_result"
    }
   ],
   "source": [
    "vaccine.head(10)"
   ]
  },
  {
   "cell_type": "code",
   "execution_count": 51,
   "id": "580273a0",
   "metadata": {
    "execution": {
     "iopub.execute_input": "2022-04-26T14:25:19.062300Z",
     "iopub.status.busy": "2022-04-26T14:25:19.061992Z",
     "iopub.status.idle": "2022-04-26T14:25:37.166967Z",
     "shell.execute_reply": "2022-04-26T14:25:37.165904Z"
    },
    "papermill": {
     "duration": 18.210551,
     "end_time": "2022-04-26T14:25:37.169369",
     "exception": false,
     "start_time": "2022-04-26T14:25:18.958818",
     "status": "completed"
    },
    "tags": []
   },
   "outputs": [
    {
     "data": {
      "text/plain": [
       "<AxesSubplot:xlabel='Updated On', ylabel='First Dose Administered'>"
      ]
     },
     "execution_count": 51,
     "metadata": {},
     "output_type": "execute_result"
    },
    {
     "data": {
      "image/png": "[encoded data removed]",
      "text/plain": [
       "<Figure size 1224x432 with 1 Axes>"
      ]
     },
     "metadata": {},
     "output_type": "display_data"
    }
   ],
   "source": [
    "sns.set(rc={'figure.figsize':(17,6)})\n",
    "sns.barplot(x='Updated On',y='First Dose Administered',data=vaccine)"
   ]
  },
  {
   "cell_type": "code",
   "execution_count": 52,
   "id": "1b3afa71",
   "metadata": {
    "execution": {
     "iopub.execute_input": "2022-04-26T14:25:37.380556Z",
     "iopub.status.busy": "2022-04-26T14:25:37.380033Z",
     "iopub.status.idle": "2022-04-26T14:25:55.874710Z",
     "shell.execute_reply": "2022-04-26T14:25:55.873512Z"
    },
    "papermill": {
     "duration": 18.600286,
     "end_time": "2022-04-26T14:25:55.877342",
     "exception": false,
     "start_time": "2022-04-26T14:25:37.277056",
     "status": "completed"
    },
    "tags": []
   },
   "outputs": [
    {
     "data": {
      "text/plain": [
       "<AxesSubplot:xlabel='Updated On', ylabel='Total Doses Administered'>"
      ]
     },
     "execution_count": 52,
     "metadata": {},
     "output_type": "execute_result"
    },
    {
     "data": {
      "image/png": "[encoded data removed]",
      "text/plain": [
       "<Figure size 1224x432 with 1 Axes>"
      ]
     },
     "metadata": {},
     "output_type": "display_data"
    }
   ],
   "source": [
    "sns.set(rc={'figure.figsize':(17,6)})\n",
    "sns.barplot(x='Updated On',y='Total Doses Administered',data=vaccine)"
   ]
  },
  {
   "cell_type": "code",
   "execution_count": 53,
   "id": "e6b3cdf1",
   "metadata": {
    "execution": {
     "iopub.execute_input": "2022-04-26T14:25:56.101068Z",
     "iopub.status.busy": "2022-04-26T14:25:56.100266Z",
     "iopub.status.idle": "2022-04-26T14:26:14.082946Z",
     "shell.execute_reply": "2022-04-26T14:26:14.081824Z"
    },
    "papermill": {
     "duration": 18.09788,
     "end_time": "2022-04-26T14:26:14.084919",
     "exception": false,
     "start_time": "2022-04-26T14:25:55.987039",
     "status": "completed"
    },
    "tags": []
   },
   "outputs": [
    {
     "data": {
      "text/plain": [
       "<AxesSubplot:xlabel='Updated On', ylabel='Sessions'>"
      ]
     },
     "execution_count": 53,
     "metadata": {},
     "output_type": "execute_result"
    },
    {
     "data": {
      "image/png": "[encoded data removed]",
      "text/plain": [
       "<Figure size 1224x432 with 1 Axes>"
      ]
     },
     "metadata": {},
     "output_type": "display_data"
    }
   ],
   "source": [
    "sns.set(rc={'figure.figsize':(17,6)})\n",
    "sns.barplot(x='Updated On',y='Sessions',data=vaccine)"
   ]
  },
  {
   "cell_type": "code",
   "execution_count": 54,
   "id": "b7d240fc",
   "metadata": {
    "execution": {
     "iopub.execute_input": "2022-04-26T14:26:14.295380Z",
     "iopub.status.busy": "2022-04-26T14:26:14.294911Z",
     "iopub.status.idle": "2022-04-26T14:26:14.325066Z",
     "shell.execute_reply": "2022-04-26T14:26:14.324094Z"
    },
    "papermill": {
     "duration": 0.139034,
     "end_time": "2022-04-26T14:26:14.327421",
     "exception": false,
     "start_time": "2022-04-26T14:26:14.188387",
     "status": "completed"
    },
    "tags": []
   },
   "outputs": [
    {
     "data": {
      "text/html": [
       "<div>\n",
       "<style scoped>\n",
       "    .dataframe tbody tr th:only-of-type {\n",
       "        vertical-align: middle;\n",
       "    }\n",
       "\n",
       "    .dataframe tbody tr th {\n",
       "        vertical-align: top;\n",
       "    }\n",
       "\n",
       "    .dataframe thead th {\n",
       "        text-align: right;\n",
       "    }\n",
       "</style>\n",
       "<table border=\"1\" class=\"dataframe\">\n",
       "  <thead>\n",
       "    <tr style=\"text-align: right;\">\n",
       "      <th></th>\n",
       "      <th>Updated On</th>\n",
       "      <th>State</th>\n",
       "      <th>Total Doses Administered</th>\n",
       "      <th>Sessions</th>\n",
       "      <th>Sites</th>\n",
       "      <th>First Dose Administered</th>\n",
       "      <th>Second Dose Administered</th>\n",
       "      <th>Male (Doses Administered)</th>\n",
       "      <th>Female (Doses Administered)</th>\n",
       "      <th>Transgender (Doses Administered)</th>\n",
       "      <th>...</th>\n",
       "      <th>18-44 Years (Doses Administered)</th>\n",
       "      <th>45-60 Years (Doses Administered)</th>\n",
       "      <th>60+ Years (Doses Administered)</th>\n",
       "      <th>18-44 Years(Individuals Vaccinated)</th>\n",
       "      <th>45-60 Years(Individuals Vaccinated)</th>\n",
       "      <th>60+ Years(Individuals Vaccinated)</th>\n",
       "      <th>Male(Individuals Vaccinated)</th>\n",
       "      <th>Female(Individuals Vaccinated)</th>\n",
       "      <th>Transgender(Individuals Vaccinated)</th>\n",
       "      <th>Total Individuals Vaccinated</th>\n",
       "    </tr>\n",
       "  </thead>\n",
       "  <tbody>\n",
       "    <tr>\n",
       "      <th>0</th>\n",
       "      <td>2021-01-16</td>\n",
       "      <td>India</td>\n",
       "      <td>48276.0</td>\n",
       "      <td>3455.0</td>\n",
       "      <td>2957.0</td>\n",
       "      <td>48276.0</td>\n",
       "      <td>0.0</td>\n",
       "      <td>NaN</td>\n",
       "      <td>NaN</td>\n",
       "      <td>NaN</td>\n",
       "      <td>...</td>\n",
       "      <td>NaN</td>\n",
       "      <td>NaN</td>\n",
       "      <td>NaN</td>\n",
       "      <td>NaN</td>\n",
       "      <td>NaN</td>\n",
       "      <td>NaN</td>\n",
       "      <td>23757.0</td>\n",
       "      <td>24517.0</td>\n",
       "      <td>2.0</td>\n",
       "      <td>48276.0</td>\n",
       "    </tr>\n",
       "    <tr>\n",
       "      <th>1</th>\n",
       "      <td>2021-01-17</td>\n",
       "      <td>India</td>\n",
       "      <td>58604.0</td>\n",
       "      <td>8532.0</td>\n",
       "      <td>4954.0</td>\n",
       "      <td>58604.0</td>\n",
       "      <td>0.0</td>\n",
       "      <td>NaN</td>\n",
       "      <td>NaN</td>\n",
       "      <td>NaN</td>\n",
       "      <td>...</td>\n",
       "      <td>NaN</td>\n",
       "      <td>NaN</td>\n",
       "      <td>NaN</td>\n",
       "      <td>NaN</td>\n",
       "      <td>NaN</td>\n",
       "      <td>NaN</td>\n",
       "      <td>27348.0</td>\n",
       "      <td>31252.0</td>\n",
       "      <td>4.0</td>\n",
       "      <td>58604.0</td>\n",
       "    </tr>\n",
       "    <tr>\n",
       "      <th>2</th>\n",
       "      <td>2021-01-18</td>\n",
       "      <td>India</td>\n",
       "      <td>99449.0</td>\n",
       "      <td>13611.0</td>\n",
       "      <td>6583.0</td>\n",
       "      <td>99449.0</td>\n",
       "      <td>0.0</td>\n",
       "      <td>NaN</td>\n",
       "      <td>NaN</td>\n",
       "      <td>NaN</td>\n",
       "      <td>...</td>\n",
       "      <td>NaN</td>\n",
       "      <td>NaN</td>\n",
       "      <td>NaN</td>\n",
       "      <td>NaN</td>\n",
       "      <td>NaN</td>\n",
       "      <td>NaN</td>\n",
       "      <td>41361.0</td>\n",
       "      <td>58083.0</td>\n",
       "      <td>5.0</td>\n",
       "      <td>99449.0</td>\n",
       "    </tr>\n",
       "    <tr>\n",
       "      <th>3</th>\n",
       "      <td>2021-01-19</td>\n",
       "      <td>India</td>\n",
       "      <td>195525.0</td>\n",
       "      <td>17855.0</td>\n",
       "      <td>7951.0</td>\n",
       "      <td>195525.0</td>\n",
       "      <td>0.0</td>\n",
       "      <td>NaN</td>\n",
       "      <td>NaN</td>\n",
       "      <td>NaN</td>\n",
       "      <td>...</td>\n",
       "      <td>NaN</td>\n",
       "      <td>NaN</td>\n",
       "      <td>NaN</td>\n",
       "      <td>NaN</td>\n",
       "      <td>NaN</td>\n",
       "      <td>NaN</td>\n",
       "      <td>81901.0</td>\n",
       "      <td>113613.0</td>\n",
       "      <td>11.0</td>\n",
       "      <td>195525.0</td>\n",
       "    </tr>\n",
       "    <tr>\n",
       "      <th>4</th>\n",
       "      <td>2021-01-20</td>\n",
       "      <td>India</td>\n",
       "      <td>251280.0</td>\n",
       "      <td>25472.0</td>\n",
       "      <td>10504.0</td>\n",
       "      <td>251280.0</td>\n",
       "      <td>0.0</td>\n",
       "      <td>NaN</td>\n",
       "      <td>NaN</td>\n",
       "      <td>NaN</td>\n",
       "      <td>...</td>\n",
       "      <td>NaN</td>\n",
       "      <td>NaN</td>\n",
       "      <td>NaN</td>\n",
       "      <td>NaN</td>\n",
       "      <td>NaN</td>\n",
       "      <td>NaN</td>\n",
       "      <td>98111.0</td>\n",
       "      <td>153145.0</td>\n",
       "      <td>24.0</td>\n",
       "      <td>251280.0</td>\n",
       "    </tr>\n",
       "  </tbody>\n",
       "</table>\n",
       "<p>5 rows × 24 columns</p>\n",
       "</div>"
      ],
      "text/plain": [
       "  Updated On  State  Total Doses Administered  Sessions   Sites   \\\n",
       "0 2021-01-16  India                   48276.0    3455.0   2957.0   \n",
       "1 2021-01-17  India                   58604.0    8532.0   4954.0   \n",
       "2 2021-01-18  India                   99449.0   13611.0   6583.0   \n",
       "3 2021-01-19  India                  195525.0   17855.0   7951.0   \n",
       "4 2021-01-20  India                  251280.0   25472.0  10504.0   \n",
       "\n",
       "   First Dose Administered  Second Dose Administered  \\\n",
       "0                  48276.0                       0.0   \n",
       "1                  58604.0                       0.0   \n",
       "2                  99449.0                       0.0   \n",
       "3                 195525.0                       0.0   \n",
       "4                 251280.0                       0.0   \n",
       "\n",
       "   Male (Doses Administered)  Female (Doses Administered)  \\\n",
       "0                        NaN                          NaN   \n",
       "1                        NaN                          NaN   \n",
       "2                        NaN                          NaN   \n",
       "3                        NaN                          NaN   \n",
       "4                        NaN                          NaN   \n",
       "\n",
       "   Transgender (Doses Administered)  ...  18-44 Years (Doses Administered)  \\\n",
       "0                               NaN  ...                               NaN   \n",
       "1                               NaN  ...                               NaN   \n",
       "2                               NaN  ...                               NaN   \n",
       "3                               NaN  ...                               NaN   \n",
       "4                               NaN  ...                               NaN   \n",
       "\n",
       "   45-60 Years (Doses Administered)  60+ Years (Doses Administered)  \\\n",
       "0                               NaN                             NaN   \n",
       "1                               NaN                             NaN   \n",
       "2                               NaN                             NaN   \n",
       "3                               NaN                             NaN   \n",
       "4                               NaN                             NaN   \n",
       "\n",
       "   18-44 Years(Individuals Vaccinated)  45-60 Years(Individuals Vaccinated)  \\\n",
       "0                                  NaN                                  NaN   \n",
       "1                                  NaN                                  NaN   \n",
       "2                                  NaN                                  NaN   \n",
       "3                                  NaN                                  NaN   \n",
       "4                                  NaN                                  NaN   \n",
       "\n",
       "   60+ Years(Individuals Vaccinated)  Male(Individuals Vaccinated)  \\\n",
       "0                                NaN                       23757.0   \n",
       "1                                NaN                       27348.0   \n",
       "2                                NaN                       41361.0   \n",
       "3                                NaN                       81901.0   \n",
       "4                                NaN                       98111.0   \n",
       "\n",
       "   Female(Individuals Vaccinated)  Transgender(Individuals Vaccinated)  \\\n",
       "0                         24517.0                                  2.0   \n",
       "1                         31252.0                                  4.0   \n",
       "2                         58083.0                                  5.0   \n",
       "3                        113613.0                                 11.0   \n",
       "4                        153145.0                                 24.0   \n",
       "\n",
       "   Total Individuals Vaccinated  \n",
       "0                       48276.0  \n",
       "1                       58604.0  \n",
       "2                       99449.0  \n",
       "3                      195525.0  \n",
       "4                      251280.0  \n",
       "\n",
       "[5 rows x 24 columns]"
      ]
     },
     "execution_count": 54,
     "metadata": {},
     "output_type": "execute_result"
    }
   ],
   "source": [
    "vaccine.head(5)"
   ]
  },
  {
   "cell_type": "code",
   "execution_count": 55,
   "id": "f4eebd7a",
   "metadata": {
    "execution": {
     "iopub.execute_input": "2022-04-26T14:26:14.537620Z",
     "iopub.status.busy": "2022-04-26T14:26:14.537320Z",
     "iopub.status.idle": "2022-04-26T14:26:14.557272Z",
     "shell.execute_reply": "2022-04-26T14:26:14.556634Z"
    },
    "papermill": {
     "duration": 0.127595,
     "end_time": "2022-04-26T14:26:14.559285",
     "exception": false,
     "start_time": "2022-04-26T14:26:14.431690",
     "status": "completed"
    },
    "tags": []
   },
   "outputs": [],
   "source": [
    "testing['Negative'] = pd.to_numeric(testing['Negative'].str.replace(\",\", \"\"), errors='coerce')"
   ]
  },
  {
   "cell_type": "code",
   "execution_count": 56,
   "id": "16accda6",
   "metadata": {
    "execution": {
     "iopub.execute_input": "2022-04-26T14:26:14.769806Z",
     "iopub.status.busy": "2022-04-26T14:26:14.769475Z",
     "iopub.status.idle": "2022-04-26T14:26:14.779606Z",
     "shell.execute_reply": "2022-04-26T14:26:14.778978Z"
    },
    "papermill": {
     "duration": 0.117796,
     "end_time": "2022-04-26T14:26:14.781882",
     "exception": false,
     "start_time": "2022-04-26T14:26:14.664086",
     "status": "completed"
    },
    "tags": []
   },
   "outputs": [],
   "source": [
    "testing['Date'] = pd.to_datetime(testing['Date'])"
   ]
  },
  {
   "cell_type": "code",
   "execution_count": 57,
   "id": "3df7204d",
   "metadata": {
    "execution": {
     "iopub.execute_input": "2022-04-26T14:26:14.994176Z",
     "iopub.status.busy": "2022-04-26T14:26:14.993631Z",
     "iopub.status.idle": "2022-04-26T14:26:14.999837Z",
     "shell.execute_reply": "2022-04-26T14:26:14.999088Z"
    },
    "papermill": {
     "duration": 0.115403,
     "end_time": "2022-04-26T14:26:15.001866",
     "exception": false,
     "start_time": "2022-04-26T14:26:14.886463",
     "status": "completed"
    },
    "tags": []
   },
   "outputs": [
    {
     "data": {
      "text/plain": [
       "Date            datetime64[ns]\n",
       "State                   object\n",
       "TotalSamples           float64\n",
       "Negative               float64\n",
       "Positive               float64\n",
       "dtype: object"
      ]
     },
     "execution_count": 57,
     "metadata": {},
     "output_type": "execute_result"
    }
   ],
   "source": [
    "testing.dtypes"
   ]
  },
  {
   "cell_type": "code",
   "execution_count": 58,
   "id": "aa68c5e1",
   "metadata": {
    "execution": {
     "iopub.execute_input": "2022-04-26T14:26:15.215215Z",
     "iopub.status.busy": "2022-04-26T14:26:15.214825Z",
     "iopub.status.idle": "2022-04-26T14:26:15.228504Z",
     "shell.execute_reply": "2022-04-26T14:26:15.227481Z"
    },
    "papermill": {
     "duration": 0.124146,
     "end_time": "2022-04-26T14:26:15.231384",
     "exception": false,
     "start_time": "2022-04-26T14:26:15.107238",
     "status": "completed"
    },
    "tags": []
   },
   "outputs": [],
   "source": [
    "testing_new = testing.groupby(['State'])['Positive','Negative'].sum().reset_index()"
   ]
  },
  {
   "cell_type": "code",
   "execution_count": 59,
   "id": "71acaea4",
   "metadata": {
    "execution": {
     "iopub.execute_input": "2022-04-26T14:26:15.457963Z",
     "iopub.status.busy": "2022-04-26T14:26:15.457164Z",
     "iopub.status.idle": "2022-04-26T14:26:15.476409Z",
     "shell.execute_reply": "2022-04-26T14:26:15.475805Z"
    },
    "papermill": {
     "duration": 0.127211,
     "end_time": "2022-04-26T14:26:15.478204",
     "exception": false,
     "start_time": "2022-04-26T14:26:15.350993",
     "status": "completed"
    },
    "tags": []
   },
   "outputs": [
    {
     "data": {
      "text/html": [
       "<div>\n",
       "<style scoped>\n",
       "    .dataframe tbody tr th:only-of-type {\n",
       "        vertical-align: middle;\n",
       "    }\n",
       "\n",
       "    .dataframe tbody tr th {\n",
       "        vertical-align: top;\n",
       "    }\n",
       "\n",
       "    .dataframe thead th {\n",
       "        text-align: right;\n",
       "    }\n",
       "</style>\n",
       "<table border=\"1\" class=\"dataframe\">\n",
       "  <thead>\n",
       "    <tr style=\"text-align: right;\">\n",
       "      <th></th>\n",
       "      <th>State</th>\n",
       "      <th>Positive</th>\n",
       "      <th>Negative</th>\n",
       "    </tr>\n",
       "  </thead>\n",
       "  <tbody>\n",
       "    <tr>\n",
       "      <th>0</th>\n",
       "      <td>Andaman and Nicobar Islands</td>\n",
       "      <td>1763591.0</td>\n",
       "      <td>1.210000e+03</td>\n",
       "    </tr>\n",
       "    <tr>\n",
       "      <th>1</th>\n",
       "      <td>Andhra Pradesh</td>\n",
       "      <td>3859260.0</td>\n",
       "      <td>3.991600e+09</td>\n",
       "    </tr>\n",
       "    <tr>\n",
       "      <th>2</th>\n",
       "      <td>Arunachal Pradesh</td>\n",
       "      <td>51245.0</td>\n",
       "      <td>1.156258e+08</td>\n",
       "    </tr>\n",
       "    <tr>\n",
       "      <th>3</th>\n",
       "      <td>Assam</td>\n",
       "      <td>2065991.0</td>\n",
       "      <td>2.163110e+06</td>\n",
       "    </tr>\n",
       "    <tr>\n",
       "      <th>4</th>\n",
       "      <td>Bihar</td>\n",
       "      <td>1859345.0</td>\n",
       "      <td>2.299000e+03</td>\n",
       "    </tr>\n",
       "    <tr>\n",
       "      <th>5</th>\n",
       "      <td>Chandigarh</td>\n",
       "      <td>59195.0</td>\n",
       "      <td>8.860078e+07</td>\n",
       "    </tr>\n",
       "    <tr>\n",
       "      <th>6</th>\n",
       "      <td>Chhattisgarh</td>\n",
       "      <td>467857.0</td>\n",
       "      <td>2.701459e+06</td>\n",
       "    </tr>\n",
       "    <tr>\n",
       "      <th>7</th>\n",
       "      <td>Dadra and Nagar Haveli and Daman and Diu</td>\n",
       "      <td>169010.0</td>\n",
       "      <td>6.047477e+06</td>\n",
       "    </tr>\n",
       "    <tr>\n",
       "      <th>8</th>\n",
       "      <td>Delhi</td>\n",
       "      <td>6848173.0</td>\n",
       "      <td>4.431050e+05</td>\n",
       "    </tr>\n",
       "    <tr>\n",
       "      <th>9</th>\n",
       "      <td>Goa</td>\n",
       "      <td>266181.0</td>\n",
       "      <td>1.156310e+05</td>\n",
       "    </tr>\n",
       "    <tr>\n",
       "      <th>10</th>\n",
       "      <td>Gujarat</td>\n",
       "      <td>8009517.0</td>\n",
       "      <td>4.143266e+07</td>\n",
       "    </tr>\n",
       "    <tr>\n",
       "      <th>11</th>\n",
       "      <td>Haryana</td>\n",
       "      <td>2830153.0</td>\n",
       "      <td>7.124264e+08</td>\n",
       "    </tr>\n",
       "    <tr>\n",
       "      <th>12</th>\n",
       "      <td>Himachal Pradesh</td>\n",
       "      <td>119494.0</td>\n",
       "      <td>3.951144e+08</td>\n",
       "    </tr>\n",
       "    <tr>\n",
       "      <th>13</th>\n",
       "      <td>Jammu and Kashmir</td>\n",
       "      <td>977615.0</td>\n",
       "      <td>1.977372e+09</td>\n",
       "    </tr>\n",
       "    <tr>\n",
       "      <th>14</th>\n",
       "      <td>Jharkhand</td>\n",
       "      <td>51696495.0</td>\n",
       "      <td>1.975274e+09</td>\n",
       "    </tr>\n",
       "    <tr>\n",
       "      <th>15</th>\n",
       "      <td>Karnataka</td>\n",
       "      <td>4701197.0</td>\n",
       "      <td>3.560972e+07</td>\n",
       "    </tr>\n",
       "    <tr>\n",
       "      <th>16</th>\n",
       "      <td>Kerala</td>\n",
       "      <td>79723175.0</td>\n",
       "      <td>3.219804e+06</td>\n",
       "    </tr>\n",
       "    <tr>\n",
       "      <th>17</th>\n",
       "      <td>Ladakh</td>\n",
       "      <td>89027.0</td>\n",
       "      <td>2.538659e+07</td>\n",
       "    </tr>\n",
       "    <tr>\n",
       "      <th>18</th>\n",
       "      <td>Lakshadweep</td>\n",
       "      <td>0.0</td>\n",
       "      <td>0.000000e+00</td>\n",
       "    </tr>\n",
       "    <tr>\n",
       "      <th>19</th>\n",
       "      <td>Madhya Pradesh</td>\n",
       "      <td>9584080.0</td>\n",
       "      <td>1.211881e+09</td>\n",
       "    </tr>\n",
       "    <tr>\n",
       "      <th>20</th>\n",
       "      <td>Maharashtra</td>\n",
       "      <td>96901583.0</td>\n",
       "      <td>3.836808e+08</td>\n",
       "    </tr>\n",
       "    <tr>\n",
       "      <th>21</th>\n",
       "      <td>Manipur</td>\n",
       "      <td>101501.0</td>\n",
       "      <td>0.000000e+00</td>\n",
       "    </tr>\n",
       "    <tr>\n",
       "      <th>22</th>\n",
       "      <td>Meghalaya</td>\n",
       "      <td>33904.0</td>\n",
       "      <td>1.163187e+08</td>\n",
       "    </tr>\n",
       "    <tr>\n",
       "      <th>23</th>\n",
       "      <td>Mizoram</td>\n",
       "      <td>19785.0</td>\n",
       "      <td>0.000000e+00</td>\n",
       "    </tr>\n",
       "    <tr>\n",
       "      <th>24</th>\n",
       "      <td>Nagaland</td>\n",
       "      <td>90682.0</td>\n",
       "      <td>1.091690e+05</td>\n",
       "    </tr>\n",
       "    <tr>\n",
       "      <th>25</th>\n",
       "      <td>Odisha</td>\n",
       "      <td>2214458.0</td>\n",
       "      <td>6.416000e+04</td>\n",
       "    </tr>\n",
       "    <tr>\n",
       "      <th>26</th>\n",
       "      <td>Puducherry</td>\n",
       "      <td>6287323.0</td>\n",
       "      <td>1.974360e+08</td>\n",
       "    </tr>\n",
       "    <tr>\n",
       "      <th>27</th>\n",
       "      <td>Punjab</td>\n",
       "      <td>960287.0</td>\n",
       "      <td>1.356506e+06</td>\n",
       "    </tr>\n",
       "    <tr>\n",
       "      <th>28</th>\n",
       "      <td>Rajasthan</td>\n",
       "      <td>2445076.0</td>\n",
       "      <td>5.355003e+08</td>\n",
       "    </tr>\n",
       "    <tr>\n",
       "      <th>29</th>\n",
       "      <td>Sikkim</td>\n",
       "      <td>17644.0</td>\n",
       "      <td>4.387790e+05</td>\n",
       "    </tr>\n",
       "    <tr>\n",
       "      <th>30</th>\n",
       "      <td>Tamil Nadu</td>\n",
       "      <td>12772604.0</td>\n",
       "      <td>3.218045e+07</td>\n",
       "    </tr>\n",
       "    <tr>\n",
       "      <th>31</th>\n",
       "      <td>Telangana</td>\n",
       "      <td>3855373.0</td>\n",
       "      <td>2.475974e+06</td>\n",
       "    </tr>\n",
       "    <tr>\n",
       "      <th>32</th>\n",
       "      <td>Tripura</td>\n",
       "      <td>12630766.0</td>\n",
       "      <td>2.334199e+08</td>\n",
       "    </tr>\n",
       "    <tr>\n",
       "      <th>33</th>\n",
       "      <td>Uttar Pradesh</td>\n",
       "      <td>2743971.0</td>\n",
       "      <td>1.623160e+07</td>\n",
       "    </tr>\n",
       "    <tr>\n",
       "      <th>34</th>\n",
       "      <td>Uttarakhand</td>\n",
       "      <td>350257.0</td>\n",
       "      <td>9.181346e+08</td>\n",
       "    </tr>\n",
       "    <tr>\n",
       "      <th>35</th>\n",
       "      <td>West Bengal</td>\n",
       "      <td>3487431.0</td>\n",
       "      <td>5.680000e+02</td>\n",
       "    </tr>\n",
       "  </tbody>\n",
       "</table>\n",
       "</div>"
      ],
      "text/plain": [
       "                                       State    Positive      Negative\n",
       "0                Andaman and Nicobar Islands   1763591.0  1.210000e+03\n",
       "1                             Andhra Pradesh   3859260.0  3.991600e+09\n",
       "2                          Arunachal Pradesh     51245.0  1.156258e+08\n",
       "3                                      Assam   2065991.0  2.163110e+06\n",
       "4                                      Bihar   1859345.0  2.299000e+03\n",
       "5                                 Chandigarh     59195.0  8.860078e+07\n",
       "6                               Chhattisgarh    467857.0  2.701459e+06\n",
       "7   Dadra and Nagar Haveli and Daman and Diu    169010.0  6.047477e+06\n",
       "8                                      Delhi   6848173.0  4.431050e+05\n",
       "9                                        Goa    266181.0  1.156310e+05\n",
       "10                                   Gujarat   8009517.0  4.143266e+07\n",
       "11                                   Haryana   2830153.0  7.124264e+08\n",
       "12                          Himachal Pradesh    119494.0  3.951144e+08\n",
       "13                         Jammu and Kashmir    977615.0  1.977372e+09\n",
       "14                                 Jharkhand  51696495.0  1.975274e+09\n",
       "15                                 Karnataka   4701197.0  3.560972e+07\n",
       "16                                    Kerala  79723175.0  3.219804e+06\n",
       "17                                    Ladakh     89027.0  2.538659e+07\n",
       "18                               Lakshadweep         0.0  0.000000e+00\n",
       "19                            Madhya Pradesh   9584080.0  1.211881e+09\n",
       "20                               Maharashtra  96901583.0  3.836808e+08\n",
       "21                                   Manipur    101501.0  0.000000e+00\n",
       "22                                 Meghalaya     33904.0  1.163187e+08\n",
       "23                                   Mizoram     19785.0  0.000000e+00\n",
       "24                                  Nagaland     90682.0  1.091690e+05\n",
       "25                                    Odisha   2214458.0  6.416000e+04\n",
       "26                                Puducherry   6287323.0  1.974360e+08\n",
       "27                                    Punjab    960287.0  1.356506e+06\n",
       "28                                 Rajasthan   2445076.0  5.355003e+08\n",
       "29                                    Sikkim     17644.0  4.387790e+05\n",
       "30                                Tamil Nadu  12772604.0  3.218045e+07\n",
       "31                                 Telangana   3855373.0  2.475974e+06\n",
       "32                                   Tripura  12630766.0  2.334199e+08\n",
       "33                             Uttar Pradesh   2743971.0  1.623160e+07\n",
       "34                               Uttarakhand    350257.0  9.181346e+08\n",
       "35                               West Bengal   3487431.0  5.680000e+02"
      ]
     },
     "execution_count": 59,
     "metadata": {},
     "output_type": "execute_result"
    }
   ],
   "source": [
    "testing_new"
   ]
  },
  {
   "cell_type": "code",
   "execution_count": 60,
   "id": "9403ecb3",
   "metadata": {
    "execution": {
     "iopub.execute_input": "2022-04-26T14:26:15.691772Z",
     "iopub.status.busy": "2022-04-26T14:26:15.691193Z",
     "iopub.status.idle": "2022-04-26T14:26:16.256094Z",
     "shell.execute_reply": "2022-04-26T14:26:16.255167Z"
    },
    "papermill": {
     "duration": 0.674761,
     "end_time": "2022-04-26T14:26:16.258302",
     "exception": false,
     "start_time": "2022-04-26T14:26:15.583541",
     "status": "completed"
    },
    "tags": []
   },
   "outputs": [
    {
     "data": {
      "text/plain": [
       "<AxesSubplot:xlabel='Positive', ylabel='State'>"
      ]
     },
     "execution_count": 60,
     "metadata": {},
     "output_type": "execute_result"
    },
    {
     "data": {
      "image/png": "[encoded data removed]",
      "text/plain": [
       "<Figure size 1224x432 with 1 Axes>"
      ]
     },
     "metadata": {},
     "output_type": "display_data"
    }
   ],
   "source": [
    "sns.set(rc={'figure.figsize':(17,6)})\n",
    "sns.barplot(x='Positive',y='State',data=testing_new)"
   ]
  },
  {
   "cell_type": "code",
   "execution_count": 61,
   "id": "35b85627",
   "metadata": {
    "execution": {
     "iopub.execute_input": "2022-04-26T14:26:16.481263Z",
     "iopub.status.busy": "2022-04-26T14:26:16.480978Z",
     "iopub.status.idle": "2022-04-26T14:26:17.068473Z",
     "shell.execute_reply": "2022-04-26T14:26:17.067523Z"
    },
    "papermill": {
     "duration": 0.700424,
     "end_time": "2022-04-26T14:26:17.070926",
     "exception": false,
     "start_time": "2022-04-26T14:26:16.370502",
     "status": "completed"
    },
    "tags": []
   },
   "outputs": [
    {
     "data": {
      "text/plain": [
       "<AxesSubplot:xlabel='Negative', ylabel='State'>"
      ]
     },
     "execution_count": 61,
     "metadata": {},
     "output_type": "execute_result"
    },
    {
     "data": {
      "image/png": "[encoded data removed]",
      "text/plain": [
       "<Figure size 1224x432 with 1 Axes>"
      ]
     },
     "metadata": {},
     "output_type": "display_data"
    }
   ],
   "source": [
    "sns.set(rc={'figure.figsize':(17,6)})\n",
    "sns.barplot(x='Negative',y='State',data=testing_new)"
   ]
  },
  {
   "cell_type": "code",
   "execution_count": 62,
   "id": "69ddaf02",
   "metadata": {
    "execution": {
     "iopub.execute_input": "2022-04-26T14:26:17.300956Z",
     "iopub.status.busy": "2022-04-26T14:26:17.300585Z",
     "iopub.status.idle": "2022-04-26T14:26:17.310515Z",
     "shell.execute_reply": "2022-04-26T14:26:17.309753Z"
    },
    "papermill": {
     "duration": 0.129708,
     "end_time": "2022-04-26T14:26:17.312890",
     "exception": false,
     "start_time": "2022-04-26T14:26:17.183182",
     "status": "completed"
    },
    "tags": []
   },
   "outputs": [],
   "source": [
    "testing_next = testing.groupby(['Date'])['Positive','Negative'].sum().reset_index()"
   ]
  },
  {
   "cell_type": "code",
   "execution_count": 63,
   "id": "03df84e9",
   "metadata": {
    "execution": {
     "iopub.execute_input": "2022-04-26T14:26:17.543779Z",
     "iopub.status.busy": "2022-04-26T14:26:17.543477Z",
     "iopub.status.idle": "2022-04-26T14:26:17.559168Z",
     "shell.execute_reply": "2022-04-26T14:26:17.558236Z"
    },
    "papermill": {
     "duration": 0.132077,
     "end_time": "2022-04-26T14:26:17.561401",
     "exception": false,
     "start_time": "2022-04-26T14:26:17.429324",
     "status": "completed"
    },
    "tags": []
   },
   "outputs": [
    {
     "data": {
      "text/html": [
       "<div>\n",
       "<style scoped>\n",
       "    .dataframe tbody tr th:only-of-type {\n",
       "        vertical-align: middle;\n",
       "    }\n",
       "\n",
       "    .dataframe tbody tr th {\n",
       "        vertical-align: top;\n",
       "    }\n",
       "\n",
       "    .dataframe thead th {\n",
       "        text-align: right;\n",
       "    }\n",
       "</style>\n",
       "<table border=\"1\" class=\"dataframe\">\n",
       "  <thead>\n",
       "    <tr style=\"text-align: right;\">\n",
       "      <th></th>\n",
       "      <th>Date</th>\n",
       "      <th>Positive</th>\n",
       "      <th>Negative</th>\n",
       "    </tr>\n",
       "  </thead>\n",
       "  <tbody>\n",
       "    <tr>\n",
       "      <th>0</th>\n",
       "      <td>2020-04-01</td>\n",
       "      <td>302.0</td>\n",
       "      <td>7824.0</td>\n",
       "    </tr>\n",
       "    <tr>\n",
       "      <th>1</th>\n",
       "      <td>2020-04-02</td>\n",
       "      <td>510.0</td>\n",
       "      <td>11386.0</td>\n",
       "    </tr>\n",
       "    <tr>\n",
       "      <th>2</th>\n",
       "      <td>2020-04-03</td>\n",
       "      <td>898.0</td>\n",
       "      <td>17242.0</td>\n",
       "    </tr>\n",
       "    <tr>\n",
       "      <th>3</th>\n",
       "      <td>2020-04-04</td>\n",
       "      <td>306.0</td>\n",
       "      <td>8586.0</td>\n",
       "    </tr>\n",
       "    <tr>\n",
       "      <th>4</th>\n",
       "      <td>2020-04-05</td>\n",
       "      <td>1201.0</td>\n",
       "      <td>39411.0</td>\n",
       "    </tr>\n",
       "    <tr>\n",
       "      <th>...</th>\n",
       "      <td>...</td>\n",
       "      <td>...</td>\n",
       "      <td>...</td>\n",
       "    </tr>\n",
       "    <tr>\n",
       "      <th>492</th>\n",
       "      <td>2021-08-06</td>\n",
       "      <td>79774.0</td>\n",
       "      <td>59437827.0</td>\n",
       "    </tr>\n",
       "    <tr>\n",
       "      <th>493</th>\n",
       "      <td>2021-08-07</td>\n",
       "      <td>79945.0</td>\n",
       "      <td>59686812.0</td>\n",
       "    </tr>\n",
       "    <tr>\n",
       "      <th>494</th>\n",
       "      <td>2021-08-08</td>\n",
       "      <td>80131.0</td>\n",
       "      <td>59918656.0</td>\n",
       "    </tr>\n",
       "    <tr>\n",
       "      <th>495</th>\n",
       "      <td>2021-08-09</td>\n",
       "      <td>80208.0</td>\n",
       "      <td>60121883.0</td>\n",
       "    </tr>\n",
       "    <tr>\n",
       "      <th>496</th>\n",
       "      <td>2021-08-10</td>\n",
       "      <td>80413.0</td>\n",
       "      <td>60352184.0</td>\n",
       "    </tr>\n",
       "  </tbody>\n",
       "</table>\n",
       "<p>497 rows × 3 columns</p>\n",
       "</div>"
      ],
      "text/plain": [
       "          Date  Positive    Negative\n",
       "0   2020-04-01     302.0      7824.0\n",
       "1   2020-04-02     510.0     11386.0\n",
       "2   2020-04-03     898.0     17242.0\n",
       "3   2020-04-04     306.0      8586.0\n",
       "4   2020-04-05    1201.0     39411.0\n",
       "..         ...       ...         ...\n",
       "492 2021-08-06   79774.0  59437827.0\n",
       "493 2021-08-07   79945.0  59686812.0\n",
       "494 2021-08-08   80131.0  59918656.0\n",
       "495 2021-08-09   80208.0  60121883.0\n",
       "496 2021-08-10   80413.0  60352184.0\n",
       "\n",
       "[497 rows x 3 columns]"
      ]
     },
     "execution_count": 63,
     "metadata": {},
     "output_type": "execute_result"
    }
   ],
   "source": [
    "testing_next"
   ]
  },
  {
   "cell_type": "code",
   "execution_count": 64,
   "id": "622c1c04",
   "metadata": {
    "execution": {
     "iopub.execute_input": "2022-04-26T14:26:17.792496Z",
     "iopub.status.busy": "2022-04-26T14:26:17.792189Z",
     "iopub.status.idle": "2022-04-26T14:26:18.259655Z",
     "shell.execute_reply": "2022-04-26T14:26:18.258545Z"
    },
    "papermill": {
     "duration": 0.587072,
     "end_time": "2022-04-26T14:26:18.262474",
     "exception": false,
     "start_time": "2022-04-26T14:26:17.675402",
     "status": "completed"
    },
    "tags": []
   },
   "outputs": [
    {
     "data": {
      "text/plain": [
       "<AxesSubplot:xlabel='Positive', ylabel='Date'>"
      ]
     },
     "execution_count": 64,
     "metadata": {},
     "output_type": "execute_result"
    },
    {
     "data": {
      "image/png": "[encoded data removed]",
      "text/plain": [
       "<Figure size 1224x432 with 1 Axes>"
      ]
     },
     "metadata": {},
     "output_type": "display_data"
    }
   ],
   "source": [
    "sns.set(rc={'figure.figsize':(17,6)})\n",
    "sns.barplot(x='Positive',y='Date',data=testing_next[:20])"
   ]
  },
  {
   "cell_type": "code",
   "execution_count": 65,
   "id": "037f73de",
   "metadata": {
    "execution": {
     "iopub.execute_input": "2022-04-26T14:26:18.497568Z",
     "iopub.status.busy": "2022-04-26T14:26:18.497258Z",
     "iopub.status.idle": "2022-04-26T14:26:18.963726Z",
     "shell.execute_reply": "2022-04-26T14:26:18.962719Z"
    },
    "papermill": {
     "duration": 0.584488,
     "end_time": "2022-04-26T14:26:18.966115",
     "exception": false,
     "start_time": "2022-04-26T14:26:18.381627",
     "status": "completed"
    },
    "tags": []
   },
   "outputs": [
    {
     "data": {
      "text/plain": [
       "<AxesSubplot:xlabel='Negative', ylabel='Date'>"
      ]
     },
     "execution_count": 65,
     "metadata": {},
     "output_type": "execute_result"
    },
    {
     "data": {
      "image/png": "[encoded data removed]",
      "text/plain": [
       "<Figure size 1224x432 with 1 Axes>"
      ]
     },
     "metadata": {},
     "output_type": "display_data"
    }
   ],
   "source": [
    "sns.set(rc={'figure.figsize':(17,6)})\n",
    "sns.barplot(x='Negative',y='Date',data=testing_next[:20])"
   ]
  }
 ],
 "metadata": {
  "kernelspec": {
   "display_name": "Python 3",
   "language": "python",
   "name": "python3"
  },
  "language_info": {
   "codemirror_mode": {
    "name": "ipython",
    "version": 3
   },
   "file_extension": ".py",
   "mimetype": "text/x-python",
   "name": "python",
   "nbconvert_exporter": "python",
   "pygments_lexer": "ipython3",
   "version": "3.7.12"
  },
  "papermill": {
   "default_parameters": {},
   "duration": 190.147477,
   "end_time": "2022-04-26T14:26:20.608463",
   "environment_variables": {},
   "exception": null,
   "input_path": "__notebook__.ipynb",
   "output_path": "__notebook__.ipynb",
   "parameters": {},
   "start_time": "2022-04-26T14:23:10.460986",
   "version": "2.3.4"
  }
 },
 "nbformat": 4,
 "nbformat_minor": 5
}
